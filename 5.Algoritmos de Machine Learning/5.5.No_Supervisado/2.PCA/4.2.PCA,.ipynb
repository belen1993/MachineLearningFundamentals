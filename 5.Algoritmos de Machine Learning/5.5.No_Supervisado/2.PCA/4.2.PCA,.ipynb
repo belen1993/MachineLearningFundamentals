{
 "cells": [
  {
   "cell_type": "markdown",
   "metadata": {},
   "source": [
    "# Reducción de Dimensionalidad. PCA\n",
    "\n",
    "\n",
    "PCA es una técnica estadística introducida por el matemático Karl Pearson en 1901. \n",
    "- Funciona transformando los datos de alta dimensión en un espacio de baja dimensión a la vez que maximiza la varianza (o dispersión) de los datos en el nuevo espacio.\n",
    "- Esto ayuda a preservar los patrones y relaciones más importantes en los datos.\n",
    "\n",
    "\"PCA = Reducir dimensiones, Preservar información\"\n",
    "\n",
    "**Saber más:** https://medium.com/all-about-ml/understanding-principal-component-analysis-pca-556778324b0e"
   ]
  },
  {
   "cell_type": "code",
   "execution_count": null,
   "metadata": {},
   "outputs": [],
   "source": [
    "import os\n",
    "\n",
    "import pandas as pd\n",
    "import numpy as np\n",
    "import matplotlib.pyplot as plt\n",
    "\n",
    "from sklearn.decomposition import PCA\n",
    "from sklearn.preprocessing import StandardScaler \n",
    "from sklearn.metrics import accuracy_score, r2_score\n",
    "\n",
    "import warnings\n",
    "warnings.filterwarnings(\"ignore\")"
   ]
  },
  {
   "cell_type": "code",
   "execution_count": null,
   "metadata": {},
   "outputs": [],
   "source": [
    "df = pd.read_csv(\"https://github.com/ricardoahumada/Python_for_Data_Science/raw/refs/heads/master/data/2008_small.zip\",nrows = 1000000)\n",
    "\n",
    "\n",
    "df = df.dropna(subset = ['AirTime','Distance','TaxiIn','TaxiOut',\"DepDelay\",\"ArrDelay\"])\n",
    "df = df.sample(frac=1).head(1000)\n",
    "\n",
    "X = df[['AirTime','Distance','TaxiIn','TaxiOut',\"DepDelay\",\"ArrDelay\"]] \n",
    "columnas = X.columns"
   ]
  },
  {
   "cell_type": "code",
   "execution_count": null,
   "metadata": {},
   "outputs": [],
   "source": [
    "X"
   ]
  },
  {
   "cell_type": "code",
   "execution_count": null,
   "metadata": {
    "scrolled": true
   },
   "outputs": [],
   "source": [
    "scaler = StandardScaler()   ## IMPORTANTISIMO ##\n",
    "scaler.fit(X)\n",
    "\n",
    "X = scaler.transform(X)\n",
    "\n",
    "pca = PCA(n_components=2) # El numero de componentes son la cantidad de nuevas columnas que quiero\n",
    "pca.fit(X)"
   ]
  },
  {
   "cell_type": "code",
   "execution_count": null,
   "metadata": {},
   "outputs": [],
   "source": [
    "pca.components_"
   ]
  },
  {
   "cell_type": "code",
   "execution_count": null,
   "metadata": {},
   "outputs": [],
   "source": [
    "columnas"
   ]
  },
  {
   "cell_type": "code",
   "execution_count": null,
   "metadata": {},
   "outputs": [],
   "source": [
    "X"
   ]
  },
  {
   "cell_type": "code",
   "execution_count": null,
   "metadata": {
    "scrolled": false
   },
   "outputs": [],
   "source": [
    "print(np.round(pca.components_,2)) # nuevas columnas x viejas columnas"
   ]
  },
  {
   "cell_type": "code",
   "execution_count": null,
   "metadata": {},
   "outputs": [],
   "source": [
    "columnas"
   ]
  },
  {
   "cell_type": "code",
   "execution_count": null,
   "metadata": {},
   "outputs": [],
   "source": [
    "pd.DataFrame(np.round(pca.components_,2),columns=columnas)\n",
    "\n",
    "# 1a componente, vuelos largos y retrasos altos (vuelos cortos, retrasos bajos)\n",
    "# 2a componente, vuelos cortos y retrasos altos (vuelos largos, retrasos bajos)"
   ]
  },
  {
   "cell_type": "markdown",
   "metadata": {},
   "source": [
    ">La interpretación de los datos se relaciona de manera directa con las columnas originales"
   ]
  },
  {
   "cell_type": "code",
   "execution_count": null,
   "metadata": {},
   "outputs": [],
   "source": [
    "print(pca.explained_variance_ratio_)"
   ]
  },
  {
   "cell_type": "code",
   "execution_count": null,
   "metadata": {},
   "outputs": [],
   "source": [
    "nuevosvalores = pca.transform(X)\n",
    "nuevosvalores"
   ]
  },
  {
   "cell_type": "markdown",
   "metadata": {},
   "source": [
    ">Visualizar la transformación del espacio"
   ]
  },
  {
   "cell_type": "code",
   "execution_count": null,
   "metadata": {},
   "outputs": [],
   "source": [
    "plt.scatter(nuevosvalores[:,0],nuevosvalores[:,1],)\n",
    "plt.xlabel(\"Primera NUEVA columna: vuelos largos y retrasos altos\")\n",
    "plt.ylabel(\"Segunda NUEVA columna: vuelos cortos y retrasos altos\")\n",
    "plt.show()"
   ]
  }
 ],
 "metadata": {
  "kernelspec": {
   "display_name": "Python 3",
   "language": "python",
   "name": "python3"
  },
  "language_info": {
   "codemirror_mode": {
    "name": "ipython",
    "version": 3
   },
   "file_extension": ".py",
   "mimetype": "text/x-python",
   "name": "python",
   "nbconvert_exporter": "python",
   "pygments_lexer": "ipython3",
   "version": "3.12.4"
  }
 },
 "nbformat": 4,
 "nbformat_minor": 2
}
