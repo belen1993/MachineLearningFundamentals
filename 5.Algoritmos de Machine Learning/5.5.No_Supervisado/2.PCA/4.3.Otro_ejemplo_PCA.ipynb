{
 "cells": [
  {
   "cell_type": "markdown",
   "id": "a0e8426a",
   "metadata": {},
   "source": [
    "# Ejemplo de PCA\n",
    "Comenzando por examinar un conjunto de datos simple, los datos de Iris disponibles de forma predeterminada en Scikit-Learn.\n",
    "Los datos consisten en mediciones de tres especies diferentes de iris. \n",
    "\n",
    "Hay tres especies de iris en el conjunto de datos: 1. Iris Virginica 2. Iris Setosa 3. Iris Versicolor"
   ]
  },
  {
   "cell_type": "code",
   "execution_count": null,
   "id": "e65d4491",
   "metadata": {},
   "outputs": [],
   "source": [
    "from sklearn.datasets import load_iris\n",
    "iris = load_iris()\n",
    "iris.keys()"
   ]
  },
  {
   "cell_type": "code",
   "execution_count": null,
   "id": "929ee6f2",
   "metadata": {},
   "outputs": [],
   "source": [
    "# la forma de datos y lista de características (x matriz)\n",
    "print(iris.data.shape)\n",
    "print(iris.feature_names) \n",
    "\n",
    "# valores objetivo \n",
    "print( iris.target_names)"
   ]
  },
  {
   "cell_type": "code",
   "execution_count": null,
   "id": "8d4c59d7",
   "metadata": {},
   "outputs": [],
   "source": [
    "# Importar e instanciar PCA con 2 componentes.\n",
    "from sklearn.decomposition import PCA \n",
    "\n",
    "pca = PCA(2) \n",
    "pca"
   ]
  },
  {
   "cell_type": "code",
   "execution_count": null,
   "id": "32057f8a",
   "metadata": {},
   "outputs": [],
   "source": [
    "# Ajustar PCA al conjunto de datos de Iris y transformarlo en 2 componentes principales\n",
    "X, y = iris.data, iris.target \n",
    "X_proj = pca.fit_transform(X) \n",
    "X_proj.shape"
   ]
  },
  {
   "cell_type": "code",
   "execution_count": null,
   "id": "e9b013d0",
   "metadata": {
    "scrolled": false
   },
   "outputs": [],
   "source": [
    "%matplotlib inline\n",
    "import numpy as np\n",
    "import matplotlib.pyplot as plt\n",
    "\n",
    "# Graficar los componentes principales proyectados e intente comprender los datos.\n",
    "plt.scatter(X_proj[:,0], X_proj[:,1],c=y) \n",
    "plt.show()"
   ]
  },
  {
   "cell_type": "code",
   "execution_count": null,
   "id": "1c89f677",
   "metadata": {},
   "outputs": [],
   "source": [
    "# PCA.components_ contiene el significado de cada componente principal, esencialmente cómo se derivó\n",
    "# La forma verificación nos dice que tiene 2 filas, una para cada componente principal y 4 columnas, la proporción de cada una de las 4 características\n",
    "# Para cada fila\n",
    "print(pca.components_ )\n",
    "print(pca.components_.shape)"
   ]
  },
  {
   "cell_type": "code",
   "execution_count": null,
   "id": "ba3ce710",
   "metadata": {},
   "outputs": [],
   "source": [
    "# Tratando de descifrar el significado de los componentes principales\n",
    "print(\"Significado de los 2 componentes:\" )\n",
    "for component in pca.components_:\n",
    "    print( \" + \".join(\"%.2f x %s\" % (value, name) for value, name in zip(component, iris.feature_names)))"
   ]
  },
  {
   "cell_type": "code",
   "execution_count": null,
   "id": "52afd2c5",
   "metadata": {},
   "outputs": [],
   "source": [
    "# Esto nos dice hasta qué punto cada componente explica el conjunto de datos original.\n",
    "# Entonces, el primer componente puede explicar ~ 92% de x y el segundo solo alrededor del 5,3%\n",
    "# Juntos pueden explicar alrededor del 97.3% de la varianza de x\n",
    "print( pca.explained_variance_ratio_)"
   ]
  },
  {
   "cell_type": "code",
   "execution_count": null,
   "id": "f21d9ab2",
   "metadata": {},
   "outputs": [],
   "source": [
    "# Entonces, si solo necesitábamos una variación del 92%, en realidad necesitamos un solo componente, verifiquemos\n",
    "pca=PCA(0.92)\n",
    "X_new=pca.fit_transform(X) \n",
    "print(X_new.shape )\n",
    "\n",
    "# Si necesitamos más del 97% de variación, comenzamos a necesitar más componentes\n",
    "pca=PCA(0.98)\n",
    "X_new=pca.fit_transform(X)\n",
    "print(X_new.shape)"
   ]
  },
  {
   "cell_type": "markdown",
   "id": "52661166",
   "metadata": {},
   "source": [
    "### Más ejemplos:\n",
    "https://shankarmsy.github.io/posts/pca-sklearn.html"
   ]
  }
 ],
 "metadata": {
  "kernelspec": {
   "display_name": "Python 3",
   "language": "python",
   "name": "python3"
  },
  "language_info": {
   "codemirror_mode": {
    "name": "ipython",
    "version": 3
   },
   "file_extension": ".py",
   "mimetype": "text/x-python",
   "name": "python",
   "nbconvert_exporter": "python",
   "pygments_lexer": "ipython3",
   "version": "3.12.4"
  }
 },
 "nbformat": 4,
 "nbformat_minor": 5
}
