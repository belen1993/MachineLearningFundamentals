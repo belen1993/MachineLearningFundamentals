{
 "cells": [
  {
   "cell_type": "markdown",
   "id": "f621513b",
   "metadata": {},
   "source": [
    "# Conclusiones\n",
    "\n",
    "- Las predicciones de un modelo lineal dependen de una suma ponderada de los valores de las características de entrada agregadas a un parámetro de intercepción;\n",
    "- El ajuste de un modelo lineal consiste en ajustar tanto los coeficientes de peso como la intercepción para minimizar los errores de predicción en el conjunto de entrenamiento;\n",
    "- Para entrenar modelos lineales con éxito, a menudo se requiere escalar las características de entrada aproximadamente al mismo rango dinámico;\n",
    "- La regularización se puede usar para reducir el sobreajuste: los coeficientes de peso están constreñidos para mantenerse pequeños cuando se ajustan;\n",
    "- El hiperparámetro de regularización debe ser ajustado por validación cruzada para cada nuevo problema de ML y dataset;\n",
    "- Los modelos lineales se pueden usar en problemas en los que la variable de destino no está relacionado linealmente con las características de entrada, pero esto requiere un trabajo de ingeniería de características adicional para transformar los datos para evitar el subajuste."
   ]
  }
 ],
 "metadata": {
  "kernelspec": {
   "display_name": "Python 3 (ipykernel)",
   "language": "python",
   "name": "python3"
  },
  "language_info": {
   "codemirror_mode": {
    "name": "ipython",
    "version": 3
   },
   "file_extension": ".py",
   "mimetype": "text/x-python",
   "name": "python",
   "nbconvert_exporter": "python",
   "pygments_lexer": "ipython3",
   "version": "3.9.13"
  }
 },
 "nbformat": 4,
 "nbformat_minor": 5
}
