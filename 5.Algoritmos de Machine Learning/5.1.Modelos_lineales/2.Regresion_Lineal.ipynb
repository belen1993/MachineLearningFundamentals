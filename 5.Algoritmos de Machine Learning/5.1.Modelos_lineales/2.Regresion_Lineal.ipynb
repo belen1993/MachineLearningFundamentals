{
 "cells": [
  {
   "cell_type": "markdown",
   "id": "03e3fe9a",
   "metadata": {},
   "source": [
    "# Regresión Lineal"
   ]
  },
  {
   "cell_type": "markdown",
   "id": "5ff889ff",
   "metadata": {},
   "source": [
    "El problema de encontrar los mejores valores de parámetros (es decir, que dan como resultado el error más bajo) se puede resolver sin la necesidad de verificar cada combinación de parámetros potenciales. \n",
    "\n",
    "- De hecho, este problema tiene una solución de forma cerrada: **Los mejores valores de parámetros se pueden encontrar resolviendo una ecuación**. \n",
    "- Esto evita la necesidad de una búsqueda de fuerza bruta.\n",
    "- Esta estrategia se implementa en Scikit-Learn."
   ]
  },
  {
   "cell_type": "code",
   "execution_count": null,
   "id": "89ede23c",
   "metadata": {},
   "outputs": [],
   "source": [
    "import pandas as pd\n",
    "\n",
    "penguins = pd.read_csv(\"../../data/penguins/penguins_regression.csv\")\n",
    "feature_name = \"Flipper Length (mm)\"\n",
    "target_name = \"Body Mass (g)\"\n",
    "data, target = penguins[[feature_name]], penguins[target_name]"
   ]
  },
  {
   "cell_type": "code",
   "execution_count": null,
   "id": "6ab861f4",
   "metadata": {},
   "outputs": [],
   "source": [
    "penguins.head()"
   ]
  },
  {
   "cell_type": "code",
   "execution_count": null,
   "id": "c9450a09",
   "metadata": {},
   "outputs": [],
   "source": [
    "import seaborn as sns\n",
    "\n",
    "ax = sns.scatterplot(data=penguins, x=feature_name, y=target_name,\n",
    "                     color=\"black\", alpha=0.5)\n",
    "ax.set_title(\"Masa corporal en función de la longitud de la aleta\")"
   ]
  },
  {
   "cell_type": "code",
   "execution_count": null,
   "id": "2386cb56",
   "metadata": {},
   "outputs": [],
   "source": [
    "from sklearn.linear_model import LinearRegression\n",
    "\n",
    "linear_regression = LinearRegression()\n",
    "linear_regression.fit(data, target)"
   ]
  },
  {
   "cell_type": "code",
   "execution_count": null,
   "id": "718cf626",
   "metadata": {},
   "outputs": [],
   "source": [
    "# La instancia lineal_regression almacenará los valores de los parámetros en los atributos coef_ e intercept_. \n",
    "# Podemos verificar cuál es el modelo óptimo que se encuentra:\n",
    "\n",
    "weight_flipper_length = linear_regression.coef_[0]\n",
    "weight_flipper_length"
   ]
  },
  {
   "cell_type": "code",
   "execution_count": null,
   "id": "295eebd0",
   "metadata": {},
   "outputs": [],
   "source": [
    "intercept_body_mass = linear_regression.intercept_\n",
    "intercept_body_massintercept_body_mass = linear_regression.intercept_\n",
    "intercept_body_mass"
   ]
  },
  {
   "cell_type": "code",
   "execution_count": null,
   "id": "8e7298aa",
   "metadata": {},
   "outputs": [],
   "source": [
    "# Usaremos el peso e interceptaremos para graficar el modelo.\n",
    "\n",
    "import numpy as np\n",
    "\n",
    "flipper_length_range = np.linspace(data.min(), data.max(), num=300)\n",
    "predicted_body_mass = (\n",
    "    weight_flipper_length * flipper_length_range + intercept_body_mass)"
   ]
  },
  {
   "cell_type": "code",
   "execution_count": null,
   "id": "b36cf8a4",
   "metadata": {},
   "outputs": [],
   "source": [
    "import matplotlib.pyplot as plt\n",
    "import seaborn as sns\n",
    "\n",
    "sns.scatterplot(x=data[feature_name], y=target, color=\"black\", alpha=0.5)\n",
    "plt.plot(flipper_length_range, predicted_body_mass)\n",
    "plt.title(\"Modelo LinearRegression\")"
   ]
  },
  {
   "cell_type": "code",
   "execution_count": null,
   "id": "b9abb11d",
   "metadata": {},
   "outputs": [],
   "source": [
    "# Primero podemos calcular el error cuadrado medio.\n",
    "\n",
    "from sklearn.metrics import mean_squared_error\n",
    "\n",
    "inferred_body_mass = linear_regression.predict(data)\n",
    "model_error = mean_squared_error(target, inferred_body_mass)\n",
    "print(f\"El error cuadrático medio del modelo óptimo es: {model_error:.2f}\")"
   ]
  },
  {
   "cell_type": "code",
   "execution_count": null,
   "id": "daae1899",
   "metadata": {},
   "outputs": [],
   "source": [
    "# el error cuadrático medio es difícil de interpretar. \n",
    "# el error absoluto medio es más intuitivo.\n",
    "\n",
    "from sklearn.metrics import mean_absolute_error\n",
    "\n",
    "model_error = mean_absolute_error(target, inferred_body_mass)\n",
    "print(f\"El error absoluto medio del modelo óptimo es: {model_error:.2f} g\")"
   ]
  }
 ],
 "metadata": {
  "kernelspec": {
   "display_name": "Python 3",
   "language": "python",
   "name": "python3"
  },
  "language_info": {
   "codemirror_mode": {
    "name": "ipython",
    "version": 3
   },
   "file_extension": ".py",
   "mimetype": "text/x-python",
   "name": "python",
   "nbconvert_exporter": "python",
   "pygments_lexer": "ipython3",
   "version": "3.12.4"
  }
 },
 "nbformat": 4,
 "nbformat_minor": 5
}
