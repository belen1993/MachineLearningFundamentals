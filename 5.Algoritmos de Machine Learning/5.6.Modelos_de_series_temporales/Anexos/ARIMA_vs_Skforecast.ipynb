{
 "cells": [
  {
   "cell_type": "markdown",
   "id": "7d5132f2",
   "metadata": {},
   "source": [
    "## ARIMA (`statsmodels`) vs ForecasterRecursive\n",
    "\n",
    "| **Característica**              | **ARIMA (`statsmodels`)**                           | **ForecasterRecursive (`skforecast`)**                  |\n",
    "|----------------------------------|----------------------------------------------------|--------------------------------------------------------|\n",
    "| **Tipo de modelo**              | Modelo estadístico lineal específico para series temporales. | Modelo flexible que usa cualquier regresor de `scikit-learn`. |\n",
    "| **Relaciones capturadas**       | Lineales.                                         | Lineales o no lineales (dependiendo del regresor).      |\n",
    "| **Variables exógenas**          | Soportadas solo en modelos extendidos (SARIMAX).  | Fácilmente soportadas.                                 |\n",
    "| **Interpretación**              | Alta (coeficientes interpretables).               | Baja (depende del modelo base).                        |\n",
    "| **Capacidad predictiva**        | Buena para patrones lineales simples.             | Mejor para patrones complejos y no lineales.           |\n",
    "| **Escalabilidad**               | Limitada para grandes volúmenes de datos.         | Escalable gracias a modelos como Random Forest o XGBoost. |\n",
    "| **Herramientas adicionales**    | AIC, BIC, diagnósticos estadísticos.              | Validación cruzada temporal, backtesting, optimización. |\n",
    "| **Facilidad de uso**            | Fácil para usuarios familiarizados con modelos estadísticos. | Requiere más ajuste manual, especialmente en modelos avanzados. |\n",
    "\n"
   ]
  },
  {
   "cell_type": "markdown",
   "id": "01771f84",
   "metadata": {},
   "source": [
    "## ARIMA (`statsmodels`) vs Skforecast"
   ]
  },
  {
   "cell_type": "markdown",
   "id": "4044bd79",
   "metadata": {},
   "source": [
    "| **Característica/Caso de Uso**         | **ARIMA (`statsmodels`)**                                                                                     | **`skforecast`**                                                                                     |\n",
    "|----------------------------------------|--------------------------------------------------------------------------------------------------------------|------------------------------------------------------------------------------------------------------|\n",
    "| **Tipo de Modelo**                    | Modelo estadístico clásico basado en principios lineales (AR, I, MA).                                          | Framework flexible que permite usar modelos de machine learning (por ejemplo, regresión lineal, Random Forest, Gradient Boosting). |\n",
    "| **Patrones Capturados**               | Patrones lineales, tendencias y estacionalidad.                                                               | Patrones lineales y no lineales, incluyendo relaciones complejas entre variables.                     |\n",
    "| **Variables Exógenas**                | Limitado soporte (solo en SARIMAX).                                                                           | Soporte completo para incorporar múltiples variables exógenas de manera sencilla.                     |\n",
    "| **Interpretación**                    | Alta interpretación estadística (coeficientes interpretables, métricas como AIC/BIC).                         | Interpretación depende del modelo base (por ejemplo, baja interpretación con modelos complejos como Random Forest). |\n",
    "| **Escalabilidad**                     | Limitado a datos pequeños o medianos.                                                                         | Escalable para grandes volúmenes de datos y múltiples series temporales.                              |\n",
    "| **Facilidad de Uso**                  | Fácil para usuarios familiarizados con modelos estadísticos.                                                 | Requiere más ajuste manual, especialmente al seleccionar el modelo base y optimizar hiperparámetros.   |\n",
    "| **Backtesting/Validación Cruzada**    | Implementación manual requerida para backtesting.                                                             | Incluye funciones integradas para backtesting y validación cruzada temporal.                          |\n",
    "| **Casos de Uso Ideales**              | - Datos univariados con patrones lineales claros. <br> - Series temporales simples con tendencia o estacionalidad. | - Datos multivariados con variables exógenas. <br> - Patrones no lineales o complejos. <br> - Grandes volúmenes de datos. |\n",
    "| **Ejemplo Práctico**                  | Predecir el precio de una acción basado en su comportamiento pasado (sin variables adicionales).               | Pronosticar la demanda de energía considerando variables exógenas como temperatura, día de la semana, etc. |\n",
    "| **Herramientas Adicionales**          | Diagnósticos estadísticos (ACF, PACF, residuos).                                                              | Optimización automática de hiperparámetros, integración con `scikit-learn`, métricas avanzadas.        |\n",
    "| **Costo Computacional**               | Bajo para conjuntos de datos pequeños.                                                                        | Alto para modelos complejos o grandes volúmenes de datos.                                             |"
   ]
  }
 ],
 "metadata": {
  "kernelspec": {
   "display_name": "Python 3",
   "language": "python",
   "name": "python3"
  },
  "language_info": {
   "codemirror_mode": {
    "name": "ipython",
    "version": 3
   },
   "file_extension": ".py",
   "mimetype": "text/x-python",
   "name": "python",
   "nbconvert_exporter": "python",
   "pygments_lexer": "ipython3",
   "version": "3.12.4"
  }
 },
 "nbformat": 4,
 "nbformat_minor": 5
}
