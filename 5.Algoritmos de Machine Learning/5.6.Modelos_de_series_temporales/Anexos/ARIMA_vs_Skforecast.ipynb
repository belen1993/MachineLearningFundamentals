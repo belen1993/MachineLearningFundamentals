{
 "cells": [
  {
   "cell_type": "markdown",
   "id": "7d5132f2",
   "metadata": {},
   "source": [
    "## ARIMA vs ForecasterRecursive\n",
    "\n",
    "| **Característica**              | **ARIMA (`statsmodels`)**                           | **ForecasterRecursive (`skforecast`)**                  |\n",
    "|----------------------------------|----------------------------------------------------|--------------------------------------------------------|\n",
    "| **Tipo de modelo**              | Modelo estadístico lineal específico para series temporales. | Modelo flexible que usa cualquier regresor de `scikit-learn`. |\n",
    "| **Relaciones capturadas**       | Lineales.                                         | Lineales o no lineales (dependiendo del regresor).      |\n",
    "| **Variables exógenas**          | Soportadas solo en modelos extendidos (SARIMAX).  | Fácilmente soportadas.                                 |\n",
    "| **Interpretación**              | Alta (coeficientes interpretables).               | Baja (depende del modelo base).                        |\n",
    "| **Capacidad predictiva**        | Buena para patrones lineales simples.             | Mejor para patrones complejos y no lineales.           |\n",
    "| **Escalabilidad**               | Limitada para grandes volúmenes de datos.         | Escalable gracias a modelos como Random Forest o XGBoost. |\n",
    "| **Herramientas adicionales**    | AIC, BIC, diagnósticos estadísticos.              | Validación cruzada temporal, backtesting, optimización. |\n",
    "| **Facilidad de uso**            | Fácil para usuarios familiarizados con modelos estadísticos. | Requiere más ajuste manual, especialmente en modelos avanzados. |\n",
    "\n"
   ]
  }
 ],
 "metadata": {
  "kernelspec": {
   "display_name": "Python 3",
   "language": "python",
   "name": "python3"
  },
  "language_info": {
   "codemirror_mode": {
    "name": "ipython",
    "version": 3
   },
   "file_extension": ".py",
   "mimetype": "text/x-python",
   "name": "python",
   "nbconvert_exporter": "python",
   "pygments_lexer": "ipython3",
   "version": "3.12.4"
  }
 },
 "nbformat": 4,
 "nbformat_minor": 5
}
