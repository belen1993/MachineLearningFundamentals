{
 "cells": [
  {
   "cell_type": "markdown",
   "metadata": {},
   "source": [
    "<a class=\"anchor\" id=\"0\"></a>\n",
    "\n",
    "# **Modelo ARIMA para el pronóstico de series temporales - statsmodels**\n",
    "\n",
    "Discutiremos el **Modelo ARIMA para el pronóstico de series temporales**. \n",
    "- El modelo ARIMA se usa para pronosticar una serie temporal utilizando los valores pasados ​​de la serie. \n",
    "- Construiremos un **Modelo ARIMA óptimo** y lo ampliaremos a **ARIMA de temporada (Sarima)** y **Modelos Sarimax**. \n",
    "- También veremos cómo construir modelos Autoarima."
   ]
  },
  {
   "cell_type": "markdown",
   "metadata": {},
   "source": [
    "<a class=\"anchor\" id=\"0.1\"></a>\n",
    "# **Tabla de contenidos** \n",
    "\n",
    "\n",
    "1. [Introducción al pronóstico de la serie temporal](#1)\n",
    "2. [Introducción a los modelos ARIMA](#2)\n",
    "3. [El significado de p, d y q en el modelo ARIMA](#3)\n",
    "4. [Modelos AR y MA](#4)\n",
    "5. [Cómo encontrar el orden de diferenciación (d) en el modelo ARIMA](#5)\n",
    "6. [Cómo encontrar el orden del término AR (p)](#6)\n",
    "7. [Cómo encontrar el orden del término MA (q)](#7)\n",
    "8. [Cómo manejar si una serie de tiempo está ligeramente debajo o más diferenciada](#8)\n",
    "9. [Cómo construir el modelo ARIMA](#9)\n",
    "10. [Encuentre el modelo ARIMA óptimo utilizando validación cruzada fuera del tiempo](#10)\n",
    "11. [Métricas de precisión para el pronóstico de series de tiempo](#11)\n",
    "12. [Previsión automática de ARIMA en Python](#12)\n",
    "13. [Cómo interpretar los gráficos residuales en el modelo ARIMA](#13)\n",
    "14. [Modelo Sarima en Python](#14)\n",
    "15. [Modelo Sarimax con variables exogéneas](#15)\n",
    "16. [Referencias](#16)"
   ]
  },
  {
   "cell_type": "markdown",
   "metadata": {},
   "source": [
    "# **1.Introducción al pronóstico de series temporales** <a class=\"anchor\" id=\"1\"></a>\n",
    "\n",
    "[Tabla de contenidos](#0.1)\n",
    "\n",
    "\n",
    "- Una  **serie temproal** se define como una serie de puntos de datos registrados en diferentes intervalos de tiempo. El orden de tiempo puede ser diario, mensual o incluso anual.\n",
    "\n",
    "- El pronóstico de series temporales es el proceso de usar un modelo estadístico para predecir valores futuros de una serie temporal basada en resultados pasados.\n",
    "\n",
    "- El pronóstico es el paso en el que queremos predecir los valores futuros que tomará la serie. El pronóstico de una serie de tiempo a menudo es de tremendo valor comercial.\n",
    "\n",
    "#### **Previsión de una serie temporal se puede dividir ampliamente en dos tipos.**\n",
    "\n",
    "- Si usamos solo los valores anteriores de la serie temporal para predecir sus valores futuros, se llama **pronóstico de series temporales univariadas.**\n",
    "\n",
    "- Si usamos otros predictores (como variables exógenas) para pronosticar que se llama **pronóstico de series temporales de variedades múltiples.**\n",
    "\n",
    "Aquí nos centraremos en un tipo particular de método de pronóstico llamado **modelado ARIMA.**"
   ]
  },
  {
   "cell_type": "markdown",
   "metadata": {},
   "source": [
    "# **2. Introducción a los modelos ARIMA** <a class=\"anchor\" id=\"2\"></a>\n",
    "\n",
    "[Tabla de contenidos](#0.1)\n",
    "\n",
    "\n",
    "**ARIMA** significa **Autoregressive Integrated Moving Average Model (Modelo de promedio móvil integrado autorregresivo)**.\n",
    "- Pertenece a una clase de modelos que explica una serie temproal dada, basada en sus propios valores pasados: sus propios retrasos y los errores de pronóstico rezagados.\n",
    "- La ecuación se puede usar para pronosticar valores futuros.\n",
    "- Cualquier serie temporal \"no estacional\" que exhiba patrones y no sea un ruido blanco aleatorio se puede modelar con modelos ARIMA.\n",
    "- Es un algoritmo de pronóstico basado en la idea de que la información en los valores pasados ​​de la serie temporal se puede usar por sí sola para predecir los valores futuros.\n",
    "\n",
    "\n",
    "- **Los modelos ARIMA** se especifican mediante tres parámetros de orden: (p, d, q), \n",
    "\n",
    "dónde,\n",
    "- *p* es el orden del término AR\n",
    "- *q* es el orden del término MA\n",
    "- *d* es el número de diferenciación requerida para hacer la serie temproal estacionaria\n",
    "\n",
    "\n",
    "- **AR (p) Autorregresión** - Un modelo de regresión que utiliza la relación dependiente entre una observación actual y observaciones durante un período anterior.Un componente auto regresivo (AR (p)) se refiere al uso de valores pasados ​​en la ecuación de regresión para la serie temporal.\n",
    "\n",
    "\n",
    "- **I (d) Integración** - utiliza la diferenciación de las observaciones (restando una observación de la observación en el paso de tiempo anterior) para hacer la serie temproal estacionaria.\n",
    "   - La diferenciación implica la resta de los valores actuales de una serie con sus valores anteriores d número de veces.\n",
    "\n",
    "\n",
    "- **MA (q) Promedio móvil** - Un modelo que utiliza la dependencia entre una observación y un error residual de un modelo de promedio móvil aplicado a observaciones rezagadas.\n",
    "   - Un componente de promedio móvil representa el error del modelo como una combinación de términos de error anteriores.\n",
    "   - El orden q representa el número de términos que se incluirán en el modelo."
   ]
  },
  {
   "cell_type": "markdown",
   "metadata": {},
   "source": [
    "## **Tipos de modelos ARIMA**\n",
    "\n",
    "\n",
    "- **ARIMA** : Promedios móvil integrados NO estacionales autorregresivos\n",
    "- **SARIMA** : Arima estacional\n",
    "- **SARIMAX** : Arima estacional con variables exógenas\n",
    "\n",
    "\n",
    "\n",
    "Si es una serie temporal, tiene patrones estacionales, entonces necesitamos agregar términos estacionales y se convierte en sarima, abreviatura de **Seasonal ARIMA**."
   ]
  },
  {
   "cell_type": "markdown",
   "metadata": {},
   "source": [
    "# **3. El significado de p, d y q en el modelo ARIMA** <a class=\"anchor\" id=\"3\"></a>\n",
    "\n",
    "[Tabla de contenidos](#0.1)\n",
    "\n",
    "\n",
    "## **3.1 El significado de p**\n",
    "\n",
    "\n",
    "- `p` es el orden del término **Auto regresivo (AR)**. Se refiere al número de retrasos (lags) de Y para ser utilizados como predictores.\n",
    "\n",
    "\n",
    "\n",
    "## **3.2 El significado de d**\n",
    "\n",
    "\n",
    "- El término **auto regresivo** en Arima significa que es un modelo de regresión lineal que usa sus propios retrasos como predictores. \n",
    "    - Los modelos de regresión lineal, como sabemos, funcionan mejor cuando los predictores no están correlacionados y son independientes entre sí.\n",
    "    - Así que necesitamos hacer la serie temporal estacionaria.\n",
    "\n",
    "- El enfoque más común para hacer que la serie sea estacionaria es diferirla.\n",
    "    - Es decir, restar el valor anterior del valor actual.\n",
    "    - A veces, dependiendo de la complejidad de la serie, puede ser necesaria más de una diferencia.\n",
    "\n",
    "\n",
    "- El valor de d, por lo tanto, es el número mínimo de diferenciaciones necesarias para hacer que la serie sea estacionario.\n",
    "    - Si la serie temporal ya es estacionaria, entonces d = 0.\n",
    "\n",
    "\n",
    "## **3.3 El significado de q**\n",
    "\n",
    "\n",
    "- **q** es el orden del **promedio móvil (MA)**.\n",
    "- Se refiere al número de errores de pronóstico rezagados que deberían ir en el modelo ARIMA."
   ]
  },
  {
   "cell_type": "markdown",
   "metadata": {},
   "source": [
    "# **4. Modelos AR y MA** <a class=\"anchor\" id=\"4\"></a>\n",
    "\n",
    "[Tabla de contenidos](#0.1)\n",
    "\n",
    "\n",
    "\n",
    "## **4.1 Modelo AR**\n",
    "\n",
    "- Un **Modelo Auto regresivo (AR)** es uno donde Yt depende solo de sus propios retrasos. \n",
    "\n",
    "- Es decir, Yt es una función de los `retrasos de YT`. Se representa por la siguiente ecuación -\n",
    "\n",
    "![AR Model](https://www.machinelearningplus.com/wp-content/uploads/2019/02/Equation-1-min.png?ezimgfmt=ng:webp/ngcb1)\n",
    "\n",
    "\n",
    "image source : https://www.machinelearningplus.com/wp-content/uploads/2019/02/Equation-1-min.png?ezimgfmt=ng:webp/ngcb1\n",
    "\n",
    "\n",
    "dónde, \n",
    "\n",
    "- $Y{t-1}$ es el lag1 de la serie, \n",
    "\n",
    "- $\\beta1$ es el coeficiente de lag1 que estima el modelo, y\n",
    "\n",
    "- $\\alpha$ es el término de intercepción, también estimado por el modelo.\n",
    "\n",
    "\n"
   ]
  },
  {
   "cell_type": "markdown",
   "metadata": {},
   "source": [
    "\n",
    "## **4.2 Modelo MA**\n",
    "\n",
    "\n",
    "- Del mismo modo, un **modelo de promedio móvil (MA)** es uno donde Yt depende solo de los errores de pronóstico retrasados. Se representa por la siguiente ecuación:\n",
    "\n",
    "\n",
    "![MA Model](https://www.machinelearningplus.com/wp-content/uploads/2019/02/Equation-2-min.png?ezimgfmt=ng:webp/ngcb1)\n",
    "\n",
    "\n",
    "Fuente de la imagen: https://www.machinelearningplus.com/wp-content/uploads/2019/02/equation-2-min.png?ezimgfmt=ng:webp/ngcb1\n",
    "\n",
    "\n",
    "\n",
    "donde los términos de error son los errores de los modelos autorregresivos de los retrasos respectivos. \n",
    "\n",
    "\n",
    "Los errores Et y E(t-1) son los errores de las siguientes ecuaciones:\n",
    "\n",
    "\n",
    "![Error Terms of the AR Model](https://www.machinelearningplus.com/wp-content/uploads/2019/02/Equation-3-min.png?ezimgfmt=ng:webp/ngcb1)\n",
    "\n",
    "Fuente de la imagen: https://www.machinelearningplus.com/wp-content/uploads/2019/02/equation-3-min.png?ezimgfmt=ng:webp/ngcb1\n"
   ]
  },
  {
   "cell_type": "markdown",
   "metadata": {},
   "source": [
    "## **4.3 Modelo ARIMA**\n",
    "\n",
    "\n",
    "- Un modelo ARIMA es uno en el que la serie temporal se diferenció al menos una vez para hacerlo estacionario y combinamos los términos AR y MA.\n",
    "- Entonces la ecuación de un modelo ARIMA se convierte en:\n",
    "\n",
    "![ARIMA Model](https://www.machinelearningplus.com/wp-content/uploads/2019/02/Equation-4-min-865x77.png?ezimgfmt=ng:webp/ngcb1)\n",
    "\n",
    "image source : https://www.machinelearningplus.com/wp-content/uploads/2019/02/Equation-4-min-865x77.png?ezimgfmt=ng:webp/ngcb1\n",
    "\n",
    "\n",
    "\n",
    "### **Modelo ARIMA en palabras**:\n",
    "\n",
    "\n",
    "Yt predecido = constante + combinación lineal de retrasos de Y (hasta p retrasos) + combinación lineal de errores de pronóstico rezagados (hasta q retrasos)\n"
   ]
  },
  {
   "cell_type": "markdown",
   "metadata": {},
   "source": [
    "# **5. Cómo encontrar el orden de diferenciación (d) en el modelo ARIMA**  <a class=\"anchor\" id=\"5\"></a>\n",
    "\n",
    "[Tabla de contenidos](#0.1)\n",
    "\n",
    "\n",
    "- Como se indicó anteriormente, el propósito de diferenciar es hacer a la serie temporal estacionario. \n",
    "    - Pero debemos tener cuidado de sobre diferenciar. \n",
    "    - Una serie sobre diferenciada aún puede ser estacionaria, lo que a su vez afectará los parámetros del modelo.\n",
    "\n",
    "- Por tanto, debemos determinar el orden correcto de diferenciación.\n",
    "    - El orden correcto de diferenciación es la diferenciación mínima requerida para obtener una serie casi estacionaria que deambula alrededor de una media definida y la gráfica ACF llega a cero bastante rápido.\n",
    "    - Si las autocorrelaciones son positivas para muchos retrasos (10 o más), entonces la serie necesita una mayor diferenciación. \n",
    "    - Por otro lado, si la autocorrelación de lag 1 en sí es demasiado negativa, entonces la serie probablemente esté demasiado diferenciada.\n",
    "\n",
    "\n",
    "- Si realmente no podemos decidir entre dos órdenes de diferenciación, entonces vamos con el orden que da la menor desviación estándar en la serie diferenciada.\n",
    "\n"
   ]
  },
  {
   "cell_type": "markdown",
   "metadata": {},
   "source": [
    "Ahora, explicaremos estos conceptos con la ayuda de un ejemplo de la siguiente manera:\n",
    "- Primero, verificaré si la serie es estacionaria usando la **Prueba aumentada de Dickey Fuller (prueba ADF)**, del paquete `statsmodels`. \n",
    "    - La razón es que necesitamos diferenciar solo si la serie no es estacionaria.\n",
    "    - De lo contrario, no se necesita diferenciar, es decir, d = 0.\n",
    "\n",
    "- La hipótesis nula (Ho) de la prueba ADF es que la serie temporal no es estacionaria.\n",
    "    - Entonces, si el valor p de la prueba es menor que el nivel de significancia (0.05), rechazamos la hipótesis nula e inferimos que la serie temporal es realmente estacionaria.\n",
    "\n",
    "- En nuestro caso, si \"Valor de P > 0.05\" seguimos para encontrar el orden de diferenciación."
   ]
  },
  {
   "cell_type": "markdown",
   "metadata": {},
   "source": [
    "## **Configuración de rutina**"
   ]
  },
  {
   "cell_type": "code",
   "execution_count": 3,
   "metadata": {
    "trusted": true
   },
   "outputs": [],
   "source": [
    "import numpy as np\n",
    "import pandas as pd"
   ]
  },
  {
   "cell_type": "markdown",
   "metadata": {},
   "source": [
    "## **Importar datos**"
   ]
  },
  {
   "cell_type": "code",
   "execution_count": 5,
   "metadata": {
    "trusted": true
   },
   "outputs": [
    {
     "data": {
      "text/html": [
       "<div>\n",
       "<style scoped>\n",
       "    .dataframe tbody tr th:only-of-type {\n",
       "        vertical-align: middle;\n",
       "    }\n",
       "\n",
       "    .dataframe tbody tr th {\n",
       "        vertical-align: top;\n",
       "    }\n",
       "\n",
       "    .dataframe thead th {\n",
       "        text-align: right;\n",
       "    }\n",
       "</style>\n",
       "<table border=\"1\" class=\"dataframe\">\n",
       "  <thead>\n",
       "    <tr style=\"text-align: right;\">\n",
       "      <th></th>\n",
       "      <th>date</th>\n",
       "      <th>value</th>\n",
       "    </tr>\n",
       "  </thead>\n",
       "  <tbody>\n",
       "    <tr>\n",
       "      <th>0</th>\n",
       "      <td>1991-07-01</td>\n",
       "      <td>3.526591</td>\n",
       "    </tr>\n",
       "    <tr>\n",
       "      <th>1</th>\n",
       "      <td>1991-08-01</td>\n",
       "      <td>3.180891</td>\n",
       "    </tr>\n",
       "    <tr>\n",
       "      <th>2</th>\n",
       "      <td>1991-09-01</td>\n",
       "      <td>3.252221</td>\n",
       "    </tr>\n",
       "    <tr>\n",
       "      <th>3</th>\n",
       "      <td>1991-10-01</td>\n",
       "      <td>3.611003</td>\n",
       "    </tr>\n",
       "    <tr>\n",
       "      <th>4</th>\n",
       "      <td>1991-11-01</td>\n",
       "      <td>3.565869</td>\n",
       "    </tr>\n",
       "  </tbody>\n",
       "</table>\n",
       "</div>"
      ],
      "text/plain": [
       "         date     value\n",
       "0  1991-07-01  3.526591\n",
       "1  1991-08-01  3.180891\n",
       "2  1991-09-01  3.252221\n",
       "3  1991-10-01  3.611003\n",
       "4  1991-11-01  3.565869"
      ]
     },
     "execution_count": 5,
     "metadata": {},
     "output_type": "execute_result"
    }
   ],
   "source": [
    "df = pd.read_csv('../../data/ARIMA/dataset.txt')\n",
    "\n",
    "df.head()"
   ]
  },
  {
   "cell_type": "code",
   "execution_count": null,
   "metadata": {},
   "outputs": [],
   "source": [
    "# ! pip install statsmodels"
   ]
  },
  {
   "cell_type": "markdown",
   "metadata": {},
   "source": [
    "- Ahora, continuaremos con nuestro ejemplo."
   ]
  },
  {
   "cell_type": "code",
   "execution_count": null,
   "metadata": {
    "trusted": true
   },
   "outputs": [],
   "source": [
    "from statsmodels.tsa.stattools import adfuller\n",
    "from numpy import log\n",
    "\n",
    "result = adfuller(df.value.dropna())\n",
    "print('ADF Statistic: %f' % result[0])\n",
    "print('p-value: %f' % result[1])"
   ]
  },
  {
   "cell_type": "markdown",
   "metadata": {},
   "source": [
    "- Dado que el valor de p (1.00) es mayor que el nivel de significancia (0.05), diferenciaremos la serie y veremos cómo se ve la gráfica de autocorrelación."
   ]
  },
  {
   "cell_type": "code",
   "execution_count": null,
   "metadata": {
    "trusted": true
   },
   "outputs": [],
   "source": [
    "from statsmodels.graphics.tsaplots import plot_acf, plot_pacf\n",
    "import matplotlib.pyplot as plt\n",
    "plt.rcParams.update({'figure.figsize':(9,7), 'figure.dpi':120})\n",
    "\n",
    "\n",
    "# Original Series\n",
    "fig, axes = plt.subplots(3, 2, sharex=True)\n",
    "axes[0, 0].plot(df.value); axes[0, 0].set_title('Original Series')\n",
    "plot_acf(df.value, ax=axes[0, 1])\n",
    "\n",
    "# 1st Differencing\n",
    "axes[1, 0].plot(df.value.diff()); axes[1, 0].set_title('1st Order Differencing')\n",
    "plot_acf(df.value.diff().dropna(), ax=axes[1, 1])\n",
    "\n",
    "# 2nd Differencing\n",
    "axes[2, 0].plot(df.value.diff().diff()); axes[2, 0].set_title('2nd Order Differencing')\n",
    "plot_acf(df.value.diff().diff().dropna(), ax=axes[2, 1])\n",
    "\n",
    "plt.show()"
   ]
  },
  {
   "cell_type": "markdown",
   "metadata": {},
   "source": [
    "- Para los datos anteriores, podemos ver que la serie de tiempo alcanza la estacionariedad con dos órdenes de diferenciación.\n",
    "\n"
   ]
  },
  {
   "cell_type": "markdown",
   "metadata": {},
   "source": [
    "# **6. Cómo encontrar el orden del término AR (p)** <a class=\"anchor\" id=\"6\"></a>\n",
    "\n",
    "[Tabla de contenidos](#0.1)\n",
    "\n",
    "\n",
    "- El siguiente paso es identificar si el modelo necesita algún término AR. Descubriremos el número requerido de términos AR inspeccionando el **grafico de Autocorrelación parcial (PACF)**.\n",
    "\n",
    "\n",
    "- La **autocorrelación parcial** puede imaginarse como la correlación entre la serie y su retraso, después de excluir las contribuciones de los retrasos intermedios. \n",
    "    - PACF transmite la correlación pura entre un retraso y la serie.\n",
    "    - De esta manera, sabremos si ese retraso es necesario en el término AR o no.\n",
    "\n",
    "\n",
    "- La autocorrelación parcial del retraso (k) de una serie es el coeficiente de ese retraso en la ecuación de autorregresión de Y.\n",
    "\n",
    "$$Yt = \\alpha0 + \\alpha1 Y{t-1} + \\alpha2 Y{t-2} + \\alpha3 Y{t-3}$$\n",
    "\n",
    "\n",
    "- Es decir, supongamos, si Y_tT es la serie real e Y_t-1 es el retraso 1 de y, entonces la autocorrelación parcial de lag 3 (Y_t-3) es el coeficiente $\\alpha_3$ de Y_t-3 en la ecuación anterior.\n",
    "\n",
    "- Ahora, deberíamos encontrar el número de términos AR. \n",
    "    - Cualquier autocorrelación en una serie estacionarizada puede rectificarse agregando suficientes términos AR.\n",
    "    - Por lo tanto, inicialmente tomamos el orden del término AR para que sea igual a tantos retrasos que cruzan el límite de significación en la gráfica PACF.\n"
   ]
  },
  {
   "cell_type": "code",
   "execution_count": null,
   "metadata": {
    "trusted": true
   },
   "outputs": [],
   "source": [
    "# PACF de la primera serie diferenciada\n",
    "plt.rcParams.update({'figure.figsize':(9,3), 'figure.dpi':120})\n",
    "\n",
    "fig, axes = plt.subplots(1, 2, sharex=True)\n",
    "axes[0].plot(df.value.diff()); axes[0].set_title('1st Differencing')\n",
    "axes[1].set(ylim=(0,5))\n",
    "plot_pacf(df.value.diff().dropna(), ax=axes[1])\n",
    "\n",
    "plt.show()"
   ]
  },
  {
   "cell_type": "markdown",
   "metadata": {},
   "source": [
    "- Podemos ver que el lag 1 PACF es bastante significativo ya que está muy por encima de la línea de significancia. \n",
    "- Por tanto, fijamos el valor de p en 1."
   ]
  },
  {
   "cell_type": "markdown",
   "metadata": {},
   "source": [
    "# **7. Cómo encontrar el orden del término de MA (q)** <a class=\"anchor\" id=\"7\"></a>\n",
    "\n",
    "[Tabla de contenidos](#0.1)\n",
    "\n",
    "\n",
    "- Al igual que miramos la trama PACF para obtener el número de términos AR, veremos el gráfico **ACF** para el número de términos de MA.\n",
    "    - Un término MA es técnicamente, el error del pronóstico rezagado.\n",
    "\n",
    "\n",
    "- El ACF dice cuántos términos de MA se requieren para eliminar cualquier autocorrelación en la serie estacionarizada.\n",
    "\n",
    "\n",
    "- Veamos el gráfico de autocorrelación de la serie diferenciada."
   ]
  },
  {
   "cell_type": "code",
   "execution_count": null,
   "metadata": {
    "trusted": true
   },
   "outputs": [],
   "source": [
    "from statsmodels.graphics.tsaplots import plot_acf, plot_pacf\n",
    "plt.rcParams.update({'figure.figsize':(9,3), 'figure.dpi':120})\n",
    "\n",
    "fig, axes = plt.subplots(1, 2, sharex=True)\n",
    "axes[0].plot(df.value.diff()); axes[0].set_title('1st Differencing')\n",
    "axes[1].set(ylim=(0,1.2))\n",
    "plot_acf(df.value.diff().dropna(), ax=axes[1])\n",
    "\n",
    "plt.show()"
   ]
  },
  {
   "cell_type": "markdown",
   "metadata": {},
   "source": [
    "- Podemos ver que un par de retrasos están muy por encima de la línea de significancia.\n",
    "    - Por tanto, arreglaremos q = 2. \n",
    "    - Si hay dudas, tiraremos con el modelo más simple que explica suficientemente el Y."
   ]
  },
  {
   "cell_type": "markdown",
   "metadata": {},
   "source": [
    "# **8. Cómo gestionar cuando una serie temporal está ligeramente sub o sobre diferenciada** <a class=\"anchor\" id=\"8\"></a>\n",
    "\n",
    "[Tabla de contenidos](#0.1)\n",
    "\n",
    "\n",
    "- Puede suceder que la serie de tiempo esté ligeramente sub-diferenciada. \n",
    "    - Diferenciarlo una vez más lo hará ligeramente sobre-diferenciado. \n",
    "\n",
    "- Si la serie está ligeramente sub-diferenciada, agregar uno o más términos AR adicionales generalmente la convierte.\n",
    "    - Del mismo modo, si está ligeramente sobre-diferenciado, intentaremos agregar un término MA adicional."
   ]
  },
  {
   "cell_type": "markdown",
   "metadata": {},
   "source": [
    "# **9. Cómo construir el modelo ARIMA** <a class=\"anchor\" id=\"9\"></a>\n",
    "\n",
    "\n",
    "[Tabla de contenidos](#0.1)\n",
    "\n",
    "\n",
    "Ahora, hemos determinado los valores de p, d y q. Tenemos todo lo necesario para adaptarse al modelo ARIMA.\n",
    "\n",
    "- Usaremos la implementación ARIMA() del paquete `statsmodels`."
   ]
  },
  {
   "cell_type": "code",
   "execution_count": null,
   "metadata": {
    "trusted": true
   },
   "outputs": [],
   "source": [
    "from statsmodels.tsa.arima.model import ARIMA\n",
    "\n",
    "# 1,1,2 ARIMA Model\n",
    "model = ARIMA(df.value, order=(1,1,2))\n",
    "model_fit = model.fit()\n",
    "print(model_fit.summary())"
   ]
  },
  {
   "cell_type": "markdown",
   "metadata": {},
   "source": [
    "- El resumen del modelo proporciona mucha información. \n",
    "    - La tabla central es la tabla de coeficientes donde los valores en \"COEF\" son los pesos de los términos respectivos.\n",
    "    - El coeficiente del término MA2 está cerca de cero y el valor p en la columna \"P> | Z |\" es altamente insignificante.\n",
    "    - Idealmente, debería ser inferior a 0.05 para que el X respectivo sea significativo.\n",
    "\n",
    "- Reconstruiremos el modelo sin el término MA2."
   ]
  },
  {
   "cell_type": "code",
   "execution_count": null,
   "metadata": {
    "trusted": true
   },
   "outputs": [],
   "source": [
    "# 1,1,1 ARIMA Model\n",
    "model = ARIMA(df.value, order=(1,1,1))\n",
    "model_fit = model.fit()\n",
    "print(model_fit.summary())"
   ]
  },
  {
   "cell_type": "markdown",
   "metadata": {},
   "source": [
    "- El modelo AIC se ha reducido ligeramente, lo cual es bueno.\n",
    "- Los valores P de los términos AR1 y MA1 han mejorado y son muy significativos (<< 0.05).\n",
    "- Entriquemos los residuos para asegurar que no haya patrones (es decir, busque una media y varianza constantes)."
   ]
  },
  {
   "cell_type": "code",
   "execution_count": null,
   "metadata": {
    "trusted": true
   },
   "outputs": [],
   "source": [
    "# errores residuales\n",
    "residuals = pd.DataFrame(model_fit.resid)\n",
    "fig, ax = plt.subplots(1,2)\n",
    "residuals.plot(title=\"Residuals\", ax=ax[0])\n",
    "residuals.plot(kind='kde', title='Density', ax=ax[1])\n",
    "plt.show()"
   ]
  },
  {
   "cell_type": "markdown",
   "metadata": {},
   "source": [
    "- Los errores residuales parecen estar bien con una media casi cero y una varianza uniforme.\n",
    "- Grafiquemos los valores reales contra los valores ajustados usando **plot_predict()**."
   ]
  },
  {
   "cell_type": "code",
   "execution_count": null,
   "metadata": {
    "trusted": true
   },
   "outputs": [],
   "source": [
    "from statsmodels.graphics.tsaplots import plot_predict\n",
    "\n",
    "\n",
    "# Actual vs Fitted\n",
    "plot_predict(model_fit, 0, 200, dynamic=False, ax=df.plot())\n",
    "\n",
    "plt.show()"
   ]
  },
  {
   "cell_type": "markdown",
   "metadata": {},
   "source": [
    "- Cuando establecemos dynamic=False, los valores retrasados ​​en la muestra se usan para la predicción.\n",
    "    - Es decir, el modelo se entrena hasta el valor anterior para hacer la próxima predicción.\n",
    "    - Esto puede hacer que el pronóstico ajustado y los reales se vean artificialmente bien.\n",
    "\n",
    "- Parece que tenemos un modelo Arima decente.\n",
    "    - Pero, no podemos decir que este es el mejor modelo ARIMA porque en realidad no hemos pronosticado el futuro y comparamos el pronóstico con el rendimiento real.\n",
    "\n",
    "- La verdadera validación que necesitamos ahora es la validación cruzada fuera del tiempo (Out-of-Time cross-validation)."
   ]
  },
  {
   "cell_type": "markdown",
   "metadata": {},
   "source": [
    "# **10. Encontrar el modelo ARIMA óptimo utilizando la validación cruzada fuera del tiempo** <a class=\"anchor\" id=\"10\"></a>\n",
    "\n",
    "\n",
    "[Tabla de contenidos](#0.1)\n",
    "\n",
    "\n",
    "- En la validación cruzada fuera del tiempo, avanzamos hacia atrás en el tiempo y pronosticamos en el futuro a tantos pasos que tomamos en el pasado.\n",
    "    - Luego comparamos el pronóstico con los valores reales. \n",
    "- Para hacerlo, crearemos el conjunto de datos de entrenamiento y prueba dividiendo la serie temporal en 2 partes contiguas en una proporción razonable basada en la frecuencia de tiempo de la serie."
   ]
  },
  {
   "cell_type": "code",
   "execution_count": null,
   "metadata": {
    "trusted": true
   },
   "outputs": [],
   "source": [
    "from statsmodels.tsa.stattools import acf\n",
    "\n",
    "# Crear entrenamiento y prueba\n",
    "train = df.value[:85]\n",
    "test = df.value[85:]"
   ]
  },
  {
   "cell_type": "markdown",
   "metadata": {},
   "source": [
    "- Ahora, construimos el modelo ARIMA en el conjunto de datos de entrenamiento, pronosticaremos y graficaremos."
   ]
  },
  {
   "cell_type": "code",
   "execution_count": null,
   "metadata": {
    "trusted": true
   },
   "outputs": [],
   "source": [
    "from tabulate import tabulate\n",
    "\n",
    "# Build del modelo\n",
    "# model = ARIMA(train, order=(3,2,1))\n",
    "model = ARIMA(train, order=(1, 1, 1))\n",
    "fitted = model.fit()\n",
    "# print(fitted.summary())\n",
    "\n",
    "# Pronóstico\n",
    "fc_series = fitted.forecast(119, alpha=0.05)  # 95% conf\n",
    "conf = fitted.get_forecast(119).conf_int(alpha=0.05)\n",
    "\n",
    "# pandas series\n",
    "lower_series = conf['lower value'] #pd.Series(conf[:, 0], index=test.index)\n",
    "upper_series = conf['upper value'] #pd.Series(conf[:, 1], index=test.index)\n",
    "\n",
    "# Plot\n",
    "plt.figure(figsize=(12, 5), dpi=100)\n",
    "plt.plot(train, label='training')\n",
    "plt.plot(test, label='actual')\n",
    "plt.plot(fc_series, label='forecast')\n",
    "plt.fill_between(lower_series.index, lower_series, upper_series, color='k', alpha=.15)\n",
    "plt.title('Forecast vs Actuals')\n",
    "plt.legend(loc='upper left', fontsize=8)\n",
    "plt.show()"
   ]
  },
  {
   "cell_type": "markdown",
   "metadata": {},
   "source": [
    "- De la tabla anterior, el modelo ARIMA(1,1,1) parece generar un pronóstico correcto.\n",
    "    - Los valores observados reales se encuentran dentro de la banda de confianza del 95%.\n",
    "\n",
    "- Pero podemos ver que las previsiones predichas están constantemente por debajo de los reales.\n",
    "    - Eso significa que, al agregar una pequeña constante a nuestro pronóstico, la precisión ciertamente mejorará.\n",
    "\n",
    "- Entonces, en este caso, debemos aumentar el orden de diferenciación a dos (d = 2) y aumentar iterativamente p y q hasta 5 para ver qué modelo de el menor AIC y también buscar un gráfico que proporcione valores reales y pronósticos más cercanos.\n",
    "\n",
    "- Mientras hacemos esto, vigilamos los valores p de los términos AR y MA en el resumen del modelo.\n",
    "    - Deben estar tan cerca de cero, idealmente, menos de 0.05."
   ]
  },
  {
   "cell_type": "code",
   "execution_count": null,
   "metadata": {
    "trusted": true
   },
   "outputs": [],
   "source": [
    "# Build Model\n",
    "model = ARIMA(train, order=(3, 2, 1))  \n",
    "fitted = model.fit()  \n",
    "print(fitted.summary())\n",
    "\n",
    "# Pronóstico\n",
    "fc_series = fitted.forecast(119, alpha=0.05)  # 95% conf\n",
    "conf = fitted.get_forecast(119).conf_int(alpha=0.05)\n",
    "\n",
    "# pandas series\n",
    "lower_series = conf['lower value'] #pd.Series(conf[:, 0], index=test.index)\n",
    "upper_series = conf['upper value'] #pd.Series(conf[:, 1], index=test.index)\n",
    "\n",
    "# Plot\n",
    "plt.figure(figsize=(12,5), dpi=100)\n",
    "plt.plot(train, label='training')\n",
    "plt.plot(test, label='actual')\n",
    "plt.plot(fc_series, label='forecast')\n",
    "plt.fill_between(lower_series.index, lower_series, upper_series,  color='k', alpha=.15)\n",
    "plt.title('Forecast vs Actuals')\n",
    "plt.legend(loc='upper left', fontsize=8)\n",
    "plt.show()"
   ]
  },
  {
   "cell_type": "markdown",
   "metadata": {},
   "source": [
    "- El AIC se ha reducido a 245 (desde 843), lo cual es bueno.\n",
    "- Principalmente, los valores p de los términos X son inferiores a <0.05, lo cual es excelente.\n",
    "- En general, este modelo es mucho mejor."
   ]
  },
  {
   "cell_type": "markdown",
   "metadata": {},
   "source": [
    "# **11. Métricas de precisión para el pronóstico de series temporales** <a class=\"anchor\" id=\"11\"></a>\n",
    "\n",
    "\n",
    "[Table of Contents](#0.1)\n",
    "\n",
    "\n",
    "Las métricas de precisión comúnmente utilizadas para juzgar los pronósticos son:\n",
    "\n",
    "1. Mean Absolute Percentage Error (MAPE)\n",
    "2. Mean Error (ME)\n",
    "3. Mean Absolute Error (MAE)\n",
    "4. Mean Percentage Error (MPE)\n",
    "5. Root Mean Squared Error (RMSE)\n",
    "6. Lag 1 Autocorrelation of Error (ACF1)\n",
    "7. Correlation between the Actual and the Forecast (corr)\n",
    "8. Min-Max Error (minmax)\n",
    "\n",
    "\n",
    "Por lo general, usaremos tres métricas de precisión:\n",
    "\n",
    "1. MAPE\n",
    "2. Correlation \n",
    "3. Min-Max Error \n",
    "\n",
    "\n",
    "- Los tres anteriores son errores porcentuales que varían entre 0 y 1. \n",
    "- De esta manera, podemos juzgar cuán bueno es el pronóstico independientemente de la escala de la serie.\n"
   ]
  },
  {
   "cell_type": "code",
   "execution_count": null,
   "metadata": {
    "trusted": true
   },
   "outputs": [],
   "source": [
    "# Accuracy metrics\n",
    "def forecast_accuracy(forecast, actual):\n",
    "    mape = np.mean(np.abs(forecast - actual)/np.abs(actual))  # MAPE\n",
    "    me = np.mean(forecast - actual)             # ME\n",
    "    mae = np.mean(np.abs(forecast - actual))    # MAE\n",
    "    mpe = np.mean((forecast - actual)/actual)   # MPE\n",
    "    rmse = np.mean((forecast - actual)**2)**.5  # RMSE\n",
    "    corr = np.corrcoef(forecast, actual)[0,1]   # corr\n",
    "    mins = np.amin(np.hstack([forecast.to_numpy()[:,None], actual[:,None]]), axis=1)\n",
    "    maxs = np.amax(np.hstack([forecast.to_numpy()[:,None], actual[:,None]]), axis=1)\n",
    "    minmax = 1 - np.mean(mins/maxs)             # minmax\n",
    "    acf1 = acf(forecast-test)[1]                      # ACF1\n",
    "    return({'mape':mape, 'me':me, 'mae': mae, \n",
    "            'mpe': mpe, 'rmse':rmse, 'acf1':acf1, \n",
    "            'corr':corr, 'minmax':minmax})\n",
    "\n",
    "forecast_accuracy(fc_series, test.values)"
   ]
  },
  {
   "cell_type": "markdown",
   "metadata": {},
   "source": [
    "- Around 23.22% MAPE implies the model is about 76.78% accurate in predicting the next 15 observations. Now we know how to build an ARIMA model manually. \n",
    "\n",
    "- But, we should also know how to automate the best model selection process. So, we will discuss it next.\n",
    "\n"
   ]
  },
  {
   "cell_type": "markdown",
   "metadata": {},
   "source": [
    "- Alrededor del 23.22% MAPE implica que el modelo es aproximadamente 76.78% preciso para predecir las próximas 15 observaciones."
   ]
  },
  {
   "cell_type": "markdown",
   "metadata": {},
   "source": [
    "# **12. Pronóstico Auto Arima en Python** <a class=\"anchor\" id=\"12\"></a>\n",
    "\n",
    "\n",
    "[Tabla de contenidos](#0.1)\n",
    "\n",
    "\n",
    "- En Python, el paquete `pmDarima` proporciona la función `auto_arima()` que puede usarse para automatizar el proceso de pronóstico ARIMA en Python.\n",
    "    - https://alkaline-ml.com/pmdarima/\n",
    "\n",
    "- `auto_arima()` utiliza un enfoque gradual para buscar múltiples combinaciones de parámetros p, d, q y eliger el mejor modelo que tiene el menor AIC.\n",
    "\n",
    "- Primero necesitamos instalar el paquete `pmDarima`."
   ]
  },
  {
   "cell_type": "code",
   "execution_count": null,
   "metadata": {
    "trusted": true
   },
   "outputs": [],
   "source": [
    "# ! pip install \"numpy<2\"\n",
    "# ! pip install pmdarima"
   ]
  },
  {
   "cell_type": "code",
   "execution_count": null,
   "metadata": {},
   "outputs": [],
   "source": [
    "import pandas as pd\n",
    "import numpy as np\n",
    "\n",
    "print(f\"NumPy version: {np.__version__}\")\n",
    "print(f\"Pandas version: {pd.__version__}\")"
   ]
  },
  {
   "cell_type": "code",
   "execution_count": null,
   "metadata": {
    "trusted": true
   },
   "outputs": [],
   "source": [
    "import pmdarima as pm\n",
    "\n",
    "model = pm.auto_arima(df.value, start_p=1, start_q=1,\n",
    "                      test='adf',       # use adftest to find optimal 'd'\n",
    "                      max_p=3, max_q=3, # maximum p and q\n",
    "                      m=1,              # frequency of series\n",
    "                      d=None,           # let model determine 'd'\n",
    "                      seasonal=False,   # No Seasonality\n",
    "                      start_P=0, \n",
    "                      D=0, \n",
    "                      trace=True,\n",
    "                      error_action='ignore',  \n",
    "                      suppress_warnings=True, \n",
    "                      stepwise=True)\n",
    "\n",
    "print(model.summary())"
   ]
  },
  {
   "cell_type": "markdown",
   "metadata": {},
   "source": [
    "# **13. Cómo interpretar los gráficos residuales en el modelo ARIMA** <a class=\"anchor\" id=\"13\"></a>\n",
    "\n",
    "\n",
    "[Tabla de contenidos](#0.1)\n",
    "\n",
    "Revisemos los gráficos residuales usando `stepwise_fit`."
   ]
  },
  {
   "cell_type": "code",
   "execution_count": null,
   "metadata": {
    "trusted": true
   },
   "outputs": [],
   "source": [
    "model.plot_diagnostics(figsize=(10,8))\n",
    "plt.show()"
   ]
  },
  {
   "cell_type": "markdown",
   "metadata": {},
   "source": [
    "## **Interpretación de las trazas en gráficos de  diagnóstico**\n",
    "\n",
    "\n",
    "**Residual estandarizado**: Los errores residuales parecen fluctuar alrededor de una media de cero y tienen una varianza uniforme.\n",
    "\n",
    "\n",
    "**Histograma**: La gráfica de densidad sugiere una distribución normal con una pequeña inclinación media hacia la derecha.\n",
    "\n",
    "\n",
    "**Cuantiles teóricos**: Principalmente los puntos caen perfectamente en línea con la línea roja.Cualquier desviación significativa implicaría que la distribución esté sesgada.\n",
    "\n",
    "\n",
    "**Correlograma**: El correlograma, (o gráfico ACF) muestra que los errores residuales no están autocorrelacionados.La gráfica de ACF implicaría que hay algún patrón en los errores residuales que no se explican en el modelo.Por lo tanto, tendremos que buscar más X (predictores) al modelo.\n",
    "\n",
    "\n",
    "En general, el modelo parece tener un buen ajuste y lo usemos para pronosticar."
   ]
  },
  {
   "cell_type": "code",
   "execution_count": null,
   "metadata": {
    "trusted": true
   },
   "outputs": [],
   "source": [
    "# Forecast\n",
    "n_periods = 24\n",
    "fc, confint = model.predict(n_periods=n_periods, return_conf_int=True)\n",
    "index_of_fc = np.arange(len(df.value), len(df.value)+n_periods)\n",
    "\n",
    "# make series for plotting purpose\n",
    "fc_series = pd.Series(fc, index=index_of_fc)\n",
    "lower_series = pd.Series(confint[:, 0], index=index_of_fc)\n",
    "upper_series = pd.Series(confint[:, 1], index=index_of_fc)\n",
    "\n",
    "# Plot\n",
    "plt.plot(df.value)\n",
    "plt.plot(fc_series, color='darkgreen')\n",
    "plt.fill_between(lower_series.index, \n",
    "                 lower_series, \n",
    "                 upper_series, \n",
    "                 color='k', alpha=.15)\n",
    "\n",
    "plt.title(\"Final Forecast of Usage\")\n",
    "plt.show()"
   ]
  },
  {
   "cell_type": "markdown",
   "metadata": {},
   "source": [
    "# **14. Modelo de Sarima en Python** <a class=\"anchor\" id=\"14\"></a>\n",
    "\n",
    "\n",
    "[Tabla de contenidos](#0.1)\n",
    "\n",
    "\n",
    "- El modelo ARIMA simple tiene un problema. No soporta estacionalidad.\n",
    "\n",
    "\n",
    "- Si la serie de tiempo ha definido la estacionalidad, entonces debemos optar por **Seasonal ARIMA** (**SARIMA**) que utiliza la diferenciación estacional.\n",
    "\n",
    "\n",
    "- La diferenciación estacional es similar a la diferenciación regular, pero, en lugar de restar términos consecutivos, restamos el valor de la temporada anterior.\n",
    "\n",
    "\n",
    "- El modelo se representará como **Sarima (P, D, Q)x(P, D, Q)**, donde, P, D y Q son SAR, el orden de las diferencias estacionales y los términos SMA respectivamente y 'X' es la frecuencia de la serie de tiempo.Si el modelo tiene patrones estacionales bien definidos, entonces aplique d = 1 para una frecuencia \"x\" dada.\n",
    "\n",
    "\n",
    "- Debemos establecer los parámetros del modelo de modo que D nunca exceda uno. \n",
    "    - Y la diferencia total \"d + D\" nunca excede 2. \n",
    "    - Deberíamos tratar de mantener solo términos SAR o SMA si el modelo tiene componentes estacionales.\n",
    "\n",
    "\n",
    "- Ahora, construiremos un modelo Sarima en el conjunto de datos de la serie temporal."
   ]
  },
  {
   "cell_type": "code",
   "execution_count": null,
   "metadata": {
    "trusted": true
   },
   "outputs": [],
   "source": [
    "data = pd.read_csv('./dataset.txt', parse_dates=['date'], index_col='date')"
   ]
  },
  {
   "cell_type": "code",
   "execution_count": null,
   "metadata": {
    "trusted": true
   },
   "outputs": [],
   "source": [
    "# Plot\n",
    "fig, axes = plt.subplots(2, 1, figsize=(10,5), dpi=100, sharex=True)\n",
    "\n",
    "# Usual Differencing\n",
    "axes[0].plot(data[:], label='Original Series')\n",
    "axes[0].plot(data[:].diff(1), label='Usual Differencing')\n",
    "axes[0].set_title('Usual Differencing')\n",
    "axes[0].legend(loc='upper left', fontsize=10)\n",
    "\n",
    "\n",
    "# Seasonal Differencing\n",
    "axes[1].plot(data[:], label='Original Series')\n",
    "axes[1].plot(data[:].diff(12), label='Seasonal Differencing', color='green')\n",
    "axes[1].set_title('Seasonal Differencing')\n",
    "plt.legend(loc='upper left', fontsize=10)\n",
    "plt.suptitle('Drug Sales - Time Series Dataset', fontsize=16)\n",
    "plt.show()"
   ]
  },
  {
   "cell_type": "markdown",
   "metadata": {},
   "source": [
    "- Podemos ver que los picos estacionales están intactos después de aplicar la diferencia habitual (retraso 1). Mientras que se rectifica después de la diferenciación estacional.\n",
    "\n",
    "- Ahora, construyamos el modelo Sarima usando pmdarima `auto_arima()`.\n",
    "- Para hacerlo, necesitamos establecer `seasonal=True`, la frecuencia `M = 12` para la serie Mes Wise y forzar `D = 1`."
   ]
  },
  {
   "cell_type": "code",
   "execution_count": null,
   "metadata": {
    "trusted": true
   },
   "outputs": [],
   "source": [
    "import pmdarima as pm\n",
    "\n"
   ]
  },
  {
   "cell_type": "code",
   "execution_count": null,
   "metadata": {
    "trusted": true
   },
   "outputs": [],
   "source": [
    "# Seasonal - fit stepwise auto-ARIMA\n",
    "smodel = pm.auto_arima(data, start_p=1, start_q=1,\n",
    "                         test='adf',\n",
    "                         max_p=3, max_q=3, m=12,\n",
    "                         start_P=0, seasonal=True,\n",
    "                         d=None, D=1, trace=True,\n",
    "                         error_action='ignore',  \n",
    "                         suppress_warnings=True, \n",
    "                         stepwise=True)\n",
    "\n",
    "smodel.summary()"
   ]
  },
  {
   "cell_type": "markdown",
   "metadata": {},
   "source": [
    "El modelo ha estimado que los valores de AIC y P de los coeficientes parecen significativos.\n",
    "\n",
    "Veamos el gráfico de diagnóstico residual.\n",
    "\n",
    "- El mejor modelo SARIMAX(3, 0, 0)x(0, 1, 1, 12) tiene una AIC de 528.6 y los valores de P son significativos.\n",
    "\n",
    "Vamos a pronosticar para los próximos 24 meses."
   ]
  },
  {
   "cell_type": "code",
   "execution_count": null,
   "metadata": {
    "trusted": true
   },
   "outputs": [],
   "source": [
    "# Forecast\n",
    "n_periods = 24\n",
    "fitted, confint = smodel.predict(n_periods=n_periods, return_conf_int=True)\n",
    "index_of_fc = pd.date_range(data.index[-1], periods = n_periods, freq='MS')\n",
    "\n",
    "# make series for plotting purpose\n",
    "fitted_series = pd.Series(fitted, index=index_of_fc)\n",
    "lower_series = pd.Series(confint[:, 0], index=index_of_fc)\n",
    "upper_series = pd.Series(confint[:, 1], index=index_of_fc)\n",
    "\n",
    "# Plot\n",
    "plt.plot(data)\n",
    "plt.plot(fitted_series, color='darkgreen')\n",
    "plt.fill_between(lower_series.index, \n",
    "                 lower_series, \n",
    "                 upper_series, \n",
    "                 color='k', alpha=.15)\n",
    "\n",
    "plt.title(\"SARIMA - Final Forecast of Drug Sales - Time Series Dataset\")\n",
    "plt.show()"
   ]
  },
  {
   "cell_type": "markdown",
   "metadata": {},
   "source": [
    "Aquí tenemos un buen pronóstico que captura el patrón de demanda estacional esperado!"
   ]
  },
  {
   "cell_type": "markdown",
   "metadata": {},
   "source": [
    "# **15. Modelo sarimax con variables exogéneas** <a class=\"anchor\" id=\"15\"></a>\n",
    "\n",
    "\n",
    "[Tabla de contenidos](#0.1)\n",
    "\n",
    "\n",
    "- Ahora, forzaremos a un predictor externo, también llamado *variable exógena* en el modelo.\n",
    "    - Este modelo se llama `SARIMAX model`.\n",
    "    - El único requisito para usar una variable exógena es que también debemos conocer el valor de la variable durante el período de pronóstico.\n",
    "\n",
    "- Queremos ver cómo se ve el modelo si forzamos el patrón de estacionalidad en el entrenamiento y el pronóstico.\n",
    "    - El índice estacional es una buena variable exógena porque repite cada ciclo de frecuencia, 12 meses en este caso.\n",
    "    - Siempre sabremos qué valores tendrá el índice estacional para los pronósticos futuros.\n",
    "    - Calculemos el índice estacional para que pueda ser forzado como un predictor (exógeno) al modelo Sarimax."
   ]
  },
  {
   "cell_type": "code",
   "execution_count": null,
   "metadata": {
    "trusted": true
   },
   "outputs": [],
   "source": [
    "# Compute Seasonal Index\n",
    "from statsmodels.tsa.seasonal import seasonal_decompose\n",
    "from dateutil.parser import parse\n",
    "\n",
    "# multiplicative seasonal component\n",
    "result_mul = seasonal_decompose(data['value'][-36:],   # 3 years\n",
    "                                model='multiplicative', \n",
    "                                extrapolate_trend='freq')\n",
    "\n",
    "seasonal_index = result_mul.seasonal[-12:].to_frame()\n",
    "seasonal_index['month'] = pd.to_datetime(seasonal_index.index).month\n",
    "\n",
    "# merge with the base data\n",
    "data['month'] = data.index.month\n",
    "df = pd.merge(data, seasonal_index, how='left', on='month')\n",
    "df.columns = ['value', 'month', 'seasonal_index']\n",
    "df.index = data.index  # reassign the index"
   ]
  },
  {
   "cell_type": "markdown",
   "metadata": {},
   "source": [
    "La variable exógena (índice estacional) está lista. Construyamos el modelo Sarimax."
   ]
  },
  {
   "cell_type": "code",
   "execution_count": null,
   "metadata": {
    "trusted": true
   },
   "outputs": [],
   "source": [
    "import pmdarima as pm\n",
    "\n",
    "# SARIMAX Model\n",
    "sxmodel = pm.auto_arima(df[['value']], exogenous=df[['seasonal_index']],\n",
    "                           start_p=1, start_q=1,\n",
    "                           test='adf',\n",
    "                           max_p=3, max_q=3, m=12,\n",
    "                           start_P=0, seasonal=True,\n",
    "                           d=None, D=1, trace=True,\n",
    "                           error_action='ignore',  \n",
    "                           suppress_warnings=True, \n",
    "                           stepwise=True)\n",
    "\n",
    "sxmodel.summary()"
   ]
  },
  {
   "cell_type": "markdown",
   "metadata": {},
   "source": [
    "# **16. Referencias** <a class=\"anchor\" id=\"16\"></a>\n",
    "\n",
    "\n",
    "[Tabla de contenidos](#0.1)\n",
    "\n",
    "\n",
    "Las ideas y códigos en este notebook se han tomado de los siguientes sitios web.\n",
    "\n",
    "\n",
    "1. https://www.machinelearningplus.com/time-series/arima-model-time-series-forecasting-python/\n",
    "\n",
    "2. https://www.geeksforgeeks.org/python-arima-model-for-time-series-forecasting/\n"
   ]
  },
  {
   "cell_type": "markdown",
   "metadata": {},
   "source": [
    "[Ir al inicio](#0)"
   ]
  }
 ],
 "metadata": {
  "kernelspec": {
   "display_name": "Python 3",
   "language": "python",
   "name": "python3"
  },
  "language_info": {
   "codemirror_mode": {
    "name": "ipython",
    "version": 3
   },
   "file_extension": ".py",
   "mimetype": "text/x-python",
   "name": "python",
   "nbconvert_exporter": "python",
   "pygments_lexer": "ipython3",
   "version": "3.12.4"
  }
 },
 "nbformat": 4,
 "nbformat_minor": 4
}
