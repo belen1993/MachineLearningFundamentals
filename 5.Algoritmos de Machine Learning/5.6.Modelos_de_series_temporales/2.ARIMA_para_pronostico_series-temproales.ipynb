{
 "cells": [
  {
   "cell_type": "markdown",
   "metadata": {},
   "source": [
    "<a class=\"anchor\" id=\"0\"></a>\n",
    "\n",
    "# **Modelo ARIMA para el pronóstico de series temporales - statsmodels**\n",
    "\n",
    "Discutiremos el **Modelo ARIMA para el pronóstico de series temporales**. \n",
    "- El modelo ARIMA se usa para pronosticar una serie temporal utilizando los valores pasados ​​de la serie. \n",
    "- Construiremos un **Modelo ARIMA óptimo** y lo ampliaremos a **ARIMA de temporada (Sarima)** y **Modelos Sarimax**. \n",
    "- También veremos cómo construir modelos Autoarima."
   ]
  },
  {
   "cell_type": "markdown",
   "metadata": {},
   "source": [
    "<a class=\"anchor\" id=\"0.1\"></a>\n",
    "# **Tabla de contenidos** \n",
    "\n",
    "\n",
    "1. [Introducción al pronóstico de la serie temporal](#1)\n",
    "2. [Introducción a los modelos ARIMA](#2)\n",
    "3. [El significado de p, d y q en el modelo ARIMA](#3)\n",
    "4. [Modelos AR y MA](#4)\n",
    "5. [Cómo encontrar el orden de diferenciación (d) en el modelo ARIMA](#5)\n",
    "6. [Cómo encontrar el orden del término AR (p)](#6)\n",
    "7. [Cómo encontrar el orden del término MA (q)](#7)\n",
    "8. [Cómo manejar si una serie de tiempo está ligeramente debajo o más diferenciada](#8)\n",
    "9. [Cómo construir el modelo ARIMA](#9)\n",
    "10. [Encuentre el modelo ARIMA óptimo utilizando validación cruzada fuera del tiempo](#10)\n",
    "11. [Métricas de precisión para el pronóstico de series de tiempo](#11)\n",
    "12. [Previsión automática de ARIMA en Python](#12)\n",
    "13. [Cómo interpretar los gráficos residuales en el modelo ARIMA](#13)\n",
    "14. [Modelo Sarima en Python](#14)\n",
    "15. [Modelo Sarimax con variables exogéneas](#15)\n",
    "16. [Referencias](#16)"
   ]
  },
  {
   "cell_type": "markdown",
   "metadata": {},
   "source": [
    "# **1.Introducción al pronóstico de series temporales** <a class=\"anchor\" id=\"1\"></a>\n",
    "\n",
    "[Tabla de contenidos](#0.1)\n",
    "\n",
    "\n",
    "- Una  **serie temproal** se define como una serie de puntos de datos registrados en diferentes intervalos de tiempo. El orden de tiempo puede ser diario, mensual o incluso anual.\n",
    "\n",
    "- El pronóstico de series temporales es el proceso de usar un modelo estadístico para predecir valores futuros de una serie temporal basada en resultados pasados.\n",
    "\n",
    "- El pronóstico es el paso en el que queremos predecir los valores futuros que tomará la serie. El pronóstico de una serie de tiempo a menudo es de tremendo valor comercial.\n",
    "\n",
    "#### **Previsión de una serie temporal se puede dividir ampliamente en dos tipos.**\n",
    "\n",
    "- Si usamos solo los valores anteriores de la serie temporal para predecir sus valores futuros, se llama **pronóstico de series temporales univariadas.**\n",
    "\n",
    "- Si usamos otros predictores (como variables exógenas) para pronosticar que se llama **pronóstico de series temporales de variedades múltiples.**\n",
    "\n",
    "Aquí nos centraremos en un tipo particular de método de pronóstico llamado **modelado ARIMA.**"
   ]
  },
  {
   "cell_type": "markdown",
   "metadata": {},
   "source": [
    "# **2. Introducción a los modelos ARIMA** <a class=\"anchor\" id=\"2\"></a>\n",
    "\n",
    "[Tabla de contenidos](#0.1)\n",
    "\n",
    "\n",
    "**ARIMA** significa **Autoregressive Integrated Moving Average Model (Modelo de promedio móvil integrado autorregresivo)**.\n",
    "- Pertenece a una clase de modelos que explica una serie temproal dada, basada en sus propios valores pasados: sus propios retrasos y los errores de pronóstico rezagados.\n",
    "- La ecuación se puede usar para pronosticar valores futuros.\n",
    "- Cualquier serie temporal \"no estacional\" que exhiba patrones y no sea un ruido blanco aleatorio se puede modelar con modelos ARIMA.\n",
    "- Es un algoritmo de pronóstico basado en la idea de que la información en los valores pasados ​​de la serie temporal se puede usar por sí sola para predecir los valores futuros.\n",
    "\n",
    "\n",
    "- **Los modelos ARIMA** se especifican mediante tres parámetros de orden: (p, d, q), \n",
    "\n",
    "dónde,\n",
    "- *p* es el orden del término AR\n",
    "- *q* es el orden del término MA\n",
    "- *d* es el número de diferenciación requerida para hacer la serie temproal estacionaria\n",
    "\n",
    "\n",
    "- **AR (p) Autorregresión** - Un modelo de regresión que utiliza la relación dependiente entre una observación actual y observaciones durante un período anterior. \n",
    "   - Un componente auto regresivo (AR (p)) se refiere al uso de valores pasados ​​en la ecuación de regresión para la serie temporal.\n",
    "\n",
    "\n",
    "- **I (d) Integración** - utiliza la diferenciación de las observaciones (restando una observación de la observación en el paso de tiempo anterior) para hacer la serie temproal estacionaria.\n",
    "   - La diferenciación implica la resta de los valores actuales de una serie con sus valores anteriores d número de veces.\n",
    "\n",
    "\n",
    "- **MA (q) Promedio móvil** - Un modelo que utiliza la dependencia entre una observación y un error residual de un modelo de promedio móvil aplicado a observaciones rezagadas.\n",
    "   - Un componente de promedio móvil representa el error del modelo como una combinación de términos de error anteriores.\n",
    "   - El orden q representa el número de términos que se incluirán en el modelo.\n",
    "\n",
    "\n",
    "---\n",
    "> Una **serie temporal estacionaria** es una serie en la que las propiedades estadísticas fundamentales, como la media, la varianza y la autocovarianza, no cambian con el tiempo. En otras palabras, una serie temporal es estacionaria si su comportamiento general permanece constante a lo largo del tiempo, sin tendencias, cambios significativos en la volatilidad o patrones estacionales."
   ]
  },
  {
   "cell_type": "markdown",
   "metadata": {},
   "source": [
    "## **Tipos de modelos ARIMA**\n",
    "\n",
    "\n",
    "- **ARIMA** : Promedios móvil integrados NO estacionales autorregresivos\n",
    "- **SARIMA** : Arima estacional\n",
    "- **SARIMAX** : Arima estacional con variables exógenas\n",
    "\n",
    "\n",
    "\n",
    "Si es una serie temporal, tiene patrones estacionales, entonces necesitamos agregar términos estacionales y se convierte en sarima, abreviatura de **Seasonal ARIMA**."
   ]
  },
  {
   "cell_type": "markdown",
   "metadata": {},
   "source": [
    "## **¿Por qué usar ARIMA?**\n",
    "- Modela patrones lineales y estacionarios\n",
    "- Flexibilidad para manejar diferentes componentes\n",
    "- Interpretación estadística clara\n",
    "- Buen rendimiento en datos pequeños\n"
   ]
  },
  {
   "cell_type": "markdown",
   "metadata": {},
   "source": [
    "# **3. El significado de p, d y q en el modelo ARIMA** <a class=\"anchor\" id=\"3\"></a>\n",
    "\n",
    "[Tabla de contenidos](#0.1)\n",
    "\n",
    "\n",
    "## **3.1 El significado de p**\n",
    "\n",
    "\n",
    "- `p` es el orden del término **Auto regresivo (AR)**. Se refiere al número de retrasos (**lags**) de Y para ser utilizados como predictores.\n",
    "\n",
    "\n",
    "\n",
    "## **3.2 El significado de d**\n",
    "\n",
    "\n",
    "- El término **auto regresivo** en Arima significa que es un modelo de regresión lineal que usa sus propios retrasos como predictores. \n",
    "    - Los modelos de regresión lineal, como sabemos, funcionan mejor cuando los predictores no están correlacionados y son independientes entre sí.\n",
    "    - Así que necesitamos hacer la serie temporal estacionaria.\n",
    "\n",
    "- El enfoque más común para hacer que la serie sea estacionaria es diferirla.\n",
    "    - Es decir, restar el valor anterior del valor actual.\n",
    "    - A veces, dependiendo de la complejidad de la serie, puede ser necesaria más de una diferencia.\n",
    "\n",
    "\n",
    "- El valor de d, por lo tanto, es el número mínimo de diferenciaciones necesarias para hacer que la serie sea estacionario.\n",
    "    - Si la serie temporal ya es estacionaria, entonces d = 0.\n",
    "\n",
    "## **3.3 El significado de q**\n",
    "\n",
    "\n",
    "- **q** es el orden del **promedio móvil (MA)**.\n",
    "- Se refiere al número de errores de pronóstico rezagados que deberían ir en el modelo ARIMA."
   ]
  },
  {
   "cell_type": "markdown",
   "metadata": {},
   "source": [
    "# **4. Modelos AR y MA** <a class=\"anchor\" id=\"4\"></a>\n",
    "\n",
    "[Tabla de contenidos](#0.1)\n",
    "\n",
    "\n",
    "\n",
    "## **4.1 Modelo AR**\n",
    "\n",
    "- Un **Modelo Auto regresivo (AR)** es uno donde Yt depende solo de sus propios retrasos. \n",
    "\n",
    "- Es decir, Yt es una función de los `retrasos de YT`. Se representa por la siguiente ecuación -\n",
    "\n",
    "![AR Model](https://www.machinelearningplus.com/wp-content/uploads/2019/02/Equation-1-min.png?ezimgfmt=ng:webp/ngcb1)\n",
    "\n",
    "\n",
    "image source : https://www.machinelearningplus.com/wp-content/uploads/2019/02/Equation-1-min.png?ezimgfmt=ng:webp/ngcb1\n",
    "\n",
    "\n",
    "dónde, \n",
    "\n",
    "- $Y{t-1}$ es el lag1 de la serie, \n",
    "\n",
    "- $\\beta1$ es el coeficiente de lag1 que estima el modelo, y\n",
    "\n",
    "- $\\alpha$ es el término de intercepción, también estimado por el modelo.\n",
    "\n",
    "\n"
   ]
  },
  {
   "cell_type": "markdown",
   "metadata": {},
   "source": [
    "\n",
    "## **4.2 Modelo MA**\n",
    "\n",
    "\n",
    "- Del mismo modo, un **modelo de promedio móvil (MA)** es uno donde Yt depende solo de los errores de pronóstico retrasados. Se representa por la siguiente ecuación:\n",
    "\n",
    "\n",
    "![MA Model](https://www.machinelearningplus.com/wp-content/uploads/2019/02/Equation-2-min.png?ezimgfmt=ng:webp/ngcb1)\n",
    "\n",
    "\n",
    "Fuente de la imagen: https://www.machinelearningplus.com/wp-content/uploads/2019/02/equation-2-min.png?ezimgfmt=ng:webp/ngcb1\n",
    "\n",
    "\n",
    "\n",
    "donde los términos de error son los errores de los modelos autorregresivos de los retrasos respectivos. \n",
    "\n",
    "\n",
    "Los errores Et y E(t-1) son los errores de las siguientes ecuaciones:\n",
    "\n",
    "\n",
    "![Error Terms of the AR Model](https://www.machinelearningplus.com/wp-content/uploads/2019/02/Equation-3-min.png?ezimgfmt=ng:webp/ngcb1)\n",
    "\n",
    "Fuente de la imagen: https://www.machinelearningplus.com/wp-content/uploads/2019/02/equation-3-min.png?ezimgfmt=ng:webp/ngcb1\n"
   ]
  },
  {
   "cell_type": "markdown",
   "metadata": {},
   "source": [
    "## **4.3 Modelo ARIMA**\n",
    "\n",
    "\n",
    "- Un modelo ARIMA es uno en el que la serie temporal se diferenció al menos una vez para hacerlo estacionario y combinamos los términos AR y MA.\n",
    "- Entonces la ecuación de un modelo ARIMA se convierte en:\n",
    "\n",
    "![ARIMA Model](https://www.machinelearningplus.com/wp-content/uploads/2019/02/Equation-4-min-865x77.png?ezimgfmt=ng:webp/ngcb1)\n",
    "\n",
    "image source : https://www.machinelearningplus.com/wp-content/uploads/2019/02/Equation-4-min-865x77.png?ezimgfmt=ng:webp/ngcb1\n",
    "\n",
    "\n",
    "\n",
    "### **Modelo ARIMA en palabras**:\n",
    "\n",
    "\n",
    "Yt predecido = constante + combinación lineal de retrasos de Y (hasta p retrasos) + combinación lineal de errores de pronóstico rezagados (hasta q retrasos)\n"
   ]
  },
  {
   "cell_type": "markdown",
   "metadata": {},
   "source": [
    "Varias librerías de Python implementan modelos ARIMA-SARIMAX. Cuatro de ellas son:\n",
    "\n",
    "- [statsmodels](https://www.statsmodels.org/stable/index.html): es una de las librerías más completas para modelado estadístico en Python. Su API suele resultar más intuitiva para aquellos que provienen del entorno R que para aquellos acostumbrados a la API orientada a objetos de scikit-learn.\n",
    "\n",
    "- [pmdarima](http://alkaline-ml.com/pmdarima/): esta librería adapta el modelo SARIMAX de statsmodels a la API de scikit-learn, lo que permite a los usuarios familiarizados con las convenciones de scikit-learn sumergirse fácilmente en el modelado de series temporales.\n",
    "\n",
    "- [skforecast](https://skforecast.org/latest/index.html): entre sus múltiples funcionalidades de forecasting, dispone de una nueva adaptación para statsmodels SARIMAX que también sigue la API de scikit-learn. Esta implementación es muy similar a la de pmdarima, pero se ha simplificado para incluir solo los elementos esenciales para skforecast, lo que resulta en mejoras significativas de velocidad.\n",
    "\n",
    "- [statsForecast](https://nixtla.github.io/statsforecast/): ofrece una colección de modelos de pronóstico de series temporales univariadas ampliamente utilizados, incluidos ARIMA automático, ETS, CES y modelado Theta optimizado para un alto rendimiento utilizando numba."
   ]
  },
  {
   "cell_type": "markdown",
   "metadata": {},
   "source": [
    "# **5. Cómo encontrar el orden de diferenciación (d) en el modelo ARIMA**  <a class=\"anchor\" id=\"5\"></a>\n",
    "\n",
    "[Tabla de contenidos](#0.1)\n",
    "\n",
    "\n",
    "- Como se indicó anteriormente, el propósito de diferenciar es hacer a la serie temporal estacionaria. \n",
    "    - Pero debemos tener cuidado con sobre-diferenciar. \n",
    "    - Una serie sobre-diferenciada aún puede ser estacionaria, lo que a su vez afectará los parámetros del modelo.\n",
    "\n",
    "- Por tanto, debemos determinar el orden correcto de diferenciación.\n",
    "    - El orden correcto de diferenciación es la diferenciación mínima requerida para obtener una serie casi estacionaria que deambula alrededor de una media definida y cuya [gráfica ACF](https://medium.com/@kis.andras.nandor/understanding-autocorrelation-and-partial-autocorrelation-functions-acf-and-pacf-2998e7e1bcb5) llega a cero bastante rápido.\n",
    "    - Si las autocorrelaciones son positivas para muchos retrasos (10 o más), entonces la serie necesita una mayor diferenciación. \n",
    "    - Por otro lado, si la autocorrelación de lag 1 es demasiado negativa, entonces la serie probablemente esté demasiado diferenciada.\n",
    "\n",
    "\n",
    "- Si realmente no podemos decidir entre dos órdenes de diferenciación, entonces vamos con el orden que da la menor desviación estándar en la serie diferenciada.\n",
    "\n"
   ]
  },
  {
   "cell_type": "markdown",
   "metadata": {},
   "source": [
    "Ahora, explicaremos estos conceptos con la ayuda de un ejemplo de la siguiente manera:\n",
    "- Primero, verificaremos si la serie es estacionaria usando la **Prueba aumentada de Dickey Fuller (prueba ADF)**, del paquete `statsmodels`. \n",
    "    - La razón es que necesitamos diferenciar solo si la serie no es estacionaria.\n",
    "    - De lo contrario, no se necesita diferenciar, es decir, d = 0.\n",
    "\n",
    "- La hipótesis nula (Ho) de la prueba ADF es que la serie temporal es *no estacionaria*.\n",
    "    - Entonces, si el valor p es menor que el nivel de significancia (p < 0.05), rechazamos la hipótesis nula e inferimos que la serie temporal *es realmente estacionaria*.\n",
    "\n",
    "- En nuestro caso, si \"Valor de P > 0.05\" seguimos para encontrar el orden de diferenciación."
   ]
  },
  {
   "cell_type": "code",
   "execution_count": null,
   "metadata": {
    "trusted": true
   },
   "outputs": [],
   "source": [
    "import numpy as np\n",
    "import pandas as pd\n",
    "\n",
    "import warnings\n",
    "warnings.simplefilter(action='ignore', category=FutureWarning)"
   ]
  },
  {
   "cell_type": "markdown",
   "metadata": {},
   "source": [
    "## **Importar datos**"
   ]
  },
  {
   "cell_type": "code",
   "execution_count": null,
   "metadata": {
    "trusted": true
   },
   "outputs": [],
   "source": [
    "df = pd.read_csv('../../data/ARIMA/dataset.txt')\n",
    "\n",
    "print(df.describe())\n",
    "print(df.head())"
   ]
  },
  {
   "cell_type": "code",
   "execution_count": null,
   "metadata": {},
   "outputs": [],
   "source": [
    "# ! pip install statsmodels"
   ]
  },
  {
   "cell_type": "markdown",
   "metadata": {},
   "source": [
    "- Ahora, continuaremos con nuestro ejemplo."
   ]
  },
  {
   "cell_type": "code",
   "execution_count": null,
   "metadata": {
    "trusted": true
   },
   "outputs": [],
   "source": [
    "from statsmodels.tsa.stattools import adfuller\n",
    "from numpy import log\n",
    "\n",
    "result = adfuller(df.value.dropna())\n",
    "print('ADF Statistic: %f' % result[0])\n",
    "print('p-value: %f' % result[1])"
   ]
  },
  {
   "cell_type": "markdown",
   "metadata": {},
   "source": [
    "- Dado que el valor de p (1.00) es mayor que el nivel de significancia (0.05), diferenciaremos la serie y veremos cómo se ve la gráfica de autocorrelación."
   ]
  },
  {
   "cell_type": "code",
   "execution_count": null,
   "metadata": {},
   "outputs": [],
   "source": [
    "# Diferienciamos\n",
    "result = adfuller(df.value.diff().dropna())\n",
    "print('ADF 1st Order Differencing:: %f' % result[0])\n",
    "print('p-value: %f' % result[1])\n",
    "\n",
    "result = adfuller(df.value.diff().diff().dropna())\n",
    "print('ADF 2nd Order Differencing: %f' % result[0])\n",
    "print('p-value: %f' % result[1])"
   ]
  },
  {
   "cell_type": "code",
   "execution_count": null,
   "metadata": {
    "trusted": true
   },
   "outputs": [],
   "source": [
    "from statsmodels.graphics.tsaplots import plot_acf, plot_pacf\n",
    "import matplotlib.pyplot as plt\n",
    "plt.rcParams.update({'figure.figsize':(9,7), 'figure.dpi':120})\n",
    "\n",
    "\n",
    "# Original Series\n",
    "fig, axes = plt.subplots(3, 2, sharex=True)\n",
    "axes[0, 0].plot(df.value); axes[0, 0].set_title('Original Series')\n",
    "plot_acf(df.value, ax=axes[0, 1], lags=50, alpha=0.05)\n",
    "\n",
    "# 1st Differencing\n",
    "axes[1, 0].plot(df.value.diff()); axes[1, 0].set_title('1st Order Differencing')\n",
    "plot_acf(df.value.diff().dropna(), ax=axes[1, 1], lags=50, alpha=0.05)\n",
    "\n",
    "# 2nd Differencing\n",
    "axes[2, 0].plot(df.value.diff().diff()); axes[2, 0].set_title('2nd Order Differencing')\n",
    "plot_acf(df.value.diff().diff().dropna(), ax=axes[2, 1], lags=50, alpha=0.05)\n",
    "\n",
    "plt.show()"
   ]
  },
  {
   "cell_type": "markdown",
   "metadata": {},
   "source": [
    "- Para los datos anteriores, podemos ver que la serie de tiempo alcanza la estacionariedad con dos órdenes de diferenciación.\n",
    "\n"
   ]
  },
  {
   "cell_type": "markdown",
   "metadata": {},
   "source": [
    "# **6. Cómo encontrar el orden del término AR (p)** <a class=\"anchor\" id=\"6\"></a>\n",
    "\n",
    "[Tabla de contenidos](#0.1)\n",
    "\n",
    "\n",
    "- El siguiente paso es identificar si el modelo necesita algún término AR. Descubriremos el número requerido de términos AR inspeccionando el **grafico de Autocorrelación parcial (PACF)**.\n",
    "\n",
    "\n",
    "- La **autocorrelación parcial** puede imaginarse como la correlación entre la serie y su retraso, después de excluir las contribuciones de los retrasos intermedios. \n",
    "    - PACF transmite la correlación pura entre un retraso y la serie.\n",
    "    - De esta manera, sabremos si ese retraso es necesario en el término AR o no.\n",
    "\n",
    "\n",
    "- La autocorrelación parcial del retraso (k) de una serie es el coeficiente de ese retraso en la ecuación de autorregresión de Y.\n",
    "\n",
    "$$Yt = \\alpha0 + \\alpha1 Y{t-1} + \\alpha2 Y{t-2} + \\alpha3 Y{t-3}$$\n",
    "\n",
    "\n",
    "- Es decir, supongamos, si Y_t es la serie real e Y_t-1 es el retraso 1 de y, entonces la autocorrelación parcial de lag 3 (Y_t-3) es el coeficiente $\\alpha_3$ de Y_t-3 en la ecuación anterior.\n",
    "\n",
    "Algunas reglas generales:\n",
    "- Utilizar un orden del término AR p igual al numero de *lags* que cruzan el límite de significancia en el gráfico PACF.\n",
    "- Utilizar un orden del término MA q igual al numero de *lags* que cruzan el límite de significancia en el gráfico ACF.\n",
    "- Si el ACF corta en el lag q y el PACF corta en el lag p, se recomienda empezar con un modelo ARIMA(p, d, q).\n",
    "- Si sólo el PACF decae después del lag p, se recomienda empezar con un modelo AR(p).\n",
    "- Si sólo el ACF decae después del lag q, se recomienda empezar con un modelo MA(q).\n",
    "Estas pautas proporcionan un punto de partida útil al seleccionar los órdenes de un modelo ARIMA y pueden ser ajustadas según las características específicas de los datos en cuestión."
   ]
  },
  {
   "cell_type": "code",
   "execution_count": null,
   "metadata": {
    "trusted": true
   },
   "outputs": [],
   "source": [
    "# PACF\n",
    "plt.rcParams.update({'figure.figsize':(9,3), 'figure.dpi':120})\n",
    "\n",
    "plot_pacf(df.value.diff().dropna(), lags=20, alpha=0.05)\n",
    "plt.show()"
   ]
  },
  {
   "cell_type": "markdown",
   "metadata": {},
   "source": [
    "- Podemos ver que hay 1 lag muy por encima de la línea de significancia. \n",
    "- Por tanto, fijamos el valor de p en 1."
   ]
  },
  {
   "cell_type": "markdown",
   "metadata": {},
   "source": [
    "# **7. Cómo encontrar el orden del término de MA (q)** <a class=\"anchor\" id=\"7\"></a>\n",
    "\n",
    "[Tabla de contenidos](#0.1)\n",
    "\n",
    "\n",
    "- Al igual que miramos la trama PACF para obtener el número de términos AR, veremos el gráfico **ACF** para el número de términos de MA.\n",
    "    - Un término MA es técnicamente, el error del pronóstico rezagado.\n",
    "\n",
    "\n",
    "- El ACF dice cuántos términos de MA se requieren para eliminar cualquier autocorrelación en la serie estacionarizada.\n",
    "\n",
    "\n",
    "- Veamos el gráfico de autocorrelación de la serie diferenciada."
   ]
  },
  {
   "cell_type": "code",
   "execution_count": null,
   "metadata": {
    "trusted": true
   },
   "outputs": [],
   "source": [
    "from statsmodels.graphics.tsaplots import plot_acf, plot_pacf\n",
    "\n",
    "plt.rcParams.update({'figure.figsize':(9,3), 'figure.dpi':120})\n",
    "\n",
    "plot_acf(df.value.diff().diff().dropna(), lags=20, alpha=0.05)\n",
    "\n",
    "plt.show()"
   ]
  },
  {
   "cell_type": "markdown",
   "metadata": {},
   "source": [
    "- Podemos ver que 2 retrasos están muy por encima de la línea de significancia.\n",
    "    - Por tanto, arreglaremos q = 2. \n",
    "    - Si hay dudas, tiraremos con el modelo más simple que explica suficientemente el Y."
   ]
  },
  {
   "cell_type": "markdown",
   "metadata": {},
   "source": [
    "# **8. Cómo gestionar cuando una serie temporal está ligeramente sub o sobre diferenciada** <a class=\"anchor\" id=\"8\"></a>\n",
    "\n",
    "[Tabla de contenidos](#0.1)\n",
    "\n",
    "\n",
    "- Puede suceder que la serie de tiempo esté ligeramente sub-diferenciada. \n",
    "    - Diferenciarlo una vez más lo hará ligeramente sobre-diferenciado. \n",
    "\n",
    "- Si la serie está ligeramente sub-diferenciada, agregar uno o más términos AR adicionales generalmente la convierte.\n",
    "    - Del mismo modo, si está ligeramente sobre-diferenciado, intentaremos agregar un término MA adicional."
   ]
  },
  {
   "cell_type": "markdown",
   "metadata": {},
   "source": [
    "# **9. Cómo construir el modelo ARIMA** <a class=\"anchor\" id=\"9\"></a>\n",
    "\n",
    "\n",
    "[Tabla de contenidos](#0.1)\n",
    "\n",
    "\n",
    "Ahora, hemos determinado los valores de p, d y q. Tenemos todo lo necesario para adaptarse al modelo ARIMA.\n",
    "\n",
    "- Usaremos la implementación ARIMA() del paquete `statsmodels`."
   ]
  },
  {
   "cell_type": "code",
   "execution_count": null,
   "metadata": {
    "trusted": true
   },
   "outputs": [],
   "source": [
    "from statsmodels.tsa.arima.model import ARIMA\n",
    "from statsmodels.tsa.statespace.sarimax import SARIMAX\n",
    "from tabulate import tabulate\n",
    "\n",
    "# ARIMA Model\n",
    "model = ARIMA(df.value, order=(1,2,2))\n",
    "# model = SARIMAX(df.value, order=(1,2,2))\n",
    "model_fit = model.fit()\n",
    "print(model_fit.summary())"
   ]
  },
  {
   "cell_type": "markdown",
   "metadata": {},
   "source": [
    "El resumen del modelo muestra mucha información sobre el proceso de ajuste:\n",
    "\n",
    "1. **Estadísticas de Ajuste del Modelo**: Esta parte incluye varias estadísticas que ayudan a evaluar qué tan bien el modelo se ajusta a los datos observados:\n",
    "\n",
    "    - Log-Likelihood (Logaritmo de la Verosimilitud): Una medida de qué tan bien el modelo explica los datos observados, donde valores más negativos indican un ajuste deficiente a los datos y valores más cercanos a cero indican un mejor ajuste.\n",
    "\n",
    "    - AIC (Criterio de Información de Akaike): Una métrica de bondad de ajuste que equilibra el ajuste del modelo con su complejidad. Cuanto menor el valor de AIC mejor es el modelo.\n",
    "\n",
    "    - BIC (Criterio de Información Bayesiano): Similar al AIC, pero penaliza más la complejidad del modelo. Al igual que con el AIC, valores más bajos de BIC indican un mejor ajuste.\n",
    "\n",
    "    - HQIC (Criterio de Información de Hannan-Quinn): Otro criterio de selección de modelo, similar al AIC y al BIC.\n",
    "\n",
    "2. **Coeficientes**: Esta tabla lista los coeficientes estimados para los parámetros del modelo. Incluye tanto los parámetros autoregresivos (AR) como los parámetros de media móvil (MA), así como cualquier variable exógena si se incluyen en el modelo. También incluye los errores estándar asociados con los coeficientes estimados para indicar la incertidumbre de dichas estimaciones, sus p-values, que se utilizan para evaluar la significancia de cada coeficiente, y el intervalo de confianza del 95%.\n",
    "    - coef: Coeficiente estimado para el término. Magnitud y dirección del efecto del término en la predicción.\n",
    "    - std err: Error estándar del coeficiente. Menor valor indica mayor precisión en la estimación del coeficiente.\n",
    "    - z: Estadístico estandarizado (z=coef/std err). Mayor valor absoluto sugiere que el coeficiente es significativamente diferente de cero.\n",
    "    - P>|z|: Si el término es estadísticamente significativo (menor que 0.05).\n",
    "\n",
    "3. **Diagnósticos del modelo**: Esta sección proporciona información sobre los residuos. Las diferencias entre los valores observados (valores de entrenamiento) y los valores predichos por el modelo.\n",
    "\n",
    "    - Prueba Ljung-Box: Una prueba de autocorrelación en los residuos.\n",
    "\n",
    "    - Prueba de Jarque-Bera: Una prueba de normalidad de los residuos.\n",
    "\n",
    "    - Asimetría y curtosis: Medidas de la forma de la distribución de los residuos."
   ]
  },
  {
   "cell_type": "code",
   "execution_count": null,
   "metadata": {
    "trusted": true
   },
   "outputs": [],
   "source": [
    "# errores residuales\n",
    "residuals = pd.DataFrame(model_fit.resid)\n",
    "fig, ax = plt.subplots(1,2)\n",
    "residuals.plot(title=\"Residuals\", ax=ax[0])\n",
    "residuals.plot(kind='kde', title='Density', ax=ax[1])\n",
    "plt.show()"
   ]
  },
  {
   "cell_type": "markdown",
   "metadata": {},
   "source": [
    "- Los errores residuales parecen estar bien con una media casi cero y una varianza uniforme.\n",
    "- Grafiquemos los valores reales contra los valores ajustados usando **plot_predict()**."
   ]
  },
  {
   "cell_type": "code",
   "execution_count": null,
   "metadata": {
    "trusted": true
   },
   "outputs": [],
   "source": [
    "from statsmodels.graphics.tsaplots import plot_predict\n",
    "\n",
    "# Actual vs Fitted\n",
    "plot_predict(model_fit, 2, 200, dynamic=False, ax=df.plot())\n",
    "\n",
    "plt.show()"
   ]
  },
  {
   "cell_type": "markdown",
   "metadata": {},
   "source": [
    "- Cuando establecemos dynamic=False, los valores retrasados ​​en la muestra se usan para la predicción.\n",
    "    - Es decir, el modelo se entrena hasta el valor anterior para hacer la próxima predicción.\n",
    "    - Esto puede hacer que el pronóstico ajustado y los reales se vean artificialmente bien.\n",
    "\n",
    "- Parece que tenemos un modelo Arima decente.\n",
    "    - Pero, no podemos decir que este es el mejor modelo ARIMA porque en realidad no hemos pronosticado el futuro y comparamos el pronóstico con el rendimiento real.\n",
    "\n",
    "- La verdadera validación que necesitamos ahora es la validación cruzada fuera del tiempo (Out-of-Time cross-validation)."
   ]
  },
  {
   "cell_type": "markdown",
   "metadata": {},
   "source": [
    "# **10. Encontrar el modelo ARIMA óptimo utilizando la validación cruzada fuera del tiempo** <a class=\"anchor\" id=\"10\"></a>\n",
    "\n",
    "\n",
    "[Tabla de contenidos](#0.1)\n",
    "\n",
    "\n",
    "- En la validación cruzada fuera del tiempo, avanzamos hacia atrás en el tiempo y pronosticamos en el futuro a tantos pasos como tomamos en el pasado.\n",
    "    - Luego comparamos el pronóstico con los valores reales. \n",
    "- Para hacerlo, crearemos los datasets de entrenamiento y prueba dividiendo la serie temporal en 2 partes contiguas en una proporción razonable basada en la frecuencia de tiempo de la serie."
   ]
  },
  {
   "cell_type": "code",
   "execution_count": null,
   "metadata": {
    "trusted": true
   },
   "outputs": [],
   "source": [
    "from statsmodels.tsa.stattools import acf\n",
    "\n",
    "# Crear entrenamiento y prueba\n",
    "train_size = 190\n",
    "train = df.value[:train_size+1]\n",
    "test = df.value[train_size:]"
   ]
  },
  {
   "cell_type": "markdown",
   "metadata": {},
   "source": [
    "- Ahora, construimos el modelo ARIMA en el dataset de entrenamiento, pronosticaremos y graficaremos."
   ]
  },
  {
   "cell_type": "code",
   "execution_count": null,
   "metadata": {
    "trusted": true
   },
   "outputs": [],
   "source": [
    "from tabulate import tabulate\n",
    "\n",
    "# Build del modelo\n",
    "model = ARIMA(train, order=(1, 2, 2))\n",
    "model_fit = model.fit()\n",
    "print(model_fit.summary())\n",
    "\n",
    "# Pronóstico\n",
    "steps = len(df) - train_size\n",
    "fc_series = model_fit.forecast(steps=steps, alpha=0.05)  # 95% conf\n",
    "conf = model_fit.get_forecast(steps=steps).conf_int(alpha=0.05)\n",
    "\n",
    "# pandas series\n",
    "lower_series = conf['lower value']\n",
    "upper_series = conf['upper value']\n",
    "\n",
    "# Plot\n",
    "plt.figure(figsize=(12, 5), dpi=100)\n",
    "plt.plot(train, label='training')\n",
    "plt.plot(test, label='actual')\n",
    "plt.plot(fc_series, label='forecast', color='red')\n",
    "plt.fill_between(lower_series.index, lower_series, upper_series, color='k', alpha=.15)\n",
    "plt.title('Forecast vs Actuals')\n",
    "plt.legend(loc='upper left', fontsize=8)\n",
    "plt.show()"
   ]
  },
  {
   "cell_type": "markdown",
   "metadata": {},
   "source": [
    "- De la tabla anterior, el modelo ARIMA(1,2,2) parece generar un pronóstico correcto.\n",
    "    - Los valores observados reales se encuentran dentro de la banda de confianza del 95%.\n",
    "\n",
    "- Podemos variar el orden de diferenciación y aumentar iterativamente p y q hasta 5 para ver qué modelo da el menor AIC y también buscar un gráfico que proporcione valores reales y pronósticos más cercanos.\n",
    "\n",
    "- Mientras hacemos esto, vigilamos los valores p de los términos AR y MA en el resumen del modelo.\n",
    "    - Deben estar tan cerca de cero, idealmente, menos de 0.05."
   ]
  },
  {
   "cell_type": "code",
   "execution_count": null,
   "metadata": {
    "trusted": true
   },
   "outputs": [],
   "source": [
    "# Build Model\n",
    "# model = ARIMA(train, order=(1, 2, 2))\n",
    "model = ARIMA(train, order=(2, 2, 1))\n",
    "model_fit = model.fit()\n",
    "print(model_fit.summary())\n",
    "\n",
    "# Pronóstico\n",
    "fc_series = model_fit.forecast(steps, alpha=0.05)  # 95% conf\n",
    "conf = model_fit.get_forecast(steps).conf_int(alpha=0.05)\n",
    "\n",
    "# pandas series\n",
    "lower_series = conf['lower value']  # pd.Series(conf[:, 0], index=test.index)\n",
    "upper_series = conf['upper value']  # pd.Series(conf[:, 1], index=test.index)\n",
    "\n",
    "# Plot\n",
    "plt.figure(figsize=(12, 5), dpi=100)\n",
    "plt.plot(train, label='training')\n",
    "plt.plot(test, label='actual')\n",
    "plt.plot(fc_series, label='forecast', color='red')\n",
    "plt.fill_between(lower_series.index, lower_series,\n",
    "                 upper_series,  color='k', alpha=.15)\n",
    "plt.title('Forecast vs Actuals')\n",
    "plt.legend(loc='upper left', fontsize=8)\n",
    "plt.show()"
   ]
  },
  {
   "cell_type": "markdown",
   "metadata": {},
   "source": [
    "- El AIC se ha reducido, lo cual es bueno.\n",
    "- Principalmente, los valores P de los términos X son inferiores a <0.05, lo cual es excelente.\n",
    "- En general, este modelo es mucho mejor."
   ]
  },
  {
   "cell_type": "markdown",
   "metadata": {},
   "source": [
    "### Validación cruzada fuera del tiempo"
   ]
  },
  {
   "cell_type": "code",
   "execution_count": null,
   "metadata": {},
   "outputs": [],
   "source": [
    "from sklearn.metrics import mean_squared_error\n",
    "\n",
    "data = df.value\n",
    "\n",
    "# Parámetros de la validación cruzada\n",
    "initial_train_size = int(len(data) * 0.8)  # 80% para entrenamiento inicial\n",
    "steps = 10  # Número de pasos a predecir en cada iteración\n",
    "n_backtests = int((len(data) - initial_train_size) / steps)\n",
    "\n",
    "# Listas para almacenar resultados\n",
    "predictions = []\n",
    "actuals = []\n",
    "\n",
    "# Validación cruzada fuera del tiempo\n",
    "for i in range(n_backtests):\n",
    "    # Dividir datos en entrenamiento y prueba\n",
    "    train_data = data[:initial_train_size + i * steps]\n",
    "    test_data = data[initial_train_size + i * steps: initial_train_size + (i + 1) * steps]\n",
    "\n",
    "    # Entrenar el modelo ARIMA\n",
    "    model = ARIMA(train_data, order=(1, 1, 1))\n",
    "    model_fit = model.fit()\n",
    "\n",
    "    # Hacer predicciones\n",
    "    forecast = model_fit.forecast(steps=steps)\n",
    "    predictions.extend(forecast)\n",
    "    actuals.extend(test_data)\n",
    "\n",
    "# Evaluar el rendimiento\n",
    "mse = mean_squared_error(actuals, predictions)\n",
    "print(f\"Error Cuadrático Medio (MSE): {mse:.2f}\")\n",
    "\n",
    "# Mostrar resultados\n",
    "results = pd.DataFrame({\"Actual\": actuals, \"Predicted\": predictions})\n",
    "\n",
    "results.head()"
   ]
  },
  {
   "cell_type": "markdown",
   "metadata": {},
   "source": [
    "# **11. Métricas de precisión para el pronóstico de series temporales** <a class=\"anchor\" id=\"11\"></a>\n",
    "\n",
    "\n",
    "[Table of Contents](#0.1)\n",
    "\n",
    "\n",
    "Las métricas de precisión comúnmente utilizadas para juzgar los pronósticos son:\n",
    "\n",
    "1. Mean Absolute Percentage Error (MAPE)\n",
    "2. Mean Error (ME)\n",
    "3. Mean Absolute Error (MAE)\n",
    "4. Mean Percentage Error (MPE)\n",
    "5. Root Mean Squared Error (RMSE)\n",
    "6. Lag 1 Autocorrelation of Error (ACF1)\n",
    "7. Correlation between the Actual and the Forecast (corr)\n",
    "8. Min-Max Error (minmax)\n",
    "\n",
    "\n",
    "Por lo general, usaremos tres métricas de precisión:\n",
    "\n",
    "1. MAPE\n",
    "2. Correlation \n",
    "3. Min-Max Error \n",
    "\n",
    "\n",
    "- Los tres anteriores son errores porcentuales que varían entre 0 y 1. \n",
    "- De esta manera, podemos juzgar cuán bueno es el pronóstico independientemente de la escala de la serie.\n"
   ]
  },
  {
   "cell_type": "code",
   "execution_count": null,
   "metadata": {
    "trusted": true
   },
   "outputs": [],
   "source": [
    "# Accuracy metrics\n",
    "def forecast_accuracy(forecast, actual):\n",
    "    mape = np.mean(np.abs(forecast - actual)/np.abs(actual))  # MAPE\n",
    "    me = np.mean(forecast - actual)             # ME\n",
    "    mae = np.mean(np.abs(forecast - actual))    # MAE\n",
    "    mpe = np.mean((forecast - actual)/actual)   # MPE\n",
    "    rmse = np.mean((forecast - actual)**2)**.5  # RMSE\n",
    "    corr = np.corrcoef(forecast, actual)[0,1]   # corr\n",
    "    mins = np.amin(np.hstack([forecast.to_numpy()[:,None], actual[:,None]]), axis=1)\n",
    "    maxs = np.amax(np.hstack([forecast.to_numpy()[:,None], actual[:,None]]), axis=1)\n",
    "    minmax = 1 - np.mean(mins/maxs)             # minmax\n",
    "    acf1 = acf(forecast-test)[1]                      # ACF1\n",
    "    return({'mape':mape, 'me':me, 'mae': mae, \n",
    "            'mpe': mpe, 'rmse':rmse, 'acf1':acf1, \n",
    "            'corr':corr, 'minmax':minmax})\n",
    "\n",
    "forecast_accuracy(fc_series, test.values)"
   ]
  },
  {
   "cell_type": "markdown",
   "metadata": {},
   "source": [
    "- Around 23.22% MAPE implies the model is about 76.78% accurate in predicting the next 15 observations. Now we know how to build an ARIMA model manually. \n",
    "\n",
    "- But, we should also know how to automate the best model selection process. So, we will discuss it next.\n",
    "\n"
   ]
  },
  {
   "cell_type": "markdown",
   "metadata": {},
   "source": [
    "- Alrededor del 23.22% MAPE implica que el modelo es aproximadamente 76.78% preciso para predecir las próximas 15 observaciones."
   ]
  },
  {
   "cell_type": "markdown",
   "metadata": {},
   "source": [
    "# **12. Pronóstico Auto Arima en Python** <a class=\"anchor\" id=\"12\"></a>\n",
    "\n",
    "\n",
    "[Tabla de contenidos](#0.1)\n",
    "\n",
    "\n",
    "- En Python, el paquete `pmDarima` proporciona la función `auto_arima()` que puede usarse para automatizar el proceso de pronóstico ARIMA en Python.\n",
    "    - https://alkaline-ml.com/pmdarima/\n",
    "\n",
    "- `auto_arima()` utiliza un enfoque gradual para buscar múltiples combinaciones de parámetros p, d, q y eliger el mejor modelo que tiene el menor AIC.\n",
    "\n",
    "- Primero necesitamos instalar el paquete `pmDarima`."
   ]
  },
  {
   "cell_type": "code",
   "execution_count": null,
   "metadata": {
    "trusted": true
   },
   "outputs": [],
   "source": [
    "# ! pip install \"numpy<2\"\n",
    "# ! pip install pmdarima"
   ]
  },
  {
   "cell_type": "code",
   "execution_count": null,
   "metadata": {},
   "outputs": [],
   "source": [
    "import pandas as pd\n",
    "import numpy as np\n",
    "\n",
    "print(f\"NumPy version: {np.__version__}\")\n",
    "print(f\"Pandas version: {pd.__version__}\")"
   ]
  },
  {
   "cell_type": "code",
   "execution_count": null,
   "metadata": {
    "trusted": true
   },
   "outputs": [],
   "source": [
    "import pmdarima as pm\n",
    "\n",
    "model = pm.auto_arima(y=df.value,\n",
    "                      start_p=1, start_q=1,\n",
    "                      test='adf',       # use adftest to find optimal 'd'\n",
    "                      max_p=3, max_q=3,  # maximum p and q\n",
    "                      m=1,              # frequency of series\n",
    "                      d=None,           # let model determine 'd'\n",
    "                      seasonal=False,   # No Seasonality\n",
    "                      start_P=0,\n",
    "                      D=0,\n",
    "                      trace=True,\n",
    "                      error_action='ignore',\n",
    "                      suppress_warnings=True,\n",
    "                      stepwise=True\n",
    "                      )\n",
    "\n",
    "print(model.summary())"
   ]
  },
  {
   "cell_type": "markdown",
   "metadata": {},
   "source": [
    "Parámetros relevantes:\n",
    "\n",
    "| **Parámetro**       | **Descripción**                                                                                   |\n",
    "|----------------------|---------------------------------------------------------------------------------------------------|\n",
    "| `y`                 | La serie temporal que deseas modelar.                                                            |\n",
    "| `start_p`, `max_p`  | Rango de valores para el orden del componente AR ($p$).                                           |\n",
    "| `start_q`, `max_q`  | Rango de valores para el orden del componente MA ($q$).                                           |\n",
    "| `d`                 | Orden de diferenciación. Si no se especifica, lo calcula automáticamente.                         |\n",
    "| `seasonal`          | Indica si se debe ajustar un modelo SARIMA ($P$, $D$, $Q$, $m$).                                 |\n",
    "| `m`                 | Período de estacionalidad (por ejemplo, 12 para datos mensuales con estacionalidad anual).        |\n",
    "| `start_P`, `max_P`  | Rango de valores para el orden del componente AR estacional ($P$).                                |\n",
    "| `start_Q`, `max_Q`  | Rango de valores para el orden del componente MA estacional ($Q$).                                |\n",
    "| `D`                 | Orden de diferenciación estacional. Si no se especifica, lo calcula automáticamente.              |\n",
    "| `information_criterion` | Criterio de selección del modelo: `'aic'` (default), `'bic'`, `'hqic'`, o `'oob'` (out-of-bag). |\n",
    "| `trace`             | Si es `True`, muestra información detallada sobre cada modelo evaluado.                          |\n",
    "| `stepwise`          | Si es `True`, usa un enfoque stepwise (más rápido) en lugar de probar todas las combinaciones.    |\n",
    "| `n_jobs`            | Número de núcleos de CPU para acelerar la búsqueda paralelizada.                                  |"
   ]
  },
  {
   "cell_type": "markdown",
   "metadata": {},
   "source": [
    "# **13. Cómo interpretar los gráficos residuales en el modelo ARIMA** <a class=\"anchor\" id=\"13\"></a>\n",
    "\n",
    "\n",
    "[Tabla de contenidos](#0.1)\n",
    "\n",
    "Revisemos los gráficos residuales usando `stepwise_fit`."
   ]
  },
  {
   "cell_type": "code",
   "execution_count": null,
   "metadata": {
    "trusted": true
   },
   "outputs": [],
   "source": [
    "model.plot_diagnostics(figsize=(10,8))\n",
    "plt.show()"
   ]
  },
  {
   "cell_type": "markdown",
   "metadata": {},
   "source": [
    "## **Interpretación de las trazas en gráficos de  diagnóstico**\n",
    "\n",
    "\n",
    "**Residual estandarizado**: Los errores residuales parecen fluctuar alrededor de una media de cero y tienen una varianza uniforme.\n",
    "\n",
    "\n",
    "**Histograma**: La gráfica de densidad sugiere una distribución normal con una pequeña inclinación media hacia la derecha.\n",
    "\n",
    "\n",
    "**Cuantiles teóricos**: Principalmente los puntos caen perfectamente en línea con la línea roja.Cualquier desviación significativa implicaría que la distribución esté sesgada.\n",
    "\n",
    "\n",
    "**Correlograma**: El correlograma, (o gráfico ACF) muestra que los errores residuales no están autocorrelacionados. La gráfica de ACF implicaría que hay algún patrón en los errores residuales que no se explican en el modelo. Por lo tanto, tendremos que buscar más X's (predictores) para el modelo.\n",
    "\n",
    "\n",
    "En general, el modelo parece tener un buen ajuste. Usémoslo para pronosticar."
   ]
  },
  {
   "cell_type": "code",
   "execution_count": null,
   "metadata": {
    "trusted": true
   },
   "outputs": [],
   "source": [
    "# Forecast\n",
    "n_periods = 24\n",
    "fc, confint = model.predict(n_periods=n_periods, return_conf_int=True) # forecast, confidence_intervals\n",
    "index_of_fc = np.arange(len(df.value), len(df.value)+n_periods)\n",
    "\n",
    "# make series for plotting purpose\n",
    "fc_series = pd.Series(fc, index=index_of_fc)\n",
    "lower_series = pd.Series(confint[:, 0], index=index_of_fc)\n",
    "upper_series = pd.Series(confint[:, 1], index=index_of_fc)\n",
    "\n",
    "# Plot\n",
    "plt.plot(df.value)\n",
    "plt.plot(fc_series, color='darkgreen')\n",
    "plt.fill_between(lower_series.index, \n",
    "                 lower_series, \n",
    "                 upper_series, \n",
    "                 color='k', alpha=.15)\n",
    "\n",
    "plt.title(\"Final Forecast of Usage\")\n",
    "plt.show()"
   ]
  },
  {
   "cell_type": "markdown",
   "metadata": {},
   "source": [
    "# **14. Modelo de SARIMA en Python** <a class=\"anchor\" id=\"14\"></a>\n",
    "\n",
    "\n",
    "[Tabla de contenidos](#0.1)\n",
    "\n",
    "\n",
    "- El modelo ARIMA simple tiene un problema. No soporta estacionalidad.\n",
    "\n",
    "\n",
    "- Si la serie de tiempo ha definido la estacionalidad, entonces debemos optar por **Seasonal ARIMA** (**SARIMA**) que utiliza la diferenciación estacional.\n",
    "\n",
    "\n",
    "- La diferenciación estacional es similar a la diferenciación regular, pero, en lugar de restar términos consecutivos, restamos el valor de la temporada anterior.\n",
    "\n",
    "\n",
    "- El modelo se representará como **Sarima (P, D, Q)x(P, D, Q)**, donde, P, D y Q son SAR, el orden de las diferencias estacionales y los términos SMA respectivamente y 'X' es la frecuencia de la serie de tiempo.Si el modelo tiene patrones estacionales bien definidos, entonces aplique d = 1 para una frecuencia \"x\" dada.\n",
    "\n",
    "\n",
    "- Debemos establecer los parámetros del modelo de modo que D nunca exceda uno. \n",
    "    - Y la diferencia total \"d + D\" nunca excede 2. \n",
    "    - Deberíamos tratar de mantener solo términos SAR o SMA si el modelo tiene componentes estacionales.\n",
    "\n",
    "\n",
    "- Ahora, construiremos un modelo Sarima en el conjunto de datos de la serie temporal."
   ]
  },
  {
   "cell_type": "code",
   "execution_count": null,
   "metadata": {
    "trusted": true
   },
   "outputs": [],
   "source": [
    "data = pd.read_csv('../../data/ARIMA/dataset.txt', parse_dates=['date'], index_col='date')"
   ]
  },
  {
   "cell_type": "code",
   "execution_count": null,
   "metadata": {
    "trusted": true
   },
   "outputs": [],
   "source": [
    "# Plot\n",
    "fig, axes = plt.subplots(2, 1, figsize=(16,5), dpi=100, sharex=True)\n",
    "\n",
    "# Usual Differencing\n",
    "axes[0].plot(data[:], label='Original Series')\n",
    "axes[0].plot(data[:].diff(1), label='Usual Differencing')\n",
    "axes[0].set_title('Usual Differencing')\n",
    "axes[0].legend(loc='upper left', fontsize=10)\n",
    "\n",
    "\n",
    "# Seasonal Differencing\n",
    "axes[1].plot(data[:], label='Original Series')\n",
    "axes[1].plot(data[:].diff(12), label='Seasonal Differencing', color='green')\n",
    "axes[1].set_title('Seasonal Differencing')\n",
    "plt.legend(loc='upper left', fontsize=10)\n",
    "plt.suptitle('Drug Sales - Time Series Dataset', fontsize=16)\n",
    "plt.show()"
   ]
  },
  {
   "cell_type": "markdown",
   "metadata": {},
   "source": [
    "- Podemos ver que los picos estacionales están intactos después de aplicar la diferencia habitual (retraso 1). Mientras que se rectifica después de la diferenciación estacional.\n",
    "\n",
    "- Ahora, construyamos el modelo Sarima usando pmdarima `auto_arima()`.\n",
    "- Para hacerlo, necesitamos establecer `seasonal=True`, la frecuencia `M = 12` para la serie mes a mes y forzar `D = 1`."
   ]
  },
  {
   "cell_type": "code",
   "execution_count": null,
   "metadata": {
    "trusted": true
   },
   "outputs": [],
   "source": [
    "import pmdarima as pm"
   ]
  },
  {
   "cell_type": "code",
   "execution_count": null,
   "metadata": {
    "trusted": true
   },
   "outputs": [],
   "source": [
    "# Seasonal - fit stepwise auto-ARIMA\n",
    "smodel = pm.auto_arima(data, start_p=1, start_q=1,\n",
    "                         test='adf',\n",
    "                         max_p=3, max_q=3, m=12,\n",
    "                         start_P=0, seasonal=True,\n",
    "                         d=None, D=1, trace=True,\n",
    "                         error_action='ignore',  \n",
    "                         suppress_warnings=True, \n",
    "                         stepwise=True)\n",
    "\n",
    "smodel.summary()"
   ]
  },
  {
   "cell_type": "markdown",
   "metadata": {},
   "source": [
    "El modelo ha estimado que los valores de AIC y P de los coeficientes parecen significativos.\n",
    "\n",
    "Veamos el gráfico de diagnóstico residual.\n",
    "\n",
    "- El mejor modelo SARIMAX(3, 0, 0)x(0, 1, 1, 12) tiene una AIC de 528.6 y los valores de P son significativos.\n",
    "\n",
    "Vamos a pronosticar para los próximos 24 meses."
   ]
  },
  {
   "cell_type": "code",
   "execution_count": null,
   "metadata": {
    "trusted": true
   },
   "outputs": [],
   "source": [
    "# Forecast\n",
    "n_periods = 24\n",
    "fitted, confint = smodel.predict(n_periods=n_periods, return_conf_int=True)\n",
    "index_of_fc = pd.date_range(data.index[-1], periods = n_periods, freq='MS')\n",
    "\n",
    "# make series for plotting purpose\n",
    "fitted_series = pd.Series(fitted, index=index_of_fc)\n",
    "lower_series = pd.Series(confint[:, 0], index=index_of_fc)\n",
    "upper_series = pd.Series(confint[:, 1], index=index_of_fc)\n",
    "\n",
    "# Plot\n",
    "plt.plot(data)\n",
    "plt.plot(fitted_series, color='red')\n",
    "plt.fill_between(lower_series.index, \n",
    "                 lower_series, \n",
    "                 upper_series, \n",
    "                 color='k', alpha=.15)\n",
    "\n",
    "plt.title(\"SARIMA - Final Forecast of Drug Sales - Time Series Dataset\")\n",
    "plt.show()"
   ]
  },
  {
   "cell_type": "markdown",
   "metadata": {},
   "source": [
    "Aquí tenemos un buen pronóstico que captura el patrón de demanda estacional esperado!"
   ]
  },
  {
   "cell_type": "markdown",
   "metadata": {},
   "source": [
    "# **15. Modelo SARIMAX con variables exogéneas** <a class=\"anchor\" id=\"15\"></a>\n",
    "\n",
    "\n",
    "[Tabla de contenidos](#0.1)\n",
    "\n",
    "\n",
    "- Ahora, forzaremos un predictor externo, también llamado *variable exógena* en el modelo.\n",
    "    - El único requisito para usar una variable exógena es que también debemos conocer el valor de la variable durante el período de predicción.\n",
    "\n",
    "- Queremos ver cómo se ve el modelo si forzamos el patrón de estacionalidad en el entrenamiento y el pronóstico.\n",
    "    - El índice estacional es una buena variable exógena porque repite cada ciclo de frecuencia, 12 meses en este caso.\n",
    "    - Siempre sabremos qué valores tendrá el índice estacional para los pronósticos futuros.\n",
    "    - Calculemos el índice estacional para que pueda ser forzado como un predictor (exógeno) al modelo Sarimax."
   ]
  },
  {
   "cell_type": "code",
   "execution_count": null,
   "metadata": {
    "trusted": true
   },
   "outputs": [],
   "source": [
    "# Calcular índice estacional\n",
    "from statsmodels.tsa.seasonal import seasonal_decompose\n",
    "from dateutil.parser import parse\n",
    "\n",
    "# componente estacional multiplicativo\n",
    "result_mul = seasonal_decompose(data['value'][-36:],   # 3 years\n",
    "                                model='multiplicative', \n",
    "                                extrapolate_trend='freq')\n",
    "\n",
    "seasonal_index = result_mul.seasonal[-12:].to_frame()\n",
    "seasonal_index['month'] = pd.to_datetime(seasonal_index.index).month\n",
    "\n",
    "# merge con los datos base\n",
    "data['month'] = data.index.month\n",
    "df = pd.merge(data, seasonal_index, how='left', on='month')\n",
    "df.columns = ['value', 'month', 'seasonal_index']\n",
    "df.index = data.index  # reassign the index\n",
    "print(tabulate(df, headers='keys', tablefmt='psql'))"
   ]
  },
  {
   "cell_type": "markdown",
   "metadata": {},
   "source": [
    "La variable exógena (índice estacional) está lista. Construyamos el modelo Sarimax."
   ]
  },
  {
   "cell_type": "code",
   "execution_count": null,
   "metadata": {
    "trusted": true
   },
   "outputs": [],
   "source": [
    "import pmdarima as pm\n",
    "\n",
    "# SARIMAX Model\n",
    "sxmodel = pm.auto_arima(df[['value']], exogenous=df[['seasonal_index']],\n",
    "                           start_p=1, start_q=1,\n",
    "                           test='adf',\n",
    "                           max_p=3, max_q=3, m=12,\n",
    "                           start_P=0, seasonal=True,\n",
    "                           d=None, D=1, trace=True,\n",
    "                           error_action='ignore',  \n",
    "                           suppress_warnings=True, \n",
    "                           stepwise=True)\n",
    "\n",
    "sxmodel.summary()"
   ]
  },
  {
   "cell_type": "code",
   "execution_count": null,
   "metadata": {},
   "outputs": [],
   "source": [
    "# Forecast\n",
    "n_periods = 24\n",
    "fitted, confint = sxmodel.predict(n_periods=n_periods, return_conf_int=True)\n",
    "index_of_fc = pd.date_range(data.index[-1], periods = n_periods, freq='MS')\n",
    "\n",
    "# make series for plotting purpose\n",
    "fitted_series = pd.Series(fitted, index=index_of_fc)\n",
    "lower_series = pd.Series(confint[:, 0], index=index_of_fc)\n",
    "upper_series = pd.Series(confint[:, 1], index=index_of_fc)\n",
    "\n",
    "# Plot\n",
    "plt.plot(data['value'])\n",
    "plt.plot(fitted_series, color='red')\n",
    "plt.fill_between(lower_series.index, \n",
    "                 lower_series, \n",
    "                 upper_series, \n",
    "                 color='k', alpha=.15)\n",
    "\n",
    "plt.title(\"SARIMAX - Final Forecast of Drug Sales - Time Series Dataset\")\n",
    "plt.show()"
   ]
  },
  {
   "cell_type": "markdown",
   "metadata": {},
   "source": [
    "# **16. Referencias** <a class=\"anchor\" id=\"16\"></a>\n",
    "\n",
    "\n",
    "[Tabla de contenidos](#0.1)\n",
    "\n",
    "\n",
    "Las ideas y códigos en este notebook se han tomado de los siguientes sitios web.\n",
    "\n",
    "\n",
    "1. https://www.machinelearningplus.com/time-series/arima-model-time-series-forecasting-python/\n",
    "\n",
    "2. https://www.geeksforgeeks.org/python-arima-model-for-time-series-forecasting/\n"
   ]
  },
  {
   "cell_type": "markdown",
   "metadata": {},
   "source": [
    "## Ejercicio:\n",
    "1. Entrenar un modelo ARIMA para predecir predecir el consumo de combustible a 12 meses vista y evaluar su rendimiento usando validación cruzada fuera del tiempo.\n",
    "\n",
    "- Usa el dataset 'fuel_consumption' de skforecast.\n",
    "- Usa frecuancia mensual.\n",
    "\n",
    "2. Vuelve a hacer el mismos entrenamiento usando 'Querosenos' como variable exógena\n",
    "\n",
    "ref. https://github.com/skforecast/skforecast-datasets"
   ]
  },
  {
   "cell_type": "markdown",
   "metadata": {},
   "source": [
    "[Ir al inicio](#0)"
   ]
  }
 ],
 "metadata": {
  "kernelspec": {
   "display_name": "Python 3",
   "language": "python",
   "name": "python3"
  },
  "language_info": {
   "codemirror_mode": {
    "name": "ipython",
    "version": 3
   },
   "file_extension": ".py",
   "mimetype": "text/x-python",
   "name": "python",
   "nbconvert_exporter": "python",
   "pygments_lexer": "ipython3",
   "version": "3.12.4"
  }
 },
 "nbformat": 4,
 "nbformat_minor": 4
}
