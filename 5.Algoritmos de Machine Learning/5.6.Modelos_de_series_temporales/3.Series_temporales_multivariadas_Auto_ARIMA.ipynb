{
 "cells": [
  {
   "cell_type": "markdown",
   "metadata": {},
   "source": [
    "# **Series temporales multivariadas con Auto ARIMA**"
   ]
  },
  {
   "cell_type": "code",
   "execution_count": null,
   "metadata": {},
   "outputs": [],
   "source": [
    "from tabulate import tabulate\n",
    "\n",
    "def tabl_prt(to_primt):\n",
    "    print(tabulate(to_primt, headers='keys'),'\\n')"
   ]
  },
  {
   "cell_type": "markdown",
   "metadata": {},
   "source": [
    "## **Carga y análisis de datos**"
   ]
  },
  {
   "cell_type": "code",
   "execution_count": null,
   "metadata": {},
   "outputs": [],
   "source": [
    "import pandas as pd\n",
    "\n",
    "df = pd.read_csv('../../data/ARIMA/energy_consumption.csv')\n",
    "\n",
    "tabl_prt(df.describe(include='all'))\n",
    "\n",
    "tabl_prt(df.head())\n",
    "tabl_prt(df.tail())"
   ]
  },
  {
   "cell_type": "markdown",
   "metadata": {},
   "source": [
    "- **timeStamp**: Marca de tiempo para cada registro (formato: YYYY-MM-DD HH:MM:SS).\n",
    "- **demand**: Consumo horario de energía en kWh. Este valor fluctúa según patrones diarios y estacionales.\n",
    "- **precip**: Precipitación en mm. Este valor está correlacionado negativamente con la demanda (mayor precipitación puede reducir el consumo de energía).\n",
    "- **temp**: Temperatura en grados Celsius. Este valor está correlacionado positivamente o negativamente dependiendo de si hace calor (mayor uso de aire acondicionado) o frío (mayor uso de calefacción)."
   ]
  },
  {
   "cell_type": "code",
   "execution_count": null,
   "metadata": {},
   "outputs": [],
   "source": [
    "# Convertir la columna de marca de tiempo\n",
    "\n",
    "df['timeStamp']=pd.to_datetime(df['timeStamp'])"
   ]
  },
  {
   "cell_type": "code",
   "execution_count": null,
   "metadata": {},
   "outputs": [],
   "source": [
    "# Trazar la columna de demanda\n",
    "import plotly.express as px\n",
    "\n",
    "fig = px.line(df, x='timeStamp', y='demand', title='Energy Consumption')\n",
    "\n",
    "fig.update_xaxes(\n",
    "    rangeslider_visible=True,\n",
    "    rangeselector=dict(\n",
    "        buttons=list([\n",
    "            dict(step=\"all\")\n",
    "        ])\n",
    "    )\n",
    ")\n",
    "fig.show()"
   ]
  },
  {
   "cell_type": "markdown",
   "metadata": {},
   "source": [
    "De la salida anterior, el conjunto de datos tiene estacionalidad (ciclos repetitivos).\n",
    "\n",
    "- Dado que el conjunto de datos tiene estacionalidad, podemos decir que no es estacionario.\n",
    "\n",
    "Pero aún así, debemos realizar una verificación estadística utilizando la prueba de Dickey-Fuller (ADF) aumentada para evaluar la estacionariedad en nuestro conjunto de datos.\n",
    "\n",
    "- Si encontramos que el conjunto de datos no es estacionario después de la prueba de ADF, tendremos que realizar diferencias para hacerlo estacionarios.\n",
    "\n",
    "- Auto Arima realiza la diferencia automáticamente.\n",
    "\n",
    "> El siguiente paso es establecer la marca de tiempo como la columna de índice.\n",
    "\n"
   ]
  },
  {
   "cell_type": "code",
   "execution_count": null,
   "metadata": {},
   "outputs": [],
   "source": [
    "el_df=df.set_index('timeStamp')"
   ]
  },
  {
   "cell_type": "markdown",
   "metadata": {},
   "source": [
    "### Graficando subtramas\n",
    "Las subtramas mostrarán las variables dependientes del tiempo en el conjunto de datos.\n",
    "\n",
    "Visualizaremos las columnas de demand, precip y temp."
   ]
  },
  {
   "cell_type": "code",
   "execution_count": null,
   "metadata": {},
   "outputs": [],
   "source": [
    "el_df.plot(subplots=True)\n"
   ]
  },
  {
   "cell_type": "markdown",
   "metadata": {},
   "source": [
    "### Verificar valores faltantes o nulos"
   ]
  },
  {
   "cell_type": "code",
   "execution_count": null,
   "metadata": {},
   "outputs": [],
   "source": [
    "print (\"\\nMissing values :  \", df.isnull().any())"
   ]
  },
  {
   "cell_type": "markdown",
   "metadata": {},
   "source": [
    "Imputar valores nulos"
   ]
  },
  {
   "cell_type": "code",
   "execution_count": null,
   "metadata": {},
   "outputs": [],
   "source": [
    "df['demand']=df['demand'].ffill()\n",
    "\n",
    "df['temp']=df['temp'].ffill()\n",
    "\n",
    "df['temp']=df['precip'].ffill()"
   ]
  },
  {
   "cell_type": "code",
   "execution_count": null,
   "metadata": {},
   "outputs": [],
   "source": [
    "print (\"\\nMissing values :  \", df.isnull().any())"
   ]
  },
  {
   "cell_type": "markdown",
   "metadata": {},
   "source": [
    "### Dataset resampling\n",
    "La serie temporal tiene muchos puntos que pueden ser difíciles de analizar y visualizar.\n",
    "- Necesitamos volver a muestrear el tiempo comprimiéndolo y agregándolo a intervalos mensuales.\n",
    "- Tendremos menos puntos de datos que sean más fáciles de analizar.\n",
    "\n",
    "El método `resample()` agregará todos los puntos de datos en las series de tiempo y los cambiará a intervalos mensuales."
   ]
  },
  {
   "cell_type": "code",
   "execution_count": null,
   "metadata": {},
   "outputs": [],
   "source": [
    "el_df.resample('ME').mean()"
   ]
  },
  {
   "cell_type": "markdown",
   "metadata": {},
   "source": [
    "### Graficando los nuevos subplots"
   ]
  },
  {
   "cell_type": "code",
   "execution_count": null,
   "metadata": {},
   "outputs": [],
   "source": [
    "el_df.resample('ME').mean().plot(subplots=True)"
   ]
  },
  {
   "cell_type": "code",
   "execution_count": null,
   "metadata": {},
   "outputs": [],
   "source": [
    "# Guardar el conjunto de datos resmuestrado\n",
    "\n",
    "final_df=el_df.resample('ME').mean()"
   ]
  },
  {
   "cell_type": "markdown",
   "metadata": {},
   "source": [
    "## **Implementación del modelo Auto ARIMA**\n",
    "\n",
    "Implementamos el modelo Auto ARIMA utilizando la librería **pmdarima Time-Series**. \n",
    "\n",
    "Proporciona la función `auto_arima()` que genera automáticamente los valores de parámetros óptimos."
   ]
  },
  {
   "cell_type": "markdown",
   "metadata": {},
   "source": [
    "En la función `auto_arima ()` pasamos el `final_df`, que es nuestro conjunto de datos remuestreado. \n",
    "\n",
    "- Seleccionamos la columna de demanda ya que esto es lo que el modelo quiere predecir.\n",
    "- La función puede usar búsqueda de cuadrícula o búsqueda aleatoria para encontrar los valores de parámetros óptimos.\n",
    "- Intenta múltiples combinaciones de P, D y Q y luego selecciona las óptimas.\n",
    "\n",
    "La función `auto_arima ()` también tiene los siguientes parámetros:\n",
    "- `m=12`: Representa el número de meses en un año.\n",
    "\n",
    "- `start_p=0`: Representa el valor p mínimo que la función puede seleccionar durante la búsqueda aleatoria.\n",
    "\n",
    "- `start_q=0`: Representa el valor q mínimo que la función puede seleccionar durante la búsqueda aleatoria.\n",
    "\n",
    "- `max_order=4`: representaLosValoresMáximosDeP,DYQQueElModeloPuedeSeleccionarDuranteLaBúsquedaAleatoria\n",
    "\n",
    "- `test='adf'`: Es una prueba de Dickey-Fuller Aumentada (ADF) para verificar la estacionariedad en nuestro conjunto de datos. \n",
    "    - Si el conjunto de datos no es estacionario después de la prueba ADF, la función `auto_arima()` generará automáticamente el valor **d** para la diferenciación.\n",
    "    - Si el conjunto de datos es estacionario, establece **d = 0** (no es necesario diferenciar).\n",
    "\n",
    "- `suppress_warnings=True`: Ignora las advertencias durante la búsqueda de parámetros.\n",
    "\n",
    "- `stepwise=True`: Ejecutará la búsqueda aleatoria para encontrar los parámetros óptimos. La búsqueda en la cuadrícula es más exhaustiva ya que intenta todas las combinaciones de parámetros, pero es lenta."
   ]
  },
  {
   "cell_type": "code",
   "execution_count": null,
   "metadata": {},
   "outputs": [],
   "source": [
    "import pmdarima as pm\n",
    "\n",
    "model = pm.auto_arima(final_df['demand'],\n",
    "                      m=12, seasonal=True,\n",
    "                      start_p=0, start_q=0, max_order=4, test='adf', error_action='ignore',\n",
    "                      suppress_warnings=True,\n",
    "                      stepwise=True, trace=True)"
   ]
  },
  {
   "cell_type": "markdown",
   "metadata": {},
   "source": [
    "De la salida anterior, el mejor modelo es ARIMA (1,0,1) (p = 1, d = 0 y q = 1). La función establece automáticamente d = 0 porque la prueba ADF encontró que el conjunto de datos es estacionario.\n",
    "- Anteriormente habíamos observado los gráficos del conjunto de datos de la serie temporal para tener estacionalidad.\n",
    "- Por lo tanto, pensamos que la serie temporal no era estacionaria, de ahí una necesidad de diferenciar.\n",
    "\n",
    "Pero el uso de la prueba ADF, que es una prueba estadística, descubrió que la estacionalidad es insignificante. \n",
    "- La prueba ADF es más precisa que observar/visualizar las parcelas. \n",
    "- Es por eso que la función establece d = 0, y no hay necesidad de diferenciar.\n",
    "\n",
    "Después de inicializar la función `auto_arima ()`, el siguiente paso es dividir el conjunto de datos de la serie temporal."
   ]
  },
  {
   "cell_type": "markdown",
   "metadata": {},
   "source": [
    "## **Ajustar el modelo**"
   ]
  },
  {
   "cell_type": "code",
   "execution_count": null,
   "metadata": {},
   "outputs": [],
   "source": [
    "train = final_df[(final_df.index.get_level_values(0) >= '2012-01-31')\n",
    "                 & (final_df.index.get_level_values(0) <= '2014-04-30')]\n",
    "\n",
    "train.tail()"
   ]
  },
  {
   "cell_type": "markdown",
   "metadata": {},
   "source": [
    "El código selecciona los puntos de datos del 2012-01-31 a 2014-04-30 para el entrenamiento modelo. \n",
    "\n",
    "Obtenemos los puntos de datos para la prueba del modelo utilizando el siguiente código:"
   ]
  },
  {
   "cell_type": "code",
   "execution_count": null,
   "metadata": {},
   "outputs": [],
   "source": [
    "test = final_df[(final_df.index.get_level_values(0) > '2014-04-30')]\n",
    "\n",
    "test"
   ]
  },
  {
   "cell_type": "markdown",
   "metadata": {},
   "source": [
    "### Ajustar el modelo\n"
   ]
  },
  {
   "cell_type": "code",
   "execution_count": null,
   "metadata": {},
   "outputs": [],
   "source": [
    "model.fit(train['demand'])"
   ]
  },
  {
   "cell_type": "markdown",
   "metadata": {},
   "source": [
    "### Usar el modelo para hacer predicciones\n"
   ]
  },
  {
   "cell_type": "code",
   "execution_count": null,
   "metadata": {},
   "outputs": [],
   "source": [
    "forecast = model.predict(n_periods=8, return_conf_int=True)"
   ]
  },
  {
   "cell_type": "markdown",
   "metadata": {},
   "source": [
    "`n_periods=8`: Representa el número de puntos de datos en el marco de datos de prueba que predecirá el modelo."
   ]
  },
  {
   "cell_type": "code",
   "execution_count": null,
   "metadata": {},
   "outputs": [],
   "source": [
    "# Predicciones\n",
    "forecast_df = pd.DataFrame(forecast[0], index=test.index, columns=['Prediction'])\n",
    "\n",
    "forecast_df"
   ]
  },
  {
   "cell_type": "code",
   "execution_count": null,
   "metadata": {},
   "outputs": [],
   "source": [
    "# Graficando\n",
    "\n",
    "import matplotlib.pyplot as plt\n",
    "pd.concat([final_df['demand'],forecast_df],axis=1).plot()\n"
   ]
  },
  {
   "cell_type": "markdown",
   "metadata": {},
   "source": [
    "From the line chart above:\n",
    "\n",
    "- The blue line is the actual energy demand.\n",
    "- The orange line is the predicted energy demand.\n",
    "- The Auto ARIMA model has performed well and has made accurate predictions. The blue and orange lines are close to each other.\n",
    "\n",
    "We can now use this model to predict unseen future values."
   ]
  },
  {
   "cell_type": "markdown",
   "metadata": {},
   "source": [
    "Del gráfico anterior:\n",
    "\n",
    "- La línea azul es la demanda de energía real.\n",
    "- La línea naranja es la demanda de energía predicha.\n",
    "- El modelo Auto ARIMA se ha desempeñado bien y ha hecho predicciones precisas: Las líneas azules y naranjas están cerca unas de la otra.\n",
    "\n",
    "Ahora podemos usar este modelo para predecir valores futuros invisibles."
   ]
  },
  {
   "cell_type": "code",
   "execution_count": null,
   "metadata": {},
   "outputs": [],
   "source": [
    "forecast1=model.predict(n_periods=8, return_conf_int=True)\n",
    "forecast_range=pd.date_range(start='2014-05-31', periods=8,freq='ME')"
   ]
  },
  {
   "cell_type": "markdown",
   "metadata": {},
   "source": [
    "`n_periods=8`: Representa el número de puntos de datos que el modelo predecirá en el futuro. Las fechas futuras son de 2014-05-31. "
   ]
  },
  {
   "cell_type": "code",
   "execution_count": null,
   "metadata": {},
   "outputs": [],
   "source": [
    "forecast1_df = pd.DataFrame(forecast1[0], index=forecast_range, columns=['Prediction'])\n",
    "\n",
    "forecast1_df"
   ]
  },
  {
   "cell_type": "code",
   "execution_count": null,
   "metadata": {},
   "outputs": [],
   "source": [
    "# Graficando las predicciones\n",
    "pd.concat([final_df['demand'],forecast1_df],axis=1).plot()\n"
   ]
  }
 ],
 "metadata": {
  "kernelspec": {
   "display_name": "Python 3",
   "language": "python",
   "name": "python3"
  },
  "language_info": {
   "codemirror_mode": {
    "name": "ipython",
    "version": 3
   },
   "file_extension": ".py",
   "mimetype": "text/x-python",
   "name": "python",
   "nbconvert_exporter": "python",
   "pygments_lexer": "ipython3",
   "version": "3.12.4"
  }
 },
 "nbformat": 4,
 "nbformat_minor": 2
}
