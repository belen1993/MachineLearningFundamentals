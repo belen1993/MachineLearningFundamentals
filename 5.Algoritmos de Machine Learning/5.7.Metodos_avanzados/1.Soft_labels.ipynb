{
 "cells": [
  {
   "cell_type": "markdown",
   "metadata": {},
   "source": [
    "# **Soft Labels**"
   ]
  },
  {
   "cell_type": "markdown",
   "metadata": {},
   "source": [
    "### ¿Qué son los Soft Labels?\n",
    "Los **soft labels** (etiquetas suaves) son probabilidades asociadas a cada clase frente a etiquetas duras (hard labels). \n",
    "- En lugar de asignar una clase específica (por ejemplo, `0` o `1`), las soft labels representan la probabilidad de pertenencia de una muestra a cada clase.\n",
    "\n",
    "Por ejemplo:\n",
    "- Hard label: `[0]` (la muestra pertenece a la clase 0).\n",
    "- Soft label: `[0.8, 0.2]` (la muestra tiene un 80% de probabilidad de pertenecer a la clase 0 y un 20% de pertenecer a la clase 1).\n",
    "\n",
    "### ¿Por qué usar Soft Labels?\n",
    "1. **Incorporación de incertidumbre**: Las soft labels permiten modelar la incertidumbre en las etiquetas.\n",
    "2. **Mejora en el entrenamiento**: Algunos modelos pueden beneficiarse de soft labels para aprender patrones más robustos.\n",
    "3. **Transferencia de conocimiento**: En aprendizaje por transferencia, las soft labels generadas por un modelo maestro pueden usarse para entrenar un modelo estudiante (técnica conocida como *knowledge distillation*)."
   ]
  },
  {
   "cell_type": "markdown",
   "metadata": {},
   "source": [
    "## 2. Ejemplo Práctico con Scikit-Learn\n",
    "\n",
    "En este ejemplo, generaremos datos sintéticos y usaremos soft labels para entrenar un modelo de regresión logística."
   ]
  },
  {
   "cell_type": "code",
   "execution_count": 1,
   "metadata": {},
   "outputs": [],
   "source": [
    "import numpy as np\n",
    "import pandas as pd\n",
    "import matplotlib.pyplot as plt\n",
    "from sklearn.linear_model import LogisticRegression, LinearRegression\n",
    "from sklearn.tree import DecisionTreeClassifier\n",
    "from sklearn.model_selection import train_test_split\n",
    "from sklearn.metrics import accuracy_score, log_loss, mean_absolute_error\n",
    "from sklearn.preprocessing import LabelEncoder, StandardScaler"
   ]
  },
  {
   "cell_type": "code",
   "execution_count": 2,
   "metadata": {},
   "outputs": [],
   "source": [
    "df = pd.read_csv('../../data/titanic/train.csv')\n",
    "df.columns\n",
    "\n",
    "df.dropna(inplace=True)"
   ]
  },
  {
   "cell_type": "code",
   "execution_count": 4,
   "metadata": {},
   "outputs": [
    {
     "data": {
      "text/plain": [
       "(        Sex   Age  SibSp\n",
       " 1    female  38.0      1\n",
       " 3    female  35.0      1\n",
       " 6      male  54.0      0\n",
       " 10   female   4.0      1\n",
       " 11   female  58.0      0\n",
       " ..      ...   ...    ...\n",
       " 871  female  47.0      1\n",
       " 872    male  33.0      0\n",
       " 879  female  56.0      0\n",
       " 887  female  19.0      0\n",
       " 889    male  26.0      0\n",
       " \n",
       " [183 rows x 3 columns],\n",
       " 1      1\n",
       " 3      1\n",
       " 6      0\n",
       " 10     1\n",
       " 11     1\n",
       "       ..\n",
       " 871    1\n",
       " 872    0\n",
       " 879    1\n",
       " 887    1\n",
       " 889    1\n",
       " Name: Survived, Length: 183, dtype: int64)"
      ]
     },
     "execution_count": 4,
     "metadata": {},
     "output_type": "execute_result"
    }
   ],
   "source": [
    "X = df.drop(['PassengerId', 'Survived', 'Pclass', 'Name',\n",
    "            'Parch', 'Ticket', 'Fare', 'Cabin', 'Embarked'], axis=1)\n",
    "\n",
    "y = df['Survived']\n",
    "X, y"
   ]
  },
  {
   "cell_type": "code",
   "execution_count": 5,
   "metadata": {},
   "outputs": [
    {
     "name": "stdout",
     "output_type": "stream",
     "text": [
      "X: [[-1.03901177  0.14906507  0.83362754]\n",
      " [-1.03901177 -0.0432295   0.83362754]\n",
      " [ 0.96245301  1.17463611 -0.7230443 ]\n",
      " [-1.03901177 -2.03027338  0.83362754]\n",
      " [-1.03901177  1.43102886 -0.7230443 ]]\n"
     ]
    }
   ],
   "source": [
    "lenc = LabelEncoder()\n",
    "stadscl = StandardScaler()\n",
    "\n",
    "X['Sex'] = lenc.fit_transform(X['Sex'])\n",
    "X = stadscl.fit_transform(X)\n",
    "\n",
    "print('X:', X[:5])"
   ]
  },
  {
   "cell_type": "code",
   "execution_count": 6,
   "metadata": {},
   "outputs": [],
   "source": [
    "# Dividir en entrenamiento y prueba\n",
    "X_train, X_test, y_train, y_test = train_test_split(X, y, test_size=0.2, random_state=42)"
   ]
  },
  {
   "cell_type": "markdown",
   "metadata": {},
   "source": [
    "## Clasificador clásico"
   ]
  },
  {
   "cell_type": "code",
   "execution_count": 7,
   "metadata": {},
   "outputs": [
    {
     "name": "stdout",
     "output_type": "stream",
     "text": [
      "Accuracy: 0.7838\n"
     ]
    }
   ],
   "source": [
    "class_model = LogisticRegression(random_state=42)\n",
    "class_model.fit(X_train, y_train)\n",
    "\n",
    "# Generar soft labels usando predict_proba: devuelve la estimación de probabilidad\n",
    "y_pred = class_model.predict(X_test)\n",
    "\n",
    "# Evaluar el rendimiento\n",
    "accuracy = accuracy_score(y_test, y_pred)\n",
    "\n",
    "print(f\"Accuracy: {accuracy:.4f}\")"
   ]
  },
  {
   "cell_type": "markdown",
   "metadata": {},
   "source": [
    "### Crear Soft Labels\n",
    "Generamos soft labels simulando probabilidades para cada clase. Usaremos un modelo maestro (en este caso, también una regresión logística) para generar estas probabilidades.\n"
   ]
  },
  {
   "cell_type": "code",
   "execution_count": 8,
   "metadata": {},
   "outputs": [
    {
     "name": "stdout",
     "output_type": "stream",
     "text": [
      "Soft Labels (primeras 5 filas):\n",
      "[[0.58117418 0.41882582]\n",
      " [0.49739343 0.50260657]\n",
      " [0.38214946 0.61785054]\n",
      " [0.4892546  0.5107454 ]\n",
      " [0.53349765 0.46650235]]\n"
     ]
    }
   ],
   "source": [
    "# Entrenar un modelo maestro para generar soft labels\n",
    "master_model = LogisticRegression(random_state=42)\n",
    "master_model.fit(X_train, y_train)\n",
    "\n",
    "# Generar soft labels usando predict_proba: devuelve la estimación de probabilidad\n",
    "soft_labels_train = master_model.predict_proba(X_train)\n",
    "\n",
    "# Mostrar las primeras 5 soft labels\n",
    "print(\"Soft Labels (primeras 5 filas):\")\n",
    "print(soft_labels_train[:5])"
   ]
  },
  {
   "cell_type": "markdown",
   "metadata": {},
   "source": [
    "### Entrenar un Modelo Estudiante con Soft Labels\n",
    "Usamos las soft labels generadas para entrenar un modelo lineal"
   ]
  },
  {
   "cell_type": "code",
   "execution_count": 10,
   "metadata": {},
   "outputs": [
    {
     "name": "stdout",
     "output_type": "stream",
     "text": [
      "[0.49545973 0.94875295 0.98016091 0.42547598 0.4314402  0.3553006\n",
      " 0.49545973 0.90541655 0.91893186 0.40301434 0.39406802 0.88314655\n",
      " 0.43283544 0.91893186 0.41951176 0.49844184 0.97857404 0.44774598\n",
      " 0.47160286 0.98453826 0.89945233 0.90839866 0.44178176 0.57915042\n",
      " 0.37319325 1.03085677 0.93523764 0.42687122 0.94716608 0.89209287\n",
      " 0.95611241 0.5718379  0.45967442 0.95611241 0.4537102  0.87857757\n",
      " 0.97996928]\n",
      "Accuracy: 0.8108\n"
     ]
    }
   ],
   "source": [
    "# Entrenar un modelo con soft labels\n",
    "reg_model = LinearRegression()\n",
    "# Usamos la probabilidad de la clase 1\n",
    "reg_model.fit(X_train, soft_labels_train[:, 1])\n",
    "\n",
    "# Predecir en el conjunto de prueba\n",
    "y_pred = reg_model.predict(X_test)\n",
    "print(y_pred)\n",
    "y_pred_proba = (y_pred > 0.5).astype(int)\n",
    "\n",
    "# Evaluar el rendimiento\n",
    "accuracy = accuracy_score(y_test, y_pred_proba)\n",
    "\n",
    "print(f\"Accuracy: {accuracy:.4f}\")"
   ]
  },
  {
   "cell_type": "markdown",
   "metadata": {},
   "source": [
    "## 3. Resultados y Conclusión\n",
    "\n",
    "### Resultados\n",
    "- El modelo estudiante se entrena con soft labels generadas por el modelo maestro.\n",
    "- Las soft labels permiten al modelo estudiante aprender patrones más suaves y generalizables."
   ]
  },
  {
   "cell_type": "markdown",
   "metadata": {},
   "source": [
    "### Conclusión\n",
    "- Los soft labels son útiles para incorporar incertidumbre en el proceso de entrenamiento.\n",
    "- Técnicas como *knowledge distillation* utilizan soft labels para transferir conocimiento de un modelo grande a uno más pequeño."
   ]
  },
  {
   "cell_type": "markdown",
   "metadata": {},
   "source": [
    "## Ejercicio:\n",
    "1. Entrenar un modelo de forecasting para predecir predecir si el consumo de combustible subirá o bajar a 12 meses vista usando sof labels.\n",
    "\n",
    "- Usa el dataset 'fuel_consumption'.\n",
    "- Usa frecuancia mensual.\n",
    "\n",
    "ref. https://github.com/skforecast/skforecast-datasets"
   ]
  },
  {
   "cell_type": "code",
   "execution_count": null,
   "metadata": {},
   "outputs": [],
   "source": [
    "import pandas as pd\n",
    "from skforecast.datasets import fetch_dataset\n",
    "from tabulate import tabulate\n",
    "\n",
    "# Cargar el dataset fuel_consumption\n",
    "data = fetch_dataset(\"fuel_consumption\")\n",
    "\n",
    "# Crear la variable objetivo: 1 si el consumo sube, 0 si baja\n",
    "data['target'] = (data['GLPs'].diff() > 0).astype(int)\n",
    "\n",
    "# Eliminar valores faltantes generados por la diferenciación\n",
    "data = data.dropna()\n",
    "\n",
    "# Mostrar los primeros registros\n",
    "print(tabulate(data.head(10),   headers='keys', tablefmt='psql'))"
   ]
  }
 ],
 "metadata": {
  "kernelspec": {
   "display_name": "Python 3.8 - AzureML",
   "language": "python",
   "name": "python38-azureml"
  },
  "language_info": {
   "codemirror_mode": {
    "name": "ipython",
    "version": 3
   },
   "file_extension": ".py",
   "mimetype": "text/x-python",
   "name": "python",
   "nbconvert_exporter": "python",
   "pygments_lexer": "ipython3",
   "version": "3.10.11"
  }
 },
 "nbformat": 4,
 "nbformat_minor": 2
}
