{
 "cells": [
  {
   "cell_type": "markdown",
   "id": "ac19ace9",
   "metadata": {},
   "source": [
    "# Lags y residuos en modelos híbridos"
   ]
  },
  {
   "cell_type": "markdown",
   "id": "09e84b0b",
   "metadata": {},
   "source": [
    "En un **clasificador híbrido** que combina un modelo de series temporales (como `ForecasterRecursive`) con un modelo de clasificación, se añaden **lags** y **residuos** como columnas adicionales porque estas características proporcionan información valiosa sobre la estructura temporal y los patrones subyacentes en los datos.\n"
   ]
  },
  {
   "cell_type": "markdown",
   "id": "c39c02b0",
   "metadata": {},
   "source": [
    "### **1. ¿Por qué se añaden lags?**\n",
    "\n",
    "Los **lags** son valores pasados de la serie temporal desplazados en el tiempo. Por ejemplo:\n",
    "- `lag_1`: El valor de la serie en el período anterior.\n",
    "- `lag_2`: El valor de la serie hace dos períodos.\n",
    "\n",
    "#### **a) Capturan dependencias temporales**\n",
    "Las series temporales suelen tener dependencias entre valores consecutivos. Por ejemplo:\n",
    "- Si el consumo de energía ha estado aumentando constantemente en los últimos días, es más probable que siga aumentando.\n",
    "- Si un sensor muestra anomalías recientes, es más probable que ocurra un fallo.\n",
    "\n",
    "Los lags permiten al modelo de clasificación capturar estas dependencias temporales explícitamente.\n",
    "\n",
    "#### **b) Reflejan patrones históricos**\n",
    "Los lags actúan como una memoria del sistema, proporcionando contexto sobre el comportamiento pasado. Esto es especialmente útil en problemas donde el estado actual depende del estado anterior, como en predicción de fallos o movimientos de precios.\n",
    "\n",
    "#### **c) Mejoran la capacidad predictiva**\n",
    "Incluir lags como características permite que el modelo de clasificación aprenda patrones más complejos que no serían evidentes si solo se usaran los valores actuales."
   ]
  },
  {
   "cell_type": "markdown",
   "id": "520fbe75",
   "metadata": {},
   "source": [
    "### **2. ¿Por qué se añaden residuos?**\n",
    "\n",
    "Los **residuos** son las diferencias entre los valores reales y las predicciones de un modelo de series temporales (como `ForecasterRecursive`). Por ejemplo:\n",
    "- Si el modelo predice un valor de 100 pero el valor real es 110, el residuo es `10`.\n",
    "\n",
    "#### **a) Resaltan errores no modelados**\n",
    "Los residuos representan la parte de los datos que el modelo de series temporales no pudo capturar. Estos errores pueden contener información importante sobre anomalías, cambios abruptos o patrones no lineales que no están presentes en los lags.\n",
    "\n",
    "#### **b) Detectan anomalías**\n",
    "En problemas como predicción de fallos, los residuos grandes pueden indicar anomalías o desviaciones significativas del comportamiento normal. Estas anomalías pueden ser señales tempranas de eventos futuros (por ejemplo, fallos).\n",
    "\n",
    "#### **c) Complementan los lags**\n",
    "Mientras que los lags capturan la estructura temporal explícita, los residuos capturan la estructura implícita o los errores del modelo. Juntos, proporcionan una visión más completa de los datos.\n"
   ]
  },
  {
   "cell_type": "markdown",
   "id": "8d10ca97",
   "metadata": {},
   "source": [
    "### **3. Ejemplo práctico: Lags y residuos en un clasificador híbrido**\n",
    "\n",
    "Supongamos que estás trabajando en un problema de **mantenimiento predictivo** para predecir si un equipo fallará en los próximos días. Aquí está cómo funcionan los lags y residuos:\n",
    "\n",
    "#### **a) Lags**\n",
    "- Si el consumo de energía (`lag_1`, `lag_2`, etc.) ha estado aumentando constantemente, esto podría ser un indicador de que el equipo está bajo estrés y podría fallar pronto.\n",
    "- Los lags permiten al clasificador aprender patrones como \"si el consumo ha estado aumentando durante los últimos 3 días, es más probable que ocurra un fallo\".\n",
    "\n",
    "#### **b) Residuos**\n",
    "- Si el modelo de series temporales predice que el consumo de energía debería ser estable, pero los residuos muestran un aumento repentino, esto podría ser una señal de que algo inusual está ocurriendo.\n",
    "- Los residuos resaltan anomalías que podrían ser indicadores tempranos de fallos.\n",
    "\n",
    "#### **c) Combinación de lags y residuos**\n",
    "Al combinar lags y residuos, el clasificador puede aprender tanto patrones temporales explícitos (lags) como anomalías implícitas (residuos). Esto mejora la capacidad del modelo para predecir eventos futuros."
   ]
  },
  {
   "cell_type": "markdown",
   "id": "a56e4aa9",
   "metadata": {},
   "source": [
    "### **4. Beneficios de usar lags y residuos**\n",
    "\n",
    "#### **a) Mejora en la precisión**\n",
    "Incluir lags y residuos como características adicionales permite al clasificador capturar patrones más complejos, lo que puede mejorar su precisión.\n",
    "\n",
    "#### **b) Mayor robustez**\n",
    "Al capturar tanto la estructura temporal explícita (lags) como los errores no modelados (residuos), el modelo es más robusto y menos sensible a ruido o cambios en los datos.\n",
    "\n",
    "#### **c) Interpretación más clara**\n",
    "Los lags y residuos tienen interpretaciones claras, lo que facilita entender cómo el modelo está tomando decisiones."
   ]
  },
  {
   "cell_type": "markdown",
   "id": "1144c1f2",
   "metadata": {},
   "source": [
    "### **5. Consideraciones importantes**\n",
    "\n",
    "#### **a) Selección de lags**\n",
    "No todos los lags son igualmente útiles. Es importante seleccionar los lags más relevantes (por ejemplo, aquellos con mayor correlación con la variable objetivo).\n",
    "\n",
    "#### **b) Manejo de residuos**\n",
    "Los residuos deben ser cuidadosamente analizados para asegurarse de que no contienen ruido excesivo. En algunos casos, puede ser útil transformar los residuos (por ejemplo, usando medias móviles) para reducir el ruido.\n",
    "\n",
    "#### **c) Evitar multicolinealidad**\n",
    "Los lags pueden estar altamente correlacionados entre sí, lo que puede afectar el rendimiento del modelo. Para mitigarlo:\n",
    "- Usa técnicas como PCA (Análisis de Componentes Principales).\n",
    "- Combina lags con otras características derivadas (por ejemplo, medias móviles, diferencias)."
   ]
  }
 ],
 "metadata": {
  "language_info": {
   "name": "python"
  }
 },
 "nbformat": 4,
 "nbformat_minor": 5
}
