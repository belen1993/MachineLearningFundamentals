{
 "cells": [
  {
   "cell_type": "markdown",
   "id": "0996615f",
   "metadata": {},
   "source": [
    "# Hybrid Trees Forecasting\n",
    "Referencias: \n",
    "- https://towardsdatascience.com/forecasting-with-trees-hybrid-modeling-for-time-series-58590a113178/#30a2-159b781e076d\n",
    "- https://github.com/cerlymarco/linear-tree"
   ]
  },
  {
   "cell_type": "code",
   "execution_count": null,
   "id": "7c95ad8e",
   "metadata": {},
   "outputs": [],
   "source": [
    "# ! pip install lightgbm"
   ]
  },
  {
   "cell_type": "code",
   "execution_count": null,
   "id": "100c0172",
   "metadata": {
    "_cell_guid": "b1076dfc-b9ad-4769-8c92-a6c4dae69d19",
    "_uuid": "8f2839f25d086af736a60e9eeb907d3b93b6e0e5",
    "execution": {
     "iopub.execute_input": "2022-01-31T15:26:32.283501Z",
     "iopub.status.busy": "2022-01-31T15:26:32.282824Z",
     "iopub.status.idle": "2022-01-31T15:26:34.181256Z",
     "shell.execute_reply": "2022-01-31T15:26:34.180655Z",
     "shell.execute_reply.started": "2022-01-28T15:04:13.355306Z"
    },
    "papermill": {
     "duration": 1.92761,
     "end_time": "2022-01-31T15:26:34.181435",
     "exception": false,
     "start_time": "2022-01-31T15:26:32.253825",
     "status": "completed"
    },
    "tags": []
   },
   "outputs": [],
   "source": [
    "import numpy as np \n",
    "import pandas as pd\n",
    "from tqdm import tqdm\n",
    "import matplotlib.pyplot as plt\n",
    "\n",
    "from sklearn.linear_model import LinearRegression\n",
    "from sklearn.preprocessing import SplineTransformer\n",
    "from sklearn.metrics import mean_squared_error as mse\n",
    "from sklearn.model_selection import TimeSeriesSplit, GridSearchCV, cross_val_score\n",
    "\n",
    "from lightgbm import LGBMRegressor"
   ]
  },
  {
   "cell_type": "code",
   "execution_count": null,
   "id": "f9eab519",
   "metadata": {
    "execution": {
     "iopub.execute_input": "2022-01-31T15:26:34.236844Z",
     "iopub.status.busy": "2022-01-31T15:26:34.235775Z",
     "iopub.status.idle": "2022-01-31T15:26:34.237699Z",
     "shell.execute_reply": "2022-01-31T15:26:34.238324Z",
     "shell.execute_reply.started": "2022-01-28T15:04:15.611921Z"
    },
    "papermill": {
     "duration": 0.033002,
     "end_time": "2022-01-31T15:26:34.238510",
     "exception": false,
     "start_time": "2022-01-31T15:26:34.205508",
     "status": "completed"
    },
    "tags": []
   },
   "outputs": [],
   "source": [
    "### UTLITY FUNCTIONS FOR SYNTETIC DATA GENERATION ###\n",
    "\n",
    "def gen_sinusoidal(timesteps, amp, freq, noise):\n",
    "    \n",
    "    X = np.arange(timesteps)\n",
    "    e = np.random.normal(0,noise, (timesteps,))\n",
    "    y = amp*np.sin(X*(2*np.pi/freq))+e\n",
    "    \n",
    "    return y\n",
    "\n",
    "\n",
    "def gen_randomwalk(timesteps, noise):\n",
    "\n",
    "    y = np.random.normal(0,noise, (timesteps,))\n",
    "    \n",
    "    return y.cumsum()"
   ]
  },
  {
   "cell_type": "code",
   "execution_count": null,
   "id": "c19e8607",
   "metadata": {
    "execution": {
     "iopub.execute_input": "2022-01-31T15:26:34.294013Z",
     "iopub.status.busy": "2022-01-31T15:26:34.293253Z",
     "iopub.status.idle": "2022-01-31T15:26:34.449993Z",
     "shell.execute_reply": "2022-01-31T15:26:34.450462Z",
     "shell.execute_reply.started": "2022-01-28T15:04:40.68925Z"
    },
    "papermill": {
     "duration": 0.188959,
     "end_time": "2022-01-31T15:26:34.450640",
     "exception": false,
     "start_time": "2022-01-31T15:26:34.261681",
     "status": "completed"
    },
    "tags": []
   },
   "outputs": [],
   "source": [
    "### SYNTETIC DATA GENERATION ###\n",
    "\n",
    "df = {}\n",
    "n_series = 100\n",
    "timesteps = 2_000\n",
    "for i in range(n_series):\n",
    "    \n",
    "    np.random.seed(i)\n",
    "    seas1 = gen_sinusoidal(timesteps=timesteps, amp=10, freq=24, noise=4)\n",
    "    seas2 = gen_sinusoidal(timesteps=timesteps, amp=10, freq=24*7, noise=4)\n",
    "    \n",
    "    rw = gen_randomwalk(timesteps=timesteps, noise=1)\n",
    "    X = np.linspace(0,10, timesteps).reshape(-1,1)\n",
    "    X = np.power(X, [1,2,3])\n",
    "    m = LinearRegression()\n",
    "    trend = m.fit(X, rw).predict(X)\n",
    "\n",
    "    df[f'ts_{i}'] = seas1 + seas2 + trend\n",
    "    \n",
    "df = pd.DataFrame(df) + 3_000\n",
    "df.shape"
   ]
  },
  {
   "cell_type": "code",
   "execution_count": null,
   "id": "ac00258e",
   "metadata": {
    "execution": {
     "iopub.execute_input": "2022-01-31T15:26:34.501283Z",
     "iopub.status.busy": "2022-01-31T15:26:34.500598Z",
     "iopub.status.idle": "2022-01-31T15:26:35.154152Z",
     "shell.execute_reply": "2022-01-31T15:26:35.153617Z",
     "shell.execute_reply.started": "2022-01-28T15:04:41.830371Z"
    },
    "papermill": {
     "duration": 0.680162,
     "end_time": "2022-01-31T15:26:35.154287",
     "exception": false,
     "start_time": "2022-01-31T15:26:34.474125",
     "status": "completed"
    },
    "tags": []
   },
   "outputs": [],
   "source": [
    "### EXAMPLE OF SYNTETIC DATA GENERATION ###\n",
    "\n",
    "np.random.seed(1234)\n",
    "seas1 = gen_sinusoidal(timesteps=timesteps, amp=10, freq=24, noise=4)\n",
    "seas2 = gen_sinusoidal(timesteps=timesteps, amp=10, freq=24*7, noise=4)\n",
    "\n",
    "rw = gen_randomwalk(timesteps=timesteps, noise=1)\n",
    "X = np.linspace(0,10, timesteps).reshape(-1,1)\n",
    "X = np.power(X, [1,2,3])\n",
    "m = LinearRegression()\n",
    "trend = m.fit(X, rw).predict(X)\n",
    "\n",
    "plt.figure(figsize=(16,4))\n",
    "plt.subplot(121)\n",
    "plt.plot(seas1 + seas2, c='red'); plt.title('Seasonalities')\n",
    "plt.subplot(122)\n",
    "plt.plot(rw, c='black'); plt.plot(trend, c='red'); plt.title('Trend')\n",
    "\n",
    "plt.figure(figsize=(16,4))\n",
    "plt.plot(seas1 + seas2 + trend, c='red'); plt.title('Seasonalities + Trend')"
   ]
  },
  {
   "cell_type": "code",
   "execution_count": null,
   "id": "9a44ad26",
   "metadata": {
    "execution": {
     "iopub.execute_input": "2022-01-31T15:26:35.213988Z",
     "iopub.status.busy": "2022-01-31T15:26:35.213090Z",
     "iopub.status.idle": "2022-01-31T15:26:36.625360Z",
     "shell.execute_reply": "2022-01-31T15:26:36.625902Z",
     "shell.execute_reply.started": "2022-01-28T15:04:59.072975Z"
    },
    "papermill": {
     "duration": 1.444398,
     "end_time": "2022-01-31T15:26:36.626074",
     "exception": false,
     "start_time": "2022-01-31T15:26:35.181676",
     "status": "completed"
    },
    "tags": []
   },
   "outputs": [],
   "source": [
    "### PLOT GENERATED DATA ###\n",
    "\n",
    "df.plot(legend=False, figsize=(16,6))"
   ]
  },
  {
   "cell_type": "code",
   "execution_count": null,
   "id": "d704ca65",
   "metadata": {
    "execution": {
     "iopub.execute_input": "2022-01-31T15:26:36.731939Z",
     "iopub.status.busy": "2022-01-31T15:26:36.730605Z",
     "iopub.status.idle": "2022-01-31T15:32:22.096483Z",
     "shell.execute_reply": "2022-01-31T15:32:22.097162Z",
     "shell.execute_reply.started": "2022-01-28T15:05:12.07811Z"
    },
    "papermill": {
     "duration": 345.433773,
     "end_time": "2022-01-31T15:32:22.097388",
     "exception": false,
     "start_time": "2022-01-31T15:26:36.663615",
     "status": "completed"
    },
    "tags": []
   },
   "outputs": [],
   "source": [
    "### FIT MODELS AND STORE RESULTS ###\n",
    "\n",
    "mse_naive = []\n",
    "mse_diff = []\n",
    "mse_hybrid_add = []\n",
    "mse_hybrid_incl = []\n",
    "\n",
    "df_naive = (df*np.nan).copy()\n",
    "df_diff = (df*np.nan).copy()\n",
    "df_hybrid_add = (df*np.nan).copy()\n",
    "df_hybrid_incl = (df*np.nan).copy()\n",
    "\n",
    "ts = tqdm(df.columns)\n",
    "for c in ts:\n",
    "    \n",
    "    y_test = df[c].tail(24*7*4)\n",
    "    y_train = df[c][~df[c].index.isin(y_test.index)]\n",
    "    X_train = np.arange(0, y_train.shape[0]).reshape(-1,1)\n",
    "    X_test = np.arange(X_train[-1], X_train[-1]+y_test.shape[0]).reshape(-1,1)\n",
    "    \n",
    "    train_mask = df[c].index.isin(y_train.index)\n",
    "    test_mask = df[c].index.isin(y_test.index)\n",
    "    \n",
    "    period = 24\n",
    "    n_splines = 3\n",
    "    n_knots = n_splines +1\n",
    "    st24 = SplineTransformer(\n",
    "        degree = 3,\n",
    "        n_knots = n_knots,\n",
    "        knots = np.linspace(0, period, n_knots).reshape(n_knots, 1),\n",
    "        extrapolation = \"periodic\",\n",
    "        include_bias = True,\n",
    "    )\n",
    "    period = 168\n",
    "    n_splines = 6\n",
    "    n_knots = n_splines +1\n",
    "    st168 = SplineTransformer(\n",
    "        degree = 3,\n",
    "        n_knots = n_knots,\n",
    "        knots = np.linspace(0, period, n_knots).reshape(n_knots, 1),\n",
    "        extrapolation = \"periodic\",\n",
    "        include_bias = True,\n",
    "    )\n",
    "    \n",
    "    CV = TimeSeriesSplit(n_splits=4)\n",
    "    base_model = LGBMRegressor(random_state=33, n_jobs=-1) \n",
    "    param_grid = {'n_estimators': [30,50,70,90,110,130]}\n",
    "    \n",
    "    trend2 = (-cross_val_score(\n",
    "        LinearRegression(), np.power(X_train,[1,2]), y_train, \n",
    "        cv=CV, scoring='neg_mean_squared_error'\n",
    "    )).mean()\n",
    "    trend3 = (-cross_val_score(\n",
    "        LinearRegression(), np.power(X_train,[1,2,3]), y_train, \n",
    "        cv=CV, scoring='neg_mean_squared_error'\n",
    "    )).mean()\n",
    "    \n",
    "    powers = [1,2] if trend2 <= trend3 else [1,2,3]\n",
    "\n",
    "    trend = LinearRegression() \n",
    "    trend.fit(np.power(X_train,powers), y_train)\n",
    "    train_trend = trend.predict(np.power(X_train,powers))\n",
    "    test_trend = trend.predict(np.power(X_test,powers))\n",
    "    \n",
    "    df_naive.loc[train_mask, c] = train_trend\n",
    "    df_naive.loc[test_mask, c] = test_trend\n",
    "    mse_naive.append(mse(y_test, trend.predict(np.power(X_test,powers))))\n",
    "    score_naive = f\"Naive Trend: {round(np.mean(mse_naive),3)}\"\n",
    "    \n",
    "    X_train = np.hstack([st24.fit_transform(X_train), st168.fit_transform(X_train)])\n",
    "    X_test = np.hstack([st24.transform(X_test), st168.transform(X_test)])\n",
    "    \n",
    "    model = GridSearchCV(base_model, param_grid=param_grid, cv=CV, scoring='neg_mean_squared_error')\n",
    "    model.fit(X_train[1:], np.diff(y_train))\n",
    "    \n",
    "    df_diff.loc[train_mask, c] = np.cumsum(np.append(y_train.head(1), model.predict(X_train[1:])))\n",
    "    df_diff.loc[test_mask, c] = np.cumsum(np.append(y_train.tail(1), model.predict(X_test)))[1:]\n",
    "    mse_diff.append(mse(y_test, np.cumsum(np.append(y_train.tail(1), model.predict(X_test)))[1:]))\n",
    "    score_diff = f\"Differencing: {round(np.mean(mse_diff),3)}\"\n",
    "    \n",
    "    model = GridSearchCV(base_model, param_grid=param_grid, cv=CV, scoring='neg_mean_squared_error')\n",
    "    model.fit(X_train, y_train-train_trend)\n",
    "    \n",
    "    df_hybrid_add.loc[train_mask, c] = model.predict(X_train)+train_trend\n",
    "    df_hybrid_add.loc[test_mask, c] = model.predict(X_test)+test_trend    \n",
    "    mse_hybrid_add.append(mse(y_test, model.predict(X_test)+test_trend))\n",
    "    score_hybrid_add = f\"Hybrid Additive: {round(np.mean(mse_hybrid_add),3)}\"\n",
    "    \n",
    "    X_train = np.hstack([train_trend.reshape(-1,1), X_train])\n",
    "    X_test = np.hstack([test_trend.reshape(-1,1), X_test]) \n",
    "    \n",
    "    model = GridSearchCV(base_model, param_grid=param_grid, cv=CV, scoring='neg_mean_squared_error')\n",
    "    model.fit(X_train, y_train)\n",
    "    \n",
    "    df_hybrid_incl.loc[train_mask, c] = model.predict(X_train)\n",
    "    df_hybrid_incl.loc[test_mask, c] = model.predict(X_test)     \n",
    "    mse_hybrid_incl.append(mse(y_test, model.predict(X_test)))\n",
    "    score_hybrid_incl = f\"Hybrid Inclusive: {round(np.mean(mse_hybrid_incl),3)}\"\n",
    "    \n",
    "    desc = f\"{score_naive} | {score_diff} | {score_hybrid_add} | {score_hybrid_incl} |\"\n",
    "    ts.set_description(desc)"
   ]
  },
  {
   "cell_type": "code",
   "execution_count": null,
   "id": "d8520e7f",
   "metadata": {
    "execution": {
     "iopub.execute_input": "2022-01-31T15:32:22.322983Z",
     "iopub.status.busy": "2022-01-31T15:32:22.321058Z",
     "iopub.status.idle": "2022-01-31T15:32:22.568013Z",
     "shell.execute_reply": "2022-01-31T15:32:22.567417Z",
     "shell.execute_reply.started": "2022-01-28T15:11:41.603676Z"
    },
    "papermill": {
     "duration": 0.369452,
     "end_time": "2022-01-31T15:32:22.568148",
     "exception": false,
     "start_time": "2022-01-31T15:32:22.198696",
     "status": "completed"
    },
    "tags": []
   },
   "outputs": [],
   "source": [
    "### TEST ERROR DISTRIBUTIONS ###\n",
    "\n",
    "scores = pd.DataFrame({\n",
    "    f'{score_naive}': mse_naive,\n",
    "    f'{score_diff}': mse_diff,\n",
    "    f'{score_hybrid_add}': mse_hybrid_add,\n",
    "    f'{score_hybrid_incl}': mse_hybrid_incl\n",
    "})\n",
    "\n",
    "scores.plot.box(figsize=(11,6), title='MSEs on Test', ylabel='MSE')"
   ]
  },
  {
   "cell_type": "code",
   "execution_count": null,
   "id": "203f6a36",
   "metadata": {
    "execution": {
     "iopub.execute_input": "2022-01-31T15:32:22.797990Z",
     "iopub.status.busy": "2022-01-31T15:32:22.779853Z",
     "iopub.status.idle": "2022-01-31T15:32:23.281815Z",
     "shell.execute_reply": "2022-01-31T15:32:23.282315Z",
     "shell.execute_reply.started": "2022-01-28T15:19:35.832434Z"
    },
    "papermill": {
     "duration": 0.614915,
     "end_time": "2022-01-31T15:32:23.282493",
     "exception": false,
     "start_time": "2022-01-31T15:32:22.667578",
     "status": "completed"
    },
    "tags": []
   },
   "outputs": [],
   "source": [
    "### PLOT PREDICTIONS ###\n",
    "\n",
    "c = 'ts_11' \n",
    "\n",
    "df[c].plot(figsize=(16,6), label='true', alpha=0.3, c='black')\n",
    "\n",
    "df_diff[c].plot(figsize=(16,6), label='differencing pred', c='magenta')\n",
    "df_hybrid_add[c].plot(figsize=(16,6), label='hybrid addictive pred', c='red')\n",
    "df_hybrid_incl[c].plot(figsize=(16,6), label='hybrid inclusive pred', c='blue')\n",
    "df_naive[c].plot(figsize=(16,6), label='trend pred', c='lime', linewidth=3)\n",
    "\n",
    "plt.xlim(0, timesteps)\n",
    "plt.axvspan(0, timesteps-test_mask.sum(), alpha=0.2, color='orange', label='TRAIN')\n",
    "plt.axvspan(timesteps-test_mask.sum(), timesteps, alpha=0.2, color='green', label='TEST')\n",
    "plt.legend()"
   ]
  },
  {
   "cell_type": "code",
   "execution_count": null,
   "id": "81694d4a",
   "metadata": {
    "execution": {
     "iopub.execute_input": "2022-01-31T15:32:23.495751Z",
     "iopub.status.busy": "2022-01-31T15:32:23.495058Z",
     "iopub.status.idle": "2022-01-31T15:32:23.994715Z",
     "shell.execute_reply": "2022-01-31T15:32:23.995213Z",
     "shell.execute_reply.started": "2022-01-28T15:22:05.175232Z"
    },
    "papermill": {
     "duration": 0.607617,
     "end_time": "2022-01-31T15:32:23.995394",
     "exception": false,
     "start_time": "2022-01-31T15:32:23.387777",
     "status": "completed"
    },
    "tags": []
   },
   "outputs": [],
   "source": [
    "### PLOT PREDICTIONS ###\n",
    "\n",
    "c = 'ts_33' \n",
    "\n",
    "df[c].plot(figsize=(16,6), label='true', alpha=0.3, c='black')\n",
    "\n",
    "df_diff[c].plot(figsize=(16,6), label='differencing pred', c='magenta')\n",
    "df_hybrid_add[c].plot(figsize=(16,6), label='hybrid addictive pred', c='red')\n",
    "df_hybrid_incl[c].plot(figsize=(16,6), label='hybrid inclusive pred', c='blue')\n",
    "df_naive[c].plot(figsize=(16,6), label='trend pred', c='lime', linewidth=3)\n",
    "\n",
    "plt.xlim(0, timesteps)\n",
    "plt.axvspan(0, timesteps-test_mask.sum(), alpha=0.2, color='orange', label='TRAIN')\n",
    "plt.axvspan(timesteps-test_mask.sum(), timesteps, alpha=0.2, color='green', label='TEST')\n",
    "plt.legend()"
   ]
  },
  {
   "cell_type": "code",
   "execution_count": null,
   "id": "1ed48ac6",
   "metadata": {
    "execution": {
     "iopub.execute_input": "2022-01-31T15:32:24.234000Z",
     "iopub.status.busy": "2022-01-31T15:32:24.232769Z",
     "iopub.status.idle": "2022-01-31T15:32:24.718036Z",
     "shell.execute_reply": "2022-01-31T15:32:24.718540Z",
     "shell.execute_reply.started": "2022-01-28T15:22:09.492365Z"
    },
    "papermill": {
     "duration": 0.612165,
     "end_time": "2022-01-31T15:32:24.718719",
     "exception": false,
     "start_time": "2022-01-31T15:32:24.106554",
     "status": "completed"
    },
    "tags": []
   },
   "outputs": [],
   "source": [
    "### PLOT PREDICTIONS ###\n",
    "\n",
    "c = 'ts_73' \n",
    "\n",
    "df[c].plot(figsize=(16,6), label='true', alpha=0.3, c='black')\n",
    "\n",
    "df_diff[c].plot(figsize=(16,6), label='differencing pred', c='magenta')\n",
    "df_hybrid_add[c].plot(figsize=(16,6), label='hybrid addictive pred', c='red')\n",
    "df_hybrid_incl[c].plot(figsize=(16,6), label='hybrid inclusive pred', c='blue')\n",
    "df_naive[c].plot(figsize=(16,6), label='trend pred', c='lime', linewidth=3)\n",
    "\n",
    "plt.xlim(0, timesteps)\n",
    "plt.axvspan(0, timesteps-test_mask.sum(), alpha=0.2, color='orange', label='TRAIN')\n",
    "plt.axvspan(timesteps-test_mask.sum(), timesteps, alpha=0.2, color='green', label='TEST')\n",
    "plt.legend()"
   ]
  }
 ],
 "metadata": {
  "kernelspec": {
   "display_name": "Python 3",
   "language": "python",
   "name": "python3"
  },
  "language_info": {
   "codemirror_mode": {
    "name": "ipython",
    "version": 3
   },
   "file_extension": ".py",
   "mimetype": "text/x-python",
   "name": "python",
   "nbconvert_exporter": "python",
   "pygments_lexer": "ipython3",
   "version": "3.12.4"
  },
  "papermill": {
   "default_parameters": {},
   "duration": 388.372595,
   "end_time": "2022-01-31T15:32:25.747912",
   "environment_variables": {},
   "exception": null,
   "input_path": "__notebook__.ipynb",
   "output_path": "__notebook__.ipynb",
   "parameters": {},
   "start_time": "2022-01-31T15:25:57.375317",
   "version": "2.3.3"
  }
 },
 "nbformat": 4,
 "nbformat_minor": 5
}
