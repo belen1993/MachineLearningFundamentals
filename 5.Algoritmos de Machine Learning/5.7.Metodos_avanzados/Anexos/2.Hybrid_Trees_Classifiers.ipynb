{
 "cells": [
  {
   "cell_type": "markdown",
   "id": "509a5de2",
   "metadata": {},
   "source": [
    "# Hybrid Trees Classifiers \n",
    "Referencias: \n",
    "- https://towardsdatascience.com/forecasting-with-trees-hybrid-classifiers-for-time-series-b2509abf15f8/\n",
    "- https://github.com/cerlymarco/linear-tree"
   ]
  },
  {
   "cell_type": "code",
   "execution_count": null,
   "id": "28bbf024",
   "metadata": {},
   "outputs": [],
   "source": [
    "# ! pip install celluloid\n",
    "# ! pip install --upgrade linear-tree"
   ]
  },
  {
   "cell_type": "code",
   "execution_count": null,
   "id": "a611ccfd",
   "metadata": {
    "execution": {
     "iopub.execute_input": "2022-04-09T11:00:00.224752Z",
     "iopub.status.busy": "2022-04-09T11:00:00.223877Z",
     "iopub.status.idle": "2022-04-09T11:00:01.793182Z",
     "shell.execute_reply": "2022-04-09T11:00:01.792382Z",
     "shell.execute_reply.started": "2022-04-08T15:47:49.071108Z"
    },
    "papermill": {
     "duration": 1.599168,
     "end_time": "2022-04-09T11:00:01.793345",
     "exception": false,
     "start_time": "2022-04-09T11:00:00.194177",
     "status": "completed"
    },
    "tags": []
   },
   "outputs": [],
   "source": [
    "import numpy as np\n",
    "import pandas as pd\n",
    "from tqdm import tqdm\n",
    "from celluloid import Camera\n",
    "import matplotlib.pyplot as plt\n",
    "\n",
    "from sklearn.model_selection import train_test_split\n",
    "from sklearn.metrics import f1_score, precision_score, recall_score\n",
    "from sklearn.ensemble import RandomForestClassifier\n",
    "from sklearn.linear_model import LogisticRegression, Ridge\n",
    "\n",
    "from lineartree import LinearForestClassifier"
   ]
  },
  {
   "cell_type": "code",
   "execution_count": null,
   "id": "08fb0718",
   "metadata": {
    "execution": {
     "iopub.execute_input": "2022-04-09T11:00:01.841720Z",
     "iopub.status.busy": "2022-04-09T11:00:01.840888Z",
     "iopub.status.idle": "2022-04-09T11:00:01.848085Z",
     "shell.execute_reply": "2022-04-09T11:00:01.848666Z",
     "shell.execute_reply.started": "2022-04-08T15:47:50.228629Z"
    },
    "papermill": {
     "duration": 0.034409,
     "end_time": "2022-04-09T11:00:01.848889",
     "exception": false,
     "start_time": "2022-04-09T11:00:01.814480",
     "status": "completed"
    },
    "tags": []
   },
   "outputs": [],
   "source": [
    "### UTILITY FUNCTION TO GENERATE DATA ###\n",
    "\n",
    "def gen_timeseries_dataset(n_samples, n_features, level=0, random_state=0):\n",
    "\n",
    "    np.random.seed(random_state)\n",
    "    \n",
    "    X = np.sin(np.random.normal(0,1, (n_samples,n_features)))\n",
    "    X = np.cumsum(X, axis=0)\n",
    "    X += level\n",
    "    \n",
    "    coef = np.exp(np.random.uniform(0,2, n_features))-1\n",
    "    y = X.dot(coef)\n",
    "    \n",
    "    return X,y"
   ]
  },
  {
   "cell_type": "code",
   "execution_count": null,
   "id": "57803b5a",
   "metadata": {
    "execution": {
     "iopub.execute_input": "2022-04-09T11:00:01.895909Z",
     "iopub.status.busy": "2022-04-09T11:00:01.895176Z",
     "iopub.status.idle": "2022-04-09T11:00:01.904165Z",
     "shell.execute_reply": "2022-04-09T11:00:01.904808Z",
     "shell.execute_reply.started": "2022-04-08T15:47:50.236273Z"
    },
    "papermill": {
     "duration": 0.033883,
     "end_time": "2022-04-09T11:00:01.905048",
     "exception": false,
     "start_time": "2022-04-09T11:00:01.871165",
     "status": "completed"
    },
    "tags": []
   },
   "outputs": [],
   "source": [
    "### UTILITY VARIABLES ###\n",
    "\n",
    "thresholds = [0,-0.1,-0.2,-0.3,-0.4]\n",
    "models = ['RF', 'RF_STACK_OOB', 'LINEAR_RF']\n",
    "f_scoring = {m:{t:[] for t in thresholds} for m in models}\n",
    "p_scoring = {m:{t:[] for t in thresholds} for m in models}\n",
    "r_scoring = {m:{t:[] for t in thresholds} for m in models}\n",
    "\n",
    "boxplotcolorprop = lambda c: {\n",
    "    'medianprops':{'c':'lime', 'linewidth':1.5}, \n",
    "    'boxprops':{'c':c}, \n",
    "    'whiskerprops':{'c':c}, \n",
    "    'capprops':{'c':c}\n",
    "}\n",
    "\n",
    "scores2str = lambda scores,name : \\\n",
    "    name.ljust(11,' ') + ' | ' + \\\n",
    "    ' | '.join([f\"({t}): {str(round(np.mean(s),3)).ljust(5,'0')}\" for t,s in scores.items()])"
   ]
  },
  {
   "cell_type": "code",
   "execution_count": null,
   "id": "ea072990",
   "metadata": {
    "execution": {
     "iopub.execute_input": "2022-04-09T11:00:01.954282Z",
     "iopub.status.busy": "2022-04-09T11:00:01.953236Z",
     "iopub.status.idle": "2022-04-09T11:00:01.985585Z",
     "shell.execute_reply": "2022-04-09T11:00:01.986702Z",
     "shell.execute_reply.started": "2022-04-08T15:47:50.248272Z"
    },
    "papermill": {
     "duration": 0.061406,
     "end_time": "2022-04-09T11:00:01.987120",
     "exception": false,
     "start_time": "2022-04-09T11:00:01.925714",
     "status": "completed"
    },
    "tags": []
   },
   "outputs": [],
   "source": [
    "### GENERATE SAMPLE DATA ###\n",
    "\n",
    "X,y = gen_timeseries_dataset(n_samples=20_000, n_features=10, level=100, random_state=1)\n",
    "\n",
    "X.shape, y.shape"
   ]
  },
  {
   "cell_type": "code",
   "execution_count": null,
   "id": "dacb8f51",
   "metadata": {
    "execution": {
     "iopub.execute_input": "2022-04-09T11:00:02.086023Z",
     "iopub.status.busy": "2022-04-09T11:00:02.084458Z",
     "iopub.status.idle": "2022-04-09T11:00:02.627230Z",
     "shell.execute_reply": "2022-04-09T11:00:02.627791Z",
     "shell.execute_reply.started": "2022-04-08T15:47:50.288851Z"
    },
    "papermill": {
     "duration": 0.598236,
     "end_time": "2022-04-09T11:00:02.628019",
     "exception": false,
     "start_time": "2022-04-09T11:00:02.029783",
     "status": "completed"
    },
    "tags": []
   },
   "outputs": [],
   "source": [
    "### PLOT GENERATED SAMPLE DATA ###\n",
    "\n",
    "plt.figure(figsize=(16,6))\n",
    "plt.subplot(121)\n",
    "plt.plot(X)\n",
    "plt.xlabel('timestamps'); plt.title('inputs (X)')\n",
    "plt.subplot(122)\n",
    "plt.plot(y)\n",
    "plt.xlabel('timestamps'); plt.title('target (y)')\n",
    "plt.show()"
   ]
  },
  {
   "cell_type": "code",
   "execution_count": null,
   "id": "748cf994",
   "metadata": {
    "execution": {
     "iopub.execute_input": "2022-04-09T11:00:02.682583Z",
     "iopub.status.busy": "2022-04-09T11:00:02.681412Z",
     "iopub.status.idle": "2022-04-09T11:00:04.699577Z",
     "shell.execute_reply": "2022-04-09T11:00:04.700194Z",
     "shell.execute_reply.started": "2022-04-08T15:49:22.764916Z"
    },
    "papermill": {
     "duration": 2.047653,
     "end_time": "2022-04-09T11:00:04.700472",
     "exception": false,
     "start_time": "2022-04-09T11:00:02.652819",
     "status": "completed"
    },
    "tags": []
   },
   "outputs": [],
   "source": [
    "### SIMULATE LABEL GENERATION PROCESS AS FUNCTION OF THRESHOLD LEVEL ###\n",
    "\n",
    "pct_change = np.diff(y)\n",
    "pct_change = pct_change / y[:-1] *100\n",
    "index = np.arange(len(pct_change))\n",
    "\n",
    "fig = plt.figure(figsize=(18,7))\n",
    "camera = Camera(fig)\n",
    "\n",
    "for t in thresholds:\n",
    "    class1 = pct_change<t\n",
    "    class0 = pct_change>=t\n",
    "    label_prop = pd.Series(pct_change < t).replace(\n",
    "        {False:'class_0',True:'class_1'}).value_counts(sort=False)\n",
    "    \n",
    "    plt.subplot(121)\n",
    "    plt.scatter(index[class0], pct_change[class0], c='blue')\n",
    "    plt.scatter(index[class1], pct_change[class1], c='orange')\n",
    "    plt.axhline(t, c='red', linestyle='--', linewidth=3)\n",
    "    plt.xlabel('timestamps'); plt.title(f'Target Percentage Variations')\n",
    "    \n",
    "    plt.subplot(122)\n",
    "    label_prop.plot.pie(colors = ['blue', 'orange'], ylabel='', title='Label Proportion')\n",
    "    camera.snap()\n",
    "    \n",
    "animation = camera.animate()\n",
    "animation.save('./animation.gif')\n",
    "\n",
    "plt.show()"
   ]
  },
  {
   "cell_type": "code",
   "execution_count": null,
   "id": "cbccdfcf",
   "metadata": {
    "execution": {
     "iopub.execute_input": "2022-04-09T11:00:04.768441Z",
     "iopub.status.busy": "2022-04-09T11:00:04.758640Z",
     "iopub.status.idle": "2022-04-09T11:05:53.890815Z",
     "shell.execute_reply": "2022-04-09T11:05:53.890006Z",
     "shell.execute_reply.started": "2022-04-05T07:22:42.782855Z"
    },
    "papermill": {
     "duration": 349.162973,
     "end_time": "2022-04-09T11:05:53.891168",
     "exception": false,
     "start_time": "2022-04-09T11:00:04.728195",
     "status": "completed"
    },
    "tags": []
   },
   "outputs": [],
   "source": [
    "### FIT STANDARD RANDOM FOREST CLASSIFIER ###\n",
    "\n",
    "trials = tqdm(range(100))\n",
    "\n",
    "for i in trials:\n",
    "    \n",
    "    X,y = gen_timeseries_dataset(n_samples=6_000, n_features=10, level=100, random_state=i)\n",
    "    \n",
    "    y_change = np.diff(y)\n",
    "    y_change = y_change / y[:-1] *100\n",
    "    X = np.diff(X, axis=0)\n",
    "    \n",
    "    for t in thresholds:\n",
    "        \n",
    "        y = (y_change < t).astype(int)\n",
    "\n",
    "        X_train, X_test, y_train, y_test = train_test_split(\n",
    "            X,y, test_size=0.3, shuffle=False\n",
    "        )\n",
    "\n",
    "        model = RandomForestClassifier(n_estimators=100, random_state=33, n_jobs=-1)\n",
    "        model.fit(X_train, y_train)\n",
    "\n",
    "        y_pred = model.predict(X_test)        \n",
    "        f_scoring['RF'][t].append(f1_score(y_test, y_pred))\n",
    "        p_scoring['RF'][t].append(precision_score(y_test, y_pred))\n",
    "        r_scoring['RF'][t].append(recall_score(y_test, y_pred))\n",
    "    \n",
    "    desc = scores2str(f_scoring['RF'], 'F1')\n",
    "    trials.set_description(desc)\n",
    "\n",
    "\n",
    "print(scores2str(p_scoring['RF'], 'Precision'))\n",
    "print(scores2str(r_scoring['RF'], 'Recall'))\n",
    "print(scores2str(f_scoring['RF'], 'F1'))"
   ]
  },
  {
   "cell_type": "code",
   "execution_count": null,
   "id": "becafaf5",
   "metadata": {
    "execution": {
     "iopub.execute_input": "2022-04-09T11:05:54.141431Z",
     "iopub.status.busy": "2022-04-09T11:05:54.140467Z",
     "iopub.status.idle": "2022-04-09T11:05:54.911958Z",
     "shell.execute_reply": "2022-04-09T11:05:54.911120Z",
     "shell.execute_reply.started": "2022-04-05T07:41:15.894502Z"
    },
    "papermill": {
     "duration": 0.920186,
     "end_time": "2022-04-09T11:05:54.912161",
     "exception": false,
     "start_time": "2022-04-09T11:05:53.991975",
     "status": "completed"
    },
    "tags": []
   },
   "outputs": [],
   "source": [
    "### STANDARD RANDOM FOREST CLASSIFIER PERFORMANCES ###\n",
    "\n",
    "plt.figure(figsize=(18,5))\n",
    "plt.subplot(131)\n",
    "pd.DataFrame(p_scoring['RF']).plot.box(ax=plt.gca(), ylabel='precision', **boxplotcolorprop('blue'))\n",
    "plt.xlabel('thresholds')\n",
    "plt.subplot(132)\n",
    "pd.DataFrame(r_scoring['RF']).plot.box(ax=plt.gca(), ylabel='recall', **boxplotcolorprop('red'))\n",
    "plt.xlabel('thresholds')\n",
    "plt.subplot(133)\n",
    "pd.DataFrame(f_scoring['RF']).plot.box(ax=plt.gca(), ylabel='f1', **boxplotcolorprop('green'))\n",
    "plt.xlabel('thresholds')\n",
    "plt.show()"
   ]
  },
  {
   "cell_type": "code",
   "execution_count": null,
   "id": "884d506b",
   "metadata": {
    "execution": {
     "iopub.execute_input": "2022-04-09T11:05:55.133355Z",
     "iopub.status.busy": "2022-04-09T11:05:55.132198Z",
     "iopub.status.idle": "2022-04-09T11:12:34.617528Z",
     "shell.execute_reply": "2022-04-09T11:12:34.618211Z",
     "shell.execute_reply.started": "2022-04-05T07:23:13.515878Z"
    },
    "papermill": {
     "duration": 399.603131,
     "end_time": "2022-04-09T11:12:34.618538",
     "exception": false,
     "start_time": "2022-04-09T11:05:55.015407",
     "status": "completed"
    },
    "tags": []
   },
   "outputs": [],
   "source": [
    "### FIT WEIGHTED RANDOM FOREST CLASSIFIER ###\n",
    "\n",
    "trials = tqdm(range(100))\n",
    "\n",
    "for i in trials:\n",
    "    \n",
    "    X,y = gen_timeseries_dataset(n_samples=6_000, n_features=10, level=100, random_state=i)\n",
    "    \n",
    "    y_change = np.diff(y)\n",
    "    y_change = y_change / y[:-1] *100\n",
    "    X = np.diff(X, axis=0)\n",
    "    \n",
    "    for t in thresholds:\n",
    "        \n",
    "        y = (y_change < t).astype(int)\n",
    "\n",
    "        X_train, X_test, y_train, y_test = train_test_split(\n",
    "            X,y, test_size=0.3, shuffle=False\n",
    "        )\n",
    "\n",
    "        model = RandomForestClassifier(n_estimators=100, random_state=33, oob_score=True, n_jobs=-1)\n",
    "        model.fit(X_train, y_train)\n",
    "\n",
    "        linear_reg = LogisticRegression()\n",
    "        linear_reg.fit(model.oob_decision_function_, y_train)\n",
    "\n",
    "        y_pred = linear_reg.predict(model.predict_proba(X_test))\n",
    "        f_scoring['RF_STACK_OOB'][t].append(f1_score(y_test, y_pred))\n",
    "        p_scoring['RF_STACK_OOB'][t].append(precision_score(y_test, y_pred))\n",
    "        r_scoring['RF_STACK_OOB'][t].append(recall_score(y_test, y_pred))\n",
    "    \n",
    "    desc = scores2str(f_scoring['RF_STACK_OOB'], 'F1')\n",
    "    trials.set_description(desc)\n",
    "\n",
    "    \n",
    "print(scores2str(p_scoring['RF_STACK_OOB'], 'Precision'))\n",
    "print(scores2str(r_scoring['RF_STACK_OOB'], 'Recall'))\n",
    "print(scores2str(f_scoring['RF_STACK_OOB'], 'F1'))"
   ]
  },
  {
   "cell_type": "code",
   "execution_count": null,
   "id": "8a468ad5",
   "metadata": {
    "execution": {
     "iopub.execute_input": "2022-04-09T11:12:34.983424Z",
     "iopub.status.busy": "2022-04-09T11:12:34.982596Z",
     "iopub.status.idle": "2022-04-09T11:12:35.533300Z",
     "shell.execute_reply": "2022-04-09T11:12:35.532506Z",
     "shell.execute_reply.started": "2022-04-05T07:41:00.864669Z"
    },
    "papermill": {
     "duration": 0.737744,
     "end_time": "2022-04-09T11:12:35.533493",
     "exception": false,
     "start_time": "2022-04-09T11:12:34.795749",
     "status": "completed"
    },
    "tags": []
   },
   "outputs": [],
   "source": [
    "### WEIGHTED RANDOM FOREST CLASSIFIER PERFORMANCES ###\n",
    "\n",
    "plt.figure(figsize=(18,5))\n",
    "plt.subplot(131)\n",
    "pd.DataFrame(p_scoring['RF_STACK_OOB']).plot.box(ax=plt.gca(), ylabel='precision', **boxplotcolorprop('blue'))\n",
    "plt.xlabel('thresholds')\n",
    "plt.subplot(132)\n",
    "pd.DataFrame(r_scoring['RF_STACK_OOB']).plot.box(ax=plt.gca(), ylabel='recall', **boxplotcolorprop('red'))\n",
    "plt.xlabel('thresholds')\n",
    "plt.subplot(133)\n",
    "pd.DataFrame(f_scoring['RF_STACK_OOB']).plot.box(ax=plt.gca(), ylabel='f1', **boxplotcolorprop('green'))\n",
    "plt.xlabel('thresholds')\n",
    "plt.show()"
   ]
  },
  {
   "cell_type": "code",
   "execution_count": null,
   "id": "da5e1316",
   "metadata": {
    "execution": {
     "iopub.execute_input": "2022-04-09T11:12:35.907288Z",
     "iopub.status.busy": "2022-04-09T11:12:35.906488Z",
     "iopub.status.idle": "2022-04-09T11:27:24.446453Z",
     "shell.execute_reply": "2022-04-09T11:27:24.441798Z",
     "shell.execute_reply.started": "2022-04-05T07:23:48.450616Z"
    },
    "papermill": {
     "duration": 888.730319,
     "end_time": "2022-04-09T11:27:24.446750",
     "exception": false,
     "start_time": "2022-04-09T11:12:35.716431",
     "status": "completed"
    },
    "tags": []
   },
   "outputs": [],
   "source": [
    "### FIT LINEAR RANDOM FOREST CLASSIFIER ###\n",
    "\n",
    "trials = tqdm(range(100))\n",
    "\n",
    "for i in trials:\n",
    "    \n",
    "    X,y = gen_timeseries_dataset(n_samples=6_000, n_features=10, level=100, random_state=i)\n",
    "    \n",
    "    y_change = np.diff(y)\n",
    "    y_change = y_change / y[:-1] *100\n",
    "    X = np.diff(X, axis=0)\n",
    "    \n",
    "    for t in thresholds:\n",
    "        \n",
    "        y = (y_change < t).astype(int)\n",
    "\n",
    "        X_train, X_test, y_train, y_test = train_test_split(\n",
    "            X,y, test_size=0.3, shuffle=False\n",
    "        )\n",
    "\n",
    "        model = LinearForestClassifier(Ridge(), n_estimators=100, random_state=33, n_jobs=-1)\n",
    "        model.fit(X_train, y_train)\n",
    "\n",
    "        y_pred = model.predict(X_test)\n",
    "        f_scoring['LINEAR_RF'][t].append(f1_score(y_test, y_pred))\n",
    "        p_scoring['LINEAR_RF'][t].append(precision_score(y_test, y_pred))\n",
    "        r_scoring['LINEAR_RF'][t].append(recall_score(y_test, y_pred))\n",
    "    \n",
    "    desc = scores2str(f_scoring['LINEAR_RF'], 'F1')\n",
    "    trials.set_description(desc)\n",
    "\n",
    "    \n",
    "print(scores2str(p_scoring['LINEAR_RF'], 'Precision'))\n",
    "print(scores2str(r_scoring['LINEAR_RF'], 'Recall'))\n",
    "print(scores2str(f_scoring['LINEAR_RF'], 'F1'))"
   ]
  },
  {
   "cell_type": "code",
   "execution_count": null,
   "id": "c359c4ed",
   "metadata": {
    "execution": {
     "iopub.execute_input": "2022-04-09T11:27:24.961446Z",
     "iopub.status.busy": "2022-04-09T11:27:24.960603Z",
     "iopub.status.idle": "2022-04-09T11:27:25.497612Z",
     "shell.execute_reply": "2022-04-09T11:27:25.496878Z",
     "shell.execute_reply.started": "2022-04-05T07:40:31.120615Z"
    },
    "papermill": {
     "duration": 0.797467,
     "end_time": "2022-04-09T11:27:25.497788",
     "exception": false,
     "start_time": "2022-04-09T11:27:24.700321",
     "status": "completed"
    },
    "tags": []
   },
   "outputs": [],
   "source": [
    "### LINEAR RANDOM FOREST CLASSIFIER PERFORMANCES ###\n",
    "\n",
    "plt.figure(figsize=(18,5))\n",
    "plt.subplot(131)\n",
    "pd.DataFrame(p_scoring['LINEAR_RF']).plot.box(ax=plt.gca(), ylabel='precision', **boxplotcolorprop('blue'))\n",
    "plt.xlabel('thresholds')\n",
    "plt.subplot(132)\n",
    "pd.DataFrame(r_scoring['LINEAR_RF']).plot.box(ax=plt.gca(), ylabel='recall', **boxplotcolorprop('red'))\n",
    "plt.xlabel('thresholds')\n",
    "plt.subplot(133)\n",
    "pd.DataFrame(f_scoring['LINEAR_RF']).plot.box(ax=plt.gca(), ylabel='f1', **boxplotcolorprop('green'))\n",
    "plt.xlabel('thresholds')\n",
    "plt.show()"
   ]
  },
  {
   "cell_type": "code",
   "execution_count": null,
   "id": "6051cdee",
   "metadata": {
    "execution": {
     "iopub.execute_input": "2022-04-09T11:27:26.006162Z",
     "iopub.status.busy": "2022-04-09T11:27:26.005437Z",
     "iopub.status.idle": "2022-04-09T11:27:28.675626Z",
     "shell.execute_reply": "2022-04-09T11:27:28.675031Z",
     "shell.execute_reply.started": "2022-04-05T07:37:15.926529Z"
    },
    "papermill": {
     "duration": 2.925426,
     "end_time": "2022-04-09T11:27:28.675809",
     "exception": false,
     "start_time": "2022-04-09T11:27:25.750383",
     "status": "completed"
    },
    "tags": []
   },
   "outputs": [],
   "source": [
    "### PERFORMANCE COMPARISON ###\n",
    "\n",
    "for t in thresholds: \n",
    "    plt.figure(figsize=(18,5))\n",
    "    plt.subplot(131)\n",
    "    pd.DataFrame({m: p_scoring[m][t] for m in models}).plot.box(\n",
    "        ax=plt.gca(), title=f'label thresh {t}', ylabel='precision', **boxplotcolorprop('blue')\n",
    "    )\n",
    "    plt.subplot(132)\n",
    "    pd.DataFrame({m: r_scoring[m][t] for m in models}).plot.box(\n",
    "        ax=plt.gca(), title=f'label thresh {t}', ylabel='recall', **boxplotcolorprop('red')\n",
    "    )\n",
    "    plt.subplot(133)\n",
    "    pd.DataFrame({m: f_scoring[m][t] for m in models}).plot.box(\n",
    "        ax=plt.gca(), title=f'label thresh {t}', ylabel='f1', **boxplotcolorprop('green')\n",
    "    )\n",
    "    plt.show()\n",
    "    print('\\n\\n')"
   ]
  }
 ],
 "metadata": {
  "kernelspec": {
   "display_name": "Python 3",
   "language": "python",
   "name": "python3"
  },
  "language_info": {
   "codemirror_mode": {
    "name": "ipython",
    "version": 3
   },
   "file_extension": ".py",
   "mimetype": "text/x-python",
   "name": "python",
   "nbconvert_exporter": "python",
   "pygments_lexer": "ipython3",
   "version": "3.12.4"
  },
  "papermill": {
   "default_parameters": {},
   "duration": 1684.465254,
   "end_time": "2022-04-09T11:27:30.161699",
   "environment_variables": {},
   "exception": null,
   "input_path": "__notebook__.ipynb",
   "output_path": "__notebook__.ipynb",
   "parameters": {},
   "start_time": "2022-04-09T10:59:25.696445",
   "version": "2.3.3"
  }
 },
 "nbformat": 4,
 "nbformat_minor": 5
}
