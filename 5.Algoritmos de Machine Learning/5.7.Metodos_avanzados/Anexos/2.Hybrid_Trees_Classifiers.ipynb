{
 "cells": [
  {
   "cell_type": "markdown",
   "id": "509a5de2",
   "metadata": {},
   "source": [
    "# Hybrid Trees Classifiers \n",
    "Referencias: \n",
    "- https://towardsdatascience.com/forecasting-with-trees-hybrid-classifiers-for-time-series-b2509abf15f8/\n",
    "- https://github.com/cerlymarco/linear-tree"
   ]
  },
  {
   "cell_type": "code",
   "execution_count": null,
   "id": "28bbf024",
   "metadata": {},
   "outputs": [],
   "source": [
    "# ! pip install celluloid\n",
    "# ! pip install --upgrade linear-tree"
   ]
  },
  {
   "cell_type": "code",
   "execution_count": null,
   "id": "a611ccfd",
   "metadata": {
    "execution": {
     "iopub.execute_input": "2022-04-09T11:00:00.224752Z",
     "iopub.status.busy": "2022-04-09T11:00:00.223877Z",
     "iopub.status.idle": "2022-04-09T11:00:01.793182Z",
     "shell.execute_reply": "2022-04-09T11:00:01.792382Z",
     "shell.execute_reply.started": "2022-04-08T15:47:49.071108Z"
    },
    "papermill": {
     "duration": 1.599168,
     "end_time": "2022-04-09T11:00:01.793345",
     "exception": false,
     "start_time": "2022-04-09T11:00:00.194177",
     "status": "completed"
    },
    "tags": []
   },
   "outputs": [],
   "source": [
    "import numpy as np\n",
    "import pandas as pd\n",
    "from tqdm import tqdm\n",
    "from celluloid import Camera\n",
    "import matplotlib.pyplot as plt\n",
    "\n",
    "from sklearn.model_selection import train_test_split\n",
    "from sklearn.metrics import f1_score, precision_score, recall_score\n",
    "from sklearn.ensemble import RandomForestClassifier\n",
    "from sklearn.linear_model import LogisticRegression, Ridge\n",
    "\n",
    "from lineartree import LinearForestClassifier"
   ]
  },
  {
   "cell_type": "code",
   "execution_count": null,
   "id": "08fb0718",
   "metadata": {
    "execution": {
     "iopub.execute_input": "2022-04-09T11:00:01.841720Z",
     "iopub.status.busy": "2022-04-09T11:00:01.840888Z",
     "iopub.status.idle": "2022-04-09T11:00:01.848085Z",
     "shell.execute_reply": "2022-04-09T11:00:01.848666Z",
     "shell.execute_reply.started": "2022-04-08T15:47:50.228629Z"
    },
    "papermill": {
     "duration": 0.034409,
     "end_time": "2022-04-09T11:00:01.848889",
     "exception": false,
     "start_time": "2022-04-09T11:00:01.814480",
     "status": "completed"
    },
    "tags": []
   },
   "outputs": [],
   "source": [
    "### UTILITY FUNCTION TO GENERATE DATA ###\n",
    "\n",
    "def gen_timeseries_dataset(n_samples, n_features, level=0, random_state=0):\n",
    "\n",
    "    np.random.seed(random_state)\n",
    "    \n",
    "    X = np.sin(np.random.normal(0,1, (n_samples,n_features)))\n",
    "    X = np.cumsum(X, axis=0)\n",
    "    X += level\n",
    "    \n",
    "    coef = np.exp(np.random.uniform(0,2, n_features))-1\n",
    "    y = X.dot(coef)\n",
    "    \n",
    "    return X,y"
   ]
  },
  {
   "cell_type": "code",
   "execution_count": null,
   "id": "57803b5a",
   "metadata": {
    "execution": {
     "iopub.execute_input": "2022-04-09T11:00:01.895909Z",
     "iopub.status.busy": "2022-04-09T11:00:01.895176Z",
     "iopub.status.idle": "2022-04-09T11:00:01.904165Z",
     "shell.execute_reply": "2022-04-09T11:00:01.904808Z",
     "shell.execute_reply.started": "2022-04-08T15:47:50.236273Z"
    },
    "papermill": {
     "duration": 0.033883,
     "end_time": "2022-04-09T11:00:01.905048",
     "exception": false,
     "start_time": "2022-04-09T11:00:01.871165",
     "status": "completed"
    },
    "tags": []
   },
   "outputs": [],
   "source": [
    "### UTILITY VARIABLES ###\n",
    "\n",
    "thresholds = [0,-0.1,-0.2,-0.3,-0.4]\n",
    "models = ['RF', 'RF_STACK_OOB', 'LINEAR_RF']\n",
    "f_scoring = {m:{t:[] for t in thresholds} for m in models}\n",
    "p_scoring = {m:{t:[] for t in thresholds} for m in models}\n",
    "r_scoring = {m:{t:[] for t in thresholds} for m in models}\n",
    "\n",
    "boxplotcolorprop = lambda c: {\n",
    "    'medianprops':{'c':'lime', 'linewidth':1.5}, \n",
    "    'boxprops':{'c':c}, \n",
    "    'whiskerprops':{'c':c}, \n",
    "    'capprops':{'c':c}\n",
    "}\n",
    "\n",
    "scores2str = lambda scores,name : \\\n",
    "    name.ljust(11,' ') + ' | ' + \\\n",
    "    ' | '.join([f\"({t}): {str(round(np.mean(s),3)).ljust(5,'0')}\" for t,s in scores.items()])"
   ]
  },
  {
   "cell_type": "code",
   "execution_count": null,
   "id": "ea072990",
   "metadata": {
    "execution": {
     "iopub.execute_input": "2022-04-09T11:00:01.954282Z",
     "iopub.status.busy": "2022-04-09T11:00:01.953236Z",
     "iopub.status.idle": "2022-04-09T11:00:01.985585Z",
     "shell.execute_reply": "2022-04-09T11:00:01.986702Z",
     "shell.execute_reply.started": "2022-04-08T15:47:50.248272Z"
    },
    "papermill": {
     "duration": 0.061406,
     "end_time": "2022-04-09T11:00:01.987120",
     "exception": false,
     "start_time": "2022-04-09T11:00:01.925714",
     "status": "completed"
    },
    "tags": []
   },
   "outputs": [],
   "source": [
    "### GENERATE SAMPLE DATA ###\n",
    "\n",
    "X,y = gen_timeseries_dataset(n_samples=20_000, n_features=10, level=100, random_state=1)\n",
    "\n",
    "X.shape, y.shape"
   ]
  },
  {
   "cell_type": "code",
   "execution_count": null,
   "id": "dacb8f51",
   "metadata": {
    "execution": {
     "iopub.execute_input": "2022-04-09T11:00:02.086023Z",
     "iopub.status.busy": "2022-04-09T11:00:02.084458Z",
     "iopub.status.idle": "2022-04-09T11:00:02.627230Z",
     "shell.execute_reply": "2022-04-09T11:00:02.627791Z",
     "shell.execute_reply.started": "2022-04-08T15:47:50.288851Z"
    },
    "papermill": {
     "duration": 0.598236,
     "end_time": "2022-04-09T11:00:02.628019",
     "exception": false,
     "start_time": "2022-04-09T11:00:02.029783",
     "status": "completed"
    },
    "tags": []
   },
   "outputs": [],
   "source": [
    "### PLOT GENERATED SAMPLE DATA ###\n",
    "\n",
    "plt.figure(figsize=(16,6))\n",
    "plt.subplot(121)\n",
    "plt.plot(X)\n",
    "plt.xlabel('timestamps'); plt.title('inputs (X)')\n",
    "plt.subplot(122)\n",
    "plt.plot(y)\n",
    "plt.xlabel('timestamps'); plt.title('target (y)')\n",
    "plt.show()"
   ]
  },
  {
   "cell_type": "code",
   "execution_count": null,
   "id": "748cf994",
   "metadata": {
    "execution": {
     "iopub.execute_input": "2022-04-09T11:00:02.682583Z",
     "iopub.status.busy": "2022-04-09T11:00:02.681412Z",
     "iopub.status.idle": "2022-04-09T11:00:04.699577Z",
     "shell.execute_reply": "2022-04-09T11:00:04.700194Z",
     "shell.execute_reply.started": "2022-04-08T15:49:22.764916Z"
    },
    "papermill": {
     "duration": 2.047653,
     "end_time": "2022-04-09T11:00:04.700472",
     "exception": false,
     "start_time": "2022-04-09T11:00:02.652819",
     "status": "completed"
    },
    "tags": []
   },
   "outputs": [],
   "source": [
    "### SIMULATE LABEL GENERATION PROCESS AS FUNCTION OF THRESHOLD LEVEL ###\n",
    "\n",
    "pct_change = np.diff(y)\n",
    "pct_change = pct_change / y[:-1] *100\n",
    "index = np.arange(len(pct_change))\n",
    "\n",
    "fig = plt.figure(figsize=(18,7))\n",
    "camera = Camera(fig)\n",
    "\n",
    "for t in thresholds:\n",
    "    class1 = pct_change<t\n",
    "    class0 = pct_change>=t\n",
    "    label_prop = pd.Series(pct_change < t).replace(\n",
    "        {False:'class_0',True:'class_1'}).value_counts(sort=False)\n",
    "    \n",
    "    plt.subplot(121)\n",
    "    plt.scatter(index[class0], pct_change[class0], c='blue')\n",
    "    plt.scatter(index[class1], pct_change[class1], c='orange')\n",
    "    plt.axhline(t, c='red', linestyle='--', linewidth=3)\n",
    "    plt.xlabel('timestamps'); plt.title(f'Target Percentage Variations')\n",
    "    \n",
    "    plt.subplot(122)\n",
    "    label_prop.plot.pie(colors = ['blue', 'orange'], ylabel='', title='Label Proportion')\n",
    "    camera.snap()\n",
    "    \n",
    "animation = camera.animate()\n",
    "animation.save('./animation.gif')\n",
    "\n",
    "plt.show()"
   ]
  },
  {
   "cell_type": "code",
   "execution_count": 13,
   "id": "cbccdfcf",
   "metadata": {
    "execution": {
     "iopub.execute_input": "2022-04-09T11:00:04.768441Z",
     "iopub.status.busy": "2022-04-09T11:00:04.758640Z",
     "iopub.status.idle": "2022-04-09T11:05:53.890815Z",
     "shell.execute_reply": "2022-04-09T11:05:53.890006Z",
     "shell.execute_reply.started": "2022-04-05T07:22:42.782855Z"
    },
    "papermill": {
     "duration": 349.162973,
     "end_time": "2022-04-09T11:05:53.891168",
     "exception": false,
     "start_time": "2022-04-09T11:00:04.728195",
     "status": "completed"
    },
    "tags": []
   },
   "outputs": [
    {
     "name": "stderr",
     "output_type": "stream",
     "text": [
      "F1          | (0): 0.930 | (-0.1): 0.898 | (-0.2): 0.841 | (-0.3): 0.739 | (-0.4): 0.585:  85%|████████▌ | 85/100 [03:52<00:41,  2.74s/it]\n"
     ]
    },
    {
     "ename": "KeyboardInterrupt",
     "evalue": "",
     "output_type": "error",
     "traceback": [
      "\u001b[1;31m---------------------------------------------------------------------------\u001b[0m",
      "\u001b[1;31mKeyboardInterrupt\u001b[0m                         Traceback (most recent call last)",
      "Cell \u001b[1;32mIn[13], line 22\u001b[0m\n\u001b[0;32m     17\u001b[0m X_train, X_test, y_train, y_test \u001b[38;5;241m=\u001b[39m train_test_split(\n\u001b[0;32m     18\u001b[0m     X,y, test_size\u001b[38;5;241m=\u001b[39m\u001b[38;5;241m0.3\u001b[39m, shuffle\u001b[38;5;241m=\u001b[39m\u001b[38;5;28;01mFalse\u001b[39;00m\n\u001b[0;32m     19\u001b[0m )\n\u001b[0;32m     21\u001b[0m model \u001b[38;5;241m=\u001b[39m RandomForestClassifier(n_estimators\u001b[38;5;241m=\u001b[39m\u001b[38;5;241m100\u001b[39m, random_state\u001b[38;5;241m=\u001b[39m\u001b[38;5;241m33\u001b[39m, n_jobs\u001b[38;5;241m=\u001b[39m\u001b[38;5;241m-\u001b[39m\u001b[38;5;241m1\u001b[39m)\n\u001b[1;32m---> 22\u001b[0m \u001b[43mmodel\u001b[49m\u001b[38;5;241;43m.\u001b[39;49m\u001b[43mfit\u001b[49m\u001b[43m(\u001b[49m\u001b[43mX_train\u001b[49m\u001b[43m,\u001b[49m\u001b[43m \u001b[49m\u001b[43my_train\u001b[49m\u001b[43m)\u001b[49m\n\u001b[0;32m     24\u001b[0m y_pred \u001b[38;5;241m=\u001b[39m model\u001b[38;5;241m.\u001b[39mpredict(X_test)        \n\u001b[0;32m     25\u001b[0m f_scoring[\u001b[38;5;124m'\u001b[39m\u001b[38;5;124mRF\u001b[39m\u001b[38;5;124m'\u001b[39m][t]\u001b[38;5;241m.\u001b[39mappend(f1_score(y_test, y_pred))\n",
      "File \u001b[1;32m~\\AppData\\Roaming\\Python\\Python312\\site-packages\\sklearn\\base.py:1389\u001b[0m, in \u001b[0;36m_fit_context.<locals>.decorator.<locals>.wrapper\u001b[1;34m(estimator, *args, **kwargs)\u001b[0m\n\u001b[0;32m   1382\u001b[0m     estimator\u001b[38;5;241m.\u001b[39m_validate_params()\n\u001b[0;32m   1384\u001b[0m \u001b[38;5;28;01mwith\u001b[39;00m config_context(\n\u001b[0;32m   1385\u001b[0m     skip_parameter_validation\u001b[38;5;241m=\u001b[39m(\n\u001b[0;32m   1386\u001b[0m         prefer_skip_nested_validation \u001b[38;5;129;01mor\u001b[39;00m global_skip_validation\n\u001b[0;32m   1387\u001b[0m     )\n\u001b[0;32m   1388\u001b[0m ):\n\u001b[1;32m-> 1389\u001b[0m     \u001b[38;5;28;01mreturn\u001b[39;00m \u001b[43mfit_method\u001b[49m\u001b[43m(\u001b[49m\u001b[43mestimator\u001b[49m\u001b[43m,\u001b[49m\u001b[43m \u001b[49m\u001b[38;5;241;43m*\u001b[39;49m\u001b[43margs\u001b[49m\u001b[43m,\u001b[49m\u001b[43m \u001b[49m\u001b[38;5;241;43m*\u001b[39;49m\u001b[38;5;241;43m*\u001b[39;49m\u001b[43mkwargs\u001b[49m\u001b[43m)\u001b[49m\n",
      "File \u001b[1;32m~\\AppData\\Roaming\\Python\\Python312\\site-packages\\sklearn\\ensemble\\_forest.py:487\u001b[0m, in \u001b[0;36mBaseForest.fit\u001b[1;34m(self, X, y, sample_weight)\u001b[0m\n\u001b[0;32m    476\u001b[0m trees \u001b[38;5;241m=\u001b[39m [\n\u001b[0;32m    477\u001b[0m     \u001b[38;5;28mself\u001b[39m\u001b[38;5;241m.\u001b[39m_make_estimator(append\u001b[38;5;241m=\u001b[39m\u001b[38;5;28;01mFalse\u001b[39;00m, random_state\u001b[38;5;241m=\u001b[39mrandom_state)\n\u001b[0;32m    478\u001b[0m     \u001b[38;5;28;01mfor\u001b[39;00m i \u001b[38;5;129;01min\u001b[39;00m \u001b[38;5;28mrange\u001b[39m(n_more_estimators)\n\u001b[0;32m    479\u001b[0m ]\n\u001b[0;32m    481\u001b[0m \u001b[38;5;66;03m# Parallel loop: we prefer the threading backend as the Cython code\u001b[39;00m\n\u001b[0;32m    482\u001b[0m \u001b[38;5;66;03m# for fitting the trees is internally releasing the Python GIL\u001b[39;00m\n\u001b[0;32m    483\u001b[0m \u001b[38;5;66;03m# making threading more efficient than multiprocessing in\u001b[39;00m\n\u001b[0;32m    484\u001b[0m \u001b[38;5;66;03m# that case. However, for joblib 0.12+ we respect any\u001b[39;00m\n\u001b[0;32m    485\u001b[0m \u001b[38;5;66;03m# parallel_backend contexts set at a higher level,\u001b[39;00m\n\u001b[0;32m    486\u001b[0m \u001b[38;5;66;03m# since correctness does not rely on using threads.\u001b[39;00m\n\u001b[1;32m--> 487\u001b[0m trees \u001b[38;5;241m=\u001b[39m \u001b[43mParallel\u001b[49m\u001b[43m(\u001b[49m\n\u001b[0;32m    488\u001b[0m \u001b[43m    \u001b[49m\u001b[43mn_jobs\u001b[49m\u001b[38;5;241;43m=\u001b[39;49m\u001b[38;5;28;43mself\u001b[39;49m\u001b[38;5;241;43m.\u001b[39;49m\u001b[43mn_jobs\u001b[49m\u001b[43m,\u001b[49m\n\u001b[0;32m    489\u001b[0m \u001b[43m    \u001b[49m\u001b[43mverbose\u001b[49m\u001b[38;5;241;43m=\u001b[39;49m\u001b[38;5;28;43mself\u001b[39;49m\u001b[38;5;241;43m.\u001b[39;49m\u001b[43mverbose\u001b[49m\u001b[43m,\u001b[49m\n\u001b[0;32m    490\u001b[0m \u001b[43m    \u001b[49m\u001b[43mprefer\u001b[49m\u001b[38;5;241;43m=\u001b[39;49m\u001b[38;5;124;43m\"\u001b[39;49m\u001b[38;5;124;43mthreads\u001b[39;49m\u001b[38;5;124;43m\"\u001b[39;49m\u001b[43m,\u001b[49m\n\u001b[0;32m    491\u001b[0m \u001b[43m\u001b[49m\u001b[43m)\u001b[49m\u001b[43m(\u001b[49m\n\u001b[0;32m    492\u001b[0m \u001b[43m    \u001b[49m\u001b[43mdelayed\u001b[49m\u001b[43m(\u001b[49m\u001b[43m_parallel_build_trees\u001b[49m\u001b[43m)\u001b[49m\u001b[43m(\u001b[49m\n\u001b[0;32m    493\u001b[0m \u001b[43m        \u001b[49m\u001b[43mt\u001b[49m\u001b[43m,\u001b[49m\n\u001b[0;32m    494\u001b[0m \u001b[43m        \u001b[49m\u001b[38;5;28;43mself\u001b[39;49m\u001b[38;5;241;43m.\u001b[39;49m\u001b[43mbootstrap\u001b[49m\u001b[43m,\u001b[49m\n\u001b[0;32m    495\u001b[0m \u001b[43m        \u001b[49m\u001b[43mX\u001b[49m\u001b[43m,\u001b[49m\n\u001b[0;32m    496\u001b[0m \u001b[43m        \u001b[49m\u001b[43my\u001b[49m\u001b[43m,\u001b[49m\n\u001b[0;32m    497\u001b[0m \u001b[43m        \u001b[49m\u001b[43msample_weight\u001b[49m\u001b[43m,\u001b[49m\n\u001b[0;32m    498\u001b[0m \u001b[43m        \u001b[49m\u001b[43mi\u001b[49m\u001b[43m,\u001b[49m\n\u001b[0;32m    499\u001b[0m \u001b[43m        \u001b[49m\u001b[38;5;28;43mlen\u001b[39;49m\u001b[43m(\u001b[49m\u001b[43mtrees\u001b[49m\u001b[43m)\u001b[49m\u001b[43m,\u001b[49m\n\u001b[0;32m    500\u001b[0m \u001b[43m        \u001b[49m\u001b[43mverbose\u001b[49m\u001b[38;5;241;43m=\u001b[39;49m\u001b[38;5;28;43mself\u001b[39;49m\u001b[38;5;241;43m.\u001b[39;49m\u001b[43mverbose\u001b[49m\u001b[43m,\u001b[49m\n\u001b[0;32m    501\u001b[0m \u001b[43m        \u001b[49m\u001b[43mclass_weight\u001b[49m\u001b[38;5;241;43m=\u001b[39;49m\u001b[38;5;28;43mself\u001b[39;49m\u001b[38;5;241;43m.\u001b[39;49m\u001b[43mclass_weight\u001b[49m\u001b[43m,\u001b[49m\n\u001b[0;32m    502\u001b[0m \u001b[43m        \u001b[49m\u001b[43mn_samples_bootstrap\u001b[49m\u001b[38;5;241;43m=\u001b[39;49m\u001b[43mn_samples_bootstrap\u001b[49m\u001b[43m,\u001b[49m\n\u001b[0;32m    503\u001b[0m \u001b[43m        \u001b[49m\u001b[43mmissing_values_in_feature_mask\u001b[49m\u001b[38;5;241;43m=\u001b[39;49m\u001b[43mmissing_values_in_feature_mask\u001b[49m\u001b[43m,\u001b[49m\n\u001b[0;32m    504\u001b[0m \u001b[43m    \u001b[49m\u001b[43m)\u001b[49m\n\u001b[0;32m    505\u001b[0m \u001b[43m    \u001b[49m\u001b[38;5;28;43;01mfor\u001b[39;49;00m\u001b[43m \u001b[49m\u001b[43mi\u001b[49m\u001b[43m,\u001b[49m\u001b[43m \u001b[49m\u001b[43mt\u001b[49m\u001b[43m \u001b[49m\u001b[38;5;129;43;01min\u001b[39;49;00m\u001b[43m \u001b[49m\u001b[38;5;28;43menumerate\u001b[39;49m\u001b[43m(\u001b[49m\u001b[43mtrees\u001b[49m\u001b[43m)\u001b[49m\n\u001b[0;32m    506\u001b[0m \u001b[43m\u001b[49m\u001b[43m)\u001b[49m\n\u001b[0;32m    508\u001b[0m \u001b[38;5;66;03m# Collect newly grown trees\u001b[39;00m\n\u001b[0;32m    509\u001b[0m \u001b[38;5;28mself\u001b[39m\u001b[38;5;241m.\u001b[39mestimators_\u001b[38;5;241m.\u001b[39mextend(trees)\n",
      "File \u001b[1;32m~\\AppData\\Roaming\\Python\\Python312\\site-packages\\sklearn\\utils\\parallel.py:77\u001b[0m, in \u001b[0;36mParallel.__call__\u001b[1;34m(self, iterable)\u001b[0m\n\u001b[0;32m     72\u001b[0m config \u001b[38;5;241m=\u001b[39m get_config()\n\u001b[0;32m     73\u001b[0m iterable_with_config \u001b[38;5;241m=\u001b[39m (\n\u001b[0;32m     74\u001b[0m     (_with_config(delayed_func, config), args, kwargs)\n\u001b[0;32m     75\u001b[0m     \u001b[38;5;28;01mfor\u001b[39;00m delayed_func, args, kwargs \u001b[38;5;129;01min\u001b[39;00m iterable\n\u001b[0;32m     76\u001b[0m )\n\u001b[1;32m---> 77\u001b[0m \u001b[38;5;28;01mreturn\u001b[39;00m \u001b[38;5;28;43msuper\u001b[39;49m\u001b[43m(\u001b[49m\u001b[43m)\u001b[49m\u001b[38;5;241;43m.\u001b[39;49m\u001b[38;5;21;43m__call__\u001b[39;49m\u001b[43m(\u001b[49m\u001b[43miterable_with_config\u001b[49m\u001b[43m)\u001b[49m\n",
      "File \u001b[1;32m~\\AppData\\Roaming\\Python\\Python312\\site-packages\\joblib\\parallel.py:2007\u001b[0m, in \u001b[0;36mParallel.__call__\u001b[1;34m(self, iterable)\u001b[0m\n\u001b[0;32m   2001\u001b[0m \u001b[38;5;66;03m# The first item from the output is blank, but it makes the interpreter\u001b[39;00m\n\u001b[0;32m   2002\u001b[0m \u001b[38;5;66;03m# progress until it enters the Try/Except block of the generator and\u001b[39;00m\n\u001b[0;32m   2003\u001b[0m \u001b[38;5;66;03m# reaches the first `yield` statement. This starts the asynchronous\u001b[39;00m\n\u001b[0;32m   2004\u001b[0m \u001b[38;5;66;03m# dispatch of the tasks to the workers.\u001b[39;00m\n\u001b[0;32m   2005\u001b[0m \u001b[38;5;28mnext\u001b[39m(output)\n\u001b[1;32m-> 2007\u001b[0m \u001b[38;5;28;01mreturn\u001b[39;00m output \u001b[38;5;28;01mif\u001b[39;00m \u001b[38;5;28mself\u001b[39m\u001b[38;5;241m.\u001b[39mreturn_generator \u001b[38;5;28;01melse\u001b[39;00m \u001b[38;5;28;43mlist\u001b[39;49m\u001b[43m(\u001b[49m\u001b[43moutput\u001b[49m\u001b[43m)\u001b[49m\n",
      "File \u001b[1;32m~\\AppData\\Roaming\\Python\\Python312\\site-packages\\joblib\\parallel.py:1650\u001b[0m, in \u001b[0;36mParallel._get_outputs\u001b[1;34m(self, iterator, pre_dispatch)\u001b[0m\n\u001b[0;32m   1647\u001b[0m     \u001b[38;5;28;01myield\u001b[39;00m\n\u001b[0;32m   1649\u001b[0m     \u001b[38;5;28;01mwith\u001b[39;00m \u001b[38;5;28mself\u001b[39m\u001b[38;5;241m.\u001b[39m_backend\u001b[38;5;241m.\u001b[39mretrieval_context():\n\u001b[1;32m-> 1650\u001b[0m         \u001b[38;5;28;01myield from\u001b[39;00m \u001b[38;5;28mself\u001b[39m\u001b[38;5;241m.\u001b[39m_retrieve()\n\u001b[0;32m   1652\u001b[0m \u001b[38;5;28;01mexcept\u001b[39;00m \u001b[38;5;167;01mGeneratorExit\u001b[39;00m:\n\u001b[0;32m   1653\u001b[0m     \u001b[38;5;66;03m# The generator has been garbage collected before being fully\u001b[39;00m\n\u001b[0;32m   1654\u001b[0m     \u001b[38;5;66;03m# consumed. This aborts the remaining tasks if possible and warn\u001b[39;00m\n\u001b[0;32m   1655\u001b[0m     \u001b[38;5;66;03m# the user if necessary.\u001b[39;00m\n\u001b[0;32m   1656\u001b[0m     \u001b[38;5;28mself\u001b[39m\u001b[38;5;241m.\u001b[39m_exception \u001b[38;5;241m=\u001b[39m \u001b[38;5;28;01mTrue\u001b[39;00m\n",
      "File \u001b[1;32m~\\AppData\\Roaming\\Python\\Python312\\site-packages\\joblib\\parallel.py:1762\u001b[0m, in \u001b[0;36mParallel._retrieve\u001b[1;34m(self)\u001b[0m\n\u001b[0;32m   1757\u001b[0m \u001b[38;5;66;03m# If the next job is not ready for retrieval yet, we just wait for\u001b[39;00m\n\u001b[0;32m   1758\u001b[0m \u001b[38;5;66;03m# async callbacks to progress.\u001b[39;00m\n\u001b[0;32m   1759\u001b[0m \u001b[38;5;28;01mif\u001b[39;00m ((\u001b[38;5;28mlen\u001b[39m(\u001b[38;5;28mself\u001b[39m\u001b[38;5;241m.\u001b[39m_jobs) \u001b[38;5;241m==\u001b[39m \u001b[38;5;241m0\u001b[39m) \u001b[38;5;129;01mor\u001b[39;00m\n\u001b[0;32m   1760\u001b[0m     (\u001b[38;5;28mself\u001b[39m\u001b[38;5;241m.\u001b[39m_jobs[\u001b[38;5;241m0\u001b[39m]\u001b[38;5;241m.\u001b[39mget_status(\n\u001b[0;32m   1761\u001b[0m         timeout\u001b[38;5;241m=\u001b[39m\u001b[38;5;28mself\u001b[39m\u001b[38;5;241m.\u001b[39mtimeout) \u001b[38;5;241m==\u001b[39m TASK_PENDING)):\n\u001b[1;32m-> 1762\u001b[0m     \u001b[43mtime\u001b[49m\u001b[38;5;241;43m.\u001b[39;49m\u001b[43msleep\u001b[49m\u001b[43m(\u001b[49m\u001b[38;5;241;43m0.01\u001b[39;49m\u001b[43m)\u001b[49m\n\u001b[0;32m   1763\u001b[0m     \u001b[38;5;28;01mcontinue\u001b[39;00m\n\u001b[0;32m   1765\u001b[0m \u001b[38;5;66;03m# We need to be careful: the job list can be filling up as\u001b[39;00m\n\u001b[0;32m   1766\u001b[0m \u001b[38;5;66;03m# we empty it and Python list are not thread-safe by\u001b[39;00m\n\u001b[0;32m   1767\u001b[0m \u001b[38;5;66;03m# default hence the use of the lock\u001b[39;00m\n",
      "\u001b[1;31mKeyboardInterrupt\u001b[0m: "
     ]
    }
   ],
   "source": [
    "### FIT STANDARD RANDOM FOREST CLASSIFIER ###\n",
    "\n",
    "trials = tqdm(range(100))\n",
    "\n",
    "for i in trials:\n",
    "    \n",
    "    X,y = gen_timeseries_dataset(n_samples=6_000, n_features=10, level=100, random_state=i)\n",
    "    \n",
    "    y_change = np.diff(y)\n",
    "    y_change = y_change / y[:-1] *100\n",
    "    X = np.diff(X, axis=0)\n",
    "    \n",
    "    for t in thresholds:\n",
    "        \n",
    "        y = (y_change < t).astype(int)\n",
    "\n",
    "        X_train, X_test, y_train, y_test = train_test_split(\n",
    "            X,y, test_size=0.3, shuffle=False\n",
    "        )\n",
    "\n",
    "        model = RandomForestClassifier(n_estimators=100, random_state=33, n_jobs=-1)\n",
    "        model.fit(X_train, y_train)\n",
    "\n",
    "        y_pred = model.predict(X_test)        \n",
    "        f_scoring['RF'][t].append(f1_score(y_test, y_pred))\n",
    "        p_scoring['RF'][t].append(precision_score(y_test, y_pred))\n",
    "        r_scoring['RF'][t].append(recall_score(y_test, y_pred))\n",
    "    \n",
    "    desc = scores2str(f_scoring['RF'], 'F1')\n",
    "    trials.set_description(desc)\n",
    "\n",
    "\n",
    "print(scores2str(p_scoring['RF'], 'Precision'))\n",
    "print(scores2str(r_scoring['RF'], 'Recall'))\n",
    "print(scores2str(f_scoring['RF'], 'F1'))"
   ]
  },
  {
   "cell_type": "code",
   "execution_count": null,
   "id": "becafaf5",
   "metadata": {
    "execution": {
     "iopub.execute_input": "2022-04-09T11:05:54.141431Z",
     "iopub.status.busy": "2022-04-09T11:05:54.140467Z",
     "iopub.status.idle": "2022-04-09T11:05:54.911958Z",
     "shell.execute_reply": "2022-04-09T11:05:54.911120Z",
     "shell.execute_reply.started": "2022-04-05T07:41:15.894502Z"
    },
    "papermill": {
     "duration": 0.920186,
     "end_time": "2022-04-09T11:05:54.912161",
     "exception": false,
     "start_time": "2022-04-09T11:05:53.991975",
     "status": "completed"
    },
    "tags": []
   },
   "outputs": [],
   "source": [
    "### STANDARD RANDOM FOREST CLASSIFIER PERFORMANCES ###\n",
    "\n",
    "plt.figure(figsize=(18,5))\n",
    "plt.subplot(131)\n",
    "pd.DataFrame(p_scoring['RF']).plot.box(ax=plt.gca(), ylabel='precision', **boxplotcolorprop('blue'))\n",
    "plt.xlabel('thresholds')\n",
    "plt.subplot(132)\n",
    "pd.DataFrame(r_scoring['RF']).plot.box(ax=plt.gca(), ylabel='recall', **boxplotcolorprop('red'))\n",
    "plt.xlabel('thresholds')\n",
    "plt.subplot(133)\n",
    "pd.DataFrame(f_scoring['RF']).plot.box(ax=plt.gca(), ylabel='f1', **boxplotcolorprop('green'))\n",
    "plt.xlabel('thresholds')\n",
    "plt.show()"
   ]
  },
  {
   "cell_type": "code",
   "execution_count": null,
   "id": "884d506b",
   "metadata": {
    "execution": {
     "iopub.execute_input": "2022-04-09T11:05:55.133355Z",
     "iopub.status.busy": "2022-04-09T11:05:55.132198Z",
     "iopub.status.idle": "2022-04-09T11:12:34.617528Z",
     "shell.execute_reply": "2022-04-09T11:12:34.618211Z",
     "shell.execute_reply.started": "2022-04-05T07:23:13.515878Z"
    },
    "papermill": {
     "duration": 399.603131,
     "end_time": "2022-04-09T11:12:34.618538",
     "exception": false,
     "start_time": "2022-04-09T11:05:55.015407",
     "status": "completed"
    },
    "tags": []
   },
   "outputs": [],
   "source": [
    "### FIT WEIGHTED RANDOM FOREST CLASSIFIER ###\n",
    "\n",
    "trials = tqdm(range(100))\n",
    "\n",
    "for i in trials:\n",
    "    \n",
    "    X,y = gen_timeseries_dataset(n_samples=6_000, n_features=10, level=100, random_state=i)\n",
    "    \n",
    "    y_change = np.diff(y)\n",
    "    y_change = y_change / y[:-1] *100\n",
    "    X = np.diff(X, axis=0)\n",
    "    \n",
    "    for t in thresholds:\n",
    "        \n",
    "        y = (y_change < t).astype(int)\n",
    "\n",
    "        X_train, X_test, y_train, y_test = train_test_split(\n",
    "            X,y, test_size=0.3, shuffle=False\n",
    "        )\n",
    "\n",
    "        model = RandomForestClassifier(n_estimators=100, random_state=33, oob_score=True, n_jobs=-1)\n",
    "        model.fit(X_train, y_train)\n",
    "\n",
    "        linear_reg = LogisticRegression()\n",
    "        linear_reg.fit(model.oob_decision_function_, y_train)\n",
    "\n",
    "        y_pred = linear_reg.predict(model.predict_proba(X_test))\n",
    "        f_scoring['RF_STACK_OOB'][t].append(f1_score(y_test, y_pred))\n",
    "        p_scoring['RF_STACK_OOB'][t].append(precision_score(y_test, y_pred))\n",
    "        r_scoring['RF_STACK_OOB'][t].append(recall_score(y_test, y_pred))\n",
    "    \n",
    "    desc = scores2str(f_scoring['RF_STACK_OOB'], 'F1')\n",
    "    trials.set_description(desc)\n",
    "\n",
    "    \n",
    "print(scores2str(p_scoring['RF_STACK_OOB'], 'Precision'))\n",
    "print(scores2str(r_scoring['RF_STACK_OOB'], 'Recall'))\n",
    "print(scores2str(f_scoring['RF_STACK_OOB'], 'F1'))"
   ]
  },
  {
   "cell_type": "code",
   "execution_count": null,
   "id": "8a468ad5",
   "metadata": {
    "execution": {
     "iopub.execute_input": "2022-04-09T11:12:34.983424Z",
     "iopub.status.busy": "2022-04-09T11:12:34.982596Z",
     "iopub.status.idle": "2022-04-09T11:12:35.533300Z",
     "shell.execute_reply": "2022-04-09T11:12:35.532506Z",
     "shell.execute_reply.started": "2022-04-05T07:41:00.864669Z"
    },
    "papermill": {
     "duration": 0.737744,
     "end_time": "2022-04-09T11:12:35.533493",
     "exception": false,
     "start_time": "2022-04-09T11:12:34.795749",
     "status": "completed"
    },
    "tags": []
   },
   "outputs": [],
   "source": [
    "### WEIGHTED RANDOM FOREST CLASSIFIER PERFORMANCES ###\n",
    "\n",
    "plt.figure(figsize=(18,5))\n",
    "plt.subplot(131)\n",
    "pd.DataFrame(p_scoring['RF_STACK_OOB']).plot.box(ax=plt.gca(), ylabel='precision', **boxplotcolorprop('blue'))\n",
    "plt.xlabel('thresholds')\n",
    "plt.subplot(132)\n",
    "pd.DataFrame(r_scoring['RF_STACK_OOB']).plot.box(ax=plt.gca(), ylabel='recall', **boxplotcolorprop('red'))\n",
    "plt.xlabel('thresholds')\n",
    "plt.subplot(133)\n",
    "pd.DataFrame(f_scoring['RF_STACK_OOB']).plot.box(ax=plt.gca(), ylabel='f1', **boxplotcolorprop('green'))\n",
    "plt.xlabel('thresholds')\n",
    "plt.show()"
   ]
  },
  {
   "cell_type": "code",
   "execution_count": null,
   "id": "da5e1316",
   "metadata": {
    "execution": {
     "iopub.execute_input": "2022-04-09T11:12:35.907288Z",
     "iopub.status.busy": "2022-04-09T11:12:35.906488Z",
     "iopub.status.idle": "2022-04-09T11:27:24.446453Z",
     "shell.execute_reply": "2022-04-09T11:27:24.441798Z",
     "shell.execute_reply.started": "2022-04-05T07:23:48.450616Z"
    },
    "papermill": {
     "duration": 888.730319,
     "end_time": "2022-04-09T11:27:24.446750",
     "exception": false,
     "start_time": "2022-04-09T11:12:35.716431",
     "status": "completed"
    },
    "tags": []
   },
   "outputs": [],
   "source": [
    "### FIT LINEAR RANDOM FOREST CLASSIFIER ###\n",
    "\n",
    "trials = tqdm(range(100))\n",
    "\n",
    "for i in trials:\n",
    "    \n",
    "    X,y = gen_timeseries_dataset(n_samples=6_000, n_features=10, level=100, random_state=i)\n",
    "    \n",
    "    y_change = np.diff(y)\n",
    "    y_change = y_change / y[:-1] *100\n",
    "    X = np.diff(X, axis=0)\n",
    "    \n",
    "    for t in thresholds:\n",
    "        \n",
    "        y = (y_change < t).astype(int)\n",
    "\n",
    "        X_train, X_test, y_train, y_test = train_test_split(\n",
    "            X,y, test_size=0.3, shuffle=False\n",
    "        )\n",
    "\n",
    "        model = LinearForestClassifier(Ridge(), n_estimators=100, random_state=33, n_jobs=-1)\n",
    "        model.fit(X_train, y_train)\n",
    "\n",
    "        y_pred = model.predict(X_test)\n",
    "        f_scoring['LINEAR_RF'][t].append(f1_score(y_test, y_pred))\n",
    "        p_scoring['LINEAR_RF'][t].append(precision_score(y_test, y_pred))\n",
    "        r_scoring['LINEAR_RF'][t].append(recall_score(y_test, y_pred))\n",
    "    \n",
    "    desc = scores2str(f_scoring['LINEAR_RF'], 'F1')\n",
    "    trials.set_description(desc)\n",
    "\n",
    "    \n",
    "print(scores2str(p_scoring['LINEAR_RF'], 'Precision'))\n",
    "print(scores2str(r_scoring['LINEAR_RF'], 'Recall'))\n",
    "print(scores2str(f_scoring['LINEAR_RF'], 'F1'))"
   ]
  },
  {
   "cell_type": "code",
   "execution_count": null,
   "id": "c359c4ed",
   "metadata": {
    "execution": {
     "iopub.execute_input": "2022-04-09T11:27:24.961446Z",
     "iopub.status.busy": "2022-04-09T11:27:24.960603Z",
     "iopub.status.idle": "2022-04-09T11:27:25.497612Z",
     "shell.execute_reply": "2022-04-09T11:27:25.496878Z",
     "shell.execute_reply.started": "2022-04-05T07:40:31.120615Z"
    },
    "papermill": {
     "duration": 0.797467,
     "end_time": "2022-04-09T11:27:25.497788",
     "exception": false,
     "start_time": "2022-04-09T11:27:24.700321",
     "status": "completed"
    },
    "tags": []
   },
   "outputs": [],
   "source": [
    "### LINEAR RANDOM FOREST CLASSIFIER PERFORMANCES ###\n",
    "\n",
    "plt.figure(figsize=(18,5))\n",
    "plt.subplot(131)\n",
    "pd.DataFrame(p_scoring['LINEAR_RF']).plot.box(ax=plt.gca(), ylabel='precision', **boxplotcolorprop('blue'))\n",
    "plt.xlabel('thresholds')\n",
    "plt.subplot(132)\n",
    "pd.DataFrame(r_scoring['LINEAR_RF']).plot.box(ax=plt.gca(), ylabel='recall', **boxplotcolorprop('red'))\n",
    "plt.xlabel('thresholds')\n",
    "plt.subplot(133)\n",
    "pd.DataFrame(f_scoring['LINEAR_RF']).plot.box(ax=plt.gca(), ylabel='f1', **boxplotcolorprop('green'))\n",
    "plt.xlabel('thresholds')\n",
    "plt.show()"
   ]
  },
  {
   "cell_type": "code",
   "execution_count": null,
   "id": "6051cdee",
   "metadata": {
    "execution": {
     "iopub.execute_input": "2022-04-09T11:27:26.006162Z",
     "iopub.status.busy": "2022-04-09T11:27:26.005437Z",
     "iopub.status.idle": "2022-04-09T11:27:28.675626Z",
     "shell.execute_reply": "2022-04-09T11:27:28.675031Z",
     "shell.execute_reply.started": "2022-04-05T07:37:15.926529Z"
    },
    "papermill": {
     "duration": 2.925426,
     "end_time": "2022-04-09T11:27:28.675809",
     "exception": false,
     "start_time": "2022-04-09T11:27:25.750383",
     "status": "completed"
    },
    "tags": []
   },
   "outputs": [],
   "source": [
    "### PERFORMANCE COMPARISON ###\n",
    "\n",
    "for t in thresholds: \n",
    "    plt.figure(figsize=(18,5))\n",
    "    plt.subplot(131)\n",
    "    pd.DataFrame({m: p_scoring[m][t] for m in models}).plot.box(\n",
    "        ax=plt.gca(), title=f'label thresh {t}', ylabel='precision', **boxplotcolorprop('blue')\n",
    "    )\n",
    "    plt.subplot(132)\n",
    "    pd.DataFrame({m: r_scoring[m][t] for m in models}).plot.box(\n",
    "        ax=plt.gca(), title=f'label thresh {t}', ylabel='recall', **boxplotcolorprop('red')\n",
    "    )\n",
    "    plt.subplot(133)\n",
    "    pd.DataFrame({m: f_scoring[m][t] for m in models}).plot.box(\n",
    "        ax=plt.gca(), title=f'label thresh {t}', ylabel='f1', **boxplotcolorprop('green')\n",
    "    )\n",
    "    plt.show()\n",
    "    print('\\n\\n')"
   ]
  }
 ],
 "metadata": {
  "kernelspec": {
   "display_name": "Python 3",
   "language": "python",
   "name": "python3"
  },
  "language_info": {
   "codemirror_mode": {
    "name": "ipython",
    "version": 3
   },
   "file_extension": ".py",
   "mimetype": "text/x-python",
   "name": "python",
   "nbconvert_exporter": "python",
   "pygments_lexer": "ipython3",
   "version": "3.12.4"
  },
  "papermill": {
   "default_parameters": {},
   "duration": 1684.465254,
   "end_time": "2022-04-09T11:27:30.161699",
   "environment_variables": {},
   "exception": null,
   "input_path": "__notebook__.ipynb",
   "output_path": "__notebook__.ipynb",
   "parameters": {},
   "start_time": "2022-04-09T10:59:25.696445",
   "version": "2.3.3"
  }
 },
 "nbformat": 4,
 "nbformat_minor": 5
}
