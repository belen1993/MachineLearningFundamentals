{
 "cells": [
  {
   "cell_type": "markdown",
   "id": "1a18c259",
   "metadata": {
    "papermill": {
     "duration": 0.031568,
     "end_time": "2022-12-06T22:32:24.470851",
     "exception": false,
     "start_time": "2022-12-06T22:32:24.439283",
     "status": "completed"
    },
    "tags": []
   },
   "source": [
    "# Métodos de Clustering"
   ]
  },
  {
   "cell_type": "markdown",
   "id": "e8afb26b",
   "metadata": {
    "papermill": {
     "duration": 0.029292,
     "end_time": "2022-12-06T22:32:24.589863",
     "exception": false,
     "start_time": "2022-12-06T22:32:24.560571",
     "status": "completed"
    },
    "tags": []
   },
   "source": [
    "# Introduction"
   ]
  },
  {
   "cell_type": "markdown",
   "id": "a193a157",
   "metadata": {
    "papermill": {
     "duration": 0.028687,
     "end_time": "2022-12-06T22:32:24.647437",
     "exception": false,
     "start_time": "2022-12-06T22:32:24.618750",
     "status": "completed"
    },
    "tags": []
   },
   "source": [
    "El clustering (agrupación) es una de las formas más utilizadas de aprendizaje no supervisado. \n",
    "- Descubre automáticamente la agrupación natural en los datos.\n",
    "- Es especialmente útil para explorar los datos de los que no sabe nada.\n",
    "- Puede encontrar conexiones en las que nunca hubiera pensado.\n",
    "- También puede ser útil como un tipo de ingeniería de características, donde los ejemplos existentes y nuevos se pueden asignar y etiquetar como pertenecientes a uno de los grupos identificados en los datos.\n",
    "\n",
    "Algunas aplicaciones típicas en el mundo real incluyen detección de fraude, categorizar libros en una biblioteca o segmentación de clientes en marketing."
   ]
  },
  {
   "cell_type": "markdown",
   "id": "8098ae55",
   "metadata": {
    "papermill": {
     "duration": 0.029095,
     "end_time": "2022-12-06T22:32:24.705871",
     "exception": false,
     "start_time": "2022-12-06T22:32:24.676776",
     "status": "completed"
    },
    "tags": []
   },
   "source": [
    "## Tabla de contenido\n",
    "\n",
    "* 1. Tipos de algoritmos de agrupación\n",
    "* 2. Configuración\n",
    "* 3. Determinar el número óptimo de grupos\n",
    "* 4. K-means\n",
    "* 5. Agrupación jerárquica\n",
    "* 6. Algoritmo de agrupación DBSCAN\n",
    "* 7. Modelos de mezcla gaussiana (GMM)\n",
    "* 8. Comparación de todos los algoritmos"
   ]
  },
  {
   "cell_type": "markdown",
   "id": "4378395e",
   "metadata": {
    "papermill": {
     "duration": 0.028611,
     "end_time": "2022-12-06T22:32:24.763536",
     "exception": false,
     "start_time": "2022-12-06T22:32:24.734925",
     "status": "completed"
    },
    "tags": []
   },
   "source": [
    "# 1. Tipos de algoritmos de clustering\n",
    "\n",
    "Hay muchos algoritmos de clustering para elegir. \n",
    "- Es una buena idea explorar una gama de algoritmos y diferentes configuraciones. \n",
    "- Puede tomar algún tiempo descubrir qué tipo de algoritmo funciona mejor para los datos dados, pero cuando lo haga, obtendrá una visión invaluable de esos datos.\n",
    "\n",
    "**Centroide**\n",
    "\n",
    "Estos tipos de algoritmos separan los puntos de datos basados ​​en múltiples centroides en los datos. \n",
    "- Cada punto de datos se asigna a un clúster basado en su distancia cuadrada desde el centroide.\n",
    "- Este es el tipo de clustering más utilizado.\n",
    "- El algoritmo K-Means es uno de los algoritmos de clustering basados ​​en centroides.Aquí K es el número de grupos y es un hiperparámetro para el algoritmo.\n",
    "\n",
    "**Basados en jerárquico (basado en conectividad)**\n",
    "\n",
    "La idea se basa en la idea de que los objetos están más relacionados con los objetos cercanos que con los objetos más alejados. \n",
    "- Construye un árbol de grupos para que todo esté organizado de arriba a abajo.\n",
    "- Inicialmente, cada punto de datos se considera como un clúster individual.\n",
    "- En cada iteración, los grupos similares se fusionan con otros grupos hasta que se forman un clúster o k clústeres.\n",
    "\n",
    "**Basados en densidad**\n",
    "\n",
    "Los datos se agrupan por áreas de altas concentraciones de puntos de datos rodeados de áreas de bajas concentraciones de puntos.\n",
    "- Básicamente, el algoritmo encuentra los lugares densos  y les llama clústeres.\n",
    "- Los grupos pueden ser de cualquier forma.\n",
    "- No estás limitado a las condiciones esperadas.\n",
    "- Los algoritmos de clustering de este tipo no intentan asignar valores atípicos (outliers) a los grupos (son ignorados).\n",
    "\n",
    "**Basados en distribución**\n",
    "\n",
    "Es un modelo de clustering en el que se ajustan los datos sobre la probabilidad de que pueda pertenecer a la misma distribución.\n",
    "- Hay un punto central establecido.\n",
    "- A medida que aumenta la distancia de un punto de datos desde el centro, la probabilidad de que sea parte de ese clúster disminuye. \n",
    "- Este modelo funciona bien en datos sintéticos y grupos de tamaño diversa. \n",
    "- El método sufre de sobreajuste, a menos que se coloquen restricciones en la complejidad del modelo.\n",
    "- Un modelo más complejo generalmente podrá explicar mejor los datos, lo que hace que la elección de la complejidad del modelo apropiada sea inherentemente difícil."
   ]
  },
  {
   "cell_type": "markdown",
   "id": "0429b722",
   "metadata": {
    "papermill": {
     "duration": 0.029147,
     "end_time": "2022-12-06T22:32:24.822092",
     "exception": false,
     "start_time": "2022-12-06T22:32:24.792945",
     "status": "completed"
    },
    "tags": []
   },
   "source": [
    "# 2. Configuración"
   ]
  },
  {
   "cell_type": "markdown",
   "id": "c938ac39",
   "metadata": {
    "papermill": {
     "duration": 0.029015,
     "end_time": "2022-12-06T22:32:24.880252",
     "exception": false,
     "start_time": "2022-12-06T22:32:24.851237",
     "status": "completed"
    },
    "tags": []
   },
   "source": [
    "### 2. 1 Data sets\n",
    "\n",
    "Se usarán 7 datasets Seis para visualizaciones de ejercicios y una para resolver problemas de datos reales.\n",
    "\n",
    "Sets de ejercicios:\n",
    "https://www.kaggle.com/datasets/joonasyoon/clustering-exercises\n",
    "\n",
    "Conjunto de datos reales:\n",
    "https://www.kaggle.com/datasets/shrutipandit707/onlineretaildata"
   ]
  },
  {
   "cell_type": "markdown",
   "id": "8f17c096",
   "metadata": {
    "papermill": {
     "duration": 0.029019,
     "end_time": "2022-12-06T22:32:24.938954",
     "exception": false,
     "start_time": "2022-12-06T22:32:24.909935",
     "status": "completed"
    },
    "tags": []
   },
   "source": [
    "### 2.2 Importar librerias"
   ]
  },
  {
   "cell_type": "code",
   "execution_count": 82,
   "id": "150f30c1",
   "metadata": {
    "execution": {
     "iopub.execute_input": "2022-12-06T22:32:24.999665Z",
     "iopub.status.busy": "2022-12-06T22:32:24.999000Z",
     "iopub.status.idle": "2022-12-06T22:32:25.844039Z",
     "shell.execute_reply": "2022-12-06T22:32:25.843262Z"
    },
    "papermill": {
     "duration": 0.878284,
     "end_time": "2022-12-06T22:32:25.846362",
     "exception": false,
     "start_time": "2022-12-06T22:32:24.968078",
     "status": "completed"
    },
    "tags": []
   },
   "outputs": [],
   "source": [
    "import numpy as np\n",
    "import pandas as pd\n",
    "import seaborn as sns\n",
    "from matplotlib import pyplot as plt\n",
    "\n",
    "from collections import Counter\n",
    "\n",
    "%matplotlib inline"
   ]
  },
  {
   "cell_type": "markdown",
   "id": "b12af1aa",
   "metadata": {
    "papermill": {
     "duration": 0.02811,
     "end_time": "2022-12-06T22:32:25.902957",
     "exception": false,
     "start_time": "2022-12-06T22:32:25.874847",
     "status": "completed"
    },
    "tags": []
   },
   "source": [
    "### 2.3 Import Data"
   ]
  },
  {
   "cell_type": "code",
   "execution_count": 81,
   "id": "b899a923",
   "metadata": {
    "execution": {
     "iopub.execute_input": "2022-12-06T22:32:25.960868Z",
     "iopub.status.busy": "2022-12-06T22:32:25.960517Z",
     "iopub.status.idle": "2022-12-06T22:32:27.224176Z",
     "shell.execute_reply": "2022-12-06T22:32:27.223145Z"
    },
    "papermill": {
     "duration": 1.295415,
     "end_time": "2022-12-06T22:32:27.226551",
     "exception": false,
     "start_time": "2022-12-06T22:32:25.931136",
     "status": "completed"
    },
    "tags": []
   },
   "outputs": [],
   "source": [
    "blob_df = pd.read_csv(\"./data-clustering/blob.csv\")\n",
    "dart_df = pd.read_csv(\"./data-clustering/dart.csv\")\n",
    "outliers_df = pd.read_csv(\"./data-clustering/outliers.csv\")\n",
    "spiral2_df = pd.read_csv(\"./data-clustering/spiral2.csv\")\n",
    "basic2_df = pd.read_csv(\"./data-clustering/basic2.csv\")\n",
    "boxes3_df = pd.read_csv(\"./data-clustering/boxes3.csv\")\n",
    "\n",
    "raw_df = pd.read_csv(\"./data-clustering/OnlineRetail.csv.zip\", encoding= 'unicode_escape')"
   ]
  },
  {
   "cell_type": "markdown",
   "id": "80d76528",
   "metadata": {
    "papermill": {
     "duration": 0.028175,
     "end_time": "2022-12-06T22:32:27.283539",
     "exception": false,
     "start_time": "2022-12-06T22:32:27.255364",
     "status": "completed"
    },
    "tags": []
   },
   "source": [
    "### 2.4 Visualizaciones"
   ]
  },
  {
   "cell_type": "code",
   "execution_count": null,
   "id": "f975356c",
   "metadata": {
    "execution": {
     "iopub.execute_input": "2022-12-06T22:32:27.343057Z",
     "iopub.status.busy": "2022-12-06T22:32:27.342723Z",
     "iopub.status.idle": "2022-12-06T22:32:29.068744Z",
     "shell.execute_reply": "2022-12-06T22:32:29.067862Z"
    },
    "papermill": {
     "duration": 1.762408,
     "end_time": "2022-12-06T22:32:29.074498",
     "exception": false,
     "start_time": "2022-12-06T22:32:27.312090",
     "status": "completed"
    },
    "tags": []
   },
   "outputs": [],
   "source": [
    "fig, axes = plt.subplots(nrows=2, ncols=3,figsize=(13,13))\n",
    "fig.suptitle('EXERCISE DATA SETS\\n', size = 18)\n",
    "\n",
    "axes[0,0].scatter(blob_df['x'], blob_df['y'], c=blob_df['color'], s=10, cmap = \"Set3\")\n",
    "axes[0,0].set_title(\"Blob\");\n",
    "\n",
    "axes[0,1].scatter(dart_df['x'], dart_df['y'], c=dart_df['color'], s=10, cmap = \"Set3\")\n",
    "axes[0,1].set_title(\"Dart\");\n",
    "\n",
    "axes[0,2].scatter(basic2_df['x'], basic2_df['y'], c=basic2_df['color'], s=10, cmap = \"Set3\")\n",
    "axes[0,2].set_title(\"Basic\");\n",
    "\n",
    "axes[1,0].scatter(outliers_df['x'], outliers_df['y'], c=outliers_df['color'], s=10, cmap = \"Set3\")\n",
    "axes[1,0].set_title(\"Outliers\");\n",
    "\n",
    "axes[1,1].scatter(spiral2_df['x'], spiral2_df['y'], c=spiral2_df['color'], s=10, cmap = \"Set3\")\n",
    "axes[1,1].set_title(\"Spiral\");\n",
    "\n",
    "axes[1,2].scatter(boxes3_df['x'], boxes3_df['y'], c=boxes3_df['color'], s=10, cmap = \"Set3\")\n",
    "axes[1,2].set_title(\"Boxes\");\n",
    "\n",
    "plt.tight_layout()"
   ]
  },
  {
   "cell_type": "markdown",
   "id": "8cb12d2f",
   "metadata": {
    "papermill": {
     "duration": 0.035264,
     "end_time": "2022-12-06T22:32:29.146042",
     "exception": false,
     "start_time": "2022-12-06T22:32:29.110778",
     "status": "completed"
    },
    "tags": []
   },
   "source": [
    "### 2.5 Feature engineering"
   ]
  },
  {
   "cell_type": "markdown",
   "id": "c13c6080",
   "metadata": {
    "papermill": {
     "duration": 0.033793,
     "end_time": "2022-12-06T22:32:29.214596",
     "exception": false,
     "start_time": "2022-12-06T22:32:29.180803",
     "status": "completed"
    },
    "tags": []
   },
   "source": [
    "Los datos de la vida real necesitan cierta preparación antes del clustering."
   ]
  },
  {
   "cell_type": "code",
   "execution_count": null,
   "id": "f55dd2c3",
   "metadata": {
    "execution": {
     "iopub.execute_input": "2022-12-06T22:32:29.284963Z",
     "iopub.status.busy": "2022-12-06T22:32:29.284606Z",
     "iopub.status.idle": "2022-12-06T22:32:29.616146Z",
     "shell.execute_reply": "2022-12-06T22:32:29.615062Z"
    },
    "papermill": {
     "duration": 0.370066,
     "end_time": "2022-12-06T22:32:29.618541",
     "exception": false,
     "start_time": "2022-12-06T22:32:29.248475",
     "status": "completed"
    },
    "tags": []
   },
   "outputs": [],
   "source": [
    "raw_df.describe(include='all')"
   ]
  },
  {
   "cell_type": "code",
   "execution_count": null,
   "id": "fdf62f5c",
   "metadata": {
    "execution": {
     "iopub.execute_input": "2022-12-06T22:32:29.693419Z",
     "iopub.status.busy": "2022-12-06T22:32:29.693064Z",
     "iopub.status.idle": "2022-12-06T22:32:29.720354Z",
     "shell.execute_reply": "2022-12-06T22:32:29.719432Z"
    },
    "papermill": {
     "duration": 0.067662,
     "end_time": "2022-12-06T22:32:29.722645",
     "exception": false,
     "start_time": "2022-12-06T22:32:29.654983",
     "status": "completed"
    },
    "tags": []
   },
   "outputs": [],
   "source": [
    "# eliminar columnas\n",
    "raw_df.drop(['StockCode', 'InvoiceDate','Description','Country'],axis = 1, inplace =True)"
   ]
  },
  {
   "cell_type": "code",
   "execution_count": null,
   "id": "2e108e50",
   "metadata": {
    "execution": {
     "iopub.execute_input": "2022-12-06T22:32:29.799929Z",
     "iopub.status.busy": "2022-12-06T22:32:29.799546Z",
     "iopub.status.idle": "2022-12-06T22:32:29.809453Z",
     "shell.execute_reply": "2022-12-06T22:32:29.807847Z"
    },
    "papermill": {
     "duration": 0.052757,
     "end_time": "2022-12-06T22:32:29.811563",
     "exception": false,
     "start_time": "2022-12-06T22:32:29.758806",
     "status": "completed"
    },
    "tags": []
   },
   "outputs": [],
   "source": [
    "print(raw_df[\"Quantity\"].min())\n",
    "print(raw_df[\"UnitPrice\"].min())"
   ]
  },
  {
   "cell_type": "markdown",
   "id": "1efe18b0",
   "metadata": {
    "papermill": {
     "duration": 0.03781,
     "end_time": "2022-12-06T22:32:29.893938",
     "exception": false,
     "start_time": "2022-12-06T22:32:29.856128",
     "status": "completed"
    },
    "tags": []
   },
   "source": [
    "Negative values probably mean that there were returns. This is important factor for e-commerce, but for this study let's keep only transactions without return (our goal is to introduce and compare different clustering methods)."
   ]
  },
  {
   "cell_type": "code",
   "execution_count": null,
   "id": "2b261d38",
   "metadata": {
    "execution": {
     "iopub.execute_input": "2022-12-06T22:32:29.968323Z",
     "iopub.status.busy": "2022-12-06T22:32:29.967920Z",
     "iopub.status.idle": "2022-12-06T22:32:30.025924Z",
     "shell.execute_reply": "2022-12-06T22:32:30.024769Z"
    },
    "papermill": {
     "duration": 0.09764,
     "end_time": "2022-12-06T22:32:30.028192",
     "exception": false,
     "start_time": "2022-12-06T22:32:29.930552",
     "status": "completed"
    },
    "tags": []
   },
   "outputs": [],
   "source": [
    "df = raw_df.loc[raw_df[\"Quantity\"] >0 ]\n",
    "df = df.loc[df[\"UnitPrice\"] >0 ]"
   ]
  },
  {
   "cell_type": "code",
   "execution_count": null,
   "id": "c5ec45b0",
   "metadata": {
    "execution": {
     "iopub.execute_input": "2022-12-06T22:32:30.099753Z",
     "iopub.status.busy": "2022-12-06T22:32:30.099412Z",
     "iopub.status.idle": "2022-12-06T22:32:30.106669Z",
     "shell.execute_reply": "2022-12-06T22:32:30.105705Z"
    },
    "papermill": {
     "duration": 0.045427,
     "end_time": "2022-12-06T22:32:30.108550",
     "exception": false,
     "start_time": "2022-12-06T22:32:30.063123",
     "status": "completed"
    },
    "tags": []
   },
   "outputs": [],
   "source": [
    "print(df[\"Quantity\"].min())\n",
    "print(df[\"UnitPrice\"].min())"
   ]
  },
  {
   "cell_type": "code",
   "execution_count": null,
   "id": "d9444bef",
   "metadata": {
    "execution": {
     "iopub.execute_input": "2022-12-06T22:32:30.178512Z",
     "iopub.status.busy": "2022-12-06T22:32:30.178200Z",
     "iopub.status.idle": "2022-12-06T22:32:30.184388Z",
     "shell.execute_reply": "2022-12-06T22:32:30.183402Z"
    },
    "papermill": {
     "duration": 0.043845,
     "end_time": "2022-12-06T22:32:30.186646",
     "exception": false,
     "start_time": "2022-12-06T22:32:30.142801",
     "status": "completed"
    },
    "tags": []
   },
   "outputs": [],
   "source": [
    "# creando una nueva columna con la cantidad total\n",
    "df[\"Total\"]=df[\"Quantity\"]*df[\"UnitPrice\"]"
   ]
  },
  {
   "cell_type": "code",
   "execution_count": null,
   "id": "a96f3f4e",
   "metadata": {
    "execution": {
     "iopub.execute_input": "2022-12-06T22:32:30.258407Z",
     "iopub.status.busy": "2022-12-06T22:32:30.258090Z",
     "iopub.status.idle": "2022-12-06T22:32:30.276078Z",
     "shell.execute_reply": "2022-12-06T22:32:30.274714Z"
    },
    "papermill": {
     "duration": 0.056742,
     "end_time": "2022-12-06T22:32:30.278805",
     "exception": false,
     "start_time": "2022-12-06T22:32:30.222063",
     "status": "completed"
    },
    "tags": []
   },
   "outputs": [],
   "source": [
    "# elimianr 'Quantity' y 'UnitPrice'\n",
    "df.drop(['Quantity', 'UnitPrice'],axis = 1, inplace =True)"
   ]
  },
  {
   "cell_type": "code",
   "execution_count": null,
   "id": "41b7e8ee",
   "metadata": {
    "execution": {
     "iopub.execute_input": "2022-12-06T22:32:30.353695Z",
     "iopub.status.busy": "2022-12-06T22:32:30.353358Z",
     "iopub.status.idle": "2022-12-06T22:32:30.381234Z",
     "shell.execute_reply": "2022-12-06T22:32:30.380240Z"
    },
    "papermill": {
     "duration": 0.066919,
     "end_time": "2022-12-06T22:32:30.383092",
     "exception": false,
     "start_time": "2022-12-06T22:32:30.316173",
     "status": "completed"
    },
    "tags": []
   },
   "outputs": [],
   "source": [
    "# Verificar de datos para los valores faltantes\n",
    "df.isnull().sum()"
   ]
  },
  {
   "cell_type": "code",
   "execution_count": null,
   "id": "5ea53a42",
   "metadata": {
    "execution": {
     "iopub.execute_input": "2022-12-06T22:32:30.456963Z",
     "iopub.status.busy": "2022-12-06T22:32:30.456575Z",
     "iopub.status.idle": "2022-12-06T22:32:30.498078Z",
     "shell.execute_reply": "2022-12-06T22:32:30.497129Z"
    },
    "papermill": {
     "duration": 0.081097,
     "end_time": "2022-12-06T22:32:30.500255",
     "exception": false,
     "start_time": "2022-12-06T22:32:30.419158",
     "status": "completed"
    },
    "tags": []
   },
   "outputs": [],
   "source": [
    "# Eliminar valores faltantes en CustomerID.\n",
    "df.dropna(axis = 0, inplace=True)"
   ]
  },
  {
   "cell_type": "markdown",
   "id": "ac0bfb81",
   "metadata": {
    "papermill": {
     "duration": 0.035223,
     "end_time": "2022-12-06T22:32:30.571875",
     "exception": false,
     "start_time": "2022-12-06T22:32:30.536652",
     "status": "completed"
    },
    "tags": []
   },
   "source": [
    "**Creación de nuevas características:**\n",
    "\n",
    "1. Frequency: número total de transacciones\n",
    "\n",
    "2. Amount: Cantidad total de transacciones"
   ]
  },
  {
   "cell_type": "code",
   "execution_count": null,
   "id": "544ad199",
   "metadata": {
    "execution": {
     "iopub.execute_input": "2022-12-06T22:32:30.644570Z",
     "iopub.status.busy": "2022-12-06T22:32:30.643601Z",
     "iopub.status.idle": "2022-12-06T22:32:30.703871Z",
     "shell.execute_reply": "2022-12-06T22:32:30.703195Z"
    },
    "papermill": {
     "duration": 0.098533,
     "end_time": "2022-12-06T22:32:30.705547",
     "exception": false,
     "start_time": "2022-12-06T22:32:30.607014",
     "status": "completed"
    },
    "tags": []
   },
   "outputs": [],
   "source": [
    "#Amount\n",
    "Amount = df.groupby('CustomerID')['Total'].sum()\n",
    "Amount = Amount.reset_index()\n",
    "Amount.columns=['CustomerID','Amount']\n",
    "\n",
    "#frequency\n",
    "Frequency=df.groupby('CustomerID')['InvoiceNo'].count()\n",
    "Frequency=Frequency.reset_index()\n",
    "Frequency.columns=['CustomerID','Frequency']\n",
    "\n",
    "# fusionar ambos DF\n",
    "df1 = pd.merge(Amount, Frequency, on='CustomerID', how='inner')\n",
    "df1.head()"
   ]
  },
  {
   "cell_type": "code",
   "execution_count": null,
   "id": "67b80ce1",
   "metadata": {
    "execution": {
     "iopub.execute_input": "2022-12-06T22:32:30.777988Z",
     "iopub.status.busy": "2022-12-06T22:32:30.777469Z",
     "iopub.status.idle": "2022-12-06T22:32:30.783369Z",
     "shell.execute_reply": "2022-12-06T22:32:30.782492Z"
    },
    "papermill": {
     "duration": 0.044222,
     "end_time": "2022-12-06T22:32:30.785199",
     "exception": false,
     "start_time": "2022-12-06T22:32:30.740977",
     "status": "completed"
    },
    "tags": []
   },
   "outputs": [],
   "source": [
    "# eliminar  'CustomerID'\n",
    "df1.drop(['CustomerID'],axis = 1, inplace =True)"
   ]
  },
  {
   "cell_type": "markdown",
   "id": "bf4b9418",
   "metadata": {
    "papermill": {
     "duration": 0.036408,
     "end_time": "2022-12-06T22:32:30.858019",
     "exception": false,
     "start_time": "2022-12-06T22:32:30.821611",
     "status": "completed"
    },
    "tags": []
   },
   "source": [
    "### 2.6 Detección de atípicos"
   ]
  },
  {
   "cell_type": "code",
   "execution_count": null,
   "id": "ed9c2d57",
   "metadata": {
    "execution": {
     "iopub.execute_input": "2022-12-06T22:32:30.933221Z",
     "iopub.status.busy": "2022-12-06T22:32:30.932627Z",
     "iopub.status.idle": "2022-12-06T22:32:30.946681Z",
     "shell.execute_reply": "2022-12-06T22:32:30.945394Z"
    },
    "papermill": {
     "duration": 0.054061,
     "end_time": "2022-12-06T22:32:30.949033",
     "exception": false,
     "start_time": "2022-12-06T22:32:30.894972",
     "status": "completed"
    },
    "tags": []
   },
   "outputs": [],
   "source": [
    "df1.describe(include='all')"
   ]
  },
  {
   "cell_type": "code",
   "execution_count": null,
   "id": "513238fe",
   "metadata": {
    "execution": {
     "iopub.execute_input": "2022-12-06T22:32:31.023578Z",
     "iopub.status.busy": "2022-12-06T22:32:31.022809Z",
     "iopub.status.idle": "2022-12-06T22:32:31.260160Z",
     "shell.execute_reply": "2022-12-06T22:32:31.259074Z"
    },
    "papermill": {
     "duration": 0.277098,
     "end_time": "2022-12-06T22:32:31.262400",
     "exception": false,
     "start_time": "2022-12-06T22:32:30.985302",
     "status": "completed"
    },
    "tags": []
   },
   "outputs": [],
   "source": [
    "fig, axes = plt.subplots(nrows=1, ncols=2,figsize=(6,6))\n",
    "fig.suptitle('Outliers\\n', size = 25)\n",
    "\n",
    "sns.boxplot(ax=axes[0], data=df1['Amount'], palette='Spectral').set_title(\"Amount\")\n",
    "sns.boxplot(ax=axes[1], data=df1['Frequency'], palette='Spectral').set_title(\"Frequency\")\n",
    "\n",
    "plt.tight_layout()"
   ]
  },
  {
   "cell_type": "markdown",
   "id": "59f4793c",
   "metadata": {
    "papermill": {
     "duration": 0.037225,
     "end_time": "2022-12-06T22:32:31.337051",
     "exception": false,
     "start_time": "2022-12-06T22:32:31.299826",
     "status": "completed"
    },
    "tags": []
   },
   "source": [
    "Parece que tenemos un problema significativo con los valores atípicos."
   ]
  },
  {
   "cell_type": "markdown",
   "id": "1bdd6928",
   "metadata": {
    "papermill": {
     "duration": 0.037667,
     "end_time": "2022-12-06T22:32:31.412548",
     "exception": false,
     "start_time": "2022-12-06T22:32:31.374881",
     "status": "completed"
    },
    "tags": []
   },
   "source": [
    "#### Outlier detection model  selection\n",
    "* distribution is not normal\n",
    "* distribution is highly skewed\n",
    "* we have huge outliers\n",
    "\n",
    "Isolation Forest does not assume normal distribution and is able to detect outliers at a multi-dimensional level. Isolation Forest is also computationally efficient. The algorithm is based on the principle that anomalies are observations that are few and different, this should make them easier to identify. That's why I choose Isolation Forest.\n",
    "\n",
    "For oulier detection methods look here:\n",
    "https://www.kaggle.com/code/marcinrutecki/outlier-detection-methods\n",
    "\n",
    "#### Selección del modelo de detección de atípico\n",
    "* La distribución no es normal\n",
    "* La distribución es muy sesgada\n",
    "* Tenemos un cantidad inmensa de valores atípicos\n",
    "\n",
    "El bosque de aislamiento (Isolation Forest) no asume una distribución normal y es capaz de detectar valores atípicos a un nivel multidimensional.\n",
    "- también es computacionalmente eficiente.\n",
    "- el algoritmo se basa en el principio de que las anomalías son observaciones que son pocas y diferentes, esto debería hacer que sean más fáciles de identificar.Por eso elijo el bosque de aislamiento.\n",
    "\n",
    "**Sabes más**: métodos de detección de Ouliers:\n",
    "- https://www.kaggle.com/code/marcinrutecki/outlier-detection-methods"
   ]
  },
  {
   "cell_type": "code",
   "execution_count": null,
   "id": "e284365c",
   "metadata": {
    "execution": {
     "iopub.execute_input": "2022-12-06T22:32:31.490591Z",
     "iopub.status.busy": "2022-12-06T22:32:31.490274Z",
     "iopub.status.idle": "2022-12-06T22:32:31.806779Z",
     "shell.execute_reply": "2022-12-06T22:32:31.805787Z"
    },
    "papermill": {
     "duration": 0.357672,
     "end_time": "2022-12-06T22:32:31.809180",
     "exception": false,
     "start_time": "2022-12-06T22:32:31.451508",
     "status": "completed"
    },
    "tags": []
   },
   "outputs": [],
   "source": [
    "from sklearn.ensemble import IsolationForest\n",
    "df2 = df1.copy()"
   ]
  },
  {
   "cell_type": "code",
   "execution_count": null,
   "id": "e190babf",
   "metadata": {
    "execution": {
     "iopub.execute_input": "2022-12-06T22:32:31.884732Z",
     "iopub.status.busy": "2022-12-06T22:32:31.883707Z",
     "iopub.status.idle": "2022-12-06T22:32:32.240594Z",
     "shell.execute_reply": "2022-12-06T22:32:32.239327Z"
    },
    "papermill": {
     "duration": 0.395621,
     "end_time": "2022-12-06T22:32:32.242547",
     "exception": false,
     "start_time": "2022-12-06T22:32:31.846926",
     "status": "completed"
    },
    "tags": []
   },
   "outputs": [],
   "source": [
    "model=IsolationForest(n_estimators=150, max_samples='auto', contamination=float(0.1), max_features=1.0)\n",
    "model.fit(df2)"
   ]
  },
  {
   "cell_type": "code",
   "execution_count": null,
   "id": "e30f5dc0",
   "metadata": {
    "execution": {
     "iopub.execute_input": "2022-12-06T22:32:32.315470Z",
     "iopub.status.busy": "2022-12-06T22:32:32.315138Z",
     "iopub.status.idle": "2022-12-06T22:32:32.640497Z",
     "shell.execute_reply": "2022-12-06T22:32:32.639028Z"
    },
    "papermill": {
     "duration": 0.365268,
     "end_time": "2022-12-06T22:32:32.643306",
     "exception": false,
     "start_time": "2022-12-06T22:32:32.278038",
     "status": "completed"
    },
    "tags": []
   },
   "outputs": [],
   "source": [
    "# Agregar columnas 'puntajes' y 'anomalías' a DF\n",
    "scores = model.decision_function(df2)\n",
    "anomaly = model.predict(df2)\n",
    "\n",
    "df2['scores'] = scores\n",
    "df2['anomaly'] = anomaly\n",
    "\n",
    "anomaly = df2.loc[df2['anomaly'] == -1]\n",
    "anomaly_index = list(anomaly.index)\n",
    "print('El número total de outliers es:', len(anomaly))"
   ]
  },
  {
   "cell_type": "code",
   "execution_count": null,
   "id": "7a7be452",
   "metadata": {
    "execution": {
     "iopub.execute_input": "2022-12-06T22:32:32.720409Z",
     "iopub.status.busy": "2022-12-06T22:32:32.720055Z",
     "iopub.status.idle": "2022-12-06T22:32:32.725078Z",
     "shell.execute_reply": "2022-12-06T22:32:32.724356Z"
    },
    "papermill": {
     "duration": 0.044956,
     "end_time": "2022-12-06T22:32:32.726683",
     "exception": false,
     "start_time": "2022-12-06T22:32:32.681727",
     "status": "completed"
    },
    "tags": []
   },
   "outputs": [],
   "source": [
    "# eliminar outliers\n",
    "df2 = df2.drop(anomaly_index, axis = 0).reset_index(drop=True)"
   ]
  },
  {
   "cell_type": "code",
   "execution_count": null,
   "id": "67173e7b",
   "metadata": {
    "execution": {
     "iopub.execute_input": "2022-12-06T22:32:32.802657Z",
     "iopub.status.busy": "2022-12-06T22:32:32.802050Z",
     "iopub.status.idle": "2022-12-06T22:32:33.013723Z",
     "shell.execute_reply": "2022-12-06T22:32:33.012811Z"
    },
    "papermill": {
     "duration": 0.252001,
     "end_time": "2022-12-06T22:32:33.015838",
     "exception": false,
     "start_time": "2022-12-06T22:32:32.763837",
     "status": "completed"
    },
    "tags": []
   },
   "outputs": [],
   "source": [
    "fig, axes = plt.subplots(nrows=1, ncols=2,figsize=(6,6))\n",
    "fig.suptitle('Outliers\\n', size = 25)\n",
    "\n",
    "sns.boxplot(ax=axes[0], data=df2['Amount'], palette='Spectral').set_title(\"Amount\")\n",
    "sns.boxplot(ax=axes[1], data=df2['Frequency'], palette='Spectral').set_title(\"Frequency\")\n",
    "\n",
    "plt.tight_layout()"
   ]
  },
  {
   "cell_type": "markdown",
   "id": "e704485f",
   "metadata": {
    "papermill": {
     "duration": 0.036347,
     "end_time": "2022-12-06T22:32:33.090366",
     "exception": false,
     "start_time": "2022-12-06T22:32:33.054019",
     "status": "completed"
    },
    "tags": []
   },
   "source": [
    "¡Podemos ver que el algoritmo de bosque de aislamiento hizo un buen trabajo!"
   ]
  },
  {
   "cell_type": "code",
   "execution_count": null,
   "id": "f31a8117",
   "metadata": {
    "execution": {
     "iopub.execute_input": "2022-12-06T22:32:33.167053Z",
     "iopub.status.busy": "2022-12-06T22:32:33.166416Z",
     "iopub.status.idle": "2022-12-06T22:32:33.171128Z",
     "shell.execute_reply": "2022-12-06T22:32:33.170397Z"
    },
    "papermill": {
     "duration": 0.044981,
     "end_time": "2022-12-06T22:32:33.172981",
     "exception": false,
     "start_time": "2022-12-06T22:32:33.128000",
     "status": "completed"
    },
    "tags": []
   },
   "outputs": [],
   "source": [
    "# eliminar columnas que ya no necesitamos\n",
    "df2.drop(['scores', 'anomaly'], axis = 1, inplace =True)"
   ]
  },
  {
   "cell_type": "markdown",
   "id": "174286f5",
   "metadata": {
    "papermill": {
     "duration": 0.037266,
     "end_time": "2022-12-06T22:32:33.247648",
     "exception": false,
     "start_time": "2022-12-06T22:32:33.210382",
     "status": "completed"
    },
    "tags": []
   },
   "source": [
    "### 2.7 Escalar datos"
   ]
  },
  {
   "cell_type": "code",
   "execution_count": null,
   "id": "4c24439e",
   "metadata": {
    "execution": {
     "iopub.execute_input": "2022-12-06T22:32:33.325012Z",
     "iopub.status.busy": "2022-12-06T22:32:33.324604Z",
     "iopub.status.idle": "2022-12-06T22:32:33.332593Z",
     "shell.execute_reply": "2022-12-06T22:32:33.331698Z"
    },
    "papermill": {
     "duration": 0.049245,
     "end_time": "2022-12-06T22:32:33.334379",
     "exception": false,
     "start_time": "2022-12-06T22:32:33.285134",
     "status": "completed"
    },
    "tags": []
   },
   "outputs": [],
   "source": [
    "from sklearn.preprocessing import StandardScaler\n",
    "scaler = StandardScaler()\n",
    "df3=scaler.fit_transform(df2)"
   ]
  },
  {
   "cell_type": "markdown",
   "id": "942e357f",
   "metadata": {
    "papermill": {
     "duration": 0.03814,
     "end_time": "2022-12-06T22:32:33.409405",
     "exception": false,
     "start_time": "2022-12-06T22:32:33.371265",
     "status": "completed"
    },
    "tags": []
   },
   "source": [
    "# 3. Determinar el número óptimo de grupos"
   ]
  },
  {
   "cell_type": "markdown",
   "id": "8781270a",
   "metadata": {
    "papermill": {
     "duration": 0.037344,
     "end_time": "2022-12-06T22:32:33.483846",
     "exception": false,
     "start_time": "2022-12-06T22:32:33.446502",
     "status": "completed"
    },
    "tags": []
   },
   "source": [
    "Seleccionar un número óptimo de grupos es clave para aplicar el algoritmo de agrupación al conjunto de datos, como la agrupación de K-Means, que requiere que el usuario especifique el número de grupos K para generar.\n",
    "- Este es un procedimiento algo arbitrario, uno de los aspectos más débiles del análisis de clúster.\n",
    "- La principal diferencia entre **codo (elbow)** y **método de silueta (silhouette )** es que el codo solo calcula la distancia euclidiana, mientras que la silueta tiene en cuenta variables como varianza, asimetría, diferencias altas, etc. \n",
    "- Tanto el método del codo / gráfico SSE, como el método de silueta se pueden usar indistintamente en función de los detalles presentados por las parcelas."
   ]
  },
  {
   "cell_type": "markdown",
   "id": "07e63724",
   "metadata": {
    "papermill": {
     "duration": 0.036287,
     "end_time": "2022-12-06T22:32:33.632472",
     "exception": false,
     "start_time": "2022-12-06T22:32:33.596185",
     "status": "completed"
    },
    "tags": []
   },
   "source": [
    "### 3.1 Método del codo\n",
    "\n",
    "El método del codo es una heurística utilizada para determinar el número de grupos en un conjunto de datos. \n",
    "- El método consiste en trazar la variación explicada en función del número de grupos y elegir el codo de la curva como el número de grupos para usar.\n",
    "- Es una representación gráfica para encontrar la 'k' óptima en una agrupación de k-means.\n",
    "- Funciona al encontrar WCSS (Within-Cluster Sum of Square), es decir, la suma de la distancia cuadrada entre puntos en un clúster y el centroide de clúster.\n",
    "\n",
    "El número óptimo de grupos se puede definir de la siguiente manera:\n",
    "\n",
    "- Computar el algoritmo de agrupación (por ejemplo, agrupamiento de K-means) para diferentes valores de k. \n",
    "    - Por ejemplo, variando K de 1 a 10 grupos.\n",
    "- Para cada k, calcular la suma total dentro del grupo de cuadrado (WSS).\n",
    "- Trazar la curva de WSS de acuerdo con el número de grupos k.\n",
    "- La ubicación de una curva (rodilla [knee]) en la gráfica generalmente se considera como un indicador del número apropiado de grupos."
   ]
  },
  {
   "cell_type": "code",
   "execution_count": null,
   "id": "4ffd46a1",
   "metadata": {
    "execution": {
     "iopub.execute_input": "2022-12-06T22:32:33.708320Z",
     "iopub.status.busy": "2022-12-06T22:32:33.707620Z",
     "iopub.status.idle": "2022-12-06T22:32:34.972085Z",
     "shell.execute_reply": "2022-12-06T22:32:34.971101Z"
    },
    "papermill": {
     "duration": 1.305226,
     "end_time": "2022-12-06T22:32:34.974183",
     "exception": false,
     "start_time": "2022-12-06T22:32:33.668957",
     "status": "completed"
    },
    "tags": []
   },
   "outputs": [],
   "source": [
    "from sklearn.cluster import KMeans\n",
    "wcss = []\n",
    "for i in range(1, 11):\n",
    "    kmeans = KMeans(n_clusters = i, init = 'k-means++', random_state = 42)\n",
    "    kmeans.fit(df3)\n",
    "    wcss.append(kmeans.inertia_)\n",
    "plt.plot(range(1, 11), wcss)\n",
    "plt.title('El método del Codo')\n",
    "plt.xlabel('Número de grupos')\n",
    "plt.ylabel('WCSS')\n",
    "plt.show()"
   ]
  },
  {
   "cell_type": "code",
   "execution_count": null,
   "id": "354479fb",
   "metadata": {},
   "outputs": [],
   "source": [
    "# ! pip install yellowbrick"
   ]
  },
  {
   "cell_type": "code",
   "execution_count": null,
   "id": "26b18634",
   "metadata": {
    "execution": {
     "iopub.execute_input": "2022-12-06T22:32:35.050279Z",
     "iopub.status.busy": "2022-12-06T22:32:35.049853Z",
     "iopub.status.idle": "2022-12-06T22:32:41.351305Z",
     "shell.execute_reply": "2022-12-06T22:32:41.350390Z"
    },
    "papermill": {
     "duration": 6.341419,
     "end_time": "2022-12-06T22:32:41.353047",
     "exception": false,
     "start_time": "2022-12-06T22:32:35.011628",
     "status": "completed"
    },
    "tags": []
   },
   "outputs": [],
   "source": [
    "from yellowbrick.cluster import KElbowVisualizer\n",
    "\n",
    "# Yellowbrick extiende la API Scikit-Learn para facilitar la selección del modelo y el ajuste del hiperparameter.\n",
    "\n",
    "model = KMeans()\n",
    "# K es un rango de número de grupos.\n",
    "visualizer = KElbowVisualizer(model, k=(2,30), timings= True)\n",
    "visualizer.fit(df3)        # Ajustar datos al visualizador\n",
    "visualizer.show()        # Finalizar y renderizar figura"
   ]
  },
  {
   "cell_type": "markdown",
   "id": "b8ebd319",
   "metadata": {
    "papermill": {
     "duration": 0.036787,
     "end_time": "2022-12-06T22:32:41.428259",
     "exception": false,
     "start_time": "2022-12-06T22:32:41.391472",
     "status": "completed"
    },
    "tags": []
   },
   "source": [
    "### 3.2 Método de silueta\n",
    "\n",
    "El enfoque promedio de la silueta mide la calidad **de una agrupación**. \n",
    "- Es decir, determina qué tan bien se encuentra cada objeto dentro de su clúster.Un ancho de silueta promedio alto indica una buena agrupación.\n",
    "- El número óptimo de grupos K es el que maximiza la silueta promedio en un rango de valores posibles para K (Kaufman y Rousseeuw 1990).\n",
    "\n",
    "El algoritmo se puede calcular de la siguiente manera:\n",
    "\n",
    "- Computar el algoritmo de agrupación (por ejemplo, agrupamiento de K-means) para diferentes valores de k.\n",
    "- Para cada k, calcule la silueta promedio de observaciones (AVG.SIL).\n",
    "- Traza la curva de avg.sil según el número de grupos k.\n",
    "- La ubicación del máximo se considera el número apropiado de grupos.\n",
    "\n",
    "La puntuación de la silueta están en el rango [-1, 1].\n",
    "- El puntaje de silueta de 1 significa que los grupos son muy densos y están bien separados.\n",
    "- La puntuación de 0 significa que los grupos se superponen.\n",
    "- La puntuación de menos de 0 significa que los datos que pertenecen a los grupos pueden ser incorrectos/incorrectos."
   ]
  },
  {
   "cell_type": "code",
   "execution_count": null,
   "id": "c673fdc9",
   "metadata": {
    "execution": {
     "iopub.execute_input": "2022-12-06T22:32:41.503312Z",
     "iopub.status.busy": "2022-12-06T22:32:41.502974Z",
     "iopub.status.idle": "2022-12-06T22:32:41.866313Z",
     "shell.execute_reply": "2022-12-06T22:32:41.865006Z"
    },
    "papermill": {
     "duration": 0.403473,
     "end_time": "2022-12-06T22:32:41.868579",
     "exception": false,
     "start_time": "2022-12-06T22:32:41.465106",
     "status": "completed"
    },
    "tags": []
   },
   "outputs": [],
   "source": [
    "from sklearn import datasets\n",
    "from sklearn.metrics import silhouette_score\n",
    "\n",
    "# Instanciar los KMeans para 5 clústeres\n",
    "km = KMeans(n_clusters=5, random_state=42)\n",
    "# Ajustar Kmeans\n",
    "km.fit_predict(df3)\n",
    "# Calcular la puntuación de la silueta\n",
    "score = silhouette_score(df3, km.labels_, metric='euclidean')\n",
    "print('Silhouetter Average Score: %.3f' % score)"
   ]
  },
  {
   "cell_type": "code",
   "execution_count": null,
   "id": "271972b1",
   "metadata": {
    "execution": {
     "iopub.execute_input": "2022-12-06T22:32:41.944452Z",
     "iopub.status.busy": "2022-12-06T22:32:41.944124Z",
     "iopub.status.idle": "2022-12-06T22:32:46.209609Z",
     "shell.execute_reply": "2022-12-06T22:32:46.208667Z"
    },
    "papermill": {
     "duration": 4.306053,
     "end_time": "2022-12-06T22:32:46.211559",
     "exception": false,
     "start_time": "2022-12-06T22:32:41.905506",
     "status": "completed"
    },
    "tags": []
   },
   "outputs": [],
   "source": [
    "from yellowbrick.cluster import SilhouetteVisualizer\n",
    "\n",
    "# Yellowbrick extiende la API Scikit-Learn para facilitar la selección del modelo y el ajuste del hiperparameter.\n",
    "# código para simplemente crear visualización de silueta para grupos K-means con n_cluster = 2, 3, 4, 5, 6, 7.\n",
    "\n",
    "fig, ax = plt.subplots(3, 2, figsize=(13,8))\n",
    "fig.suptitle('Silhouette Analysis for 2-7 Clusters', size = 18)\n",
    "plt.tight_layout()\n",
    "\n",
    "for i in [2, 3, 4, 5, 6, 7]:\n",
    "    '''\n",
    "    Create KMeans instance for different number of clusters\n",
    "    '''\n",
    "    km = KMeans(n_clusters=i, init='k-means++', n_init=10, max_iter=100, random_state=42)\n",
    "    q, mod = divmod(i, 2)\n",
    "    '''\n",
    "    Create SilhouetteVisualizer instance with KMeans instance\n",
    "    Fit the visualizer\n",
    "    '''\n",
    "    visualizer = SilhouetteVisualizer(km, colors='yellowbrick', ax=ax[q-1][mod])\n",
    "    visualizer.fit(df3)"
   ]
  },
  {
   "cell_type": "markdown",
   "id": "8026d680",
   "metadata": {
    "papermill": {
     "duration": 0.038166,
     "end_time": "2022-12-06T22:32:46.289450",
     "exception": false,
     "start_time": "2022-12-06T22:32:46.251284",
     "status": "completed"
    },
    "tags": []
   },
   "source": [
    "La elección aquí no es tan obvia debido a las siguientes razones:\n",
    "\n",
    "1. Presencia de grupos con puntajes de silueta inferior al promedio para grupos 5-7.\n",
    "2. Fluctuaciones amplias en el tamaño de las figuras de silueta.\n",
    "3. La fluctuación de tamaño no es similar, pero es mejor para 6 y 7 grupos.\n",
    "4. El grosor de la gráfica de silueta que representa cada grupo también es un punto decisivo.\n",
    "    - Desafortunadamente, tenemos un clúster que es significativamente más grueso que los demás."
   ]
  },
  {
   "cell_type": "markdown",
   "id": "d06f5423",
   "metadata": {
    "papermill": {
     "duration": 0.03775,
     "end_time": "2022-12-06T22:32:46.365605",
     "exception": false,
     "start_time": "2022-12-06T22:32:46.327855",
     "status": "completed"
    },
    "tags": []
   },
   "source": [
    "### 3.3 Dendrograma\n",
    "\n",
    "Esta técnica es específica del método jerárquico aglomerativo.\n",
    "- El método comienza considerando cada punto como un clúster separado y comienza a unir puntos a grupos de manera jerárquica basada en sus distancias.\n",
    "- Para obtener el número óptimo de grupos para la agrupación jerárquica, usamos un dendrograma que es un gráfico en forma de árbol que muestra las secuencias de fusiones o divisiones de grupos."
   ]
  },
  {
   "cell_type": "code",
   "execution_count": null,
   "id": "c5fcaa3e",
   "metadata": {
    "execution": {
     "iopub.execute_input": "2022-12-06T22:32:46.444166Z",
     "iopub.status.busy": "2022-12-06T22:32:46.443132Z",
     "iopub.status.idle": "2022-12-06T22:33:39.996625Z",
     "shell.execute_reply": "2022-12-06T22:33:39.995602Z"
    },
    "papermill": {
     "duration": 53.632125,
     "end_time": "2022-12-06T22:33:40.036257",
     "exception": false,
     "start_time": "2022-12-06T22:32:46.404132",
     "status": "completed"
    },
    "tags": []
   },
   "outputs": [],
   "source": [
    "import scipy.cluster.hierarchy as sch\n",
    "from matplotlib import pyplot\n",
    "pyplot.figure(figsize=(12, 5))\n",
    "dendrogram = sch.dendrogram(sch.linkage(df3, method = 'ward'))\n",
    "plt.title('Dendrogram')\n",
    "plt.ylabel('Euclidean distances')\n",
    "plt.show()"
   ]
  },
  {
   "cell_type": "markdown",
   "id": "7e6d2bac",
   "metadata": {
    "papermill": {
     "duration": 0.040883,
     "end_time": "2022-12-06T22:33:40.116817",
     "exception": false,
     "start_time": "2022-12-06T22:33:40.075934",
     "status": "completed"
    },
    "tags": []
   },
   "source": [
    "# 4. K-Means\n",
    "\n",
    "K-means puede que sea el algoritmo de agrupamiento más conocido e implica asignar muestras a grupos en un esfuerzo por minimizar la varianza dentro de cada clúster.\n",
    "- Es un algoritmo basado en centroides y el algoritmo de aprendizaje sin supervisión más simple.\n",
    "- El algoritmo intenta minimizar la varianza de los puntos de datos dentro de un clúster.\n",
    "\n",
    "**K-means++** (parámetro de inicio predeterminado para k-means en sklearn) es el algoritmo que se utiliza para superar el inconveniente planteado por el algoritmo K-means.\n",
    "- El objetivo es extender el centroide inicial asignando el primer centroide al azar y luego seleccionando el resto de los centroides en función de la distancia cuadrada máxima.\n",
    "- La idea es empujar los centroides lo más lejos posible el uno del otro.\n",
    "\n",
    "Aunque la inicialización en K-means++ es computacionalmente más costosa que el estándar de K-Means, el tiempo de ejecución para la convergencia a la óptima se reduce drásticamente.\n",
    "- Esto se debe a que los centroides que se eligen inicialmente es probable que ya se encuentren en diferentes grupos."
   ]
  },
  {
   "attachments": {
    "f09a4346-57f3-4330-9abb-668f42800ba7.png": {
     "image/png": "[encoded data removed]"
    }
   },
   "cell_type": "markdown",
   "id": "46450227",
   "metadata": {
    "execution": {
     "iopub.execute_input": "2022-11-22T14:58:10.429613Z",
     "iopub.status.busy": "2022-11-22T14:58:10.428952Z",
     "iopub.status.idle": "2022-11-22T14:58:10.438368Z",
     "shell.execute_reply": "2022-11-22T14:58:10.437217Z",
     "shell.execute_reply.started": "2022-11-22T14:58:10.429570Z"
    },
    "papermill": {
     "duration": 0.038145,
     "end_time": "2022-12-06T22:33:40.194824",
     "exception": false,
     "start_time": "2022-12-06T22:33:40.156679",
     "status": "completed"
    },
    "tags": []
   },
   "source": [
    "![Kmeans.png](attachment:f09a4346-57f3-4330-9abb-668f42800ba7.png)"
   ]
  },
  {
   "cell_type": "markdown",
   "id": "a47dbb2b",
   "metadata": {
    "papermill": {
     "duration": 0.038047,
     "end_time": "2022-12-06T22:33:40.271685",
     "exception": false,
     "start_time": "2022-12-06T22:33:40.233638",
     "status": "completed"
    },
    "tags": []
   },
   "source": [
    "### 4.1 Ventajas y desventajas"
   ]
  },
  {
   "cell_type": "markdown",
   "id": "145d3f8e",
   "metadata": {
    "papermill": {
     "duration": 0.03795,
     "end_time": "2022-12-06T22:33:40.347679",
     "exception": false,
     "start_time": "2022-12-06T22:33:40.309729",
     "status": "completed"
    },
    "tags": []
   },
   "source": [
    "**Ventajas:**\n",
    "\n",
    "1. **Simple** - Es fácil de implementar\n",
    "\n",
    "2. **Alto rendimiento** - es rápida y eficiente en términos de su costo computacional\n",
    "\n",
    "4. **Fácil de interpretar** - Devuelve clústeres que se pueden interpretar y visualizar fácilmente\n",
    "\n",
    "5. **Adecuado para grandes conjuntos de datos** Si bien se sabe que los algoritmos de agrupamiento son relativamente lentos, el algoritmo K-Means es relativamente rápido, por eso es efectivo para grandes conjuntos de datos.\n",
    "\n",
    "\n",
    "**Desventajas:**\n",
    "\n",
    "1. **Asume la densidad esférica** - Esto significa que no funciona tan bien en situaciones en las que los grupos tienen formas irregulares naturalmente. Esta es una suposición relativamente estricta.\n",
    "\n",
    "2. **Sensible a la escala** - Si una de las variables está en una escala mucho mayor que las otras, esa variable tendrá un efecto descomunal en la distancia calculada. Esto significa que generalmente necesitamos volver a escalar datos antes de usar K-means.\n",
    "\n",
    "3. **Difícil de incorporar variables categóricas** - está intencionado para cuando todas las características son numéricas. Hay formas en que puede adaptar los datos para que sean adecuados si tiene algunas características categóricas, pero en general la mayoría de sus características debe ser numérica.\n",
    "\n",
    "4. **Sensible a los valores atípicos** - no tiene un método de detección de atípicos. Los centroides pueden ser arrastrados por valores atípicos, o los valores atípicos pueden obtener su propio clúster en lugar de ser ignorados. \n",
    "\n",
    "5. **Sensibilidad de inicialización** - es sensible a las condiciones iniciales que se utilizan para inicializar el algoritmo, como la elección de semillas o el orden de los puntos de datos. Si tenemos mala suerte con una opción de puntos de partida, los grupos producidos pueden ser arbitrariamente malos. Esto se soluciona con la variante K-Means++.\n",
    "\n",
    "6. **Tener que elegir el número de grupos** - La agrupación requiere especificar el número de grupos que se crearán con anticipación. Elegir el valor correcto de 'K' es un problema de selección de modelos desafiante.\n",
    "\n",
    "7. **Luchas con datos de alta dimensión** - El algoritmo depende de la distancia euclidiana, que es bastante mala en altas dimensiones. Si tenemos muchas características potenciales, debemos considerar aplicar la selección de características o los algoritmos de reducción de dimensionalidad a los datos antes de crear grupos.\n",
    "\n",
    "8. **El algoritmo es aleatorio**, lo que significa que podemos ejecutarlo en el mismo conjunto de datos varias veces y obtener diferentes respuestas. Este es un gran problema para muchas aplicaciones.\n",
    "\n",
    "9. **Los medios k solo pueden separar los grupos que son más o menos linealmente separables**: si los grupos se basan en la distancia al origen, K-means no podrá identificarlos.Podemos arreglarlo cambiando a coordenadas polares."
   ]
  },
  {
   "cell_type": "markdown",
   "id": "9a5c487e",
   "metadata": {
    "papermill": {
     "duration": 0.039369,
     "end_time": "2022-12-06T22:33:40.425404",
     "exception": false,
     "start_time": "2022-12-06T22:33:40.386035",
     "status": "completed"
    },
    "tags": []
   },
   "source": [
    "**Las formas de evitar el problema de la sensibilidad de inicialización en el algoritmo de K-means:**\n",
    "\n",
    "1. **Repetir K-means** - El algoritmo es ejecutado repetidamente. Los centroides se inicializan y los clústeres se forman para dar como resultado una menor distancia intra-clúster y una distancia entre clúster más grande.\n",
    "\n",
    "2. **K-Means++ ** - Una técnica de inicialización centralide inteligente. Solo un centroide se inicializa al azar, y se eligen otros centroides de manera que estén muy lejos de los centroides iniciales.Esto da como resultado una convergencia más rápida y una menor posibilidad de que el centroide se inicialice mal. Init predeterminado para Sklearn.\n",
    "\n",
    "K Medias ++ proporciona resultados relativamente mejores."
   ]
  },
  {
   "cell_type": "markdown",
   "id": "9ca3c7e4",
   "metadata": {
    "papermill": {
     "duration": 0.040323,
     "end_time": "2022-12-06T22:33:40.504784",
     "exception": false,
     "start_time": "2022-12-06T22:33:40.464461",
     "status": "completed"
    },
    "tags": []
   },
   "source": [
    "### 4.2 Variaciones de K-means"
   ]
  },
  {
   "cell_type": "markdown",
   "id": "a09e550d",
   "metadata": {
    "papermill": {
     "duration": 0.040824,
     "end_time": "2022-12-06T22:33:40.585427",
     "exception": false,
     "start_time": "2022-12-06T22:33:40.544603",
     "status": "completed"
    },
    "tags": []
   },
   "source": [
    "** Algunas de las variaciones del algoritmo K-means: **\n",
    "\n",
    "1. **K-Medians Clustering** - usa la mediana en cada dimensión (en lugar de la media).\n",
    "\n",
    "2. **K-medoids (particionamiento alrededor de los medoides)** - usa medoides en lugar de media, y minimiza la suma de distancias para las funciones de distancia arbitraria.\n",
    "\n",
    "3. **Agrupación de medias C difusas**- Una versión suave de K-means, donde cada punto de datos tiene un grado difuso de pertenencia a cada clúster.\n",
    "\n",
    "4. **K-means++** - Algoritmo estándar de K-Means con una inicialización más inteligente de los centroides (inicio predeterminado para sklearn)."
   ]
  },
  {
   "cell_type": "markdown",
   "id": "1c3a97df",
   "metadata": {
    "papermill": {
     "duration": 0.039777,
     "end_time": "2022-12-06T22:33:40.665762",
     "exception": false,
     "start_time": "2022-12-06T22:33:40.625985",
     "status": "completed"
    },
    "tags": []
   },
   "source": [
    "### 4.3 Entrenando el modelo K-Means"
   ]
  },
  {
   "cell_type": "code",
   "execution_count": null,
   "id": "9e90dcb4",
   "metadata": {
    "execution": {
     "iopub.execute_input": "2022-12-06T22:33:40.749159Z",
     "iopub.status.busy": "2022-12-06T22:33:40.748377Z",
     "iopub.status.idle": "2022-12-06T22:33:40.754785Z",
     "shell.execute_reply": "2022-12-06T22:33:40.754076Z"
    },
    "papermill": {
     "duration": 0.051068,
     "end_time": "2022-12-06T22:33:40.757080",
     "exception": false,
     "start_time": "2022-12-06T22:33:40.706012",
     "status": "completed"
    },
    "tags": []
   },
   "outputs": [],
   "source": [
    "# copiar data sets\n",
    "df_kmeans = df3.copy()\n",
    "df_blob_kmeans = blob_df.copy()\n",
    "df_dart_kmeans = dart_df.copy()\n",
    "df_basic_kmeans = basic2_df.copy()\n",
    "df_outliers_kmeans = outliers_df.copy()\n",
    "df_spiral2_kmeans = spiral2_df.copy()\n",
    "df_boxes3_kmeans = boxes3_df.copy()"
   ]
  },
  {
   "cell_type": "code",
   "execution_count": null,
   "id": "80aec8b0",
   "metadata": {
    "execution": {
     "iopub.execute_input": "2022-12-06T22:33:40.839252Z",
     "iopub.status.busy": "2022-12-06T22:33:40.838841Z",
     "iopub.status.idle": "2022-12-06T22:33:40.848543Z",
     "shell.execute_reply": "2022-12-06T22:33:40.847664Z"
    },
    "papermill": {
     "duration": 0.052851,
     "end_time": "2022-12-06T22:33:40.850477",
     "exception": false,
     "start_time": "2022-12-06T22:33:40.797626",
     "status": "completed"
    },
    "tags": []
   },
   "outputs": [],
   "source": [
    "df_blob_kmeans.drop(['color'], axis = 1, inplace =True)\n",
    "df_dart_kmeans.drop(['color'], axis = 1, inplace =True)\n",
    "df_basic_kmeans.drop(['color'], axis = 1, inplace =True)\n",
    "df_outliers_kmeans.drop(['color'], axis = 1, inplace =True)\n",
    "df_spiral2_kmeans.drop(['color'], axis = 1, inplace =True)\n",
    "df_boxes3_kmeans.drop(['color'], axis = 1, inplace =True)"
   ]
  },
  {
   "cell_type": "code",
   "execution_count": null,
   "id": "0b4852e0",
   "metadata": {
    "execution": {
     "iopub.execute_input": "2022-12-06T22:33:40.930870Z",
     "iopub.status.busy": "2022-12-06T22:33:40.930546Z",
     "iopub.status.idle": "2022-12-06T22:33:45.130203Z",
     "shell.execute_reply": "2022-12-06T22:33:45.129289Z"
    },
    "papermill": {
     "duration": 4.242453,
     "end_time": "2022-12-06T22:33:45.132879",
     "exception": false,
     "start_time": "2022-12-06T22:33:40.890426",
     "status": "completed"
    },
    "tags": []
   },
   "outputs": [],
   "source": [
    "# Entreanr el modelo\n",
    "kmeans = KMeans(n_clusters = 6, init = 'k-means++', random_state = 42)\n",
    "y_kmeans = kmeans.fit_predict(df_kmeans)\n",
    "\n",
    "kmeans_blob = KMeans(n_clusters = 4, init = 'k-means++', random_state = 42)\n",
    "kmeans_dart = KMeans(n_clusters = 2, init = 'k-means++', random_state = 42)\n",
    "kmeans_basic = KMeans(n_clusters = 5, init = 'k-means++', random_state = 42)\n",
    "kmeans_outliers = KMeans(n_clusters = 3, init = 'k-means++', random_state = 42)\n",
    "kmeans_spiral2 = KMeans(n_clusters = 2, init = 'k-means++', random_state = 42)\n",
    "kmeans_boxes3 = KMeans(n_clusters = 12, init = 'k-means++', random_state = 42)\n",
    "\n",
    "y_kmeans_blob = kmeans_blob.fit_predict(df_blob_kmeans)\n",
    "y_kmeans_dart = kmeans_dart.fit_predict(df_dart_kmeans)\n",
    "y_kmeans_basic = kmeans_basic.fit_predict(df_basic_kmeans)\n",
    "y_kmeans_outliers = kmeans_outliers.fit_predict(df_outliers_kmeans)\n",
    "y_kmeans_spiral2 = kmeans_spiral2.fit_predict(df_spiral2_kmeans)\n",
    "y_kmeans_boxes3 = kmeans_boxes3.fit_predict(df_boxes3_kmeans)"
   ]
  },
  {
   "cell_type": "code",
   "execution_count": null,
   "id": "7e0f5b68",
   "metadata": {
    "execution": {
     "iopub.execute_input": "2022-12-06T22:33:45.211588Z",
     "iopub.status.busy": "2022-12-06T22:33:45.211257Z",
     "iopub.status.idle": "2022-12-06T22:33:45.219484Z",
     "shell.execute_reply": "2022-12-06T22:33:45.218621Z"
    },
    "papermill": {
     "duration": 0.049231,
     "end_time": "2022-12-06T22:33:45.221624",
     "exception": false,
     "start_time": "2022-12-06T22:33:45.172393",
     "status": "completed"
    },
    "tags": []
   },
   "outputs": [],
   "source": [
    "# Creación de columnas 'clúster'\n",
    "df_blob_kmeans['Cluster'] = y_kmeans_blob\n",
    "df_dart_kmeans['Cluster'] = y_kmeans_dart\n",
    "df_basic_kmeans['Cluster'] = y_kmeans_basic\n",
    "df_outliers_kmeans['Cluster'] = y_kmeans_outliers\n",
    "df_spiral2_kmeans['Cluster'] = y_kmeans_spiral2\n",
    "df_boxes3_kmeans['Cluster'] = y_kmeans_boxes3"
   ]
  },
  {
   "cell_type": "markdown",
   "id": "cfc0678c",
   "metadata": {
    "papermill": {
     "duration": 0.037427,
     "end_time": "2022-12-06T22:33:45.298879",
     "exception": false,
     "start_time": "2022-12-06T22:33:45.261452",
     "status": "completed"
    },
    "tags": []
   },
   "source": [
    "### 4.4 Comparación de resultados"
   ]
  },
  {
   "cell_type": "code",
   "execution_count": null,
   "id": "44e6b6cf",
   "metadata": {
    "execution": {
     "iopub.execute_input": "2022-12-06T22:33:45.378131Z",
     "iopub.status.busy": "2022-12-06T22:33:45.377755Z",
     "iopub.status.idle": "2022-12-06T22:33:49.214880Z",
     "shell.execute_reply": "2022-12-06T22:33:49.213782Z"
    },
    "papermill": {
     "duration": 3.887893,
     "end_time": "2022-12-06T22:33:49.224203",
     "exception": false,
     "start_time": "2022-12-06T22:33:45.336310",
     "status": "completed"
    },
    "tags": []
   },
   "outputs": [],
   "source": [
    "fig, axes = plt.subplots(nrows=6, ncols=2,figsize=(10,30))\n",
    "fig.suptitle('ANSWER vs K-Means\\n', size = 18)\n",
    "\n",
    "axes[0,0].scatter(blob_df['x'], blob_df['y'], c=blob_df['color'], s=10, cmap = \"Set3\")\n",
    "axes[0,0].set_title(\"Answer Blob\");\n",
    "axes[0,1].scatter(df_blob_kmeans['x'], df_blob_kmeans['y'], c=df_blob_kmeans['Cluster'], s=10, cmap = \"Set3\")\n",
    "axes[0,1].set_title(\"K-Means Blob\");\n",
    "\n",
    "axes[1,0].scatter(dart_df['x'], dart_df['y'], c=dart_df['color'], s=10, cmap = \"Set3\")\n",
    "axes[1,0].set_title(\"Answer Dart\");\n",
    "axes[1,1].scatter(df_dart_kmeans['x'], df_dart_kmeans['y'], c=df_dart_kmeans['Cluster'], s=10, cmap = \"Set3\")\n",
    "axes[1,1].set_title(\"K-Means Dart\");\n",
    "\n",
    "axes[2,0].scatter(basic2_df['x'], basic2_df['y'], c=basic2_df['color'], s=10, cmap = \"Set3\")\n",
    "axes[2,0].set_title(\"Answer Basic\");\n",
    "axes[2,1].scatter(df_basic_kmeans['x'], df_basic_kmeans['y'], c=df_basic_kmeans['Cluster'], s=10, cmap = \"Set3\")\n",
    "axes[2,1].set_title(\"K-Means Basic\");\n",
    "\n",
    "axes[3,0].scatter(outliers_df['x'], outliers_df['y'], c=outliers_df['color'], s=10, cmap = \"Set3\")\n",
    "axes[3,0].set_title(\"Answer Outliers\");\n",
    "axes[3,1].scatter(df_outliers_kmeans['x'], df_outliers_kmeans['y'], c=df_outliers_kmeans['Cluster'], s=10, cmap = \"Set3\")\n",
    "axes[3,1].set_title(\"K-Means Outliers\");\n",
    "\n",
    "axes[4,0].scatter(spiral2_df['x'], spiral2_df['y'], c=spiral2_df['color'], s=10, cmap = \"Set3\")\n",
    "axes[4,0].set_title(\"Answer Spiral\");\n",
    "axes[4,1].scatter(df_spiral2_kmeans['x'], df_spiral2_kmeans['y'], c=df_spiral2_kmeans['Cluster'], s=10, cmap = \"Set3\")\n",
    "axes[4,1].set_title(\"K-Means Spiral\");\n",
    "\n",
    "axes[5,0].scatter(boxes3_df['x'], boxes3_df['y'], c=boxes3_df['color'], s=10, cmap = \"Set3\")\n",
    "axes[5,0].set_title(\"Answer Boxes\");\n",
    "axes[5,1].scatter(df_boxes3_kmeans['x'], df_boxes3_kmeans['y'], c=df_boxes3_kmeans['Cluster'], s=10, cmap = \"Set3\")\n",
    "axes[5,1].set_title(\"K-Means Boxes\");\n",
    "\n",
    "plt.tight_layout()"
   ]
  },
  {
   "cell_type": "markdown",
   "id": "39d5c0be",
   "metadata": {
    "papermill": {
     "duration": 0.052129,
     "end_time": "2022-12-06T22:33:49.329749",
     "exception": false,
     "start_time": "2022-12-06T22:33:49.277620",
     "status": "completed"
    },
    "tags": []
   },
   "source": [
    "### 4.5 K-Means en datos minoristas en línea"
   ]
  },
  {
   "cell_type": "code",
   "execution_count": null,
   "id": "01a08cab",
   "metadata": {
    "execution": {
     "iopub.execute_input": "2022-12-06T22:33:49.433957Z",
     "iopub.status.busy": "2022-12-06T22:33:49.433245Z",
     "iopub.status.idle": "2022-12-06T22:33:49.443041Z",
     "shell.execute_reply": "2022-12-06T22:33:49.442165Z"
    },
    "papermill": {
     "duration": 0.063841,
     "end_time": "2022-12-06T22:33:49.445096",
     "exception": false,
     "start_time": "2022-12-06T22:33:49.381255",
     "status": "completed"
    },
    "tags": []
   },
   "outputs": [],
   "source": [
    "# Hemos invocado el df, por eso necesitamos referirnos a df anterior para agregar números de clúster\n",
    "df_kmeans = df2.copy()\n",
    "# Verificación del número de elementos en clústeres y creación de la columna 'clúster'\n",
    "df_kmeans['Cluster'] = y_kmeans\n",
    "df_kmeans['Cluster'].value_counts()"
   ]
  },
  {
   "cell_type": "code",
   "execution_count": null,
   "id": "83e142b5",
   "metadata": {
    "execution": {
     "iopub.execute_input": "2022-12-06T22:33:49.550048Z",
     "iopub.status.busy": "2022-12-06T22:33:49.549678Z",
     "iopub.status.idle": "2022-12-06T22:33:50.058566Z",
     "shell.execute_reply": "2022-12-06T22:33:50.057482Z"
    },
    "papermill": {
     "duration": 0.564319,
     "end_time": "2022-12-06T22:33:50.061086",
     "exception": false,
     "start_time": "2022-12-06T22:33:49.496767",
     "status": "completed"
    },
    "tags": []
   },
   "outputs": [],
   "source": [
    "plt.figure(figsize=(15,7))\n",
    "sns.scatterplot(data=df_kmeans, x='Amount', y='Frequency', hue = 'Cluster', s=15, palette=\"Set3\")"
   ]
  },
  {
   "cell_type": "markdown",
   "id": "5de5c6a7",
   "metadata": {},
   "source": [
    "# 5. Agrupación jerárquica\n",
    "La agrupación jerárquica (también llamada análisis de clúster jerárquico o HCA) es un método de análisis de clúster que busca construir una jerarquía de grupos.\n",
    "- Se usa para agrupar objetos en grupos en función de lo similares que son entre sí.\n",
    "- En general, las fusiones y divisiones se determinan de manera codiciosa.Los resultados de la agrupación jerárquica generalmente se presentan en un dendrograma.\n",
    "\n",
    "La agrupación jerárquica es particularmente útil en situaciones en las que tiene algunas observaciones que se está particularmente interesado y se desea poder identificar observaciones similares a esas observaciones.\n",
    "\n",
    "La agrupación jerárquica puede ser:\n",
    "\n",
    "- **Aglomerativo** - Comienza con un elemento individual y luego los agrupa en grupos individuales.\n",
    "\n",
    "- **Divisivo** - Comienza con un conjunto de datos completo y lo divide en particiones.\n",
    "\n",
    "La agrupación aglomerativa es la mejor para encontrar pequeños grupos.\n",
    "\n",
    "El resultado final parece un dendrograma para que pueda visualizar fácilmente los grupos cuando termina el algoritmo."
   ]
  },
  {
   "attachments": {
    "da111b36-71eb-4fbf-b0db-f6bb673bd518.png": {
     "image/png": "[encoded data removed]"
    }
   },
   "cell_type": "markdown",
   "id": "6292cdda",
   "metadata": {
    "execution": {
     "iopub.execute_input": "2022-11-22T14:58:20.542617Z",
     "iopub.status.busy": "2022-11-22T14:58:20.541457Z",
     "iopub.status.idle": "2022-11-22T14:58:20.549689Z",
     "shell.execute_reply": "2022-11-22T14:58:20.548632Z",
     "shell.execute_reply.started": "2022-11-22T14:58:20.542485Z"
    },
    "papermill": {
     "duration": 0.062819,
     "end_time": "2022-12-06T22:33:50.283101",
     "exception": false,
     "start_time": "2022-12-06T22:33:50.220282",
     "status": "completed"
    },
    "tags": []
   },
   "source": [
    "![HC.png](attachment:da111b36-71eb-4fbf-b0db-f6bb673bd518.png)"
   ]
  },
  {
   "cell_type": "markdown",
   "id": "52c26e7f",
   "metadata": {
    "papermill": {
     "duration": 0.056106,
     "end_time": "2022-12-06T22:33:50.393250",
     "exception": false,
     "start_time": "2022-12-06T22:33:50.337144",
     "status": "completed"
    },
    "tags": []
   },
   "source": [
    "### 5.1 Ventajas y desventajas"
   ]
  },
  {
   "cell_type": "markdown",
   "id": "acf48366",
   "metadata": {},
   "source": [
    "**Ventajas:**\n",
    "\n",
    "1. **Obtener las observaciones más similares a cualquier observación dada**: el algoritmo proporciona información detallada sobre qué observaciones son más similares entre sí.Este nivel de detalle no es proporcionado por muchos otros algoritmos. \n",
    "\n",
    "2. **No es tan sensible a las condiciones de inicialización**: no es sensible a las condiciones de inicialización, como las semillas establecidas o el orden del conjunto de datos.En general, debe obtener resultados muy similares y, en algunos casos, el mismo resultado exacto, si vuelve a ejecutar su análisis con diferentes condiciones de inicialización.\n",
    "\n",
    "3. **Se puede adaptar para incorporar variables categóricas**: se puede adaptar para admitir situaciones en las que tiene una mezcla de variables numéricas y categóricas relativamente fácilmente.Para hacer esto, debe asegurarse de que está utilizando métricas de distancia que sean apropiadas para los tipos de datos mixtos, como la distancia del productor.\n",
    "\n",
    "4. **Menos sensible a los valores atípicos**: no es probable que la presencia de algunos valores atípicos afecte la forma en que el algoritmo se desempeña en los otros puntos de datos.\n",
    "\n",
    "5. **Suposiciones menos estrictas sobre la forma del clúster**: Los algoritmos no hacen suposiciones estrictas sobre la forma de sus clústeres.Dependiendo de la métrica de distancia que use, algunas formas de clúster pueden detectarse más fácilmente que otras, pero hay más flexibilidad.\n",
    "\n",
    "\n",
    "**Desventajas:**\n",
    "\n",
    "\n",
    "1. **Relativamente lento**: Es un algoritmo matemáticamente muy pesado.La agrupación jerárquica generalmente requiere calcular la distancia por pares entre todas las observaciones en un conjunto de datos, por lo que el número de cálculos requeridos crecen rápidamente a medida que aumenta el tamaño de su conjunto de datos.\n",
    "\n",
    "2. **Se tiene que especificar el número de grupos**, pero el número de grupos se puede cambiar después de que se haya ejecutado la parte principal del algoritmo, por lo que podemos experimentar con el uso de diferentes números de clústeres sin tener que ejecutar el algoritmo desde cero.\n",
    "\n",
    "3. **Sensible a la escala**: Es posible que necesitemos rescalar datos antes de ejecutar la agrupación.El nivel exacto de sensibilidad variará según la métrica de distancia que estamos utilizando para calcular la distancia entre los puntos.\n",
    "\n",
    "4. **Muy guiado por la heurística**: Esto lleva a una gran intervención manual en el proceso y, en consecuencia, se requiere conocimiento específico de aplicación/dominio para analizar si el resultado tiene algún sentido o no.\n",
    "\n",
    "5. **Posiblemente difícil de visualizar**: Si el número de muestras de datos aumenta, entonces analizar visualmente el dendrograma y tomar decisiones se vuelve imposible."
   ]
  },
  {
   "cell_type": "markdown",
   "id": "bc43ba92",
   "metadata": {
    "papermill": {
     "duration": 0.052182,
     "end_time": "2022-12-06T22:33:50.619569",
     "exception": false,
     "start_time": "2022-12-06T22:33:50.567387",
     "status": "completed"
    },
    "tags": []
   },
   "source": [
    "### 5.2 Variaciones de la agrupación jerárquica"
   ]
  },
  {
   "cell_type": "markdown",
   "id": "6e0449f2",
   "metadata": {
    "papermill": {
     "duration": 0.051687,
     "end_time": "2022-12-06T22:33:50.723189",
     "exception": false,
     "start_time": "2022-12-06T22:33:50.671502",
     "status": "completed"
    },
    "tags": []
   },
   "source": [
    "**BIRCH** \n",
    "- Es una extensión de la agrupación jerárquica que se ejecuta más rápido en grandes conjuntos de datos.\n",
    "- Tiene requisitos de memoria más bajos que la agrupación jerárquica estándar."
   ]
  },
  {
   "cell_type": "markdown",
   "id": "82c37362",
   "metadata": {
    "papermill": {
     "duration": 0.053276,
     "end_time": "2022-12-06T22:33:50.829711",
     "exception": false,
     "start_time": "2022-12-06T22:33:50.776435",
     "status": "completed"
    },
    "tags": []
   },
   "source": [
    "### 5.3 Entrenamiento del modelo de clúster jerárquico"
   ]
  },
  {
   "cell_type": "code",
   "execution_count": null,
   "id": "900d0874",
   "metadata": {
    "execution": {
     "iopub.execute_input": "2022-12-06T22:33:50.939771Z",
     "iopub.status.busy": "2022-12-06T22:33:50.938648Z",
     "iopub.status.idle": "2022-12-06T22:33:50.944764Z",
     "shell.execute_reply": "2022-12-06T22:33:50.944128Z"
    },
    "papermill": {
     "duration": 0.062053,
     "end_time": "2022-12-06T22:33:50.946491",
     "exception": false,
     "start_time": "2022-12-06T22:33:50.884438",
     "status": "completed"
    },
    "tags": []
   },
   "outputs": [],
   "source": [
    "# copiar data sets\n",
    "df_AgglomerativeC = df3.copy()\n",
    "df_blob_AgglomerativeC = blob_df.copy()\n",
    "df_dart_AgglomerativeC = dart_df.copy()\n",
    "df_basic2_AgglomerativeC = basic2_df.copy()\n",
    "df_outliers_AgglomerativeC = outliers_df.copy()\n",
    "df_spiral2_AgglomerativeC = spiral2_df.copy()\n",
    "df_boxes3_AgglomerativeC = boxes3_df.copy()"
   ]
  },
  {
   "cell_type": "code",
   "execution_count": null,
   "id": "5f729c2e",
   "metadata": {
    "execution": {
     "iopub.execute_input": "2022-12-06T22:33:51.050065Z",
     "iopub.status.busy": "2022-12-06T22:33:51.049628Z",
     "iopub.status.idle": "2022-12-06T22:33:51.057756Z",
     "shell.execute_reply": "2022-12-06T22:33:51.057113Z"
    },
    "papermill": {
     "duration": 0.062171,
     "end_time": "2022-12-06T22:33:51.059519",
     "exception": false,
     "start_time": "2022-12-06T22:33:50.997348",
     "status": "completed"
    },
    "tags": []
   },
   "outputs": [],
   "source": [
    "df_blob_AgglomerativeC.drop(['color'], axis = 1, inplace =True)\n",
    "df_dart_AgglomerativeC.drop(['color'], axis = 1, inplace =True)\n",
    "df_basic2_AgglomerativeC.drop(['color'], axis = 1, inplace =True)\n",
    "df_outliers_AgglomerativeC.drop(['color'], axis = 1, inplace =True)\n",
    "df_spiral2_AgglomerativeC.drop(['color'], axis = 1, inplace =True)\n",
    "df_boxes3_AgglomerativeC.drop(['color'], axis = 1, inplace =True)"
   ]
  },
  {
   "cell_type": "code",
   "execution_count": null,
   "id": "7d35096e",
   "metadata": {
    "execution": {
     "iopub.execute_input": "2022-12-06T22:33:51.165160Z",
     "iopub.status.busy": "2022-12-06T22:33:51.164611Z",
     "iopub.status.idle": "2022-12-06T22:34:07.274386Z",
     "shell.execute_reply": "2022-12-06T22:34:07.273479Z"
    },
    "papermill": {
     "duration": 16.165308,
     "end_time": "2022-12-06T22:34:07.276650",
     "exception": false,
     "start_time": "2022-12-06T22:33:51.111342",
     "status": "completed"
    },
    "tags": []
   },
   "outputs": [],
   "source": [
    "from sklearn.cluster import AgglomerativeClustering\n",
    "\n",
    "# Entreanr el modelo\n",
    "AgglomerativeC = AgglomerativeClustering(n_clusters=6, metric = 'euclidean', linkage = 'ward')\n",
    "y_AgglomerativeC = AgglomerativeC.fit_predict(df_AgglomerativeC)\n",
    "\n",
    "AgglomerativeC_blob = AgglomerativeClustering(n_clusters = 4, metric = 'euclidean', linkage = 'ward')\n",
    "AgglomerativeC_dart = AgglomerativeClustering(n_clusters = 2, metric = 'euclidean', linkage = 'ward')\n",
    "AgglomerativeC_basic = AgglomerativeClustering(n_clusters = 5, metric = 'euclidean', linkage = 'ward')\n",
    "AgglomerativeC_outliers = AgglomerativeClustering(n_clusters = 3, metric = 'euclidean', linkage = 'ward')\n",
    "AgglomerativeC_spiral2 = AgglomerativeClustering(n_clusters = 2, metric = 'euclidean', linkage = 'ward')\n",
    "AgglomerativeC_boxes3 = AgglomerativeClustering(n_clusters = 12, metric = 'euclidean', linkage = 'ward')\n",
    "\n",
    "y_AgglomerativeC_blob = AgglomerativeC_blob.fit_predict(df_blob_AgglomerativeC)\n",
    "y_AgglomerativeC_dart = AgglomerativeC_dart.fit_predict(df_dart_AgglomerativeC)\n",
    "y_AgglomerativeC_basic = AgglomerativeC_basic.fit_predict(df_basic2_AgglomerativeC)\n",
    "y_AgglomerativeC_outliers = AgglomerativeC_outliers.fit_predict(df_outliers_AgglomerativeC)\n",
    "y_AgglomerativeC_spiral2 = AgglomerativeC_spiral2.fit_predict(df_spiral2_AgglomerativeC)\n",
    "y_AgglomerativeC_boxes3 = AgglomerativeC_boxes3.fit_predict(df_boxes3_AgglomerativeC)"
   ]
  },
  {
   "cell_type": "code",
   "execution_count": null,
   "id": "6cc89f4a",
   "metadata": {
    "execution": {
     "iopub.execute_input": "2022-12-06T22:34:07.381511Z",
     "iopub.status.busy": "2022-12-06T22:34:07.381019Z",
     "iopub.status.idle": "2022-12-06T22:34:07.387405Z",
     "shell.execute_reply": "2022-12-06T22:34:07.386826Z"
    },
    "papermill": {
     "duration": 0.060842,
     "end_time": "2022-12-06T22:34:07.389047",
     "exception": false,
     "start_time": "2022-12-06T22:34:07.328205",
     "status": "completed"
    },
    "tags": []
   },
   "outputs": [],
   "source": [
    "# Creación de columnas 'clúster' en conjuntos de datos\n",
    "df_blob_AgglomerativeC['Cluster'] = y_AgglomerativeC_blob\n",
    "df_dart_AgglomerativeC['Cluster'] = y_AgglomerativeC_dart\n",
    "df_basic2_AgglomerativeC['Cluster'] = y_AgglomerativeC_basic\n",
    "df_outliers_AgglomerativeC['Cluster'] = y_AgglomerativeC_outliers\n",
    "df_spiral2_AgglomerativeC['Cluster'] = y_AgglomerativeC_spiral2\n",
    "df_boxes3_AgglomerativeC['Cluster'] = y_AgglomerativeC_boxes3"
   ]
  },
  {
   "cell_type": "markdown",
   "id": "e9783504",
   "metadata": {
    "papermill": {
     "duration": 0.051474,
     "end_time": "2022-12-06T22:34:07.491698",
     "exception": false,
     "start_time": "2022-12-06T22:34:07.440224",
     "status": "completed"
    },
    "tags": []
   },
   "source": [
    "### 5.4 Comparación de resultados"
   ]
  },
  {
   "cell_type": "code",
   "execution_count": null,
   "id": "568f169e",
   "metadata": {
    "execution": {
     "iopub.execute_input": "2022-12-06T22:34:07.596431Z",
     "iopub.status.busy": "2022-12-06T22:34:07.595787Z",
     "iopub.status.idle": "2022-12-06T22:34:11.106786Z",
     "shell.execute_reply": "2022-12-06T22:34:11.105474Z"
    },
    "papermill": {
     "duration": 3.571089,
     "end_time": "2022-12-06T22:34:11.114288",
     "exception": false,
     "start_time": "2022-12-06T22:34:07.543199",
     "status": "completed"
    },
    "tags": []
   },
   "outputs": [],
   "source": [
    "fig, axes = plt.subplots(nrows=6, ncols=2,figsize=(10,30))\n",
    "fig.suptitle('ANSWER vs Hierarchical clustering\\n', size = 18)\n",
    "\n",
    "axes[0,0].scatter(blob_df['x'], blob_df['y'], c=blob_df['color'], s=10, cmap = \"Set3\")\n",
    "axes[0,0].set_title(\"Answer Blob\");\n",
    "axes[0,1].scatter(df_blob_AgglomerativeC['x'], df_blob_AgglomerativeC['y'], c=df_blob_AgglomerativeC['Cluster'], s=10, cmap = \"Set3\")\n",
    "axes[0,1].set_title(\"Hierarchical clustering Blob\");\n",
    "\n",
    "axes[1,0].scatter(dart_df['x'], dart_df['y'], c=dart_df['color'], s=10, cmap = \"Set3\")\n",
    "axes[1,0].set_title(\"Answer Dart\");\n",
    "axes[1,1].scatter(df_dart_AgglomerativeC['x'], df_dart_AgglomerativeC['y'], c=df_dart_AgglomerativeC['Cluster'], s=10, cmap = \"Set3\")\n",
    "axes[1,1].set_title(\"Hierarchical clustering Dart\");\n",
    "\n",
    "axes[2,0].scatter(basic2_df['x'], basic2_df['y'], c=basic2_df['color'], s=10, cmap = \"Set3\")\n",
    "axes[2,0].set_title(\"Answer Basic\");\n",
    "axes[2,1].scatter(df_basic2_AgglomerativeC['x'], df_basic2_AgglomerativeC['y'], c=df_basic2_AgglomerativeC['Cluster'], s=10, cmap = \"Set3\")\n",
    "axes[2,1].set_title(\"Hierarchical clustering Basic\");\n",
    "\n",
    "axes[3,0].scatter(outliers_df['x'], outliers_df['y'], c=outliers_df['color'], s=10, cmap = \"Set3\")\n",
    "axes[3,0].set_title(\"Answer Outliers\");\n",
    "axes[3,1].scatter(df_outliers_AgglomerativeC['x'], df_outliers_AgglomerativeC['y'], c=df_outliers_AgglomerativeC['Cluster'], s=10, cmap = \"Set3\")\n",
    "axes[3,1].set_title(\"Hierarchical clustering Outliers\");\n",
    "\n",
    "axes[4,0].scatter(spiral2_df['x'], spiral2_df['y'], c=spiral2_df['color'], s=10, cmap = \"Set3\")\n",
    "axes[4,0].set_title(\"Answer Spiral\");\n",
    "axes[4,1].scatter(df_spiral2_AgglomerativeC['x'], df_spiral2_AgglomerativeC['y'], c=df_spiral2_AgglomerativeC['Cluster'], s=10, cmap = \"Set3\")\n",
    "axes[4,1].set_title(\"Hierarchical clustering Spiral\");\n",
    "\n",
    "axes[5,0].scatter(boxes3_df['x'], boxes3_df['y'], c=boxes3_df['color'], s=10, cmap = \"Set3\")\n",
    "axes[5,0].set_title(\"Answer Boxes\");\n",
    "axes[5,1].scatter(df_boxes3_AgglomerativeC['x'], df_boxes3_AgglomerativeC['y'], c=df_boxes3_AgglomerativeC['Cluster'], s=10, cmap = \"Set3\")\n",
    "axes[5,1].set_title(\"Hierarchical clustering Boxes\");\n",
    "\n",
    "plt.tight_layout()"
   ]
  },
  {
   "cell_type": "markdown",
   "id": "1a4fdc7e",
   "metadata": {
    "papermill": {
     "duration": 0.064165,
     "end_time": "2022-12-06T22:34:11.244462",
     "exception": false,
     "start_time": "2022-12-06T22:34:11.180297",
     "status": "completed"
    },
    "tags": []
   },
   "source": [
    "### 5.5 Agrupación jerárquica en datos minoristas en línea"
   ]
  },
  {
   "cell_type": "code",
   "execution_count": null,
   "id": "7f02708e",
   "metadata": {
    "execution": {
     "iopub.execute_input": "2022-12-06T22:34:11.372637Z",
     "iopub.status.busy": "2022-12-06T22:34:11.372288Z",
     "iopub.status.idle": "2022-12-06T22:34:11.379936Z",
     "shell.execute_reply": "2022-12-06T22:34:11.379332Z"
    },
    "papermill": {
     "duration": 0.07416,
     "end_time": "2022-12-06T22:34:11.381478",
     "exception": false,
     "start_time": "2022-12-06T22:34:11.307318",
     "status": "completed"
    },
    "tags": []
   },
   "outputs": [],
   "source": [
    "df_AgglomerativeC = df2.copy()\n",
    "# Verificación del número de elementos en clústeres y creación de la columna 'clúster'\n",
    "df_AgglomerativeC['Cluster'] = y_AgglomerativeC\n",
    "df_AgglomerativeC['Cluster'].value_counts()"
   ]
  },
  {
   "cell_type": "code",
   "execution_count": null,
   "id": "2e3f67e6",
   "metadata": {
    "execution": {
     "iopub.execute_input": "2022-12-06T22:34:11.510264Z",
     "iopub.status.busy": "2022-12-06T22:34:11.509913Z",
     "iopub.status.idle": "2022-12-06T22:34:11.968662Z",
     "shell.execute_reply": "2022-12-06T22:34:11.967575Z"
    },
    "papermill": {
     "duration": 0.525423,
     "end_time": "2022-12-06T22:34:11.970718",
     "exception": false,
     "start_time": "2022-12-06T22:34:11.445295",
     "status": "completed"
    },
    "tags": []
   },
   "outputs": [],
   "source": [
    "plt.figure(figsize=(15,7))\n",
    "sns.scatterplot(data=df_AgglomerativeC, x='Amount', y='Frequency', hue = 'Cluster', s=15, palette=\"Set3\")"
   ]
  },
  {
   "cell_type": "markdown",
   "id": "d6c2feee",
   "metadata": {
    "papermill": {
     "duration": 0.066441,
     "end_time": "2022-12-06T22:34:12.105229",
     "exception": false,
     "start_time": "2022-12-06T22:34:12.038788",
     "status": "completed"
    },
    "tags": []
   },
   "source": [
    "# 6. DBSCAN algoritmo de agrupación\n",
    "DBSCAN = density-based spatial clustering of applications with noise. \n",
    "- Es un algoritmo de agrupación basado en densidad.\n",
    "- Es capaz de encontrar grupos de forma irregular. \n",
    "- Separa regiones por áreas de baja densidad para que también pueda detectar valores atípicos realmente bien. \n",
    "- Este algoritmo es mejor que K-means cuando se trata de trabajar con datos de forma extraña."
   ]
  },
  {
   "attachments": {
    "ae50112d-c04f-4e20-a3c7-8a53d5b739d8.png": {
     "image/png": "[encoded data removed]"
    }
   },
   "cell_type": "markdown",
   "id": "e77dc7f9",
   "metadata": {
    "execution": {
     "iopub.execute_input": "2022-11-22T14:58:51.084018Z",
     "iopub.status.busy": "2022-11-22T14:58:51.083636Z",
     "iopub.status.idle": "2022-11-22T14:58:51.091667Z",
     "shell.execute_reply": "2022-11-22T14:58:51.090500Z",
     "shell.execute_reply.started": "2022-11-22T14:58:51.083987Z"
    },
    "papermill": {
     "duration": 0.066539,
     "end_time": "2022-12-06T22:34:12.239309",
     "exception": false,
     "start_time": "2022-12-06T22:34:12.172770",
     "status": "completed"
    },
    "tags": []
   },
   "source": [
    "![DBscan.png](attachment:ae50112d-c04f-4e20-a3c7-8a53d5b739d8.png)"
   ]
  },
  {
   "cell_type": "markdown",
   "id": "82ebe3be",
   "metadata": {
    "papermill": {
     "duration": 0.068383,
     "end_time": "2022-12-06T22:34:12.375330",
     "exception": false,
     "start_time": "2022-12-06T22:34:12.306947",
     "status": "completed"
    },
    "tags": []
   },
   "source": [
    "### 6.1 Ventajas y desventajas de DBSCAN"
   ]
  },
  {
   "cell_type": "markdown",
   "id": "a6a52785",
   "metadata": {},
   "source": [
    "**Ventajas:**\n",
    "1. **Maneja grupos de forma irregular y tamaño** - DBSCAN es uno de los algoritmos que hace la menor cantidad de suposiciones sobre la forma de los grupos. Eso significa que DBSCAN puede usarse para detectar grupos que tienen forma de extraña o irregularmente.\n",
    "\n",
    "2. **Robusto para los valores atípicos** - El algoritmo es capaz de detectar valores atípicos y excluirlos por completo de los grupos. \n",
    "\n",
    "3. **No requiere que se especifique el número de grupos **; otra ventaja es que no requiere que el usuario especifique el número de grupos. DBSCAN puede detectar automáticamente el número de grupos que existen en los datos.Esto es ideal para los casos en que no tiene mucha intuición sobre cuántos grupos debería haber.\n",
    "\n",
    "4. **Menos sensible a las condiciones de inicialización** - DBSCAN es menos sensible a las condiciones de inicialización como el orden de las observaciones en el conjunto de datos y la semilla que se usa que otros algoritmos de agrupación.\n",
    "\n",
    "5. **Relativamente rápido** - DBSCAN es generalmente más lento que la agrupación de K-Means, pero más rápido que la agrupación jerárquica y la agrupación espectral.\n",
    "\n",
    "\n",
    "**Desventajas:**\n",
    "1. **Difícil de incorporar características categóricas** - Debe usar DBSCAN en los casos en que la mayoría de sus características son numéricas.\n",
    "\n",
    "2. **Requiere una caída en la densidad para detectar bordes de clúster**: debe haber una caída en la densidad de los puntos de datos entre clústeres para que el algoritmo pueda detectar los límites entre los grupos.Si hay múltiples grupos que se superponen sin una caída de la densidad de datos entre ellos, pueden agruparse en un solo clúster.\n",
    "\n",
    "3. **Las luchas con grupos de densidad variable** - DBSCAN determina dónde comienzan los grupos y se detienen mirando lugares donde la densidad de puntos de datos cae por debajo de cierto umbral.Puede ser difícil encontrar un umbral que capture todos los puntos en el clúster menos denso sin excluir demasiados valores atípicos extraños en el grupo más denso.\n",
    "\n",
    "4. **Sensible a la escala** - DBSCAN es sensible a la escala de variables.Eso significa que necesitamos rescalar variables si están en escalas muy diferentes.\n",
    "\n",
    "5. **Las luchas con datos de alta dimensión** - El rendimiento de DBSCAN tiende a degradarse en situaciones donde hay muchas características.Deberíamos usar técnicas de reducción de dimensionalidad o selección de características para reducir el número de características si tenemos un conjunto de datos de alta dimensión.\n",
    "\n",
    "6. **Necesidad de configurar los parámetros para Epsilon y MinPts**. Esto podría ser complicado."
   ]
  },
  {
   "cell_type": "markdown",
   "id": "bf389467",
   "metadata": {
    "papermill": {
     "duration": 0.068148,
     "end_time": "2022-12-06T22:34:12.652341",
     "exception": false,
     "start_time": "2022-12-06T22:34:12.584193",
     "status": "completed"
    },
    "tags": []
   },
   "source": [
    "### 6.2 Elegir los parámetros iniciales correctos"
   ]
  },
  {
   "cell_type": "markdown",
   "id": "02d76968",
   "metadata": {},
   "source": [
    "DBSCAN requiere dos parámetros -  elegir los números correctos es fundamental para este algoritmo.\n",
    "\n",
    "1. **Epsilon (ε)** es el radio del círculo que se creará alrededor de cada punto de datos para verificar la densidad.\n",
    "    - Esta técnica calcula la distancia promedio entre cada punto y sus k vecinos más cercanos, donde k = el valor de los Mints que seleccionó.Las distancias K promedio se trazan en orden ascendente en un gráfico K-Distance. \n",
    "    - El valor de Epsilon se puede decidir a partir del gráfico K-distance. \n",
    "    - El punto de curvatura máxima (codo) en este gráfico nos dice sobre el valor de Epsilon (es decir, donde el gráfico tiene la mayor pendiente).\n",
    "\n",
    "\n",
    "2. **MinPoints (MinPts)** es el número mínimo de puntos de datos requeridos dentro de ese círculo para que ese punto de datos se clasifique como un punto central.\n",
    "    - No existe una forma automática de determinar el valor de los MinPts para DBSCAN.\n",
    "    - No tiene sentido tomar Minpoints como 1 porque dará como resultado que cada punto sea un clúster separado.\n",
    "    - Por tanto, debe ser al menos 3. \n",
    "    - Generalmente, es el doble de las dimensiones o dimensiones +1.\n",
    "    - El conocimiento del dominio también decide su valor.\n",
    "\n",
    "\n",
    "\n",
    "* Si el conjunto de datos es más ruidoso, elegit un valor más grande de los MinPts\n",
    "* Para datos bidimensionales, usar el valor predeterminado de DBSCAN de MinPts = 4 (Ester et al., 1996).\n",
    "\n",
    "\n",
    "El valor de los puntos mínimos debe ser al menos uno mayor que el número de dimensiones del conjunto de datos:\n",
    "\n",
    "* MinPts> = Dimensions * 2\n",
    "\n",
    "O\n",
    "\n",
    "* MinPts> = Dimensions + 1\n",
    "\n",
    "**IMPORTANTE:**\n",
    "\n",
    "A veces es difícil encontrar parámetros adecuados de Epsilon y MinPts para el conjunto de datos. Estas son algunos tips:\n",
    "\n",
    "1. Usar un MinPts más grande para conjuntos de datos grandes y ruidosos.\n",
    "\n",
    "2. Si se obtienen grupos demasiado grandes: disminuir Epsilon.\n",
    "\n",
    "3. Si se obtiene demasiado ruido: aumenta Epsilon.\n",
    "\n",
    "4. La buena agrupación requiere iteraciones."
   ]
  },
  {
   "attachments": {
    "cf50ef28-b2fa-4769-9496-2b72c3cc1731.png": {
     "image/png": "[encoded data removed]"
    }
   },
   "cell_type": "markdown",
   "id": "0fab03e3",
   "metadata": {
    "execution": {
     "iopub.execute_input": "2022-11-22T14:58:51.095161Z",
     "iopub.status.busy": "2022-11-22T14:58:51.094838Z",
     "iopub.status.idle": "2022-11-22T14:58:51.105600Z",
     "shell.execute_reply": "2022-11-22T14:58:51.104275Z",
     "shell.execute_reply.started": "2022-11-22T14:58:51.095133Z"
    },
    "papermill": {
     "duration": 0.06706,
     "end_time": "2022-12-06T22:34:12.920158",
     "exception": false,
     "start_time": "2022-12-06T22:34:12.853098",
     "status": "completed"
    },
    "tags": []
   },
   "source": [
    "![eps.png](attachment:cf50ef28-b2fa-4769-9496-2b72c3cc1731.png)"
   ]
  },
  {
   "cell_type": "markdown",
   "id": "028063ed",
   "metadata": {
    "papermill": {
     "duration": 0.065207,
     "end_time": "2022-12-06T22:34:13.051588",
     "exception": false,
     "start_time": "2022-12-06T22:34:12.986381",
     "status": "completed"
    },
    "tags": []
   },
   "source": [
    "Para trazar un gráfico K-Distance, necesitamos una distancia entre un punto y su punto de datos más cercano para todos los puntos de datos en el conjunto de datos.\n",
    "\n",
    "Lo obtenemos usando los `NearestNeighbors`."
   ]
  },
  {
   "cell_type": "code",
   "execution_count": null,
   "id": "6504410b",
   "metadata": {
    "execution": {
     "iopub.execute_input": "2022-12-06T22:34:13.185171Z",
     "iopub.status.busy": "2022-12-06T22:34:13.184778Z",
     "iopub.status.idle": "2022-12-06T22:34:13.192204Z",
     "shell.execute_reply": "2022-12-06T22:34:13.190798Z"
    },
    "papermill": {
     "duration": 0.076879,
     "end_time": "2022-12-06T22:34:13.194538",
     "exception": false,
     "start_time": "2022-12-06T22:34:13.117659",
     "status": "completed"
    },
    "tags": []
   },
   "outputs": [],
   "source": [
    "# copiar\n",
    "df_DBScan = df3.copy()\n",
    "df_blob_DBScan = blob_df.copy()\n",
    "df_dart_DBScan = dart_df.copy()\n",
    "df_basic2_DBScan = basic2_df.copy()\n",
    "df_outliers_DBScan = outliers_df.copy()\n",
    "df_spiral2_DBScan = spiral2_df.copy()\n",
    "df_boxes3_DBScan = boxes3_df.copy()"
   ]
  },
  {
   "cell_type": "code",
   "execution_count": null,
   "id": "dd7921dc",
   "metadata": {
    "execution": {
     "iopub.execute_input": "2022-12-06T22:34:13.326860Z",
     "iopub.status.busy": "2022-12-06T22:34:13.326499Z",
     "iopub.status.idle": "2022-12-06T22:34:13.512447Z",
     "shell.execute_reply": "2022-12-06T22:34:13.511694Z"
    },
    "papermill": {
     "duration": 0.254182,
     "end_time": "2022-12-06T22:34:13.514222",
     "exception": false,
     "start_time": "2022-12-06T22:34:13.260040",
     "status": "completed"
    },
    "tags": []
   },
   "outputs": [],
   "source": [
    "from sklearn.neighbors import NearestNeighbors\n",
    "nn = NearestNeighbors(n_neighbors=4)\n",
    "nbrs = nn.fit(df_dart_DBScan)\n",
    "distances, indices = nbrs.kneighbors(df_dart_DBScan)\n",
    "\n",
    "# Plotting K-distance Graph\n",
    "distances = np.sort(distances, axis=0)\n",
    "distances = distances[:,1]\n",
    "plt.figure(figsize=(6,6))\n",
    "plt.plot(distances)\n",
    "plt.title('K-distance Graph for \"Dart df\"',fontsize=20)\n",
    "plt.xlabel('Data Points sorted by distance',fontsize=14)\n",
    "plt.ylabel('Epsilon',fontsize=14)\n",
    "plt.show()"
   ]
  },
  {
   "cell_type": "markdown",
   "id": "1ecd6d04",
   "metadata": {},
   "source": [
    "1. El valor óptimo de Epsilon está en el punto de curvatura máxima en el gráfico K-Distance, que es 8 en este caso.\n",
    "2. Para los MinPts, elegiremos 4 (2 * dimensiones)"
   ]
  },
  {
   "cell_type": "markdown",
   "id": "3b9a1791",
   "metadata": {
    "papermill": {
     "duration": 0.066208,
     "end_time": "2022-12-06T22:34:13.776881",
     "exception": false,
     "start_time": "2022-12-06T22:34:13.710673",
     "status": "completed"
    },
    "tags": []
   },
   "source": [
    "### 6.3 Variaciones de DBSCAN"
   ]
  },
  {
   "cell_type": "markdown",
   "id": "c36c1d9a",
   "metadata": {},
   "source": [
    "**Generalized DBSCAN (GDBSCAN)** - Los parámetros ε y minPts se eliminan del algoritmo original y se trasladan a los predicados.\n",
    "\n",
    "**OPTICS (Ordering Points To Identify the Clustering Structure)** - Encuentra una muestra central de alta densidad y expande grupos de ellos. A diferencia de DBSCAN, mantiene la jerarquía de clúster para un radio variable del vecindario. Más adecuado para su uso en grandes conjuntos de datos que la implementación actual de Sklearn de DBSCAN.\n",
    "\n",
    "**HDBSCAN** - Versión jerárquica de DBSCAN que también es más rápida que OPTICS, de lo cual se puede extraer una partición plana que consiste en los grupos más prominentes de la jerarquía.\n",
    "\n",
    "DBSCAN también se usa como parte de algoritmos de agrupación de subespacios, como PreDeCon and SUBCLU. "
   ]
  },
  {
   "cell_type": "markdown",
   "id": "ba07643e",
   "metadata": {
    "papermill": {
     "duration": 0.065457,
     "end_time": "2022-12-06T22:34:14.042048",
     "exception": false,
     "start_time": "2022-12-06T22:34:13.976591",
     "status": "completed"
    },
    "tags": []
   },
   "source": [
    "### 6.4 Entrenamiento de DBSCAN"
   ]
  },
  {
   "cell_type": "code",
   "execution_count": null,
   "id": "5dfcac45",
   "metadata": {
    "execution": {
     "iopub.execute_input": "2022-12-06T22:34:14.175546Z",
     "iopub.status.busy": "2022-12-06T22:34:14.175039Z",
     "iopub.status.idle": "2022-12-06T22:34:14.184629Z",
     "shell.execute_reply": "2022-12-06T22:34:14.183949Z"
    },
    "papermill": {
     "duration": 0.078685,
     "end_time": "2022-12-06T22:34:14.186297",
     "exception": false,
     "start_time": "2022-12-06T22:34:14.107612",
     "status": "completed"
    },
    "tags": []
   },
   "outputs": [],
   "source": [
    "df_blob_DBScan.drop(['color'], axis = 1, inplace =True)\n",
    "df_dart_DBScan.drop(['color'], axis = 1, inplace =True)\n",
    "df_basic2_DBScan.drop(['color'], axis = 1, inplace =True)\n",
    "df_outliers_DBScan.drop(['color'], axis = 1, inplace =True)\n",
    "df_spiral2_DBScan.drop(['color'], axis = 1, inplace =True)\n",
    "df_boxes3_DBScan.drop(['color'], axis = 1, inplace =True)"
   ]
  },
  {
   "cell_type": "code",
   "execution_count": null,
   "id": "88379709",
   "metadata": {
    "execution": {
     "iopub.execute_input": "2022-12-06T22:34:14.319850Z",
     "iopub.status.busy": "2022-12-06T22:34:14.319040Z",
     "iopub.status.idle": "2022-12-06T22:34:14.670411Z",
     "shell.execute_reply": "2022-12-06T22:34:14.669669Z"
    },
    "papermill": {
     "duration": 0.420332,
     "end_time": "2022-12-06T22:34:14.672485",
     "exception": false,
     "start_time": "2022-12-06T22:34:14.252153",
     "status": "completed"
    },
    "tags": []
   },
   "outputs": [],
   "source": [
    "# Entrenar\n",
    "from sklearn.cluster import DBSCAN\n",
    "\n",
    "dbscan = DBSCAN(eps=20, min_samples=9, metric='euclidean')\n",
    "y_DBScan = dbscan.fit_predict(df_DBScan)\n",
    "\n",
    "DBScan_blob = DBSCAN(eps=13, min_samples=45, metric='euclidean')\n",
    "DBScan_dart = DBSCAN(eps=8, min_samples=4, metric='euclidean')\n",
    "DBScan_basic = DBSCAN(eps=15, min_samples=4, metric='euclidean')\n",
    "DBScan_outliers = DBSCAN(eps=20, min_samples=4, metric='euclidean')\n",
    "DBScan_spiral2 = DBSCAN(eps=5.7, min_samples=4, metric='euclidean')\n",
    "DBScan_boxes3 = DBSCAN(eps=6, min_samples=4, metric='euclidean')\n",
    "\n",
    "y_DBScan_blob = DBScan_blob.fit_predict(df_blob_DBScan)\n",
    "y_DBScan_dart = DBScan_dart.fit_predict(df_dart_DBScan)\n",
    "y_DBScan_basic = DBScan_basic.fit_predict(df_basic2_DBScan)\n",
    "y_DBScan_outliers = DBScan_outliers.fit_predict(df_outliers_DBScan)\n",
    "y_DBScan_spiral2 = DBScan_spiral2.fit_predict(df_spiral2_DBScan)\n",
    "y_DBScan_boxes3 = DBScan_boxes3.fit_predict(df_boxes3_DBScan)"
   ]
  },
  {
   "cell_type": "code",
   "execution_count": null,
   "id": "8426cd15",
   "metadata": {
    "execution": {
     "iopub.execute_input": "2022-12-06T22:34:14.804722Z",
     "iopub.status.busy": "2022-12-06T22:34:14.803945Z",
     "iopub.status.idle": "2022-12-06T22:34:14.810512Z",
     "shell.execute_reply": "2022-12-06T22:34:14.809884Z"
    },
    "papermill": {
     "duration": 0.074586,
     "end_time": "2022-12-06T22:34:14.812109",
     "exception": false,
     "start_time": "2022-12-06T22:34:14.737523",
     "status": "completed"
    },
    "tags": []
   },
   "outputs": [],
   "source": [
    "# Creación de columnas 'clúster' en conjuntos de datos\n",
    "df_blob_DBScan['Cluster'] = y_DBScan_blob\n",
    "df_dart_DBScan['Cluster'] = y_DBScan_dart\n",
    "df_basic2_DBScan['Cluster'] = y_DBScan_basic\n",
    "df_outliers_DBScan['Cluster'] = y_DBScan_outliers\n",
    "df_spiral2_DBScan['Cluster'] = y_DBScan_spiral2\n",
    "df_boxes3_DBScan['Cluster'] = y_DBScan_boxes3"
   ]
  },
  {
   "cell_type": "markdown",
   "id": "5eb5589f",
   "metadata": {
    "papermill": {
     "duration": 0.064322,
     "end_time": "2022-12-06T22:34:14.941332",
     "exception": false,
     "start_time": "2022-12-06T22:34:14.877010",
     "status": "completed"
    },
    "tags": []
   },
   "source": [
    "### 6.5 Comparación de resultados"
   ]
  },
  {
   "cell_type": "code",
   "execution_count": null,
   "id": "f8ca69e4",
   "metadata": {
    "execution": {
     "iopub.execute_input": "2022-12-06T22:34:15.073428Z",
     "iopub.status.busy": "2022-12-06T22:34:15.072567Z",
     "iopub.status.idle": "2022-12-06T22:34:18.660763Z",
     "shell.execute_reply": "2022-12-06T22:34:18.660033Z"
    },
    "papermill": {
     "duration": 3.663095,
     "end_time": "2022-12-06T22:34:18.669098",
     "exception": false,
     "start_time": "2022-12-06T22:34:15.006003",
     "status": "completed"
    },
    "tags": []
   },
   "outputs": [],
   "source": [
    "fig, axes = plt.subplots(nrows=6, ncols=2,figsize=(10,30))\n",
    "fig.suptitle('ANSWER vs DBSCAN clustering\\n', size = 18)\n",
    "\n",
    "axes[0,0].scatter(blob_df['x'], blob_df['y'], c=blob_df['color'], s=10, cmap = \"Set3\")\n",
    "axes[0,0].set_title(\"Answer Blob\");\n",
    "axes[0,1].scatter(df_blob_DBScan['x'], df_blob_DBScan['y'], c=df_blob_DBScan['Cluster'], s=10, cmap = \"Set3\")\n",
    "axes[0,1].set_title(\"DBSCAN clustering Blob\");\n",
    "\n",
    "axes[1,0].scatter(dart_df['x'], dart_df['y'], c=dart_df['color'], s=10, cmap = \"Set3\")\n",
    "axes[1,0].set_title(\"Answer Dart\");\n",
    "axes[1,1].scatter(df_dart_DBScan['x'], df_dart_DBScan['y'], c=df_dart_DBScan['Cluster'], s=10, cmap = \"Set3\")\n",
    "axes[1,1].set_title(\"DBSCAN clustering Dart\");\n",
    "\n",
    "axes[2,0].scatter(basic2_df['x'], basic2_df['y'], c=basic2_df['color'], s=10, cmap = \"Set3\")\n",
    "axes[2,0].set_title(\"Answer Basic\");\n",
    "axes[2,1].scatter(df_basic2_DBScan['x'], df_basic2_DBScan['y'], c=df_basic2_DBScan['Cluster'], s=10, cmap = \"Set3\")\n",
    "axes[2,1].set_title(\"DBSCAN clustering Basic\");\n",
    "\n",
    "axes[3,0].scatter(outliers_df['x'], outliers_df['y'], c=outliers_df['color'], s=10, cmap = \"Set3\")\n",
    "axes[3,0].set_title(\"Answer Outliers\");\n",
    "axes[3,1].scatter(df_outliers_DBScan['x'], df_outliers_DBScan['y'], c=df_outliers_DBScan['Cluster'], s=10, cmap = \"Set3\")\n",
    "axes[3,1].set_title(\"DBSCAN clustering Outliers\");\n",
    "\n",
    "axes[4,0].scatter(spiral2_df['x'], spiral2_df['y'], c=spiral2_df['color'], s=10, cmap = \"Set3\")\n",
    "axes[4,0].set_title(\"Answer Spiral\");\n",
    "axes[4,1].scatter(df_spiral2_DBScan['x'], df_spiral2_DBScan['y'], c=df_spiral2_DBScan['Cluster'], s=10, cmap = \"Set3\")\n",
    "axes[4,1].set_title(\"DBSCAN clustering Spiral\");\n",
    "\n",
    "axes[5,0].scatter(boxes3_df['x'], boxes3_df['y'], c=boxes3_df['color'], s=10, cmap = \"Set3\")\n",
    "axes[5,0].set_title(\"Answer Boxes\");\n",
    "axes[5,1].scatter(df_boxes3_DBScan['x'], df_boxes3_DBScan['y'], c=df_boxes3_DBScan['Cluster'], s=10, cmap = \"Set3\")\n",
    "axes[5,1].set_title(\"DBSCAN clustering Boxes\");\n",
    "\n",
    "plt.tight_layout()"
   ]
  },
  {
   "cell_type": "markdown",
   "id": "ecbb21db",
   "metadata": {
    "papermill": {
     "duration": 0.078097,
     "end_time": "2022-12-06T22:34:18.827256",
     "exception": false,
     "start_time": "2022-12-06T22:34:18.749159",
     "status": "completed"
    },
    "tags": []
   },
   "source": [
    "### 6.6 DBSCAN en datos minoristas en línea"
   ]
  },
  {
   "cell_type": "code",
   "execution_count": null,
   "id": "073d5998",
   "metadata": {
    "execution": {
     "iopub.execute_input": "2022-12-06T22:34:18.983712Z",
     "iopub.status.busy": "2022-12-06T22:34:18.983123Z",
     "iopub.status.idle": "2022-12-06T22:34:18.990676Z",
     "shell.execute_reply": "2022-12-06T22:34:18.990060Z"
    },
    "papermill": {
     "duration": 0.087944,
     "end_time": "2022-12-06T22:34:18.992311",
     "exception": false,
     "start_time": "2022-12-06T22:34:18.904367",
     "status": "completed"
    },
    "tags": []
   },
   "outputs": [],
   "source": [
    "df_DBScan = df2.copy()\n",
    "# Verificación del número de elementos en clústeres y creación de la columna 'clúster'\n",
    "df_DBScan['Cluster'] = y_DBScan\n",
    "df_DBScan['Cluster'].value_counts()"
   ]
  },
  {
   "cell_type": "code",
   "execution_count": null,
   "id": "c978e0b4",
   "metadata": {
    "execution": {
     "iopub.execute_input": "2022-12-06T22:34:19.147129Z",
     "iopub.status.busy": "2022-12-06T22:34:19.146420Z",
     "iopub.status.idle": "2022-12-06T22:34:19.480197Z",
     "shell.execute_reply": "2022-12-06T22:34:19.479538Z"
    },
    "papermill": {
     "duration": 0.413295,
     "end_time": "2022-12-06T22:34:19.481869",
     "exception": false,
     "start_time": "2022-12-06T22:34:19.068574",
     "status": "completed"
    },
    "tags": []
   },
   "outputs": [],
   "source": [
    "plt.figure(figsize=(15,7))\n",
    "sns.scatterplot(data=df_DBScan, x='Amount', y='Frequency', hue = 'Cluster', s=15, palette=\"Set3\")"
   ]
  },
  {
   "cell_type": "markdown",
   "id": "cc46dd81",
   "metadata": {
    "papermill": {
     "duration": 0.079455,
     "end_time": "2022-12-06T22:34:19.644290",
     "exception": false,
     "start_time": "2022-12-06T22:34:19.564835",
     "status": "completed"
    },
    "tags": []
   },
   "source": [
    "# 7. Gaussian Mixture Models (GMM) \n",
    "A Gaussian mixture model (GMM) intenta encontrar una mezcla de distribuciones de probabilidad gaussianas multidimensionales que mejor modelen cualquier conjunto de datos de entrada.\n",
    "- En el caso más simple, los GMM se pueden usar para encontrar grupos de la misma manera que K-means, pero debido a que GMM contiene un modelo probabilístico debajo del capó, también es posible encontrar asignaciones probabilísticas de clúster.\n",
    "- Utiliza múltiples distribuciones gaussianas para adaptarse a datos de forma arbitraria.\n",
    "- Hay varios modelos gaussianos individuales que actúan como capas ocultas en este modelo híbrido.\n",
    "- El modelo calcula la probabilidad de que un punto de datos pertenezca a una distribución gaussiana específica y ese es el clúster en el que se caerá."
   ]
  },
  {
   "attachments": {
    "dfef474d-5414-482e-97da-ed7b45fb3446.png": {
     "image/png": "[encoded data removed]"
    }
   },
   "cell_type": "markdown",
   "id": "0d0f0b1c",
   "metadata": {
    "execution": {
     "iopub.execute_input": "2022-11-22T14:58:57.073953Z",
     "iopub.status.busy": "2022-11-22T14:58:57.073498Z",
     "iopub.status.idle": "2022-11-22T14:58:57.080765Z",
     "shell.execute_reply": "2022-11-22T14:58:57.079769Z",
     "shell.execute_reply.started": "2022-11-22T14:58:57.073920Z"
    },
    "papermill": {
     "duration": 0.086422,
     "end_time": "2022-12-06T22:34:19.810597",
     "exception": false,
     "start_time": "2022-12-06T22:34:19.724175",
     "status": "completed"
    },
    "tags": []
   },
   "source": [
    "![gausian.png](attachment:dfef474d-5414-482e-97da-ed7b45fb3446.png)"
   ]
  },
  {
   "cell_type": "markdown",
   "id": "0665023b",
   "metadata": {
    "papermill": {
     "duration": 0.078805,
     "end_time": "2022-12-06T22:34:19.981587",
     "exception": false,
     "start_time": "2022-12-06T22:34:19.902782",
     "status": "completed"
    },
    "tags": []
   },
   "source": [
    "### 7.1 Ventajas y desventajas"
   ]
  },
  {
   "cell_type": "markdown",
   "id": "9aa08b6d",
   "metadata": {},
   "source": [
    "**Ventajas:**\n",
    "1. **Estimaciones probabilísticas de pertenencia a cada grupo** - Los modelos proporcionan estimaciones de la probabilidad de que cada punto de datos pertenezca a cada clúster. Estas estimaciones de probabilidad pueden ser muy útiles al examinar puntos de datos ambiguos que caen en el borde de dos grupos.\n",
    "\n",
    "2. **No asume los grupos esféricos** - El modelo no asume que todos los grupos son esferas de forma uniforme. En cambio, se pueden usar modelos de mezcla gaussianos para acomodar grupos de formas variables.\n",
    "\n",
    "3. **Maneja los grupos de diferentes tamaños** se pueden usar para acomodar grupos de tamaños variables.\n",
    "\n",
    "4. **Menos sensible a la escala** - significa que es posible que no necesite rescalar sus variables antes de usarlas para la agrupación.\n",
    "\n",
    "5. **Acomoda la membresía mixta** - En Kmeans, un punto pertenece a un solo grupo, mientras que en GMM un punto pertenece a cada clúster en un grado diferente. El grado se basa en la probabilidad de que se genere el punto a partir de la distribución normal (multivariante) de cada grupo, con el centro de clúster como la media de la distribución y la covarianza de clúster como su covarianza. Dependiendo de la tarea, la membresía mixta puede ser más apropiada (por ejemplo, los artículos de noticias pueden pertenecer a múltiples grupos de temas) o no (por ejemplo, los organismos pueden pertenecer a una sola especie).\n",
    "\n",
    "\n",
    "**Desventajas:**\n",
    "1. **Difícil de incorporar características categóricas** - Los modelos funcionan bajo el supuesto de que todas sus características se distribuyen normalmente, por lo que no se adaptan fácilmente a datos categóricos.\n",
    "\n",
    "2. **Asume una distribución normal para las características** - significa que debe tomarse un tiempo para ver las distribuciones de características antes de alcanzar este algoritmo de agrupación.\n",
    "\n",
    "3. **Haga algunas suposiciones sobre la forma del clúster** - significa que los modelos de mezcla gaussianos no funcionarán tan bien en los casos en que los clústeres tienen una forma muy irregular.\n",
    "\n",
    "4. **Necesita datos suficientes para cada clúster**: debe asegurarse de tener suficientes puntos de datos en cada clúster para estimar adecuadamente la covarianza. La cantidad de datos requeridos no es enorme, pero es más grande que los algoritmos simples que no estiman una matriz de covarianza.\n",
    "\n",
    "5. **Necesito especificar el número de grupos**, dado que los modelos de mezcla gaussianos funcionan bajo el supuesto de que sus características se distribuyen normalmente, los casos pueden ser expulsados ​​por casos donde hay muchos valores atípicos en los datos. Algunas implementaciones de modelos de mezcla gaussianas permiten que los valores atípicos se separen en un clúster separado.\n",
    "\n",
    "6. **Sensible a las condiciones de inicialización** - como la semilla que se usa y los puntos de partida que se usan para los centros de clúster. Esto significa que puede obtener diferentes resultados si ejecuta el algoritmo varias veces.\n",
    "\n",
    "7. **Lento** - Esto es especialmente cierto cuando hay muchas características en su conjunto de datos."
   ]
  },
  {
   "cell_type": "markdown",
   "id": "6a8e43c0",
   "metadata": {
    "papermill": {
     "duration": 0.080474,
     "end_time": "2022-12-06T22:34:20.299295",
     "exception": false,
     "start_time": "2022-12-06T22:34:20.218821",
     "status": "completed"
    },
    "tags": []
   },
   "source": [
    "### 7.2 Variaciones de GMM"
   ]
  },
  {
   "cell_type": "markdown",
   "id": "4114d759",
   "metadata": {
    "papermill": {
     "duration": 0.133668,
     "end_time": "2022-12-06T22:34:20.513466",
     "exception": false,
     "start_time": "2022-12-06T22:34:20.379798",
     "status": "completed"
    },
    "tags": []
   },
   "source": [
    " **Variational Bayesian Gaussian mixture** \n",
    " - Evita la especificación del número de componentes para un modelo de mezcla gaussiana."
   ]
  },
  {
   "cell_type": "markdown",
   "id": "8bbd92cb",
   "metadata": {
    "papermill": {
     "duration": 0.079253,
     "end_time": "2022-12-06T22:34:20.673087",
     "exception": false,
     "start_time": "2022-12-06T22:34:20.593834",
     "status": "completed"
    },
    "tags": []
   },
   "source": [
    "### 7.3 Entrenamiento de GMM"
   ]
  },
  {
   "cell_type": "code",
   "execution_count": null,
   "id": "689fe855",
   "metadata": {
    "execution": {
     "iopub.execute_input": "2022-12-06T22:34:20.837625Z",
     "iopub.status.busy": "2022-12-06T22:34:20.837289Z",
     "iopub.status.idle": "2022-12-06T22:34:20.843582Z",
     "shell.execute_reply": "2022-12-06T22:34:20.842846Z"
    },
    "papermill": {
     "duration": 0.091143,
     "end_time": "2022-12-06T22:34:20.845334",
     "exception": false,
     "start_time": "2022-12-06T22:34:20.754191",
     "status": "completed"
    },
    "tags": []
   },
   "outputs": [],
   "source": [
    "# Copiar\n",
    "df_GMM = df3.copy()\n",
    "df_blob_GMM = blob_df.copy()\n",
    "df_dart_GMM = dart_df.copy()\n",
    "df_basic2_GMM = basic2_df.copy()\n",
    "df_outliers_GMM = outliers_df.copy()\n",
    "df_spiral2_GMM = spiral2_df.copy()\n",
    "df_boxes3_GMM = boxes3_df.copy()"
   ]
  },
  {
   "cell_type": "code",
   "execution_count": null,
   "id": "aaee31dd",
   "metadata": {
    "execution": {
     "iopub.execute_input": "2022-12-06T22:34:21.008087Z",
     "iopub.status.busy": "2022-12-06T22:34:21.007712Z",
     "iopub.status.idle": "2022-12-06T22:34:21.016520Z",
     "shell.execute_reply": "2022-12-06T22:34:21.015887Z"
    },
    "papermill": {
     "duration": 0.091822,
     "end_time": "2022-12-06T22:34:21.018322",
     "exception": false,
     "start_time": "2022-12-06T22:34:20.926500",
     "status": "completed"
    },
    "tags": []
   },
   "outputs": [],
   "source": [
    "df_blob_GMM.drop(['color'], axis = 1, inplace =True)\n",
    "df_dart_GMM.drop(['color'], axis = 1, inplace =True)\n",
    "df_basic2_GMM.drop(['color'], axis = 1, inplace =True)\n",
    "df_outliers_GMM.drop(['color'], axis = 1, inplace =True)\n",
    "df_spiral2_GMM.drop(['color'], axis = 1, inplace =True)\n",
    "df_boxes3_GMM.drop(['color'], axis = 1, inplace =True)"
   ]
  },
  {
   "cell_type": "code",
   "execution_count": null,
   "id": "fccd4e97",
   "metadata": {
    "execution": {
     "iopub.execute_input": "2022-12-06T22:34:21.183476Z",
     "iopub.status.busy": "2022-12-06T22:34:21.182891Z",
     "iopub.status.idle": "2022-12-06T22:34:22.915235Z",
     "shell.execute_reply": "2022-12-06T22:34:22.914398Z"
    },
    "papermill": {
     "duration": 1.81693,
     "end_time": "2022-12-06T22:34:22.917433",
     "exception": false,
     "start_time": "2022-12-06T22:34:21.100503",
     "status": "completed"
    },
    "tags": []
   },
   "outputs": [],
   "source": [
    "# Entrenar\n",
    "from sklearn.mixture import GaussianMixture\n",
    "\n",
    "gmm = GaussianMixture(n_components=8)\n",
    "y_GMM = gmm.fit_predict(df_GMM)\n",
    "\n",
    "GMM_blob = GaussianMixture(n_components=4)\n",
    "GMM_dart = GaussianMixture(n_components=2)\n",
    "GMM_basic = GaussianMixture(n_components=5)\n",
    "GMM_outliers = GaussianMixture(n_components=3)\n",
    "GMM_spiral2 = GaussianMixture(n_components=2)\n",
    "GMM_boxes3 = GaussianMixture(n_components=12)\n",
    "\n",
    "y_GMM_blob = GMM_blob.fit_predict(df_blob_GMM)\n",
    "y_GMM_dart = GMM_dart.fit_predict(df_dart_GMM)\n",
    "y_GMM_basic = GMM_basic.fit_predict(df_basic2_GMM)\n",
    "y_GMM_outliers = GMM_outliers.fit_predict(df_outliers_GMM)\n",
    "y_GMM_spiral2 = GMM_spiral2.fit_predict(df_spiral2_GMM)\n",
    "y_GMM_boxes3 = GMM_boxes3.fit_predict(df_boxes3_GMM)"
   ]
  },
  {
   "cell_type": "code",
   "execution_count": null,
   "id": "a9bde4e4",
   "metadata": {
    "execution": {
     "iopub.execute_input": "2022-12-06T22:34:23.110652Z",
     "iopub.status.busy": "2022-12-06T22:34:23.110325Z",
     "iopub.status.idle": "2022-12-06T22:34:23.117754Z",
     "shell.execute_reply": "2022-12-06T22:34:23.116931Z"
    },
    "papermill": {
     "duration": 0.090163,
     "end_time": "2022-12-06T22:34:23.119652",
     "exception": false,
     "start_time": "2022-12-06T22:34:23.029489",
     "status": "completed"
    },
    "tags": []
   },
   "outputs": [],
   "source": [
    "# Creación de columnas 'clúster' en conjuntos de datos\n",
    "df_blob_GMM['Cluster'] = y_GMM_blob\n",
    "df_dart_GMM['Cluster'] = y_GMM_dart\n",
    "df_basic2_GMM['Cluster'] = y_GMM_basic\n",
    "df_outliers_GMM['Cluster'] = y_GMM_outliers\n",
    "df_spiral2_GMM['Cluster'] = y_GMM_spiral2\n",
    "df_boxes3_GMM['Cluster'] = y_GMM_boxes3"
   ]
  },
  {
   "cell_type": "markdown",
   "id": "65a90310",
   "metadata": {
    "papermill": {
     "duration": 0.079755,
     "end_time": "2022-12-06T22:34:23.279285",
     "exception": false,
     "start_time": "2022-12-06T22:34:23.199530",
     "status": "completed"
    },
    "tags": []
   },
   "source": [
    "### 7.4 Comparación de resultados"
   ]
  },
  {
   "cell_type": "code",
   "execution_count": null,
   "id": "4c8700c9",
   "metadata": {
    "execution": {
     "iopub.execute_input": "2022-12-06T22:34:23.440158Z",
     "iopub.status.busy": "2022-12-06T22:34:23.438742Z",
     "iopub.status.idle": "2022-12-06T22:34:26.806451Z",
     "shell.execute_reply": "2022-12-06T22:34:26.805367Z"
    },
    "papermill": {
     "duration": 3.453818,
     "end_time": "2022-12-06T22:34:26.812660",
     "exception": false,
     "start_time": "2022-12-06T22:34:23.358842",
     "status": "completed"
    },
    "tags": []
   },
   "outputs": [],
   "source": [
    "fig, axes = plt.subplots(nrows=6, ncols=2,figsize=(10,30))\n",
    "fig.suptitle('ANSWER vs GMM clustering\\n', size = 18)\n",
    "\n",
    "axes[0,0].scatter(blob_df['x'], blob_df['y'], c=blob_df['color'], s=10, cmap = \"Set3\")\n",
    "axes[0,0].set_title(\"Answer Blob\");\n",
    "axes[0,1].scatter(df_blob_GMM['x'], df_blob_GMM['y'], c=df_blob_GMM['Cluster'], s=10, cmap = \"Set3\")\n",
    "axes[0,1].set_title(\"GMM clustering Blob\");\n",
    "\n",
    "axes[1,0].scatter(dart_df['x'], dart_df['y'], c=dart_df['color'], s=10, cmap = \"Set3\")\n",
    "axes[1,0].set_title(\"Answer Dart\");\n",
    "axes[1,1].scatter(df_dart_GMM['x'], df_dart_GMM['y'], c=df_dart_GMM['Cluster'], s=10, cmap = \"Set3\")\n",
    "axes[1,1].set_title(\"GMM clustering Dart\");\n",
    "\n",
    "axes[2,0].scatter(basic2_df['x'], basic2_df['y'], c=basic2_df['color'], s=10, cmap = \"Set3\")\n",
    "axes[2,0].set_title(\"Answer Basic\");\n",
    "axes[2,1].scatter(df_basic2_GMM['x'], df_basic2_GMM['y'], c=df_basic2_GMM['Cluster'], s=10, cmap = \"Set3\")\n",
    "axes[2,1].set_title(\"GMM clustering Basic\");\n",
    "\n",
    "axes[3,0].scatter(outliers_df['x'], outliers_df['y'], c=outliers_df['color'], s=10, cmap = \"Set3\")\n",
    "axes[3,0].set_title(\"Answer Outliers\");\n",
    "axes[3,1].scatter(df_outliers_GMM['x'], df_outliers_GMM['y'], c=df_outliers_GMM['Cluster'], s=10, cmap = \"Set3\")\n",
    "axes[3,1].set_title(\"GMM clustering Outliers\");\n",
    "\n",
    "axes[4,0].scatter(spiral2_df['x'], spiral2_df['y'], c=spiral2_df['color'], s=10, cmap = \"Set3\")\n",
    "axes[4,0].set_title(\"Answer Spiral\");\n",
    "axes[4,1].scatter(df_spiral2_GMM['x'], df_spiral2_GMM['y'], c=df_spiral2_GMM['Cluster'], s=10, cmap = \"Set3\")\n",
    "axes[4,1].set_title(\"GMM clustering Spiral\");\n",
    "\n",
    "axes[5,0].scatter(boxes3_df['x'], boxes3_df['y'], c=boxes3_df['color'], s=10, cmap = \"Set3\")\n",
    "axes[5,0].set_title(\"Answer Boxes\");\n",
    "axes[5,1].scatter(df_boxes3_GMM['x'], df_boxes3_GMM['y'], c=df_boxes3_GMM['Cluster'], s=10, cmap = \"Set3\")\n",
    "axes[5,1].set_title(\"GMM clustering Boxes\");\n",
    "\n",
    "plt.tight_layout()"
   ]
  },
  {
   "cell_type": "markdown",
   "id": "f90a0337",
   "metadata": {
    "papermill": {
     "duration": 0.090644,
     "end_time": "2022-12-06T22:34:26.998766",
     "exception": false,
     "start_time": "2022-12-06T22:34:26.908122",
     "status": "completed"
    },
    "tags": []
   },
   "source": [
    "### 7.5 GMM en datos minoristas en línea"
   ]
  },
  {
   "cell_type": "code",
   "execution_count": null,
   "id": "b4844488",
   "metadata": {
    "execution": {
     "iopub.execute_input": "2022-12-06T22:34:27.181657Z",
     "iopub.status.busy": "2022-12-06T22:34:27.181311Z",
     "iopub.status.idle": "2022-12-06T22:34:27.188607Z",
     "shell.execute_reply": "2022-12-06T22:34:27.187912Z"
    },
    "papermill": {
     "duration": 0.101351,
     "end_time": "2022-12-06T22:34:27.190626",
     "exception": false,
     "start_time": "2022-12-06T22:34:27.089275",
     "status": "completed"
    },
    "tags": []
   },
   "outputs": [],
   "source": [
    "df_GMM = df2.copy()\n",
    "# Comprobación del número de elementos en clústeres y creando columna 'clúster'\n",
    "df_GMM['Cluster'] = y_GMM\n",
    "df_GMM['Cluster'].value_counts()"
   ]
  },
  {
   "cell_type": "code",
   "execution_count": null,
   "id": "0ee7d514",
   "metadata": {
    "execution": {
     "iopub.execute_input": "2022-12-06T22:34:27.375785Z",
     "iopub.status.busy": "2022-12-06T22:34:27.375221Z",
     "iopub.status.idle": "2022-12-06T22:34:27.902822Z",
     "shell.execute_reply": "2022-12-06T22:34:27.901485Z"
    },
    "papermill": {
     "duration": 0.622258,
     "end_time": "2022-12-06T22:34:27.904733",
     "exception": false,
     "start_time": "2022-12-06T22:34:27.282475",
     "status": "completed"
    },
    "tags": []
   },
   "outputs": [],
   "source": [
    "plt.figure(figsize=(15,7))\n",
    "sns.scatterplot(data=df_GMM, x='Amount', y='Frequency', hue = 'Cluster', s=15, palette=\"Set3\")"
   ]
  },
  {
   "cell_type": "markdown",
   "id": "747f7ab3",
   "metadata": {
    "papermill": {
     "duration": 0.092587,
     "end_time": "2022-12-06T22:34:28.093661",
     "exception": false,
     "start_time": "2022-12-06T22:34:28.001074",
     "status": "completed"
    },
    "tags": []
   },
   "source": [
    "# 8. Comparación de todos los algoritmos"
   ]
  },
  {
   "cell_type": "code",
   "execution_count": null,
   "id": "78dae376",
   "metadata": {
    "_kg_hide-input": true,
    "execution": {
     "iopub.execute_input": "2022-12-06T22:34:28.281119Z",
     "iopub.status.busy": "2022-12-06T22:34:28.280451Z",
     "iopub.status.idle": "2022-12-06T22:34:37.233636Z",
     "shell.execute_reply": "2022-12-06T22:34:37.228955Z"
    },
    "papermill": {
     "duration": 9.066873,
     "end_time": "2022-12-06T22:34:37.253067",
     "exception": false,
     "start_time": "2022-12-06T22:34:28.186194",
     "status": "completed"
    },
    "tags": []
   },
   "outputs": [],
   "source": [
    "fig, axes = plt.subplots(nrows=6, ncols=5,figsize=(30,30))\n",
    "fig.suptitle('ANSWER vs different algorithm\\n', size = 18)\n",
    "\n",
    "axes[0,0].scatter(blob_df['x'], blob_df['y'], c=blob_df['color'], s=10, cmap = \"Set3\")\n",
    "axes[0,0].set_title(\"Answer Blob\");\n",
    "axes[0,1].scatter(df_blob_GMM['x'], df_blob_GMM['y'], c=df_blob_GMM['Cluster'], s=10, cmap = \"Set3\")\n",
    "axes[0,1].set_title(\"GMM clustering Blob\");\n",
    "axes[0,2].scatter(df_blob_kmeans['x'], df_blob_kmeans['y'], c=df_blob_kmeans['Cluster'], s=10, cmap = \"Set3\")\n",
    "axes[0,2].set_title(\"K-Means Blob\");\n",
    "axes[0,3].scatter(df_blob_AgglomerativeC['x'], df_blob_AgglomerativeC['y'], c=df_blob_AgglomerativeC['Cluster'], s=10, cmap = \"Set3\")\n",
    "axes[0,3].set_title(\"Hierarchical clustering Blob\");\n",
    "axes[0,4].scatter(df_blob_DBScan['x'], df_blob_DBScan['y'], c=df_blob_DBScan['Cluster'], s=10, cmap = \"Set3\")\n",
    "axes[0,4].set_title(\"DBSCAN clustering Blob\");\n",
    "\n",
    "axes[1,0].scatter(dart_df['x'], dart_df['y'], c=dart_df['color'], s=10, cmap = \"Set3\")\n",
    "axes[1,0].set_title(\"Answer Dart\");\n",
    "axes[1,1].scatter(df_dart_GMM['x'], df_dart_GMM['y'], c=df_dart_GMM['Cluster'], s=10, cmap = \"Set3\")\n",
    "axes[1,1].set_title(\"GMM clustering Dart\");\n",
    "axes[1,2].scatter(df_dart_kmeans['x'], df_dart_kmeans['y'], c=df_dart_kmeans['Cluster'], s=10, cmap = \"Set3\")\n",
    "axes[1,2].set_title(\"K-Means Dart\");\n",
    "axes[1,3].scatter(df_dart_AgglomerativeC['x'], df_dart_AgglomerativeC['y'], c=df_dart_AgglomerativeC['Cluster'], s=10, cmap = \"Set3\")\n",
    "axes[1,3].set_title(\"Hierarchical clustering Dart\");\n",
    "axes[1,4].scatter(df_dart_DBScan['x'], df_dart_DBScan['y'], c=df_dart_DBScan['Cluster'], s=10, cmap = \"Set3\")\n",
    "axes[1,4].set_title(\"DBSCAN clustering Dart\");\n",
    "\n",
    "axes[2,0].scatter(basic2_df['x'], basic2_df['y'], c=basic2_df['color'], s=10, cmap = \"Set3\")\n",
    "axes[2,0].set_title(\"Answer Basic\");\n",
    "axes[2,1].scatter(df_basic2_GMM['x'], df_basic2_GMM['y'], c=df_basic2_GMM['Cluster'], s=10, cmap = \"Set3\")\n",
    "axes[2,1].set_title(\"GMM clustering Basic\");\n",
    "axes[2,2].scatter(df_basic_kmeans['x'], df_basic_kmeans['y'], c=df_basic_kmeans['Cluster'], s=10, cmap = \"Set3\")\n",
    "axes[2,2].set_title(\"K-Means Basic\");\n",
    "axes[2,3].scatter(df_basic2_AgglomerativeC['x'], df_basic2_AgglomerativeC['y'], c=df_basic2_AgglomerativeC['Cluster'], s=10, cmap = \"Set3\")\n",
    "axes[2,3].set_title(\"Hierarchical clustering Basic\");\n",
    "axes[2,4].scatter(df_basic2_DBScan['x'], df_basic2_DBScan['y'], c=df_basic2_DBScan['Cluster'], s=10, cmap = \"Set3\")\n",
    "axes[2,4].set_title(\"DBSCAN clustering Basic\");\n",
    "\n",
    "axes[3,0].scatter(outliers_df['x'], outliers_df['y'], c=outliers_df['color'], s=10, cmap = \"Set3\")\n",
    "axes[3,0].set_title(\"Answer Outliers\");\n",
    "axes[3,1].scatter(df_outliers_GMM['x'], df_outliers_GMM['y'], c=df_outliers_GMM['Cluster'], s=10, cmap = \"Set3\")\n",
    "axes[3,1].set_title(\"GMM clustering Outliers\");\n",
    "axes[3,2].scatter(df_outliers_kmeans['x'], df_outliers_kmeans['y'], c=df_outliers_kmeans['Cluster'], s=10, cmap = \"Set3\")\n",
    "axes[3,2].set_title(\"K-Means Outliers\");\n",
    "axes[3,3].scatter(df_outliers_AgglomerativeC['x'], df_outliers_AgglomerativeC['y'], c=df_outliers_AgglomerativeC['Cluster'], s=10, cmap = \"Set3\")\n",
    "axes[3,3].set_title(\"Hierarchical clustering Outliers\");\n",
    "axes[3,4].scatter(df_outliers_DBScan['x'], df_outliers_DBScan['y'], c=df_outliers_DBScan['Cluster'], s=10, cmap = \"Set3\")\n",
    "axes[3,4].set_title(\"DBSCAN clustering Outliers\");\n",
    "\n",
    "axes[4,0].scatter(spiral2_df['x'], spiral2_df['y'], c=spiral2_df['color'], s=10, cmap = \"Set3\")\n",
    "axes[4,0].set_title(\"Answer Spiral\");\n",
    "axes[4,1].scatter(df_spiral2_GMM['x'], df_spiral2_GMM['y'], c=df_spiral2_GMM['Cluster'], s=10, cmap = \"Set3\")\n",
    "axes[4,1].set_title(\"GMM clustering Spiral\");\n",
    "axes[4,2].scatter(df_spiral2_kmeans['x'], df_spiral2_kmeans['y'], c=df_spiral2_kmeans['Cluster'], s=10, cmap = \"Set3\")\n",
    "axes[4,2].set_title(\"K-Means Spiral\");\n",
    "axes[4,3].scatter(df_spiral2_AgglomerativeC['x'], df_spiral2_AgglomerativeC['y'], c=df_spiral2_AgglomerativeC['Cluster'], s=10, cmap = \"Set3\")\n",
    "axes[4,3].set_title(\"Hierarchical clustering Spiral\");\n",
    "axes[4,4].scatter(df_spiral2_DBScan['x'], df_spiral2_DBScan['y'], c=df_spiral2_DBScan['Cluster'], s=10, cmap = \"Set3\")\n",
    "axes[4,4].set_title(\"DBSCAN clustering Spiral\");\n",
    "\n",
    "axes[5,0].scatter(boxes3_df['x'], boxes3_df['y'], c=boxes3_df['color'], s=10, cmap = \"Set3\")\n",
    "axes[5,0].set_title(\"Answer Boxes\");\n",
    "axes[5,1].scatter(df_boxes3_GMM['x'], df_boxes3_GMM['y'], c=df_boxes3_GMM['Cluster'], s=10, cmap = \"Set3\")\n",
    "axes[5,1].set_title(\"GMM clustering Boxes\");\n",
    "axes[5,2].scatter(df_boxes3_kmeans['x'], df_boxes3_kmeans['y'], c=df_boxes3_kmeans['Cluster'], s=10, cmap = \"Set3\")\n",
    "axes[5,2].set_title(\"K-Means Boxes\");\n",
    "axes[5,3].scatter(df_boxes3_AgglomerativeC['x'], df_boxes3_AgglomerativeC['y'], c=df_boxes3_AgglomerativeC['Cluster'], s=10, cmap = \"Set3\")\n",
    "axes[5,3].set_title(\"Hierarchical clustering Boxes\");\n",
    "axes[5,4].scatter(df_boxes3_DBScan['x'], df_boxes3_DBScan['y'], c=df_boxes3_DBScan['Cluster'], s=10, cmap = \"Set3\")\n",
    "axes[5,4].set_title(\"DBSCAN clustering Boxes\");\n",
    "\n",
    "plt.tight_layout()"
   ]
  },
  {
   "cell_type": "markdown",
   "id": "8763778d",
   "metadata": {
    "papermill": {
     "duration": 0.13173,
     "end_time": "2022-12-06T22:34:37.519872",
     "exception": false,
     "start_time": "2022-12-06T22:34:37.388142",
     "status": "completed"
    },
    "tags": []
   },
   "source": [
    "### Referencias\n",
    "\n",
    "https://crunchingthedata.com/when-to-use-dbscan/\n",
    "\n",
    "https://crunchingthedata.com/when-to-use-hierarchical-clustering/\n",
    "\n",
    "https://crunchingthedata.com/when-to-use-gaussian-mixture-models/\n",
    "\n",
    "https://www.freecodecamp.org/news/8-clustering-algorithms-in-machine-learning-that-all-data-scientists-should-know/"
   ]
  },
  {
   "cell_type": "code",
   "execution_count": null,
   "id": "ce9ead3d",
   "metadata": {
    "papermill": {
     "duration": 0.129915,
     "end_time": "2022-12-06T22:34:37.778061",
     "exception": false,
     "start_time": "2022-12-06T22:34:37.648146",
     "status": "completed"
    },
    "tags": []
   },
   "outputs": [],
   "source": []
  }
 ],
 "metadata": {
  "kernelspec": {
   "display_name": "Python 3",
   "language": "python",
   "name": "python3"
  },
  "language_info": {
   "codemirror_mode": {
    "name": "ipython",
    "version": 3
   },
   "file_extension": ".py",
   "mimetype": "text/x-python",
   "name": "python",
   "nbconvert_exporter": "python",
   "pygments_lexer": "ipython3",
   "version": "3.12.4"
  },
  "papermill": {
   "default_parameters": {},
   "duration": 141.259902,
   "end_time": "2022-12-06T22:34:38.828539",
   "environment_variables": {},
   "exception": null,
   "input_path": "__notebook__.ipynb",
   "output_path": "__notebook__.ipynb",
   "parameters": {},
   "start_time": "2022-12-06T22:32:17.568637",
   "version": "2.3.4"
  }
 },
 "nbformat": 4,
 "nbformat_minor": 5
}
