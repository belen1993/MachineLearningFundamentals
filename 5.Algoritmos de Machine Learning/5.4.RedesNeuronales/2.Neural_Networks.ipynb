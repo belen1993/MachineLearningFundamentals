{
 "cells": [
  {
   "cell_type": "markdown",
   "metadata": {},
   "source": [
    "# Neural Networks"
   ]
  },
  {
   "cell_type": "markdown",
   "metadata": {},
   "source": [
    "Se trata de un modelo clasificador/regresor que busca detectar patrones mediante la combinación de transformaciones de datos, usando las llamadas \"neuronas\".\n",
    "\n",
    "ScitiLearn prove de modelos de redes neuronales para ML supervisado:\n",
    "- https://scikit-learn.org/stable/modules/neural_networks_supervised.html\n",
    "\n",
    "Y no supervisado:\n",
    "- https://scikit-learn.org/stable/modules/neural_networks_unsupervised.html\n",
    "\n",
    "\n",
    "En el caso supervisado, provee de modelos basados en *Multi-layer Perceptron*, que se pueden usar en clasificación y regresión.\n",
    "\n",
    "Usaremos cñase `MLPRegressor` que Implementa un perceptrón de múltiples capas (MLP) \n",
    "- se entrena usando la retropropagación sin función de activación en la capa de salida (como si usara la *función de identidad* como función de activación).\n",
    "- usa el *error cuadrado* como la función de pérdida, y la salida es un conjunto de valores continuos."
   ]
  },
  {
   "cell_type": "code",
   "execution_count": null,
   "metadata": {},
   "outputs": [],
   "source": [
    "import os\n",
    "\n",
    "import pandas as pd\n",
    "from sklearn.preprocessing import StandardScaler \n",
    "from sklearn.model_selection import train_test_split\n",
    "from sklearn.neural_network import MLPRegressor\n",
    "from sklearn.preprocessing import PolynomialFeatures\n",
    "from sklearn.metrics import  r2_score\n",
    "from sklearn.linear_model import  LinearRegression\n",
    "\n",
    "import warnings\n",
    "warnings.filterwarnings(\"ignore\")"
   ]
  },
  {
   "cell_type": "code",
   "execution_count": null,
   "metadata": {
    "scrolled": true
   },
   "outputs": [],
   "source": [
    "# carga y preprocesamiento de datos\n",
    "\n",
    "df = pd.read_csv(\"https://github.com/ricardoahumada/Python_for_Data_Science/raw/refs/heads/master/data/2008_small.zip\",nrows = 1000000)\n",
    "\n",
    "df = df.dropna(subset =['AirTime','Distance','TaxiIn','TaxiOut'])\n",
    "df = df.sample(frac=1).head(10000)\n",
    "\n",
    "X = df[['AirTime','Distance','TaxiIn','TaxiOut']] \n",
    "Y = df['ArrDelay']\n",
    "\n",
    "poly = PolynomialFeatures(degree=2)\n",
    "X_poly = poly.fit_transform(X)\n",
    "\n",
    "X = pd.DataFrame(X_poly, columns = poly.get_feature_names_out(input_features=X.columns))\n",
    "\n",
    "\n",
    "X_train, X_test, y_train, y_test = train_test_split(X, Y, test_size=.2, random_state=1)\n",
    "\n",
    "scaler = StandardScaler()  \n",
    "scaler.fit(X_train) # conocimiento\n",
    "\n",
    "X_train = scaler.transform(X_train)\n",
    "X_test = scaler.transform(X_test)"
   ]
  },
  {
   "cell_type": "code",
   "execution_count": null,
   "metadata": {},
   "outputs": [],
   "source": [
    "# entrenamiento y score del modelo de NN\n",
    "\n",
    "regr = MLPRegressor(solver='lbfgs', alpha=1, hidden_layer_sizes=(10,100,10)) #The ith element represents the number of neurons in the ith hidden layer.\n",
    "\n",
    "model = regr.fit(X_train, y_train)\n",
    "\n",
    "predictions = model.predict(X_test)\n",
    "print(\"R cuadrado: \",r2_score(y_test, predictions))"
   ]
  },
  {
   "cell_type": "markdown",
   "metadata": {},
   "source": [
    ">Comparamos con el modelo de regresión lineal"
   ]
  },
  {
   "cell_type": "code",
   "execution_count": null,
   "metadata": {},
   "outputs": [],
   "source": [
    "regrLin = LinearRegression()\n",
    "regrLin.fit(X_train,y_train)\n",
    "y_pred = regrLin.predict(X_test)\n",
    "print(\"R cuadrado: \",r2_score(y_test, y_pred))"
   ]
  },
  {
   "cell_type": "markdown",
   "metadata": {},
   "source": [
    ">Algunos de los parámetros con los que podemos jugar en los modelos de red neurnal son:\n",
    ">   \n",
    ">- solver: {‘lbfgs’, ‘sgd’, ‘adam’}    \n",
    ">- activation : {‘identity’, ‘logistic’, ‘tanh’, ‘relu’}\n",
    ">- alpha : float, optional, default 0.0001 L2 penalty\n",
    ">- learning_rate : {‘constant’, ‘invscaling’, ‘adaptive’}"
   ]
  },
  {
   "cell_type": "markdown",
   "metadata": {},
   "source": [
    ">Considerar la cantidad de combinaciones posibles de parámetros...\\\n",
    ">https://scikit-learn.org/stable/modules/generated/sklearn.neural_network.MLPRegressor.html"
   ]
  },
  {
   "cell_type": "markdown",
   "metadata": {},
   "source": [
    "### Selección de parámetros automatizada (sin funciones)\n",
    "\n",
    "Más potente, más flexible, más control... pero requiere más código..."
   ]
  },
  {
   "cell_type": "code",
   "execution_count": null,
   "metadata": {
    "scrolled": true
   },
   "outputs": [],
   "source": [
    "# Modelo con 3 capas\n",
    "\n",
    "alphas = [0.0000001,0.001,0.1]\n",
    "layers = [2,5,10,20]\n",
    "solvers = [\"lbfgs\",\"adam\",\"sgd\"]\n",
    "listtodf = []\n",
    "i = 0\n",
    "print(\"Iterations:\", len(alphas)*len(layers) ** 3 *len(solvers))\n",
    "\n",
    "for alpha in alphas:\n",
    "    for layer1 in layers: \n",
    "        for layer2 in layers:\n",
    "            for layer3 in layers:\n",
    "                for solver in solvers:\n",
    "                    i += 1 # i = i + 1 // i++\n",
    "                    regr = MLPRegressor(solver=solver, alpha=alpha, hidden_layer_sizes=(layer1,layer2,layer3),warm_start=True)\n",
    "                    model = regr.fit(X_train, y_train)\n",
    "                    predictions = model.predict(X_test)\n",
    "                    print(i, \n",
    "                          \"R cuadrado: \",round(r2_score(y_test, predictions),2), \n",
    "                          \" Solver: \",solver, \n",
    "                          \" Layer size: \", (layer1,layer2,layer3),\n",
    "                          \" Alpha: \",alpha)\n",
    "                    listtodf.append([alpha,(layer1,layer2,layer3),solver,r2_score(y_test, predictions)])"
   ]
  },
  {
   "cell_type": "code",
   "execution_count": null,
   "metadata": {
    "scrolled": true
   },
   "outputs": [],
   "source": [
    "listtodf"
   ]
  },
  {
   "cell_type": "markdown",
   "metadata": {},
   "source": [
    ">Obteniendo conclusiones sobre los datos"
   ]
  },
  {
   "cell_type": "code",
   "execution_count": null,
   "metadata": {},
   "outputs": [],
   "source": [
    "parameters = pd.DataFrame(listtodf, columns =['Alphas', 'Layers','Solvers','R2']) \n",
    "parameters.to_csv(\"parameters.csv\")"
   ]
  },
  {
   "cell_type": "code",
   "execution_count": null,
   "metadata": {},
   "outputs": [],
   "source": [
    "parameters = pd.read_csv(\"parameters.csv\",index_col = 0)\n",
    "parameters"
   ]
  },
  {
   "cell_type": "code",
   "execution_count": null,
   "metadata": {},
   "outputs": [],
   "source": [
    "parameters.groupby(\"Alphas\").mean()[\"R2\"].sort_values(ascending = False)"
   ]
  },
  {
   "cell_type": "code",
   "execution_count": null,
   "metadata": {},
   "outputs": [],
   "source": [
    "parameters.groupby(\"Layers\").mean()[\"R2\"].sort_values(ascending = False)"
   ]
  },
  {
   "cell_type": "code",
   "execution_count": null,
   "metadata": {},
   "outputs": [],
   "source": [
    "parameters.groupby(\"Solvers\").mean()[\"R2\"].sort_values(ascending = False)"
   ]
  },
  {
   "cell_type": "code",
   "execution_count": null,
   "metadata": {
    "scrolled": false
   },
   "outputs": [],
   "source": [
    "parameters[parameters.R2 == max(parameters.R2)]"
   ]
  },
  {
   "cell_type": "markdown",
   "metadata": {},
   "source": [
    "## Ejercicio: Predicción de Precios de Casas con Relaciones No Lineales\n",
    "\n",
    "El objetivo es predecir el precio de una casa (Price) a partir de características como el tamaño del terreno (LotArea), el número de habitaciones (Bedrooms), la antigüedad de la casa (YearsOld), y otras variables relacionadas, que incluyen relaciones NO lineales. \n",
    "\n",
    "Compara el rendimiento mse y r2 con un modelo Gradient Boosting.\n",
    "\n",
    "Para ello usaremos los siguientes datos:"
   ]
  },
  {
   "cell_type": "code",
   "execution_count": 2,
   "metadata": {},
   "outputs": [],
   "source": [
    "import pandas as pd\n",
    "import numpy as np\n",
    "\n",
    "# Generar datos sintéticos con relaciones no lineales\n",
    "np.random.seed(42)\n",
    "n_samples = 1000\n",
    "\n",
    "# Características\n",
    "LotArea = np.random.uniform(500, 2000, n_samples)  # Tamaño del terreno\n",
    "Bedrooms = np.random.randint(1, 6, n_samples)     # Número de habitaciones\n",
    "YearsOld = np.random.randint(1, 100, n_samples)   # Antigüedad de la casa\n",
    "GarageCars = np.random.randint(0, 4, n_samples)   # Número de cocheras\n",
    "\n",
    "# Variable objetivo con relaciones no lineales\n",
    "Price = (\n",
    "    50000 + \n",
    "    100 * LotArea + \n",
    "    20000 * np.sqrt(Bedrooms) + \n",
    "    500 * np.log(YearsOld + 1) + \n",
    "    15000 * GarageCars + \n",
    "    np.random.normal(0, 50000, n_samples)  # Ruido\n",
    ")\n",
    "\n",
    "# Crear DataFrame\n",
    "df = pd.DataFrame({\n",
    "    'LotArea': LotArea,\n",
    "    'Bedrooms': Bedrooms,\n",
    "    'YearsOld': YearsOld,\n",
    "    'GarageCars': GarageCars,\n",
    "    'Price': Price\n",
    "})"
   ]
  },
  {
   "cell_type": "markdown",
   "metadata": {},
   "source": [
    "Preguntas Adicionales (Opcionales)\n",
    "- ¿Qué pasa si aumentas o disminuyes el número de neuronas en las capas ocultas de la red neuronal?\n",
    "- ¿Cómo afecta el número de estimadores (n_estimators) en Gradient Boosting al rendimiento?\n",
    "- ¿Qué modelo es más rápido de entrenar? ¿Cuál es más fácil de interpretar?"
   ]
  }
 ],
 "metadata": {
  "kernelspec": {
   "display_name": "Python 3",
   "language": "python",
   "name": "python3"
  },
  "language_info": {
   "codemirror_mode": {
    "name": "ipython",
    "version": 3
   },
   "file_extension": ".py",
   "mimetype": "text/x-python",
   "name": "python",
   "nbconvert_exporter": "python",
   "pygments_lexer": "ipython3",
   "version": "3.12.4"
  }
 },
 "nbformat": 4,
 "nbformat_minor": 2
}
