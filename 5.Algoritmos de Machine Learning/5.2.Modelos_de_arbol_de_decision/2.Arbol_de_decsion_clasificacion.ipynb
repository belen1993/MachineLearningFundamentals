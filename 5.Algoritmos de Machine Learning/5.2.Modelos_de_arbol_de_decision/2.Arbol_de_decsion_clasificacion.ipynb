{
 "cells": [
  {
   "cell_type": "markdown",
   "id": "c677235b",
   "metadata": {},
   "source": [
    "# Árbol de decisión para clasificación"
   ]
  },
  {
   "cell_type": "code",
   "execution_count": null,
   "id": "a1b9526a",
   "metadata": {},
   "outputs": [],
   "source": [
    "import pandas as pd\n",
    "\n",
    "penguins = pd.read_csv(\"../../data/penguins/penguins_classification.csv\")\n",
    "culmen_columns = [\"Culmen Length (mm)\", \"Culmen Depth (mm)\"]\n",
    "target_column = \"Species\""
   ]
  },
  {
   "cell_type": "code",
   "execution_count": null,
   "id": "3ee87b56",
   "metadata": {},
   "outputs": [],
   "source": [
    "# dividir los datos\n",
    "\n",
    "from sklearn.model_selection import train_test_split\n",
    "\n",
    "data, target = penguins[culmen_columns], penguins[target_column]\n",
    "data_train, data_test, target_train, target_test = train_test_split(\n",
    "    data, target, random_state=0)"
   ]
  },
  {
   "cell_type": "markdown",
   "id": "c17fef9a",
   "metadata": {},
   "source": [
    "**Clasificador lineal**"
   ]
  },
  {
   "cell_type": "code",
   "execution_count": null,
   "id": "18353a6b",
   "metadata": {},
   "outputs": [],
   "source": [
    "# Para un clasificador lineal, obtendremos los siguientes límites de decisión.\n",
    "# Estas líneas de límites indican dónde cambia el modelo su predicción de una clase a otra.\n",
    "\n",
    "from sklearn.linear_model import LogisticRegression\n",
    "\n",
    "linear_model = LogisticRegression()\n",
    "linear_model.fit(data_train, target_train)"
   ]
  },
  {
   "cell_type": "code",
   "execution_count": null,
   "id": "07f44035",
   "metadata": {},
   "outputs": [],
   "source": [
    "import matplotlib.pyplot as plt\n",
    "import seaborn as sns\n",
    "\n",
    "from sklearn.inspection import DecisionBoundaryDisplay\n",
    "\n",
    "# Cree una paleta para ser utilizada en el diagrama de dispersión\n",
    "palette = [\"tab:red\", \"tab:blue\", \"black\"]\n",
    "\n",
    "DecisionBoundaryDisplay.from_estimator(\n",
    "    linear_model, data_train, response_method=\"predict\", cmap=\"RdBu\", alpha=0.5\n",
    ")\n",
    "sns.scatterplot(data=penguins, x=culmen_columns[0], y=culmen_columns[1],\n",
    "                hue=target_column, palette=palette)\n",
    "\n",
    "plt.legend(bbox_to_anchor=(1.05, 1), loc='upper left')\n",
    "_ = plt.title(\"Límite de decisión utilizando una regresión logística\")"
   ]
  },
  {
   "cell_type": "code",
   "execution_count": null,
   "id": "9c1ab09c",
   "metadata": {},
   "outputs": [],
   "source": [
    "# parece que el modelo lineal sería un buen candidato para el problema, ya que da una buena precisión.\n",
    "\n",
    "linear_model.fit(data_train, target_train)\n",
    "test_score = linear_model.score(data_test, target_test)\n",
    "print(f\"Precisión de la redacción logística: {test_score:.2f}\")"
   ]
  },
  {
   "cell_type": "markdown",
   "id": "7bda3678",
   "metadata": {},
   "source": [
    "**Árboles de decisión**"
   ]
  },
  {
   "cell_type": "code",
   "execution_count": null,
   "id": "94045a6b",
   "metadata": {},
   "outputs": [],
   "source": [
    "# Los árboles de decisión dividirán el espacio considerando una sola característica a la vez. \n",
    "# Ilustramos este comportamiento al hacer que un árbol de decisión haga una sola división al dividir el espacio de características.\n",
    "\n",
    "from sklearn.tree import DecisionTreeClassifier\n",
    "\n",
    "tree = DecisionTreeClassifier(max_depth=1)\n",
    "tree.fit(data_train, target_train)"
   ]
  },
  {
   "cell_type": "code",
   "execution_count": null,
   "id": "65dcefff",
   "metadata": {},
   "outputs": [],
   "source": [
    "DecisionBoundaryDisplay.from_estimator(\n",
    "    tree, data_train, response_method=\"predict\", cmap=\"RdBu\", alpha=0.5\n",
    ")\n",
    "sns.scatterplot(data=penguins, x=culmen_columns[0], y=culmen_columns[1],\n",
    "                hue=target_column, palette=palette)\n",
    "plt.legend(bbox_to_anchor=(1.05, 1), loc='upper left')\n",
    "_ = plt.title(\"Límite de decisión utilizando un árbol de decisión\")"
   ]
  },
  {
   "cell_type": "markdown",
   "id": "0db05506",
   "metadata": {},
   "source": [
    "Las particiones encontradas por el algoritmo separan los datos a lo largo del eje “Culmen Depth”"
   ]
  },
  {
   "cell_type": "code",
   "execution_count": null,
   "id": "e49d59e2",
   "metadata": {},
   "outputs": [],
   "source": [
    "# Podemos ver más en detalle la estructura del árbol.\n",
    "\n",
    "from sklearn.tree import plot_tree\n",
    "\n",
    "_, ax = plt.subplots(figsize=(8, 6))\n",
    "_ = plot_tree(tree, feature_names=culmen_columns,\n",
    "              class_names=tree.classes_, impurity=False, ax=ax)"
   ]
  },
  {
   "cell_type": "code",
   "execution_count": null,
   "id": "a9cfee76",
   "metadata": {},
   "outputs": [],
   "source": [
    "# Veamos cómo funcionaría nuestro árbol como predictor. \n",
    "# Comencemos con un caso en el que la profundidad de los culmen sea inferior al umbral.\n",
    "\n",
    "sample_1 = pd.DataFrame(\n",
    "    {\"Culmen Length (mm)\": [0], \"Culmen Depth (mm)\": [15]}\n",
    ")\n",
    "tree.predict(sample_1)"
   ]
  },
  {
   "cell_type": "code",
   "execution_count": null,
   "id": "c1c1fd9f",
   "metadata": {},
   "outputs": [],
   "source": [
    "# La clase predicha es Gentoo. \n",
    "# Podemos verificar qué sucede si pasamos una profundidad de culmen superior al umbral.\n",
    "\n",
    "sample_2 = pd.DataFrame(\n",
    "    {\"Culmen Length (mm)\": [0], \"Culmen Depth (mm)\": [17]}\n",
    ")\n",
    "tree.predict(sample_2)"
   ]
  },
  {
   "cell_type": "markdown",
   "id": "7c81cf35",
   "metadata": {},
   "source": [
    "En este caso, el árbol predice la especie de Adelie.\n",
    "\n",
    "-> podemos concluir que un clasificador de árbol de decisión predecirá la clase más representada dentro de una partición."
   ]
  },
  {
   "cell_type": "code",
   "execution_count": 40,
   "id": "347a33ee",
   "metadata": {},
   "outputs": [],
   "source": [
    "# Durante el entrenamiento, tenemos un recuento de muestras en cada partición, \n",
    "# también podemos calcular la probabilidad de pertenecer a una clase específica dentro de esta partición.\n",
    "\n",
    "y_pred_proba = tree.predict_proba(sample_2)\n",
    "y_proba_class_0 = pd.Series(y_pred_proba[0], index=tree.classes_)"
   ]
  },
  {
   "cell_type": "code",
   "execution_count": null,
   "id": "e987afa3",
   "metadata": {},
   "outputs": [],
   "source": [
    "y_proba_class_0.plot.bar()\n",
    "plt.ylabel(\"Probabilidad\")\n",
    "_ = plt.title(\"Probabilidad de pertenecer a una clase de pingüino\")"
   ]
  },
  {
   "cell_type": "code",
   "execution_count": null,
   "id": "b1abb457",
   "metadata": {},
   "outputs": [],
   "source": [
    "# podemos calcular las diferentes probabilidades manualmente directamente de la estructura del árbol.\n",
    "\n",
    "adelie_proba = 103 / 161\n",
    "chinstrap_proba = 52 / 161\n",
    "gentoo_proba = 6 / 161\n",
    "print(\n",
    "    f\"Probabilidades para las diferentes clases:\\n\"\n",
    "    f\"Adelie: {adelie_proba:.3f}\\n\"\n",
    "    f\"Chinstrap: {chinstrap_proba:.3f}\\n\"\n",
    "    f\"Gentoo: {gentoo_proba:.3f}\\n\"\n",
    ")"
   ]
  },
  {
   "cell_type": "code",
   "execution_count": null,
   "id": "71fef7a6",
   "metadata": {},
   "outputs": [],
   "source": [
    "# También es importante tener en cuenta que la longitud de culmen se ha ignorado de momento: \n",
    "#  sea cual sea el valor dado, no se usará durante la predicción.\n",
    "\n",
    "sample_3 = pd.DataFrame(\n",
    "    {\"Culmen Length (mm)\": [10_000], \"Culmen Depth (mm)\": [17]}\n",
    ")\n",
    "tree.predict_proba(sample_3)"
   ]
  },
  {
   "cell_type": "code",
   "execution_count": null,
   "id": "1c517afa",
   "metadata": {},
   "outputs": [],
   "source": [
    "# La división encontrada con una profundidad máxima de 1 no es lo suficientemente potente como para separar las tres especies \n",
    "# y la precisión del modelo es baja en comparación con el modelo lineal.\n",
    "\n",
    "tree.fit(data_train, target_train)\n",
    "test_score = tree.score(data_test, target_test)\n",
    "print(f\"Precisión de la decisión: {test_score:.2f}\")"
   ]
  },
  {
   "cell_type": "markdown",
   "id": "37ba9dff",
   "metadata": {},
   "source": [
    "## Ejercicio:\n",
    "- Aumenta progresivamente la profundidad y observa el comportamiento del modelo"
   ]
  }
 ],
 "metadata": {
  "kernelspec": {
   "display_name": "Python 3",
   "language": "python",
   "name": "python3"
  },
  "language_info": {
   "codemirror_mode": {
    "name": "ipython",
    "version": 3
   },
   "file_extension": ".py",
   "mimetype": "text/x-python",
   "name": "python",
   "nbconvert_exporter": "python",
   "pygments_lexer": "ipython3",
   "version": "3.12.4"
  }
 },
 "nbformat": 4,
 "nbformat_minor": 5
}
