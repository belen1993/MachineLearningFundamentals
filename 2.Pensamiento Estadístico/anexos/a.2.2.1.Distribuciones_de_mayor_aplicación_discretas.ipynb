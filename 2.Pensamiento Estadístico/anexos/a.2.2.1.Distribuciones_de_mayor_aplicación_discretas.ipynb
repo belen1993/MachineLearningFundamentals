{
  "cells": [
    {
      "cell_type": "markdown",
      "metadata": {
        "colab_type": "text",
        "id": "01gM5Qw338JU"
      },
      "source": [
        "# Distribuciones de mayor aplicación discretas"
      ]
    },
    {
      "cell_type": "code",
      "execution_count": null,
      "metadata": {
        "colab": {},
        "colab_type": "code",
        "id": "KoN8OIyd6mkz"
      },
      "outputs": [],
      "source": [
        "import warnings\n",
        "import matplotlib.pyplot as plt\n",
        "%matplotlib inline\n",
        "\n",
        "warnings.filterwarnings('ignore')"
      ]
    },
    {
      "cell_type": "markdown",
      "metadata": {
        "colab_type": "text",
        "id": "Ws7jndyl4KN5"
      },
      "source": [
        "Vamos a listas las distribuciones que mas se utilizan en la probabilidad y estadistica. \n",
        "\n",
        "Estas variables son muy importantes porque nos permiten modelar una gran cantidad de eventos que vivimos en la vida cotidiana.\n",
        "\n",
        "![Distribuciones de mayor aplicación discretas](https://imgur.com/kT4rlxz.png)"
      ]
    },
    {
      "cell_type": "markdown",
      "metadata": {
        "colab_type": "text",
        "id": "bNkxtuo84uy0"
      },
      "source": [
        "## Distribución de Bernoulli"
      ]
    },
    {
      "cell_type": "markdown",
      "metadata": {
        "colab_type": "text",
        "id": "UiFWK92Z5dAT"
      },
      "source": [
        "\n",
        "- Experimento: Lanzamiento de UNA moneda, Número de caras obtenidas, es una variable aleatoria (un valor numérico que está afectado por el azar.)\n",
        "- Fenómeno o experimento que puede resultar en uno solo de dos posibles resultados, llamados genéricamente ACIERTO (A) o FRACASO (F).\n",
        "- La probabilidad de acierto p es conocida y por ende la de fracaso que será (1 − p) = q.\n",
        "\n",
        "![bernoulli](https://imgur.com/xryhFxi.png)\n",
        "\n",
        "[Distribucion de Bernoulli en wikipedia](https://es.wikipedia.org/wiki/Distribuci%C3%B3n_de_Bernoulli)\n",
        "\n",
        "[Distribucion de Bernoulli en scipy.stats - Documentacion](https://docs.scipy.org/doc/scipy/reference/generated/scipy.stats.bernoulli.html#scipy.stats.bernoulli)\n"
      ]
    },
    {
      "cell_type": "code",
      "execution_count": null,
      "metadata": {
        "colab": {
          "base_uri": "https://localhost:8080/",
          "height": 34
        },
        "colab_type": "code",
        "id": "N5dInNGW6cO9",
        "outputId": "8f1a88b8-6a82-4090-d053-097991c4dfa9"
      },
      "outputs": [],
      "source": [
        "from scipy.stats import bernoulli\n",
        "\n",
        "p = 0.3\n",
        "data = bernoulli.rvs(p, size = 100) # Generamos el experimento de forma aleatoria con .rvs()\n",
        "\n",
        "# Cantidad de valores de la muestra. Media, varianza, simetria, curtosis\n",
        "mean, var, skew, kurt = bernoulli.stats(p, moments='mvsk')\n",
        "len(data), mean, var, skew, kurt"
      ]
    },
    {
      "cell_type": "code",
      "execution_count": null,
      "metadata": {
        "colab": {
          "base_uri": "https://localhost:8080/",
          "height": 299
        },
        "colab_type": "code",
        "id": "yUqWW_kV71Qt",
        "outputId": "d7917f3b-8554-40cd-8701-82fbca3ee797"
      },
      "outputs": [],
      "source": [
        "import seaborn as sns\n",
        "\n",
        "ax = sns.distplot(data, bins=10, kde=False, color='blue')\n",
        "ax.set(xlabel='Distribucion de Bernoulli', ylabel='Frecuencia')\n",
        "ax.axvline(x=mean, linestyle='--', label='Media')\n",
        "ax.legend()"
      ]
    },
    {
      "cell_type": "markdown",
      "metadata": {
        "colab_type": "text",
        "id": "eBmDumwY8J4o"
      },
      "source": [
        "Vemos que cerca del 70% de los datos es 0 y el 30% es 1, como se esperaba."
      ]
    },
    {
      "cell_type": "markdown",
      "metadata": {
        "colab_type": "text",
        "id": "Z_AkKXL640NT"
      },
      "source": [
        "## Distribución de Binomial"
      ]
    },
    {
      "cell_type": "markdown",
      "metadata": {
        "colab_type": "text",
        "id": "mAV5NzCb9b1f"
      },
      "source": [
        "\n",
        "- Experimento: Lanzamiento de MUCHAS monedas, una tras otra.\n",
        "- Cuando lanzamos una moneda justa 10 veces, cual es el más probable número de caras?\n",
        "- Lo más probable es que los lanzamientos se distribuyan de igual manera entre caras y sellos, es decir 5 caras y 5 sellos.\n",
        "\n",
        "\n",
        "![binomial](https://imgur.com/eS8IaRg.png)\n",
        "\n",
        "[Distribucion de Binomial en wikipedia](https://es.wikipedia.org/wiki/Distribuci%C3%B3n_binomial)\n",
        "\n",
        "[Distribucion de Binomial en scipy.stats - Documentacion](https://docs.scipy.org/doc/scipy/reference/generated/scipy.stats.binom.html#scipy.stats.binom)"
      ]
    },
    {
      "cell_type": "code",
      "execution_count": null,
      "metadata": {
        "colab": {
          "base_uri": "https://localhost:8080/",
          "height": 34
        },
        "colab_type": "code",
        "id": "F1xU6xn9-Ldo",
        "outputId": "e2f9bbcb-3882-43e8-f90f-5ffe6bf250c8"
      },
      "outputs": [],
      "source": [
        "from scipy.stats import binom\n",
        "\n",
        "p = 0.3\n",
        "n = 10\n",
        "data = binom.rvs(p = p, n = n, size = 100) # Generamos el experimento de forma aleatoria con .rvs()\n",
        "\n",
        "# Cantidad de valores de la muestra. Media, varianza, simetria, curtosis\n",
        "mean, var, skew, kurt = binom.stats(p = p, n = n, moments='mvsk')\n",
        "len(data), mean, var, skew, kurt"
      ]
    },
    {
      "cell_type": "code",
      "execution_count": null,
      "metadata": {
        "colab": {
          "base_uri": "https://localhost:8080/",
          "height": 297
        },
        "colab_type": "code",
        "id": "ayVTbkZm-fVt",
        "outputId": "fa291e07-e300-4d68-b5ab-6e90f28e151f"
      },
      "outputs": [],
      "source": [
        "import seaborn as sns\n",
        "\n",
        "ax = sns.distplot(data, bins=30, kde=False, color='blue')\n",
        "ax.set(xlabel='Distribucion de Binomial', ylabel='Frecuencia')\n",
        "ax.axvline(x=mean, linestyle='--', label='Media')\n",
        "ax.legend()"
      ]
    },
    {
      "cell_type": "markdown",
      "metadata": {
        "colab_type": "text",
        "id": "hjRNO3RE43w_"
      },
      "source": [
        "## Distribución de Binomial Negativa"
      ]
    },
    {
      "cell_type": "markdown",
      "metadata": {
        "colab_type": "text",
        "id": "sQgbKk2c_Pw2"
      },
      "source": [
        "\n",
        "Se realizan repeticiones independientes de un proceso Bernoulli, hasta obtener “k” aciertos. Interesa determinar la probabilidad de que se requieran “x” repeticiones para obtener los k aciertos;\n",
        "\n",
        "Ejemplo: Para un experimento médico se requieren cinco mujeres que hayan tenido seis o más partos. La proporción de mujeres adultas con esa característica es 0.05. Suponga que se toma una muestra de mujeres adultas y sea N el número de mujeres adultas que es necesario entrevistar para encontrar las cinco buscadas.\n",
        "  \n",
        "¿Cuál es la probabilidad de que en diez o menos intentos se encuentren las cinco mujeres?\n",
        "¿Cuántas mujeres debo entrevistar para tener una probabilidad del 90% las 5 mujeres con más de seis partos?\n"
      ]
    },
    {
      "cell_type": "markdown",
      "metadata": {
        "colab_type": "text",
        "id": "W8RtXeK9BWtt"
      },
      "source": [
        "### Distribucion geometrica\n",
        "\n",
        "Esta es un caso especial de la distribucion binomial negativa. Se demuestra en los siguientes chunk de codigos.\n",
        "\n",
        "![geometrica](https://imgur.com/f1Y1oZ5.png)\n",
        "\n",
        "Para k >= 1\n",
        "\n",
        "[Distribucion de Geometrica en wikipedia](https://es.qwe.wiki/wiki/Geometric_distribution)\n",
        "\n",
        "[Distribucion de Geometrica en scipy.stats - Documentacion](https://docs.scipy.org/doc/scipy/reference/generated/scipy.stats.geom.html#scipy.stats.geom)"
      ]
    },
    {
      "cell_type": "code",
      "execution_count": null,
      "metadata": {
        "colab": {
          "base_uri": "https://localhost:8080/",
          "height": 104
        },
        "colab_type": "code",
        "id": "KYyV30Co_PMk",
        "outputId": "ca875b6d-6e03-4011-e174-47bdf575f8a2"
      },
      "outputs": [],
      "source": [
        "from scipy.stats import nbinom\n",
        "\n",
        "p = 0.3\n",
        "n = 1\n",
        "data = nbinom.rvs(p = p, n = n, size = 100) # Generamos el experimento de forma aleatoria con .rvs()\n",
        "\n",
        "# Cantidad de valores de la muestra. Media, varianza, simetria, curtosis\n",
        "mean, var, skew, kurt = nbinom.stats(p = p, n = n, moments='mvsk')\n",
        "len(data), mean, var, skew, kurt"
      ]
    },
    {
      "cell_type": "code",
      "execution_count": null,
      "metadata": {
        "colab": {
          "base_uri": "https://localhost:8080/",
          "height": 296
        },
        "colab_type": "code",
        "id": "abuUm4Y7AxJ6",
        "outputId": "3f4be69b-4546-4a51-bcd9-eb058d76deb3"
      },
      "outputs": [],
      "source": [
        "import seaborn as sns\n",
        "\n",
        "ax = sns.distplot(data, bins=30, kde=False, color='blue')\n",
        "ax.set(xlabel='Distribucion Geometrica', ylabel='Frecuencia')\n",
        "ax.axvline(x=mean, linestyle='--', label='Media')\n",
        "ax.legend()"
      ]
    },
    {
      "cell_type": "code",
      "execution_count": null,
      "metadata": {
        "colab": {
          "base_uri": "https://localhost:8080/",
          "height": 104
        },
        "colab_type": "code",
        "id": "yxp7MGd7A8n_",
        "outputId": "1a4440c6-6a38-49ee-89c0-2641e599d7cf"
      },
      "outputs": [],
      "source": [
        "from scipy.stats import geom\n",
        "\n",
        "p = 0.3\n",
        "#n = 1\n",
        "data = geom.rvs(p = p, size = 100) # Generamos el experimento de forma aleatoria con .rvs()\n",
        "\n",
        "# Cantidad de valores de la muestra. Media, varianza, simetria, curtosis\n",
        "mean, var, skew, kurt = geom.stats(p = p, moments='mvsk')\n",
        "len(data), mean, var, skew, kurt"
      ]
    },
    {
      "cell_type": "code",
      "execution_count": null,
      "metadata": {
        "colab": {
          "base_uri": "https://localhost:8080/",
          "height": 296
        },
        "colab_type": "code",
        "id": "x8CrYWtFBRga",
        "outputId": "b30bb998-4423-48c9-a311-b22ac7b656f2"
      },
      "outputs": [],
      "source": [
        "import seaborn as sns\n",
        "\n",
        "ax = sns.distplot(data, bins=30, kde=False, color='blue')\n",
        "ax.set(xlabel='Distribucion Geometrica', ylabel='Frecuencia')\n",
        "ax.axvline(x=mean, linestyle='--', label='Media')\n",
        "ax.legend()"
      ]
    },
    {
      "cell_type": "markdown",
      "metadata": {
        "colab_type": "text",
        "id": "57GuTQrUCYZi"
      },
      "source": [
        "## Distribucion binomial negativa\n",
        "\n",
        "![binomial_negativa](https://imgur.com/d28PuY8.png)\n",
        "\n",
        "Para k >= 0\n",
        "\n",
        "[Distribucion de binomial negativa en wikipedia](https://es.qwe.wiki/wiki/Negative_binomial_distribution)\n",
        "\n",
        "[Distribucion de binomial negativa en scipy.stats - Documentacion](https://docs.scipy.org/doc/scipy/reference/generated/scipy.stats.nbinom.html#scipy.stats.nbinom)"
      ]
    },
    {
      "cell_type": "code",
      "execution_count": null,
      "metadata": {
        "colab": {
          "base_uri": "https://localhost:8080/",
          "height": 104
        },
        "colab_type": "code",
        "id": "IP2ULhSpDmGL",
        "outputId": "8cb02f80-b340-462e-9de3-8cc9ce0fcd0a"
      },
      "outputs": [],
      "source": [
        "from scipy.stats import nbinom\n",
        "\n",
        "p = 0.3\n",
        "n = 10\n",
        "data = nbinom.rvs(p = p, n = n, size = 100) # Generamos el experimento de forma aleatoria con .rvs()\n",
        "\n",
        "# Cantidad de valores de la muestra. Media, varianza, simetria, curtosis\n",
        "mean, var, skew, kurt = nbinom.stats(p = p, n = n, moments='mvsk')\n",
        "len(data), mean, var, skew, kurt"
      ]
    },
    {
      "cell_type": "code",
      "execution_count": null,
      "metadata": {
        "colab": {
          "base_uri": "https://localhost:8080/",
          "height": 296
        },
        "colab_type": "code",
        "id": "5NQfs2KoDzc3",
        "outputId": "dfb87aca-19bc-403b-9569-454c4fada708"
      },
      "outputs": [],
      "source": [
        "import seaborn as sns\n",
        "\n",
        "ax = sns.distplot(data, bins=30, kde=False, color='blue')\n",
        "ax.set(xlabel='Distribucion Geometrica', ylabel='Frecuencia')\n",
        "ax.axvline(x=mean, linestyle='--', label='Media')\n",
        "ax.legend()"
      ]
    },
    {
      "cell_type": "markdown",
      "metadata": {
        "colab_type": "text",
        "id": "EsE4ypNS46py"
      },
      "source": [
        "## Distribución de Poisson"
      ]
    },
    {
      "cell_type": "markdown",
      "metadata": {
        "colab_type": "text",
        "id": "KvnV00DHEQNX"
      },
      "source": [
        "- Una binomial se aproxima a una Poisson cuando la probabilidad de éxito es baja.\n",
        "- Se asocia con fenómenos o sucesos deﬁnidos en determinados intervalos de tiempo y/o regiones de espacio.\n",
        "- La probabilidad de que el fenómeno suceda por lo menos una vez, es directamente proporcional al tamaño del intervalo de tiempo y/o región espacial.\n",
        "- La probabilidad de que el fenómeno ocurra más de una vez, en intervalo y/o regiones relativamente pequeños es tan pequeña que se puede despreciar.\n",
        "\n",
        "![poisson](https://imgur.com/PHmdM8o.png)\n",
        "\n",
        "Para k >= 0\n",
        "\n",
        "[Distribucion de Poisson en wikipedia](https://es.qwe.wiki/wiki/Poisson_distribution)\n",
        "\n",
        "[Distribucion de Poisson negativa en scipy.stats - Documentacion](https://docs.scipy.org/doc/scipy/reference/generated/scipy.stats.poisson.html#scipy.stats.poisson)"
      ]
    },
    {
      "cell_type": "code",
      "execution_count": null,
      "metadata": {
        "colab": {
          "base_uri": "https://localhost:8080/",
          "height": 34
        },
        "colab_type": "code",
        "id": "XBDjiZZt31VH",
        "outputId": "eb76b3c6-b61b-4f3f-fead-9687bb9ee432"
      },
      "outputs": [],
      "source": [
        "from scipy.stats import poisson\n",
        "\n",
        "lambda_p = 100\n",
        "data = poisson.rvs(mu=lambda_p , size = 100) # Generamos el experimento de forma aleatoria con .rvs()\n",
        "\n",
        "# Cantidad de valores de la muestra. Media, varianza, simetria, curtosis\n",
        "mean, var, skew, kurt = poisson.stats(mu=lambda_p, moments='mvsk')\n",
        "len(data), mean, var, skew, kurt"
      ]
    },
    {
      "cell_type": "code",
      "execution_count": null,
      "metadata": {
        "colab": {
          "base_uri": "https://localhost:8080/",
          "height": 296
        },
        "colab_type": "code",
        "id": "aLLvUCHbGUxW",
        "outputId": "d90c0e16-07a2-4d21-b2ac-4b62d452b100"
      },
      "outputs": [],
      "source": [
        "import seaborn as sns\n",
        "\n",
        "ax = sns.distplot(data, bins=30, kde=False, color='blue')\n",
        "ax.set(xlabel='Distribucion de Poisson', ylabel='Frecuencia')\n",
        "ax.axvline(x=mean, linestyle='--', label='Media')\n",
        "ax.legend()"
      ]
    },
    {
      "cell_type": "markdown",
      "metadata": {
        "colab_type": "text",
        "id": "GbcgsNIcAEbY"
      },
      "source": [
        "En general cuando tienes un dataset y te enfocas en alguna variable numérica además de ver si hay outliers con boxplots y demá. Puede ser interesante analizar la distribución de esa variable y querer generar un modelo para ver que tan probable es que dicha variable tome cierto valor, es decir, P(x=a) luego piensas ¿será que esa variable se distribuye de acuerdo a una dsitribución normal, uniforme, binomial, …etc?. y ahí comienza el análisis."
      ]
    }
  ],
  "metadata": {
    "colab": {
      "authorship_tag": "ABX9TyMAwTo1YmHugjyXHOhrqFnu",
      "include_colab_link": true,
      "name": "8.Distribuciones de mayor aplicación discretas.ipynb",
      "provenance": []
    },
    "kernelspec": {
      "display_name": "Python 3",
      "name": "python3"
    },
    "language_info": {
      "codemirror_mode": {
        "name": "ipython",
        "version": 3
      },
      "file_extension": ".py",
      "mimetype": "text/x-python",
      "name": "python",
      "nbconvert_exporter": "python",
      "pygments_lexer": "ipython3",
      "version": "3.12.4"
    }
  },
  "nbformat": 4,
  "nbformat_minor": 0
}
