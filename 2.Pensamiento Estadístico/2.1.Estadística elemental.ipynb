{
 "cells": [
  {
   "cell_type": "markdown",
   "metadata": {},
   "source": [
    "# Estadística elemental"
   ]
  },
  {
   "cell_type": "markdown",
   "metadata": {},
   "source": [
    "> La estadística es la ciencia que se encarga de obtener, describir e interpretar los datos” \n",
    "(Johnson & Kuby, 2008).\n",
    "\n",
    "La estadística puede dividirse en dos grandes campos de acción: **estadística descriptiva** y **estadística inferencial**. \n",
    "- La estadística descriptiva incluye la obtención, presentación y descripción de los datos muestrales. \n",
    "- El término estadística inferencial se refiere a la técnica de interpretación de los valores - resultantes de las técnicas descriptivas y la toma de decisiones, así como a la obtención de conclusiones relativas a la población (ibid).\n",
    "\n",
    "### Definiciones básicas\n",
    "- La **población** es “la colección completa, o conjunto total de individuos, objetos o eventos cuyas propiedades serán analizadas”.\n",
    "    - La población puede ser finita o infinita (según si los elementos de la misma se pueden enumerar - fácilmente o no). \n",
    "    - A menudo, aún con poblaciones finitas, el número de elementos es muy grande, por lo que se suele trabajar con una muestra.\n",
    "- Una **muestra** es un subconjunto de la población, y está constituida por individuos, objetos o elementos seleccionados de la población.\n",
    "- Cuando trabajamos con la población, los valores numéricos que resumen los datos se llaman **parámetros**. \n",
    "- Si estamos trabajando con una muestra, esos mismos valores numéricos se conocen como **estadísticos**.\n",
    "- Una **variable** “es una característica de interés relacionada con cada elemento individual de una población o muestra”. Parámetros y estadísticos resumen los valores de las variables.\n",
    "    - Es importante tener en cuenta que los parámetros tienen un valor fijo, pero no así los estadísticos. \n",
    "    - Un estadístico puede variar, y de hecho lo hace, cada vez que se selecciona una muestra distinta de la - población. Esto, que ahora mencionamos de pasada, es una de las columnas vertebrales de lo que vendrá después.\n",
    "- Un **dato** “es el valor de la variable asociada a un elemento de la población o muestra. Este valor puede ser un número, una palabra o un símbolo”.\n",
    "- Los **datos** “son el conjunto de valores que se obtienen de la variable a partir de cada uno de los elementos que pertenecen a la muestra”.\n",
    "- Finalmente, en estadística, un **experimento** se define como “una actividad planificada cuyos resultados producen un conjunto de datos”."
   ]
  },
  {
   "cell_type": "markdown",
   "metadata": {},
   "source": [
    "#### Ejercicio:\n",
    "Si queremos determinar la nota media obtenida en los exámenes de matemáticas por los estudiantes de una universidad, en el año académico 2024-2025:\n",
    "Define: \n",
    "- La población:\n",
    "- Una muestra:\n",
    "- La variable:\n",
    "- Un dato:\n",
    "- Los datos:\n",
    "- El experimento:\n",
    "- El parámetro:\n",
    "- El estadístico:"
   ]
  },
  {
   "cell_type": "markdown",
   "metadata": {},
   "source": [
    "**Solución**\n",
    "- La población será la colección de todas las notas obtenidas en todos los exámenes de matemáticas de todos los alumnos de segundo de bachillerato del instituto Luís Vives, durante el año académico 2024-2025.\n",
    "- Una muestra será cualquier subconjunto de la población. Por ejemplo, las notas de los exámenes de matemáticas realizados por los alumnos del grupo B de segundo de bachillerato, o las notas de un grupo de alumnos seleccionados de cada grupo.\n",
    "- La variable es la nota de cada uno de los exámenes.\n",
    "- Un dato es la nota obtenida por uno de los estudiantes de segundo de bachillerato, en uno de los exámenes de matemáticas del año académico en cuestión.\n",
    "- Los datos serían el conjunto de notas obtenidas en los exámenes de matemáticas correspondientes a la muestra.\n",
    "- El experimento es el método aplicado para seleccionar las notas que conforman la muestra. Por ejemplo, preguntando al azar a varios alumnos de segundo de bachillerato qué notas han sacado en sus exámenes de matemáticas.\n",
    "- El parámetro sobre el que se está buscando información es el valor promedio de todas las notas de la población.\n",
    "- El estadístico que encontrará el experimento es el valor promedio de todas las notas de la muestra."
   ]
  },
  {
   "cell_type": "markdown",
   "metadata": {},
   "source": [
    "## Experimento\n",
    "\n",
    "Vamos a hacer un pequeño experimento, consistente en:\n",
    "\n",
    "- Generar con Python una serie de notas de matemáticas de alumnos, que será nuestra población, y calcularemos la media de la población. Este será nuestro parámetro.\n",
    "- De esa población, vamos a seleccionar de forma aleatoria un subconjunto de datos (una muestra), y vamos a calcular la nota media de esa muestra. Este será nuestro estadístico.\n",
    "- Repetiremos el paso 2 varias veces, seleccionando aleatoriamente datos de la población, y volveremos a calcular la media."
   ]
  },
  {
   "cell_type": "markdown",
   "metadata": {},
   "source": [
    "### Generación de datos\n"
   ]
  },
  {
   "cell_type": "code",
   "execution_count": null,
   "metadata": {},
   "outputs": [],
   "source": [
    "import pandas as pd\n",
    "import numpy as np\n",
    "import random\n",
    "import string\n",
    " \n",
    "# Establecer semillas para la reproducibilidad\n",
    "np.random.seed(42)\n",
    "random.seed(42)\n",
    " \n",
    "# Función para generar id_estudiante alfanuméricos aleatorios\n",
    "def generar_id_estudiante(n):\n",
    "    ids = []\n",
    "    for _ in range(n):\n",
    "        id_estudiante = ''.join(random.choices(string.ascii_uppercase + string.digits, k=8))\n",
    "        ids.append(id_estudiante)\n",
    "    return ids\n",
    " \n",
    "# Generar datos\n",
    "num_estudiantes_por_grupo = 40\n",
    "total_estudiantes = num_estudiantes_por_grupo * 4\n",
    "num_notas = 10\n",
    " \n",
    "ids = generar_id_estudiante(total_estudiantes)\n",
    "asignatura = 'Matemáticas'\n",
    "temas = [f'Tema {i+1}' for i in range(num_notas)]\n",
    "fecha_inicio = pd.Timestamp('2024-09-01')\n",
    " \n",
    "# Función para generar tiempo de estudio con correlación positiva con notas\n",
    "def generar_tiempo_estudio(notas, media=270, sd=60, correlacion=0.75):\n",
    "    ruido = np.random.normal(0, sd, len(notas))\n",
    "    tiempo_estudio = media + correlacion * (notas - np.mean(notas)) + ruido\n",
    "    return tiempo_estudio.clip(60, 480).astype(int)\n",
    " \n",
    "# Generar las notas, fechas y otras columnas\n",
    "data = {\n",
    "    'id_estudiante': [],\n",
    "    'asignatura': [],\n",
    "    'tema': [],\n",
    "    'fecha': [],\n",
    "    'nota': [],\n",
    "    'calificacion': [],\n",
    "    'estatura': [],\n",
    "    'sexo': [],\n",
    "    'tiempo_estudio': [],\n",
    "    'grupo': []\n",
    "}\n",
    " \n",
    "# Grupos disponibles\n",
    "grupos = ['A', 'B', 'C', 'D']\n",
    "num_grupos = len(grupos)\n",
    " \n",
    "# Asignar aleatoriamente los estudiantes a los grupos\n",
    "grupo_asignado = np.repeat(grupos, num_estudiantes_por_grupo)\n",
    "random.shuffle(grupo_asignado)\n",
    " \n",
    "for idx, id_estudiante in enumerate(ids):\n",
    "    fechas = [fecha_inicio + pd.DateOffset(weeks=i*4) for i in range(num_notas)]\n",
    "    notas = np.random.normal(6.5, 1, num_notas).clip(0, 10)\n",
    "    estatura = np.random.uniform(150, 190, num_notas)\n",
    "    sexo = random.choice(['H', 'M'])\n",
    " \n",
    "    tiempo_estudio = generar_tiempo_estudio(notas)\n",
    " \n",
    "    for i in range(num_notas):\n",
    "        data['id_estudiante'].append(id_estudiante)\n",
    "        data['asignatura'].append(asignatura)\n",
    "        data['tema'].append(temas[i])\n",
    "        data['fecha'].append(fechas[i])\n",
    "        data['nota'].append(round(notas[i], 2))\n",
    " \n",
    "        # Asignar calificación basada en la nota\n",
    "        if 9 <= notas[i] <= 10:\n",
    "            calificacion = 'sobresaliente'\n",
    "        elif 7 <= notas[i] < 9:\n",
    "            calificacion = 'notable'\n",
    "        elif 5 <= notas[i] < 7:\n",
    "            calificacion = 'aprobado'\n",
    "        else:\n",
    "            calificacion = 'suspenso'\n",
    " \n",
    "        data['calificacion'].append(calificacion)\n",
    "        data['estatura'].append(estatura[i])\n",
    "        data['sexo'].append(sexo)\n",
    "        data['tiempo_estudio'].append(tiempo_estudio[i])\n",
    "        data['grupo'].append(grupo_asignado[idx])\n",
    " \n",
    "# Crear el DataFrame\n",
    "df = pd.DataFrame(data)\n",
    " \n",
    "# Mostrar el DataFrame\n",
    "print(df)"
   ]
  },
  {
   "cell_type": "markdown",
   "metadata": {},
   "source": [
    "### Reto\n",
    "- A final de año académico 2024-2025, el responsable de orientación escolar ha pedido que se calcule la nota media de los exámenes de matemáticas.\n",
    "- No se tiene acceso a la tabla anterior, por lo que tienen que averiguar, de alguna forma, las notas en cuestión. Pero estamos hablando de 1.600 notas. Aunque pudieran entrevistar a todos los alumnos (160), y preguntarles por sus notas en cada uno de los exámenes, no se llegaría a tiempo para entregar el trabajo (les han dado una semana de plazo). Por lo tanto, se decide trabajar con una muestra aleatoria.\n",
    "- Por tanto, se va a trabajar con 40 notas (10 notas por grupo), y para recolectarlas van a hacer lo siguiente:\n",
    "    1. En cada grupo, le perdirán a un alumno que saque 10 papeletas de una cesta que contiene 40 papeletas con los nombres de cada estudiante del grupo correspondiente. No hace falta devolver la papeleta a la cesta entre extracción y extracción, con lo que se aseguran de que están eligiendo a 10 alumnos distintos por grupo. Es lo que se conoce como muestreo aleatorio simple sin reemplazo.\n",
    "    2. En otra cesta, meterán 10 papeletas con los temas de los exámenes (tema 1, tema 2, tema 3…), y le pedirán a cada uno de los alumnos seleccionados en el paso 1 que saque una papeleta, diga el tema que le ha tocado, y la nota que obtuvo en ese examen, y que luego devuelva la papeleta a la cesta. Es decir, es posible que dentro de un grupo se repita un tema. Esto se llama muestreo aleatorio simple con reemplazo.\n",
    "    3. Los pasos 1 y 2 se repiten en cada uno de los 4 grupos.\n",
    "\n",
    "**Nota:** Se dan tantos detalles porque la forma de recolectar las notas es muy importante. La selección debe ser lo más aleatoria posible para evitar sesgos."
   ]
  },
  {
   "cell_type": "markdown",
   "metadata": {},
   "source": [
    "### Simulación de experimento"
   ]
  },
  {
   "cell_type": "code",
   "execution_count": null,
   "metadata": {},
   "outputs": [],
   "source": [
    "def calculo_experimental_nota_media():\n",
    "    # Lista de grupos\n",
    "    grupos = df['grupo'].unique()\n",
    "\n",
    "    # Seleccionar al azar 10 alumnos de cada grupo (sin reemplazo)\n",
    "    alumnos_muestra = []\n",
    "    for grupo in grupos:\n",
    "        alumnos_grupo = df[df['grupo'] == grupo]['id_estudiante'].unique()\n",
    "        muestra_grupo = random.sample(list(alumnos_grupo), 10)\n",
    "        alumnos_muestra.extend(muestra_grupo)\n",
    "\n",
    "    # Seleccionar al azar un tema para cada alumno de la muestra (con reemplazo)\n",
    "    temas_muestra = {}\n",
    "    for alumno in alumnos_muestra:\n",
    "        notas_alumno = df[df['id_estudiante'] == alumno]\n",
    "        tema_elegido = random.choice(notas_alumno['tema'].unique())\n",
    "        temas_muestra[alumno] = tema_elegido\n",
    "\n",
    "    # Crear el DataFrame de muestra con los temas seleccionados\n",
    "    dfs_alumnos_temas = []\n",
    "    for alumno, tema in temas_muestra.items():\n",
    "        df_alumno_tema = df[(df['id_estudiante'] == alumno) & (df['tema'] == tema)]\n",
    "        dfs_alumnos_temas.append(df_alumno_tema)\n",
    "\n",
    "    df_muestra = pd.concat(dfs_alumnos_temas, ignore_index=True)\n",
    "\n",
    "    # Calcular la nota media de la muestra\n",
    "    nota_media_muestra_1 = df_muestra['nota'].mean()\n",
    "\n",
    "    # Mostrar el DataFrame de muestra y la nota media\n",
    "    print(\"DataFrame de muestra:\")\n",
    "    print(df_muestra.head())\n",
    "    print()\n",
    "    print(f\"Nota media de la muestra: {nota_media_muestra_1:.2f}\")\n",
    "\n",
    "    return df_muestra"
   ]
  },
  {
   "cell_type": "markdown",
   "metadata": {},
   "source": [
    "#### Repetir el experimento 5 veces y apuntar  la nota media. Compararla con la nota media real"
   ]
  },
  {
   "cell_type": "code",
   "execution_count": null,
   "metadata": {},
   "outputs": [],
   "source": [
    "# Nota media real\n",
    "media_nota = round(df['nota'].mean(), 2)\n",
    "print(f\"La media de la columna 'nota' es: {media_nota}\")"
   ]
  },
  {
   "cell_type": "code",
   "execution_count": null,
   "metadata": {},
   "outputs": [],
   "source": [
    "df_muestras = {}\n",
    "for i in range(5):\n",
    "    print('\\n**** Experimento {0}'.format(i+1))\n",
    "    df_muestras[i] = calculo_experimental_nota_media()\n",
    "\n",
    "\n",
    "# print('\\n >>>> df_muestras:\\n', df_muestras)"
   ]
  },
  {
   "cell_type": "markdown",
   "metadata": {},
   "source": [
    "### Distribución de datos\n",
    "mostraremos la distribución de las notas, tanto de la población, como de una de las muestras, y luego compararemos esas distribuciones."
   ]
  },
  {
   "cell_type": "code",
   "execution_count": null,
   "metadata": {},
   "outputs": [],
   "source": [
    "# Población\n",
    "import seaborn as sns\n",
    "import matplotlib.pyplot as plt\n",
    " \n",
    "# Graficar la densidad de las notas usando Seaborn (población=\n",
    "plt.figure(figsize=(10, 6))\n",
    "sns.kdeplot(data=df['nota'], fill=True, color='blue')\n",
    "plt.title('Distribución de Notas de la Población')\n",
    "plt.xlabel('Nota')\n",
    "plt.ylabel('Densidad')\n",
    "plt.show()"
   ]
  },
  {
   "cell_type": "code",
   "execution_count": null,
   "metadata": {},
   "outputs": [],
   "source": [
    "# Muestra 5\n",
    "# Graficar la densidad de las notas usando Seaborn (muestra 5)\n",
    "plt.figure(figsize=(10, 6))\n",
    "df_muestra_5 = df_muestras[4]\n",
    "sns.kdeplot(data=df_muestra_5['nota'], fill=True, color='red')\n",
    "plt.title('Distribución de Notas de la Muestra 5')\n",
    "plt.xlabel('Nota')\n",
    "plt.ylabel('Densidad')\n",
    "plt.show()"
   ]
  },
  {
   "cell_type": "markdown",
   "metadata": {},
   "source": [
    "Las notas de la muestra 5 tienen una media distinta, como es de esperar, pero también una distribución ligeramente diferente.\n",
    "\n",
    "¡Vamos a obervar cómo se distribuyen las notas de las distintas muestras, junto con la original!\n",
    "\n",
    "¿Qué conclusiones sugiere el gráfico?"
   ]
  },
  {
   "cell_type": "code",
   "execution_count": null,
   "metadata": {},
   "outputs": [],
   "source": [
    "# Lista de DataFrames y etiquetas\n",
    "dataframes = [df, df_muestras[0], df_muestras[1], df_muestras[2], df_muestras[3], df_muestras[4]]\n",
    "labels = ['Población', 'Muestra 1', 'Muestra 2', 'Muestra 3', 'Muestra 4', 'Muestra 5']\n",
    " \n",
    "# Colores específicos para cada muestra\n",
    "colors = ['blue', 'orange', 'green', 'red', 'purple', 'brown']\n",
    " \n",
    "# Configuración del gráfico\n",
    "plt.figure(figsize=(10, 6))\n",
    " \n",
    "# Graficar densidad de notas para cada DataFrame\n",
    "for i, df_temp in enumerate(dataframes):\n",
    "    # Determinar color y estilo de la línea vertical\n",
    "    color = colors[i]\n",
    "    linestyle = '-' if i == 0 else '--'\n",
    " \n",
    "    # Graficar densidad de notas\n",
    "    sns.kdeplot(data=df_temp['nota'], label=labels[i], fill=True, color=color)\n",
    " \n",
    "    # Calcular y graficar la media como línea vertical punteada\n",
    "    mean_nota = df_temp['nota'].mean()\n",
    "    plt.axvline(x=mean_nota, linestyle=linestyle, color=color, label=f'Media {labels[i]}: {mean_nota:.2f}')\n",
    " \n",
    "plt.title('Distribución de Notas por DataFrame con Medias')\n",
    "plt.xlabel('Nota')\n",
    "plt.ylabel('Densidad')\n",
    "plt.legend()\n",
    "plt.show()"
   ]
  },
  {
   "cell_type": "markdown",
   "metadata": {},
   "source": [
    "La línea azul continua representa la media de la población. Las líneas discontinuas son las medias de las muestras.\n",
    "\n",
    "Un estadístico puede variar, y de hecho lo hace, cada vez que se selecciona una muestra distinta de la población, pero el parámetro de la población permanece fijo."
   ]
  },
  {
   "cell_type": "markdown",
   "metadata": {},
   "source": [
    "## Tipos de variables\n",
    "A continuación vamos tratar otro tema muy importante, al que se le suele prestar poca atención, pero que es **esencial** para pisar en terreno firme: los tipos de variables estadísticas.\n",
    "\n",
    "- En el campo que nos ocupa hay **dos tipos** fundamentales de variables: las que aportan **información cualitativa**, y las que aportan **información cuantitativa**.\n",
    "    - Según, Johnson y Kuby, una variable **cualitativa, de atributos o categórica**, «es una variable que **clasifica o describe** a un elemento de una población«.\n",
    "    - Una variable **cuantitativa o numérica** es aquella que **«cuantifica un elemento de una población«**.\n",
    "\n",
    "- Es un error común definir a las variables numéricas diciendo que son aquellas cuyo valor es un número. Las variables numéricas son aquellas que **tiene sentido sumar y promediar**.\n",
    "- Los códigos postales o los IDs, por ejemplo, suelen ser números, pero no son variables numéricas. Los años también son números, pero tampoco son variables numéricas. No tiene sentido promediar códigos postales, o IDs. Tampoco se suele coger una lista de años, para sacar el promedio de esa lista.\n",
    "    - ¿Alguna vez a visto algún estudio en el que se diga que el año promedio en que pasaron las cosas fue en 2022.5, que es lo que sale de promediar los años 2021, 2022, 2023 y 2024?\n",
    "    - ¿O algún análisis en los que la suma de los años como tales tenga relevancia? De cara sacar información de un conjunto de datos, ¿nos sirve de algo saber que 2021, 2022, 2023 y 2024 suman 8.090?"
   ]
  },
  {
   "cell_type": "markdown",
   "metadata": {},
   "source": [
    "### **Variables cualitativas**\n",
    "Dentro de las variables cualitativas o categóricas, nos encontramos con variables:\n",
    "\n",
    "- **Nominales**: Una variable nominal «es una variable cualitativa que caracteriza (describe o identifica) a un elemento de una población. Para los datos resultantes de una variable nominal, las operaciones aritméticas no sólo carecen de sentido, sino que tampoco se puede asignar un orden a las categorías«.\n",
    "    - Como ejemplos de variables nonimales podemos poner el color de ojos, o de pelo. La cuidad de residencia, el sexo, el género de una película, el estado civil, la condición de fumador o no fumador, o de estado de salud (enfermo o sano).\n",
    "    - Una variable nominal, además, puede o no ser dictómica: que sólo adoptan dos valores posibles (sí o no, 0 ó 1). En los ejemplos anteriores, el sexo (hombre o mujer), se suele tratar como dicotómica (aunque es posible encontrar cojuntos de datos en los que hay más de dos valores (hombre, mujer, no-binario). En ese caso la variable no es dicotómica.\n",
    "    - El estado civil podría serlo, si en el conjunto de datos analizado sólo adopta los valores de casado o soltero.\n",
    "    - Finalmente, si el estado de salud adopta los valores de enfermo o sano, también sería dicotómica.\n",
    "\n",
    "- **Ordinales**: «es una variable cualitativa que presenta una posición, o clasificación, ordenada«.\n",
    "    - Un ejemplo de variable ordinal puede ser la valoración que se le da a una película, en una escala de 1 a 5 (aunque según que casos es posible tratar dicha valoración como una variable numérica).\n",
    "    - Otro ejemplo, quizá más claro, es la clasificación con letras de un determinado elemento. Por ejemplo, una habitación clasificada con las letras A, B y C según la calidad de la habitación (o con las palabras «lujo», normal, «barata»). En orden de calidad creciente, «barata» va antes que «normal», y «normal» antes que «lujo».\n",
    "\n",
    "#### Representación gráfica\n",
    "- En general, cuando queremos representar variables cualitativas se utilizan gráficos de barras. \n",
    "- En uno de los ejes se muestran los valores que toma la variable, y en el otro la frecuencia con la que aparece dicho valor en el conjunto de datos. \n",
    "- Las barras adoptan una altura proporcional a dicha frecuencia (si se quiere saber más sobre frecuencias de datos, recomendamos leer el segundo artículo de esta serie)."
   ]
  },
  {
   "cell_type": "code",
   "execution_count": null,
   "metadata": {},
   "outputs": [],
   "source": [
    "import matplotlib.pyplot as plt\n",
    " \n",
    "# Contar las ocurrencias de cada calificación\n",
    "conteo_calificaciones = df['calificacion'].value_counts()\n",
    " \n",
    "# Crear el gráfico de barras\n",
    "plt.figure(figsize=(8, 6))\n",
    "barras = conteo_calificaciones.plot(kind='bar', color='skyblue')\n",
    " \n",
    "# Añadir título y etiquetas\n",
    "plt.title('Frecuencia de Calificaciones', fontsize=12)\n",
    "plt.xlabel('Calificación', fontsize=10)\n",
    "plt.ylabel('Cantidad de Estudiantes', fontsize=10)\n",
    " \n",
    "# Añadir los valores de conteo dentro de cada barra\n",
    "for i in barras.containers:\n",
    "    barras.bar_label(i, labels=[f'{v}' for v in conteo_calificaciones], label_type='edge', fontsize=10)\n",
    " \n",
    "# Mostrar gráfico\n",
    "plt.show()"
   ]
  },
  {
   "cell_type": "markdown",
   "metadata": {},
   "source": [
    "Una forma alternativa es presentar la frecuencia relativa (es decir, el porcentaje de veces que la variable adquiere determinado valor):"
   ]
  },
  {
   "cell_type": "code",
   "execution_count": null,
   "metadata": {},
   "outputs": [],
   "source": [
    "import matplotlib.pyplot as plt\n",
    " \n",
    "# Calcular la frecuencia relativa de cada calificación\n",
    "frecuencia_relativa = df['calificacion'].value_counts(normalize=True)\n",
    " \n",
    "# Crear el gráfico de barras con frecuencia relativa\n",
    "plt.figure(figsize=(8, 6))\n",
    "barras = frecuencia_relativa.plot(kind='bar', color='skyblue')\n",
    " \n",
    "# Añadir título y etiquetas\n",
    "plt.title('Distribución Relativa de Calificaciones', fontsize=12)\n",
    "plt.xlabel('Calificación', fontsize=10)\n",
    "plt.ylabel('Frecuencia Relativa', fontsize=10)\n",
    " \n",
    "# Añadir los valores de frecuencia relativa dentro de cada barra\n",
    "for i in barras.containers:\n",
    "    barras.bar_label(i, labels=[f'{v:.1%}' for v in frecuencia_relativa], label_type='edge', fontsize=10)\n",
    " \n",
    "# Mostrar gráfico\n",
    "plt.show()"
   ]
  },
  {
   "cell_type": "markdown",
   "metadata": {},
   "source": [
    "Es frecuente utilizar gráficos de sectores (o de tartas) para mostrar esta misma información."
   ]
  },
  {
   "cell_type": "code",
   "execution_count": null,
   "metadata": {},
   "outputs": [],
   "source": [
    "import matplotlib.pyplot as plt\n",
    " \n",
    "# Calcular la frecuencia relativa de cada calificación\n",
    "frecuencia_relativa = df['calificacion'].value_counts(normalize=True)\n",
    " \n",
    "# Crear el gráfico de tarta\n",
    "plt.figure(figsize=(5, 5))\n",
    "plt.pie(frecuencia_relativa, labels=frecuencia_relativa.index, autopct='%1.1f%%', colors=plt.cm.Paired.colors)\n",
    " \n",
    "# Añadir título\n",
    "plt.title('Distribución de Calificaciones', fontsize=12)\n",
    " \n",
    "# Mostrar gráfico\n",
    "plt.show()"
   ]
  },
  {
   "cell_type": "markdown",
   "metadata": {},
   "source": [
    "**Nota:** cuando la variable cualitativa adquiere más de seis valores distintos, los gráficos de tarta no son una buena opción. En ese caso, las barras son siempre la elección correcta."
   ]
  },
  {
   "cell_type": "markdown",
   "metadata": {},
   "source": [
    "### **Variables numéricas**\n",
    "\n",
    "#### **Variable discreta**\n",
    "\n",
    "Es «una variable cuantitativa que puede asumir un número contable (o finito) de valores.\n",
    "\n",
    "- Intuitivamente, una variable discreta puede asumir los valores correspondientes a puntos aislados a lo largo de un intervalo de recta. Es decir, entre dos valores cualesquiera siempre hay un hueco.\n",
    "- Esto esto último es importante: «…entre dos valores cualesquiera siempre hay un hueco.\n",
    "- Un ejemplo de variable discreta es el número de hijos que tiene una pareja: 1, 2, 3, 4… No es posible tener 3.254893 hijos.\n",
    "\n",
    "##### Representación gráfica de variables discretas\n",
    "\n",
    "Histogramas:  Una variable discreta también se puede representar con gráficos de barras, aunque lo normal es representarlas mediante histogramas, sobre todo si adquieren un elevado número de valores. Los histogramas son similares a los gráficos de barras, con la salvedad de que las barras no están separadas entre sí.\n",
    "\n",
    "El ancho de cada barra (denominada también como «contenedor») representa el intervalo de valores incluidos en cada contenedor. La altura de cada barra, o contenedor, es proporcional al número de datos incluidos dentro del mismo.\n",
    "\n",
    "El siguiente gráfico muestra la distribución de las notas de nuestro conjunto de datos:"
   ]
  },
  {
   "cell_type": "code",
   "execution_count": null,
   "metadata": {},
   "outputs": [],
   "source": [
    "# Definir los bordes de los bins\n",
    "bins = np.linspace(0, 10, 21)  # 21 porque queremos 20 intervalos\n",
    " \n",
    "# Imprimir los bordes de los bins\n",
    "print(\"Bordes de los bins:\", bins)\n",
    " \n",
    "# Graficar el histograma de las notas usando Seaborn\n",
    "plt.figure(figsize=(10, 6))\n",
    "sns.histplot(data=df['nota'], bins=bins, kde=False, color='blue')\n",
    "plt.title('Distribución de Notas de la Población')\n",
    "plt.xlabel('Nota')\n",
    "plt.ylabel('Frecuencia')\n",
    "plt.show()"
   ]
  },
  {
   "cell_type": "markdown",
   "metadata": {},
   "source": [
    "También se suele utilizar el Diagrama de Frecuencias Acumuladas. El siguiente código discretiza las notas redondeándolas a enteros, y nuestra el diagrama.\n"
   ]
  },
  {
   "cell_type": "code",
   "execution_count": null,
   "metadata": {},
   "outputs": [],
   "source": [
    "import pandas as pd\n",
    "import numpy as np\n",
    "import matplotlib.pyplot as plt\n",
    " \n",
    "# Redondear las notas hacia el entero más cercano\n",
    "df['nota_discretizada'] = np.round(df['nota']).astype(int)\n",
    " \n",
    "# Definir los límites de los bins\n",
    "bins = np.arange(1, 12, 1)  # Limites [1, 2, ..., 11] para incluir el 10 redondeado\n",
    " \n",
    "# Calcular las frecuencias relativas y acumuladas para las notas discretizadas\n",
    "frecuencia_relativa_notas = df['nota_discretizada'].value_counts(normalize=True).sort_index()\n",
    "frecuencia_acumulada_notas = frecuencia_relativa_notas.cumsum()\n",
    " \n",
    "# Crear el diagrama de frecuencias acumuladas sin líneas verticales\n",
    "plt.figure(figsize=(8, 6))\n",
    " \n",
    "# Dibujar las líneas horizontales de frecuencias acumuladas con saltos de alturas distintas\n",
    "for i in range(1, len(frecuencia_acumulada_notas)):\n",
    "    plt.hlines(frecuencia_acumulada_notas.iloc[i-1], i, i+1, colors='blue')\n",
    " \n",
    "# Añadir la última línea horizontal\n",
    "plt.hlines(frecuencia_acumulada_notas.iloc[-1], len(frecuencia_acumulada_notas), len(frecuencia_acumulada_notas) + 1, colors='blue')\n",
    " \n",
    "# Añadir puntos en el extremo izquierdo de cada línea\n",
    "x_points = np.arange(1, len(frecuencia_acumulada_notas) + 1)\n",
    "y_points = frecuencia_acumulada_notas.values\n",
    "plt.scatter(x_points, y_points, color='blue', s=25, marker='o', zorder=5)  # Tamaño de los puntos reducido\n",
    " \n",
    "# Etiquetas en el eje X\n",
    "plt.xticks(range(len(frecuencia_acumulada_notas)), frecuencia_acumulada_notas.index.astype(str), rotation=45)\n",
    " \n",
    "# Añadir título y etiquetas\n",
    "plt.title('Diagrama de Frecuencias Relativas Acumuladas (Notas Discretizadas)', fontsize=12)\n",
    "plt.xlabel('Notas Discretizadas', fontsize=10)\n",
    "plt.ylabel('$F_i$ = Frecuencia Relativa Acumulada', fontsize=10)\n",
    "plt.grid(True)\n",
    " \n",
    "# Mostrar gráfico\n",
    "plt.tight_layout()\n",
    "plt.show()"
   ]
  },
  {
   "cell_type": "markdown",
   "metadata": {},
   "source": [
    "Aquí, nos limitaremos a decir que la altura de cada barra indica el porcentaje de notas son inguales o inferiores a un valor concreto. Como los datos son discretos, vemos saltos o escalones. El punto en el extremo izquierdo de cada barra indica que el valor inferior de cada intervalo está incluido en él. El valor superior no, puesto que pertence al intervalo siguiente.\n",
    "\n",
    "Este gráfico nos dice, por ejemplo, que cerca del 50% de las notas son inferiores iguales o inferiores a 7. La altura en la que se encuentra la barra, por tanto, es proporcional al porcentaje de valores que son iguales o inferiores al valor que marca el punto.\n",
    "\n",
    "El tamaño de los saltos por su parte, es proporcional a la diferencia de porcentaje entre un valor y otro. Por ejemplo, entre el 7 y el 10, la diferencia es de un 50% (pasamos del 50% al 100% de los datos)."
   ]
  },
  {
   "cell_type": "markdown",
   "metadata": {},
   "source": [
    "#### **Variable continua**\n",
    "\n",
    "Es «una variable cuantitativa que puede asumir una cantidad incontable de valores. \n",
    "- Intuitivamente, una variable continua puede asumir cualquier valor a lo largo de un intervalo de recta, incluyendo cualquier valor posible entre dos variables determinadas«.\n",
    "    - Es decir no hay huecos en el intervalo analizado.\n",
    "- Como ejemplos de variables continuas, podemos poner la estatura y el peso de una persona. Aunque la persona más bajita del mundo mida 62 centímetros, y la más alta mida 251 centímetros, dentro de ese intervalo podemos encontrarnos con cualquier número si empezamos a medir gente. La cantidad de números dentro de ese intervalo es infinita.\n",
    "- Es común leer, u oir, aquello de que una variable continua es aquella que tiene decimales, pero si los valores que asume la variable son, por ejemplo, 1, 1.5, 2, 2.5, 3, 3.5, 4, 4.5… y así sucesivamente, la variable es discreta. Aumenta en saltos de 0.5, y entremedio no hay otros valores. Los decimales no garantizan que la variable sea continua.\n",
    "\n",
    "##### Representación gráfica de las variables continuas\n",
    "\n",
    "Las variables continuas también se pueden representar mediante histogramas, siempre que las discreticemos antes en contenedores.\n",
    "\n",
    "Sin embargo, es frecuente utilizar los gráficos de densidad. A continuación mostramos la distribución de estaturas de los alumnos:"
   ]
  },
  {
   "cell_type": "code",
   "execution_count": null,
   "metadata": {},
   "outputs": [],
   "source": [
    "import seaborn as sns\n",
    "import matplotlib.pyplot as plt\n",
    " \n",
    "# Graficar la densidad de las estaruras usando Seaborn\n",
    "plt.figure(figsize=(10, 6))\n",
    "sns.kdeplot(data=df['estatura'], fill=True, color='blue')\n",
    "plt.title('Distribución de estaturas')\n",
    "plt.xlabel('Estatura')\n",
    "plt.ylabel('Densidad')\n",
    "plt.show()\n"
   ]
  },
  {
   "cell_type": "markdown",
   "metadata": {},
   "source": [
    "En general, toda variable numérica puede ser representada con histogramas y mediante gráficos de frecuencia acumulada. \n",
    "Existen otras visualizaciones, como los gráficos de **Boxplot** y sus distintas versiones, pero los revisaremos tras haber estudiado antes las medididas de posición."
   ]
  },
  {
   "cell_type": "markdown",
   "metadata": {},
   "source": [
    "### Análisis de las variables del dataset de notas\n",
    "\n",
    "`.info()` nos da la lista de variables y la tipificación de las mismas…"
   ]
  },
  {
   "cell_type": "code",
   "execution_count": null,
   "metadata": {},
   "outputs": [],
   "source": [
    "df.info()"
   ]
  },
  {
   "cell_type": "markdown",
   "metadata": {},
   "source": [
    "Como podemos ver, en la columna Dtype, Python nos dice que la variable id_estudiante es un «object», que fecha es «datetime64[ns]», que nota es «float», que tiempo de estudio es «int64». etc…\n",
    "\n",
    "Esto es útil en cierta medida, porque en principio las variables tipo «object» serán cualitativas, y las de tipo «int64» y «float64» serán numéricas. Pero hasta aquí llega la ayuda.\n",
    "\n",
    "**Para determinar la verdadera naturaleza de las variables, más allá de esto, es necesario estudiar nuestro conjunto de datos en profundidad.**\n",
    "\n",
    "Podría pasar, por ejemplo, que tuviéramos otra variable, que fuera «aprobado», y que en el dataframe se haya codificado como 1 (uno), en los casos en los que el alumno ha aprobado el examen, y como 0 (cero), si ha suspendido. En ese caso, Python, en su inocencia, nos dirá que la variable es «Int64». \n",
    "\n",
    "Pero en realidad es una variable nominal dicotómica.\n",
    "\n",
    "**Vamos a comprobarlo**: Vamos a añadir a nuestro dataframe con las notas la columna «aprobado», asignando un 1 (uno) si la calificación es distinta de «suspenso», y un 0 (cero), si es igual a «suspenso»."
   ]
  },
  {
   "cell_type": "code",
   "execution_count": null,
   "metadata": {},
   "outputs": [],
   "source": [
    "# Añadir la columna \"aprobado\"\n",
    "df['aprobado'] = df['calificacion'].apply(lambda x: 0 if x == 'suspenso' else 1)\n",
    " \n",
    "# Mostrar el DataFrame con la nueva columna \"aprobado\"\n",
    "print(df.head())"
   ]
  },
  {
   "cell_type": "code",
   "execution_count": null,
   "metadata": {},
   "outputs": [],
   "source": [
    "df.info()\n"
   ]
  },
  {
   "cell_type": "markdown",
   "metadata": {},
   "source": [
    "- Antes de continuar, debemos explicar una cosa: en este caso, en el que hemos creado un dataframe de ejemplo, conocemos la naturaleza de cada variable de antemano, y el tipo de valores que contienen.\n",
    "- En la vida real, esto no es así. Lo normal es que nos encontremos con conjunto de datos, de miles o millones de líneas y quizá cientos de variables, de las que NO SABEMOS NADA, más allá de una descripción somera.\n",
    "\n",
    "\n",
    "**Ejercicio: revisemos variable por variable.**\n",
    "- Para cada variable, obtén una muestra y determina el tipo de variable que debería ser, según la clasificación anterior.\n",
    "- Determina su utilidad\n",
    "- Grafícala usando el tipo de gráfico recomendado"
   ]
  },
  {
   "cell_type": "markdown",
   "metadata": {},
   "source": [
    "**Solución**"
   ]
  },
  {
   "cell_type": "markdown",
   "metadata": {},
   "source": [
    "**id_estudiante**\n"
   ]
  },
  {
   "cell_type": "code",
   "execution_count": null,
   "metadata": {},
   "outputs": [],
   "source": [
    "# Muestra de 5 valores al azar de la variable id_estudiante\n",
    "random_sample = df['id_estudiante'].sample(5)\n",
    " \n",
    "# Mostrar los valores seleccionados al azar\n",
    "print(random_sample)"
   ]
  },
  {
   "cell_type": "markdown",
   "metadata": {},
   "source": [
    "Se trata de valores alfanuméricos, que identifican a cada estudiante.\n",
    "\n",
    "- Es una variable cualitativa o categórica nominal. Se puede considerar como el nombre del estudiante (en realidad, sustituye al nombre). \n",
    "- Tanto el ID, como el nombre de un estudiante, no suelen tener relación con las otras variables, por lo que más adelante veremos no se contemplan en el análisis de los datos.\n",
    "- Tiene utilidad para cruzar los datos con otra tabla que tenga los nombres de los estudiantes, pero no para sacar conclusiones a partir de ella."
   ]
  },
  {
   "cell_type": "markdown",
   "metadata": {},
   "source": [
    "**asignatura**"
   ]
  },
  {
   "cell_type": "code",
   "execution_count": null,
   "metadata": {},
   "outputs": [],
   "source": [
    "# Muestra de 5 valores al azar de la variable asignatura\n",
    "random_sample = df['asignatura'].sample(5)\n",
    " \n",
    "# Mostrar los valores seleccionados al azar\n",
    "print(random_sample)"
   ]
  },
  {
   "cell_type": "markdown",
   "metadata": {},
   "source": [
    "Solo toma un valor: ‘Matemáticas’. Sabemos que es así por como hemos definido el dataframe, pero como hemos dicho antes, los normal es que estos datos no los sepamos de antemano, y debamos comprobarlos.\n",
    "\n",
    "Podemos pensar que nuestro dataframe es una versión filtrada de otro conjunto de datos más grande que tiene las notas de todas las asignaturas. Pero debemos comprobarlo:"
   ]
  },
  {
   "cell_type": "code",
   "execution_count": null,
   "metadata": {},
   "outputs": [],
   "source": [
    "# Calcular el número de valores únicos en la columna \"asignatura\"\n",
    "num_asignaturas_unicas = df['asignatura'].nunique()\n",
    " \n",
    "# Mostrar el resultado\n",
    "print(f\"El número de asignaturas únicas es: {num_asignaturas_unicas}\")"
   ]
  },
  {
   "cell_type": "markdown",
   "metadata": {},
   "source": [
    "Efectivamente, la variable solo toma un valor.\n",
    "\n",
    "**Esto la hace inútil en términos de análisis (no hay variabilidad en ella, pero ya llegaremos ahí).**\n",
    "\n",
    "Ahora nos limitaremos a clasificarla como variable estadística, diciendo que es, al igual que el ID, una variable cualitativa o categórica nominal."
   ]
  },
  {
   "cell_type": "markdown",
   "metadata": {},
   "source": [
    "**tema**"
   ]
  },
  {
   "cell_type": "code",
   "execution_count": null,
   "metadata": {},
   "outputs": [],
   "source": [
    "# Muestra de 5 valores al azar de la variable tema\n",
    "random_sample = df['tema'].sample(5)\n",
    " \n",
    "# Mostrar los valores seleccionados al azar\n",
    "print(random_sample)"
   ]
  },
  {
   "cell_type": "markdown",
   "metadata": {},
   "source": [
    "Toma los valores «Tema n», siendo «n» el número del tema.\n",
    "\n",
    "Recordemos que estamos simulando que no sabemos mucho del dataframe, así que intentaremos ver más detalles: todos los valores, ordenados alfabéticamente:"
   ]
  },
  {
   "cell_type": "code",
   "execution_count": null,
   "metadata": {},
   "outputs": [],
   "source": [
    "# Obtener valores únicos de la columna \"tema\" y ordenarlos alfabéticamente\n",
    "temas_unicos = sorted(df['tema'].unique())\n",
    " \n",
    "# Mostrar el resultado\n",
    "print(\"Listado de temas por orden alfabético:\")\n",
    "for tema in temas_unicos:\n",
    "    print(tema)"
   ]
  },
  {
   "cell_type": "markdown",
   "metadata": {},
   "source": [
    "Quitando el problema de que 10 está antes que el 2 (ahora no vamos a detenernos aquí), vemos que «n» va de 1 a 10.\n",
    "\n",
    "Tema es, por tanto, una variable cualitativa o categórica ordinal, puesto que el Tema 1 va antes que el Tema 2, y así hasta 10."
   ]
  },
  {
   "cell_type": "markdown",
   "metadata": {},
   "source": [
    "**fecha**"
   ]
  },
  {
   "cell_type": "code",
   "execution_count": null,
   "metadata": {},
   "outputs": [],
   "source": [
    "# Muestra de 5 valores al azar de la variable fecha\n",
    "random_sample = df['fecha'].sample(5)\n",
    " \n",
    "# Mostrar los valores seleccionados al azar\n",
    "print(random_sample)"
   ]
  },
  {
   "cell_type": "markdown",
   "metadata": {},
   "source": [
    "La fecha es una variable tipo DateTime para Python. Estas variables son muy traicioneras. Para empezar, hay que estar seguro del formato.\n",
    "\n",
    "En este caso, una revisión aleatoria son sirve para para ver que el formato es aaaa-mm-dd. Ya entraremos en detalles sobre este tipo de variable. Por ahora mi recomendación es, si se quiere saber más, consultar la documentación oficial de numpy (si se está trabajando en Python).\n",
    "\n",
    "Desde un punto de vista estadístico, la fecha es una variable cualitativa o categórica ordinal (al igual que «tema»)."
   ]
  },
  {
   "cell_type": "markdown",
   "metadata": {},
   "source": [
    "nota"
   ]
  },
  {
   "cell_type": "code",
   "execution_count": null,
   "metadata": {},
   "outputs": [],
   "source": [
    "# Muestra de 5 valores al azar de la variable nota\n",
    "random_sample = df['nota'].sample(5)\n",
    " \n",
    "# Mostrar los valores seleccionados al azar\n",
    "print(random_sample)"
   ]
  },
  {
   "cell_type": "markdown",
   "metadata": {},
   "source": [
    "Aquí tenemos un caso interesante. «Nota» es una variable numérica, y Python la ha tipificado como tal (float64). Si es float, es porque tiene decimales.\n",
    "\n",
    "Como comentamos antes, se observa una clara tendencia a clasificar cualquier variable numérica con decimales como continua, aunque en realidad no lo sea. Vamos a explicar las razones de esto.\n",
    "\n",
    "Conceptualmente, las notas SON continuas (como la estatura, el peso, el índice de masa corporal, la distancia, etc…).\n",
    "\n",
    "Sin embargo, y si nos fijamos, las notas de nuestro dataframe están redondeadas a 2 decimales. Esto se hace porque, en la práctica, trabajar con más de 2 decimales en este caso es un poco exagerado.\n",
    "\n",
    "Por lo tanto, tenemos huecos. Entre un 7.44 y un 7.45 no hay nada. No vamos a encontrar, por ejemplo, un 7.443, o un 7.4432.\n",
    "\n",
    "Recordemos aquí la definición de una variable continua: «una variable continua puede asumir cualquier valor a lo largo de un intervalo de recta, incluyendo cualquier valor posible entre dos variables determinadas» (Johnson & Kuby).\n",
    "\n",
    "Nuestra variable «nota» no cumple esa condición. Esto significa que la variable se ha «discretizado», y «nota», en este caso, es una variable cuantitativa o númérica discreta. Puede tomar muchos valores, es cierto, pero son finitos.\n",
    "\n",
    "**Aunque efectivamente «nota» es una variable numérica discreta en este caso, en muchos aspectos se suele tratar como si fuera continua.**\n",
    "\n",
    "- Por ejemplo, cuando hemos graficado la distribución de notas, lo hemos hecho con un gráfico de densidad, que no tiene escalones, como si etre el 7.44 y 7.45 hubiera valores. Con las variables discretas, las distribuciones se grafican con histogramas:"
   ]
  },
  {
   "cell_type": "code",
   "execution_count": null,
   "metadata": {},
   "outputs": [],
   "source": [
    "# Definir los bordes de los bins\n",
    "bins = np.linspace(0, 10, 21)  # 21 porque queremos 20 intervalos\n",
    " \n",
    "# Imprimir los bordes de los bins\n",
    "print(\"Bordes de los bins:\", bins)\n",
    " \n",
    "# Graficar el histograma de las notas usando Seaborn\n",
    "plt.figure(figsize=(10, 6))\n",
    "sns.histplot(data=df['nota'], bins=bins, kde=False, color='blue')\n",
    "plt.title('Distribución de Notas de la Población')\n",
    "plt.xlabel('Nota')\n",
    "plt.ylabel('Frecuencia')\n",
    "plt.show()"
   ]
  },
  {
   "cell_type": "markdown",
   "metadata": {},
   "source": [
    "En el histograma superior se han creado 20 contenedores (bins), en los que se han agrupado varias notas en cada contenedor. En cada uno, están las notas en saltos de 0.50, por lo que el primer contenedor va de [1.50 a 2.00), el segundo de [2.00 a 2.49), etc… Es decir, en el segundo contenedor, por ejemplo, tendremos notas como 2.01, 2.23, 2.45, etc… Los corchetes cuadrados indican que el valor está en el intervalo, y el redondo que no.\n",
    "\n",
    "Si aumentamos el número de contenedores (por ejemplo en saltos pequeñitos de 0.1), los contendores son más estrechos.\n",
    "\n",
    "En este caso, si la nota mínima es 1.5, el primer contendor contendrá las notas del intervalo [1.50, 1.60), pasando por 1.51, 1.52, 1.53… hasta 1.59."
   ]
  },
  {
   "cell_type": "code",
   "execution_count": null,
   "metadata": {},
   "outputs": [],
   "source": [
    "# Definir los bordes de los bins del tamaño de 0.1\n",
    "bins = np.arange(0, 10.1, 0.1)\n",
    " \n",
    "# Graficar el histograma de las notas usando Seaborn\n",
    "plt.figure(figsize=(10, 6))\n",
    "sns.histplot(data=df['nota'], bins=bins, kde=False, color='blue')\n",
    "plt.title('Distribución de Notas de la Población')\n",
    "plt.xlabel('Nota')\n",
    "plt.ylabel('Frecuencia')\n",
    "plt.show()"
   ]
  },
  {
   "cell_type": "markdown",
   "metadata": {},
   "source": [
    "Si aumentamos más aún el número de contenedores, por ejemplos, en saltos de 0.01, tenemos un histograma que nos muestra todas las notas, desde el 0.00 al 10.00, pasando por 0.01, 4.52, 7.44, 8.78, 9.45… por poner sólo algunos ejemplos."
   ]
  },
  {
   "cell_type": "code",
   "execution_count": null,
   "metadata": {},
   "outputs": [],
   "source": [
    "# Definir los bordes de los bins del tamaño de 0.01\n",
    "bins = np.arange(0, 10.1, 0.01)\n",
    " \n",
    "# Graficar el histograma de las notas usando Seaborn\n",
    "plt.figure(figsize=(10, 6))\n",
    "sns.histplot(data=df['nota'], bins=bins, kde=False, color='blue')\n",
    "plt.title('Distribución de Notas de la Población')\n",
    "plt.xlabel('Nota')\n",
    "plt.ylabel('Frecuencia')\n",
    "plt.show()"
   ]
  },
  {
   "cell_type": "markdown",
   "metadata": {},
   "source": [
    "Elegir el número correcto de contenedores en un histograma, con el fin de visualizar adecuadamente la verdadera naturaleza de una distribución, es un arte. Sobre todo si la variable, aunque discreta, tiene decimales.\n",
    "\n",
    "Con un gráfico de densidad, en lugar de un histograma de frecuencias, no hace falta preocuparse tanto por eso.\n",
    "\n",
    "Fijarse lo que pasa si, sobre los histogramas anteriores, pintamos la curva de densidad. A vuestro juicio, ¿qué histograma se parece más a dicha curva?"
   ]
  },
  {
   "cell_type": "code",
   "execution_count": null,
   "metadata": {},
   "outputs": [],
   "source": [
    "sns.histplot(data=df['nota'], bins=20, kde=True, color='blue')\n",
    "plt.title('Distribución de Notas de la Población')\n",
    "plt.xlabel('Nota')\n",
    "plt.ylabel('Frecuencia')\n",
    "plt.show()"
   ]
  },
  {
   "cell_type": "code",
   "execution_count": null,
   "metadata": {},
   "outputs": [],
   "source": [
    "# Definir los bordes de los bins del tamaño de 0.1\n",
    "bins = np.arange(0, 10.1, 0.1)\n",
    " \n",
    "# Graficar el histograma de las notas usando Seaborn con la curva de densidad\n",
    "plt.figure(figsize=(10, 6))\n",
    "sns.histplot(data=df['nota'], bins=bins, kde=True, color='blue')\n",
    "plt.title('Distribución de Notas de la Población')\n",
    "plt.xlabel('Nota')\n",
    "plt.ylabel('Frecuencia')\n",
    "plt.show()"
   ]
  },
  {
   "cell_type": "code",
   "execution_count": null,
   "metadata": {},
   "outputs": [],
   "source": [
    "# Definir los bordes de los bins del tamaño de 0.1\n",
    "bins = np.arange(0, 10.1, 0.01)\n",
    " \n",
    "# Graficar el histograma de las notas usando Seaborn\n",
    "plt.figure(figsize=(10, 6))\n",
    "sns.histplot(data=df['nota'], bins=bins, kde=True, color='blue')\n",
    "plt.title('Distribución de Notas de la Población')\n",
    "plt.xlabel('Nota')\n",
    "plt.ylabel('Frecuencia')\n",
    "plt.show()"
   ]
  },
  {
   "cell_type": "markdown",
   "metadata": {},
   "source": [
    "Aunque es importante saber que un gráfico de densidad no es lo mismo que un histograma de frecuencias (de nuevo nos hemos estado adelantando un poco), ambos nos están mostrando la «forma» de la distribución.\n",
    "\n",
    "**Es por eso que, cuando hay decimales, a nivel de tratamiento gráfico se suele optar por tratar la variable como continua, aunque sea discreta.**"
   ]
  },
  {
   "cell_type": "markdown",
   "metadata": {},
   "source": [
    "**calificacion**\n",
    "\n",
    "La calificación en este dataframe, es una representación con palabras de las notas obtenidas."
   ]
  },
  {
   "cell_type": "code",
   "execution_count": null,
   "metadata": {},
   "outputs": [],
   "source": [
    "# Obtener valores únicos de la columna \"calificacion\" y ordenarlos alfabéticamente\n",
    "calificacion_unicos = sorted(df['calificacion'].unique())\n",
    " \n",
    "# Mostrar el resultado\n",
    "print(\"Listado de calificaciones por orden alfabético:\")\n",
    "for calificacion in calificacion_unicos:\n",
    "    print(calificacion)"
   ]
  },
  {
   "cell_type": "markdown",
   "metadata": {},
   "source": [
    "**estatura**"
   ]
  },
  {
   "cell_type": "code",
   "execution_count": null,
   "metadata": {},
   "outputs": [],
   "source": [
    "# Muestra de 5 valores al azar de la variable estatura\n",
    "random_sample = df['estatura'].sample(5)\n",
    " \n",
    "# Mostrar los valores seleccionados al azar\n",
    "print(random_sample)"
   ]
  },
  {
   "cell_type": "markdown",
   "metadata": {},
   "source": [
    "En este caso, hablar de variable numérica continua tiene todo el sentido del mundo. \n",
    "\n",
    "Aún cuando la discretizáramos quitando todos los decimales, y quedándonos con la parte entera redondeada al decimal más cercano, tratarla como continua sería lo más lógico.\n",
    "\n",
    "En ese caso, todo lo dicho para la variable «nota» aplicaría aquí."
   ]
  },
  {
   "cell_type": "markdown",
   "metadata": {},
   "source": [
    "**sexo**"
   ]
  },
  {
   "cell_type": "code",
   "execution_count": null,
   "metadata": {},
   "outputs": [],
   "source": [
    "# Muestra de 5 valores al azar de la variable sexo\n",
    "random_sample = df['sexo'].sample(5)\n",
    " \n",
    "# Mostrar los valores seleccionados al azar\n",
    "print(random_sample)"
   ]
  },
  {
   "cell_type": "markdown",
   "metadata": {},
   "source": [
    "Sexo es una variable categórica nominal. \n",
    "\n",
    "Según qué casos, puede ser dicotómica o no. \n",
    "- Si toma sólo dos valores, es dicotómica. Si toma más de dos, no lo es.\n",
    "\n",
    "Saber este tipo de cosas es importante, porque en fases posteriores esto nos permitirá decidir como tratar la variable si necesitamos convertirla en numérica, para su tratamiento y modelización.\n",
    "- Una variable dicotómica se puede transformar en ceros y unos sin alterar el número de columnas del dataframe. \n",
    "- Si no es dicotómica, se deben usar otras alternativas para transformarla en numérica."
   ]
  },
  {
   "cell_type": "markdown",
   "metadata": {},
   "source": [
    "**tiempo_estudio**"
   ]
  },
  {
   "cell_type": "code",
   "execution_count": null,
   "metadata": {},
   "outputs": [],
   "source": [
    "# Muestra de 5 valores al azar de la variable tiempo_estudio\n",
    "random_sample = df['tiempo_estudio'].sample(5)\n",
    " \n",
    "# Mostrar los valores seleccionados al azar\n",
    "print(random_sample)"
   ]
  },
  {
   "cell_type": "markdown",
   "metadata": {},
   "source": [
    "Hummm. Esto es interesante. Si no hubiésemos generado nostros el dataframe con datos de ejemplo, especificando que los valores de tiempo de estudio estuvieran en minutos, con sólo ver estos datos no podríamos estar seguros.\n",
    "\n",
    "¿Qué estamos viendo? ¿Horas, minutos, segundos, flerps?\n",
    "\n",
    "Muchas veces nos encontraremos este tipo de problemas, y lo mejor es acudir a la fuente, y asegurarse de la unidad de medida.\n",
    "\n",
    "En cualquier caso, es una variable numérica. \n",
    "\n",
    "- ¿Sabrías decir si es discreta o continua? \n",
    "- Y si es discreta ¿tiene sentido tratarla como continua?"
   ]
  },
  {
   "cell_type": "markdown",
   "metadata": {},
   "source": [
    "**grupo**"
   ]
  },
  {
   "cell_type": "code",
   "execution_count": null,
   "metadata": {},
   "outputs": [],
   "source": [
    "# Muestra de 5 valores al azar de la variable grupo\n",
    "random_sample = df['grupo'].sample(5)\n",
    " \n",
    "# Mostrar los valores seleccionados al azar\n",
    "print(random_sample)"
   ]
  },
  {
   "cell_type": "markdown",
   "metadata": {},
   "source": [
    "En el caso de los grupos, tenemos cuatro valores posibles: A, B, C, D. \n",
    "\n",
    "Estos valores se pueden ordenar alfabéticamente, y la A está antes que la B, la B antes que la C, y la C antes de la D.\n",
    "\n",
    "*Aún sabiendo esto, ¿podríamos decir que la variable «grupo» es ordinal?*\n",
    "Las calificaciones lo son, sin duda. Los años también. Las posiciones de una carrera (primero, segundo, tercero…).\n",
    "\n",
    "- Si volvemos al ejemplo de las calificaciones, podríamos cambiar Sobresaliente por A, Excelente por B, Muy bien por C, Bien por D, y Suspenso por E. En ese caso, el orden alfabético conincide con el orden intrínseco de la variable.\n",
    "- Pero podríamos haber nombrado los grupos por colores: A es Azul, B es Blanco, C es Caoba y D es Dorado.\n",
    "- Si los ordenamos alfabéticamente, Azul iría antes que Blanco, Blanco antes que Caoba. Y así hasta el Dorado.\n",
    "- ¿Tiene sentido decir que Azul va primero que Blanco. ¿O que Dorado va después de Caoba?\n",
    "- En este caso, los grupos son nombres de un conjunto de alumnos, y no tienen orden intrínseco. «Grupo», por tanto, sería una variable cualitativa o categórica nominal."
   ]
  },
  {
   "cell_type": "markdown",
   "metadata": {},
   "source": [
    "**aprobado**\n",
    "\n",
    "una variable que Pythontipifica como numéricas cuando son, en esencia, nominales dicotómicas."
   ]
  },
  {
   "cell_type": "markdown",
   "metadata": {},
   "source": [
    "**Bibliografía y referencias**\n",
    "- Johnson, R. & Kuby, P. (2008). Estadistica elemental: lo esencial (10a ed.). Cengage Learning Editores S.A.\n",
    "- Freedman, D., Pisani, R., & Purves, R. (2007). Statistics (4a ed.). WW Norton."
   ]
  }
 ],
 "metadata": {
  "kernelspec": {
   "display_name": "Python 3.8 - AzureML",
   "language": "python",
   "name": "python38-azureml"
  },
  "language_info": {
   "codemirror_mode": {
    "name": "ipython",
    "version": 3
   },
   "file_extension": ".py",
   "mimetype": "text/x-python",
   "name": "python",
   "nbconvert_exporter": "python",
   "pygments_lexer": "ipython3",
   "version": "3.10.11"
  }
 },
 "nbformat": 4,
 "nbformat_minor": 2
}
