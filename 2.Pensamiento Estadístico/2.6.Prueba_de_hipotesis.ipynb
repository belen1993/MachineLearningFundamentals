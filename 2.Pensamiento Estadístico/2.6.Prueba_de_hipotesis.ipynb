{
 "cells": [
  {
   "cell_type": "markdown",
   "metadata": {},
   "source": [
    "# Prueba de hipótesis"
   ]
  },
  {
   "cell_type": "markdown",
   "metadata": {},
   "source": [
    "Las pruebas de hipótesis son un enfoque sistemático para evaluar afirmaciones o suposiciones sobre una población. En esencia, implican comparar dos hipótesis: \n",
    "- la hipótesis nula (H0) y la hipótesis alternativa (H1). \n",
    "    - La hipótesis nula es una afirmación que generalmente refleja la «situación estándar» o la falta de un efecto. \n",
    "    - La hipótesis alternativa, por otro lado, es la afirmación que estamos tratando de probar.\n",
    "\n",
    "En una prueba de hipótesis, **el objetivo es determinar si los datos recopilados de una muestra son suficientemente diferentes de lo que se esperaría bajo la hipótesis nula**. \n",
    "\n",
    "Esto implica calcular una estadística de prueba y determinar su probabilidad de ocurrencia bajo la hipótesis nula."
   ]
  },
  {
   "attachments": {
    "image.png": {
     "image/png": "[encoded data removed]"
    }
   },
   "cell_type": "markdown",
   "metadata": {},
   "source": [
    "## Ejemplo de pruebas de hipótesis\n",
    "\n",
    "Supongamos que trabajas en una fábrica de galletas y eres responsable de asegurarte de que las galletas se produzcan con un peso promedio de 20 gramos. Sin embargo, has notado que algunas galletas parecen más pesadas de lo que deberían. Para investigar este problema, decides llevar a cabo una prueba de hipótesis.\n",
    "\n",
    "- **Paso 1: Formulación de Hipótesis**\n",
    "\n",
    "    - Hipótesis Nula (H0): La media de peso de las galletas es igual a 20 gramos (μ = 20 gramos).\n",
    "    - Hipótesis Alternativa (H1): La media de peso de las galletas es diferente de 20 gramos (μ ≠ 20 gramos).\n",
    "    \n",
    "\n",
    "    En este caso, H0 refleja la situación estándar en la que las galletas tienen un peso promedio de 20 gramos, mientras que H1 sugiere que el peso promedio de las galletas es distinto de 20 gramos.\n",
    "\n",
    "- **Paso 2: Recopilación de datos**\n",
    "\n",
    "    - Reúnes una muestra aleatoria de 30 galletas y registras sus pesos. \n",
    "    - Luego, calculas la media muestral, que resulta ser de 20.5 gramos, y la desviación estándar muestral, que es de 1.2 gramos.\n",
    "\n",
    "- **Paso 3: Elección de un nivel de significación**\n",
    "\n",
    "    - El nivel de significación (alfa, α) es la probabilidad de cometer un error de Tipo I, que implica rechazar incorrectamente la hipótesis nula cuando es verdadera. \n",
    "    - Un valor común para α es 0.05, lo que significa que estamos dispuestos a aceptar un 5% de probabilidad de cometer un error de Tipo I.\n",
    "\n",
    "- **Paso 4: Cálculo de la estadística de prueba**\n",
    "\n",
    "    - Para calcular la estadística de prueba, utilizamos la fórmula de la prueba [t de Student](https://elmundodelosdatos.com/distribucion-t-de-student-funcionamiento-propiedades-y-aplicaciones-en-estadistica/):\n",
    "    \n",
    "    ![image.png](attachment:image.png)\n",
    "\n",
    "\n",
    "        Donde:\n",
    "\n",
    "        t es el valor de la Distribución t.\n",
    "        X̂ es la media de la muestra (20.5 gramos).\n",
    "        μ es la media poblacional (20 gramos).\n",
    "        s es la desviación estándar de la muestra (1.2 gramos).\n",
    "        n es el tamaño de la muestra (30 galletas).\n",
    "\n",
    "    - Sustituyendo los valores en la fórmula, obtenemos que **t = 2.13**.\n",
    "\n",
    "- **Paso 5: Cálculo del Valor Crítico y P-Valor**\n",
    "\n",
    "    - El valor crítico es el punto de corte que separa la región de rechazo de la región de no rechazo. \n",
    "        - En este caso, como estamos realizando una prueba bilateral (μ ≠ 20 gramos), necesitamos buscar los valores críticos en la tabla de la distribución t de Student para un nivel de significación de 0.05 y 29 grados de libertad (30-1). \n",
    "        - Encontramos que tα/2​ es aproximadamente ±2.045.\n",
    "\n",
    "    - El p-valor es la probabilidad de observar una estadística de prueba al menos tan extrema como la calculada bajo la hipótesis nula. \n",
    "        - Para una prueba bilateral, calculamos el p-valor como el doble del área en la cola de la distribución: `p − valor = 2 × P(T > ∣t∣ )`\n",
    "        - Donde T es una variable aleatoria t con 29 grados de libertad. \n",
    "        - Utilizamos la calculadora estadística o software para encontrar el p-valor asociado a t=2.13, que resulta ser aproximadamente **0.041**.\n",
    "\n",
    "- **Paso 6: Toma de decisión**\n",
    "\n",
    "    - Si ∣t∣ > tα/2​: Rechazamos la hipótesis nula.\n",
    "    - Si ∣t∣ ≤ tα/2​: No rechazamos la hipótesis nula.\n",
    "\n",
    "    - En nuestro ejemplo, ∣2.13∣ > 2.045, por lo que rechazamos la hipótesis nula. \n",
    "        - Esto significa que hay evidencia suficiente para concluir que el peso promedio de las galletas es diferente de 20 gramos.\n",
    "\n",
    "- **Paso 7: Conclusión**\n",
    "\n",
    "    - Basándonos en los resultados de la prueba de hipótesis, podemos concluir que las galletas no tienen un peso promedio de 20 gramos, lo que sugiere que podría haber un problema en el proceso de producción que necesita ser investigado y corregido."
   ]
  },
  {
   "cell_type": "markdown",
   "metadata": {},
   "source": [
    "## Ejemplo de prueba de hipótesis en Python\n",
    "\n",
    "Imaginemos que estás trabajando en un estudio clínico y deseas probar si un nuevo medicamento es eficaz para reducir la presión arterial en pacientes hipertensos. \n",
    "\n",
    "Tienes dos grupos: uno que recibe el nuevo medicamento y otro que recibe un placebo. \n",
    "\n",
    "Quieres determinar si hay una diferencia significativa en la reducción de la presión arterial entre los dos grupos."
   ]
  },
  {
   "cell_type": "code",
   "execution_count": 1,
   "metadata": {},
   "outputs": [],
   "source": [
    "import numpy as np\n",
    "from scipy import stats"
   ]
  },
  {
   "cell_type": "markdown",
   "metadata": {},
   "source": [
    "### Paso 1: Formulación de Hipótesis\n",
    "\n",
    "- Hipótesis Nula (H0): No hay diferencia en la reducción de la presión arterial entre el grupo del medicamento y el grupo del placebo (μ1=μ2​).\n",
    "- Hipótesis Alternativa (H1): Existe una diferencia en la reducción de la presión arterial entre los dos grupos (μ1≠μ2​)."
   ]
  },
  {
   "cell_type": "markdown",
   "metadata": {},
   "source": [
    "### Paso 2: Recopilación de Datos\n",
    "\n",
    "- Registra la reducción de la presión arterial en ambos grupos y crea dos arrays de datos en Python."
   ]
  },
  {
   "cell_type": "code",
   "execution_count": 2,
   "metadata": {},
   "outputs": [],
   "source": [
    "grupo_medicamento = np.array([130, 125, 140, 118, 124, 134, 128, 136, 130, 129])\n",
    "grupo_placebo = np.array([140, 142, 138, 150, 139, 142, 137, 148, 142, 141])"
   ]
  },
  {
   "cell_type": "markdown",
   "metadata": {},
   "source": [
    "### Paso 3: Elección de un Nivel de Significación\n",
    "\n",
    "- Como mencionamos en el artículo anterior, el nivel de significación (alfa, α) es generalmente establecido en 0.05."
   ]
  },
  {
   "cell_type": "markdown",
   "metadata": {},
   "source": [
    "### Paso 4: Cálculo de la Estadística de Prueba y el P-Valor\n",
    "\n",
    "En este ejemplo, utilizaremos una prueba t de Student para muestras independientes para comparar las medias de los dos grupos. \n",
    "El cálculo se realiza en Python de la siguiente manera:"
   ]
  },
  {
   "cell_type": "code",
   "execution_count": 5,
   "metadata": {},
   "outputs": [
    {
     "name": "stdout",
     "output_type": "stream",
     "text": [
      "-5.2341436259783665 5.6088053781073984e-05\n"
     ]
    }
   ],
   "source": [
    "alpha = 0.05\n",
    "\n",
    "t_stat, p_valor = stats.ttest_ind(grupo_medicamento, grupo_placebo)\n",
    "\n",
    "print(t_stat, p_valor)"
   ]
  },
  {
   "cell_type": "markdown",
   "metadata": {},
   "source": [
    "### Paso 5: Toma de Decisión\n",
    "- Si el p-valor es menor que α (0.05), rechazamos la hipótesis nula.\n",
    "- Si el p-valor es igual o mayor que α, no rechazamos la hipótesis nula."
   ]
  },
  {
   "cell_type": "code",
   "execution_count": 4,
   "metadata": {},
   "outputs": [
    {
     "data": {
      "text/plain": [
       "True"
      ]
     },
     "execution_count": 4,
     "metadata": {},
     "output_type": "execute_result"
    }
   ],
   "source": [
    "p_valor < alpha"
   ]
  },
  {
   "cell_type": "markdown",
   "metadata": {},
   "source": [
    "> Rechazamos la hipótesis nula: No hay diferencia en la reducción de la presión arterial entre el grupo del medicamento y el grupo del placebo"
   ]
  },
  {
   "cell_type": "markdown",
   "metadata": {},
   "source": [
    "### Paso 6: Conclusión\n",
    "\n",
    "- En este ejemplo, si el p-valor calculado es menor que 0.05, podemos concluir que hay una diferencia significativa en la reducción de la presión arterial entre el grupo del medicamento y el grupo del placebo, respaldando la hipótesis alternativa.\n"
   ]
  },
  {
   "cell_type": "markdown",
   "metadata": {},
   "source": [
    "## Ejercicio\n",
    "Un médico bioregulador quiere verificar si el gasto energético promedio es menor en personas obesas que en personas no obesas\n",
    "\n",
    "Para esto evalua una muestra al azar de personas obesas y una muestra al azar de personas delgadas y registra los resultados en la siguiente base de datos:\n",
    "\n",
    "- Dataset: `energy.npy`\n",
    "    - Cargar con np.load() en variables energy y label"
   ]
  },
  {
   "cell_type": "code",
   "execution_count": 14,
   "metadata": {},
   "outputs": [
    {
     "data": {
      "text/plain": [
       "(array([ 9.21, 11.51, 12.79, 11.85,  9.97,  8.79,  9.69,  9.68,  9.19]),\n",
       " array([ 7.53,  7.48,  8.08,  8.09, 10.15,  8.4 , 10.88,  6.13,  7.9 ,\n",
       "         7.05,  7.48,  7.58,  8.11]))"
      ]
     },
     "execution_count": 14,
     "metadata": {},
     "output_type": "execute_result"
    }
   ],
   "source": [
    "energia, obesidad = np.load('../data/energy.npy').T\n",
    "\n",
    "m_control = energia[obesidad==0]\n",
    "m_obesos = energia[obesidad==1]\n",
    "\n",
    "m_control, m_obesos"
   ]
  },
  {
   "cell_type": "markdown",
   "metadata": {},
   "source": [
    "- H0: muestras equivalentes\n",
    "- H1: muestras no equivalentes"
   ]
  },
  {
   "cell_type": "code",
   "execution_count": 17,
   "metadata": {},
   "outputs": [
    {
     "data": {
      "text/plain": [
       "Ttest_indResult(statistic=-3.9455649161549835, pvalue=0.0007989982111700593)"
      ]
     },
     "execution_count": 17,
     "metadata": {},
     "output_type": "execute_result"
    }
   ],
   "source": [
    "alfa = 0.05\n",
    "\n",
    "result = stats.ttest_ind(m_obesos, m_control)\n",
    "result"
   ]
  },
  {
   "cell_type": "code",
   "execution_count": 18,
   "metadata": {},
   "outputs": [
    {
     "data": {
      "text/plain": [
       "True"
      ]
     },
     "execution_count": 18,
     "metadata": {},
     "output_type": "execute_result"
    }
   ],
   "source": [
    "result.pvalue < alfa"
   ]
  },
  {
   "cell_type": "markdown",
   "metadata": {},
   "source": [
    "## Test de hipótesis para la regresión lineal\n",
    "\n",
    "En un modelo de regresión lineal donde tenemos $N$ ejemplos\n",
    "\n",
    "$$\n",
    "y_i = x_i \\theta_1 + \\theta_0, ~ i=1, 2, \\ldots, N\n",
    "$$\n",
    "\n",
    "nos interesa probar que la correlación entre $x$ es $y$ es significativa. Podemos hacer esto realizando un test sobre el parámetro $\\theta_1$\n",
    "\n",
    "Por ejemplo podemos plantear las siguientes hipótesis\n",
    "\n",
    "- $H_0:$ La pendiente es nula $\\theta_1 = 0$ (no hay correlación entre $x$ e $y$)\n",
    "- $H_A:$ La pendiente no es nula: $\\theta_1 \\neq 0$ \n",
    "\n",
    "(test de dos colas)\n",
    "\n",
    "Asumiendo que $\\theta_1$ se distribuye normal con varianza desconocida podemos formular el siguiente estadístico de prueba \n",
    "\n",
    "$$\n",
    "t = \\frac{(\\theta_1-\\theta^*) }{\\text{SE}_{\\theta_1}/\\sqrt{N-2}} = \\frac{ r\\sqrt{N-2}}{\\sqrt{1-r^2}},\n",
    "$$\n",
    "\n",
    "donde $r \\in [-1, 1]$ es el [coeficiente de correlación de Pearson](https://en.wikipedia.org/wiki/Pearson_correlation_coefficient), el cual es comunmente utilizado para medir la fuerza de la correlación\n",
    "\n",
    "- si $r=1$ existe una correlación lineal perfecta\n",
    "- si $r=-1$ existe una anticorrelación lineal perfecta\n",
    "- si $r=0$ no hay correlación lineal entre las variables\n",
    "\n",
    "Nota: En general un $r>0.5$ se considera una correlación importante\n",
    "\n",
    "\n",
    "La última igualdad en la expresión de $t$ se obtiene reemplazando $\\theta^*=0$ y \n",
    "\n",
    "$$\n",
    "\\text{SE}_{\\theta_1} = \\sqrt{ \\frac{\\frac{1}{N} \\sum_i (y_i - \\hat y_i)^2}{\\text{Var}(x)}}.\n",
    "$$ \n",
    "\n",
    "Nota: Si $\\theta_1$ es normal entonces el estadístico $t$ tiene distribución t-student con dos grados de libertad (modelo de dos parámetros) \n"
   ]
  },
  {
   "cell_type": "markdown",
   "metadata": {},
   "source": [
    "### Ejemplo: Consumo de helados"
   ]
  },
  {
   "cell_type": "code",
   "execution_count": 19,
   "metadata": {},
   "outputs": [
    {
     "data": {
      "text/html": [
       "<div>\n",
       "<style scoped>\n",
       "    .dataframe tbody tr th:only-of-type {\n",
       "        vertical-align: middle;\n",
       "    }\n",
       "\n",
       "    .dataframe tbody tr th {\n",
       "        vertical-align: top;\n",
       "    }\n",
       "\n",
       "    .dataframe thead th {\n",
       "        text-align: right;\n",
       "    }\n",
       "</style>\n",
       "<table border=\"1\" class=\"dataframe\">\n",
       "  <thead>\n",
       "    <tr style=\"text-align: right;\">\n",
       "      <th></th>\n",
       "      <th>consumo</th>\n",
       "      <th>ingreso</th>\n",
       "      <th>precio</th>\n",
       "      <th>temperatura</th>\n",
       "    </tr>\n",
       "  </thead>\n",
       "  <tbody>\n",
       "    <tr>\n",
       "      <th>1</th>\n",
       "      <td>0.386</td>\n",
       "      <td>78</td>\n",
       "      <td>0.270</td>\n",
       "      <td>41</td>\n",
       "    </tr>\n",
       "    <tr>\n",
       "      <th>2</th>\n",
       "      <td>0.374</td>\n",
       "      <td>79</td>\n",
       "      <td>0.282</td>\n",
       "      <td>56</td>\n",
       "    </tr>\n",
       "    <tr>\n",
       "      <th>3</th>\n",
       "      <td>0.393</td>\n",
       "      <td>81</td>\n",
       "      <td>0.277</td>\n",
       "      <td>63</td>\n",
       "    </tr>\n",
       "    <tr>\n",
       "      <th>4</th>\n",
       "      <td>0.425</td>\n",
       "      <td>80</td>\n",
       "      <td>0.280</td>\n",
       "      <td>68</td>\n",
       "    </tr>\n",
       "    <tr>\n",
       "      <th>5</th>\n",
       "      <td>0.406</td>\n",
       "      <td>76</td>\n",
       "      <td>0.272</td>\n",
       "      <td>69</td>\n",
       "    </tr>\n",
       "  </tbody>\n",
       "</table>\n",
       "</div>"
      ],
      "text/plain": [
       "   consumo  ingreso  precio  temperatura\n",
       "1    0.386       78   0.270           41\n",
       "2    0.374       79   0.282           56\n",
       "3    0.393       81   0.277           63\n",
       "4    0.425       80   0.280           68\n",
       "5    0.406       76   0.272           69"
      ]
     },
     "metadata": {},
     "output_type": "display_data"
    }
   ],
   "source": [
    "import pandas as pd\n",
    "df = pd.read_csv('../data/helados.csv', header=0, index_col=0)\n",
    "df.columns = ['consumo', 'ingreso', 'precio', 'temperatura']\n",
    "display(df.head())"
   ]
  },
  {
   "cell_type": "markdown",
   "metadata": {},
   "source": [
    "Podemos resolver un problema de regresión lineal univariado con scipy utilizando\n",
    "\n",
    "```\n",
    "scipy.stats.linregress(x, # Variable independiente unidimensional\n",
    "                       y # Variable dependiente unidimensional\n",
    "                      )\n",
    "```\n",
    "\n",
    "Esta función retorna una tupla con\n",
    "\n",
    "- Valor de la pendiente: $\\theta_1$\n",
    "- Valor de la intercepta: $\\theta_0$\n",
    "- Coeficiente de correlación $r$\n",
    "- p-value\n",
    "- Error estándar del ajuste\n",
    "\n",
    "Para el ejemplo anterior podemos ajustar regresiones lineales entre consumo y las demás variables:"
   ]
  },
  {
   "cell_type": "code",
   "execution_count": 20,
   "metadata": {},
   "outputs": [
    {
     "data": {
      "image/png": "[encoded data removed]",
      "text/plain": [
       "<Figure size 800x300 with 3 Axes>"
      ]
     },
     "metadata": {},
     "output_type": "display_data"
    }
   ],
   "source": [
    "%matplotlib inline\n",
    "import matplotlib.pyplot as plt\n",
    "\n",
    "fig, ax = plt.subplots(1, 3, figsize=(8, 3), tight_layout=True, sharey=True)\n",
    "ax[0].set_ylabel(df.columns[0]);\n",
    "for ax_, col in zip(ax, df.columns[1:]):\n",
    "    res = stats.linregress(df[col], df[\"consumo\"])\n",
    "    x_plot = np.linspace(np.amin(df[col]), np. amax(df[col]), num=100)\n",
    "    ax_.scatter(df[col], df[\"consumo\"], label='datos', s=10)    \n",
    "    ax_.plot(x_plot, res.slope*x_plot + res.intercept, lw=2, c='r', label='modelo');\n",
    "    ax_.set_xlabel(col)\n",
    "    ax_.set_title(f\"$r$: {res.rvalue:0.5f}\")\n",
    "ax_.legend();"
   ]
  },
  {
   "cell_type": "markdown",
   "metadata": {},
   "source": [
    "Es decir que visualmente parece existir\n",
    "\n",
    "- una correlación cercana a cero entre consumo e ingreso\n",
    "- una correlación negativa moderada entre consumo y precio\n",
    "- una correlación positiva alta entre consumo y temperatura"
   ]
  },
  {
   "cell_type": "markdown",
   "metadata": {},
   "source": [
    "La función `linregress` implementa el t-test sobre $\\theta_1$ que vimos anteriormente. Usemos estos resultados para verificar si las correlaciones son estadísticamente significativas"
   ]
  },
  {
   "cell_type": "code",
   "execution_count": 21,
   "metadata": {},
   "outputs": [
    {
     "name": "stdout",
     "output_type": "stream",
     "text": [
      "ingreso: \t Rechazo hipótesis nula: False\n",
      "precio: \t Rechazo hipótesis nula: False\n",
      "temperatura: \t Rechazo hipótesis nula: True\n"
     ]
    }
   ],
   "source": [
    "alpha = 0.05\n",
    "\n",
    "for i, col in enumerate(df.columns[1:]):\n",
    "    res = stats.linregress(df[col], df[\"consumo\"])\n",
    "    print(f\"{col}: \\t Rechazo hipótesis nula: {res.pvalue < alpha}\")    "
   ]
  },
  {
   "cell_type": "markdown",
   "metadata": {},
   "source": [
    "Como complemento visualizemos \n",
    "\n",
    "- las distribuciones bajo la hipótesis nula: linea azul\n",
    "- los límites dados por $\\alpha$: linea punteada negra (dos colas)\n",
    "- El valor del observado para cada una de las variables: linea roja "
   ]
  },
  {
   "cell_type": "code",
   "execution_count": 22,
   "metadata": {},
   "outputs": [
    {
     "data": {
      "image/png": "[encoded data removed]",
      "text/plain": [
       "<Figure size 800x200 with 3 Axes>"
      ]
     },
     "metadata": {},
     "output_type": "display_data"
    }
   ],
   "source": [
    "fig, ax = plt.subplots(1, 3, figsize=(8, 2), tight_layout=True, sharey=True)\n",
    "ax[0].set_ylabel(df.columns[0]);\n",
    "\n",
    "N = df.shape[0]\n",
    "t = np.linspace(-7, 7, num=1000)\n",
    "dist = stats.t(loc=0, scale=1, df=N-2) # dos grados de libertad\n",
    "\n",
    "\n",
    "for i, col in enumerate(df.columns[1:]):\n",
    "    res = stats.linregress(df[col], df[\"consumo\"])\n",
    "    t_data = res.rvalue*np.sqrt(N-2)/np.sqrt(1.-res.rvalue**2)\n",
    "    ax[i].plot(t, dist.pdf(t))\n",
    "    ax[i].plot([dist.ppf(alpha/2)]*2, [0, np.amax(dist.pdf(t))], 'k--')\n",
    "    ax[i].plot([dist.ppf(1-alpha/2)]*2, [0, np.amax(dist.pdf(t))], 'k--')\n",
    "    ax[i].plot([t_data]*2, [0, np.amax(dist.pdf(t))], 'r-')\n",
    "    ax[i].set_xlabel(col)    "
   ]
  },
  {
   "cell_type": "markdown",
   "metadata": {},
   "source": [
    "Por lo tanto\n",
    "\n",
    "> Rechazamos la hipótesis nula de que no existe correlación entre temperatura y consumo con un 95% de confianza\n",
    "\n",
    "Para las variables ingreso y precio no existe suficiente evidencia para rechazar la hipótesis nula\n"
   ]
  },
  {
   "cell_type": "markdown",
   "metadata": {},
   "source": [
    "## Ejercicio: Bicicletas compartidas\n",
    "\n",
    "Estudia la correlación entre el número de bicis compartidas y otras variables como (temperatura, viento, festivo)"
   ]
  },
  {
   "cell_type": "markdown",
   "metadata": {},
   "source": [
    "## Reflexión final\n",
    "\n",
    "En el ejercicio anterior usamos un t-test para una regresión lineal entre dos variables \n",
    "\n",
    "¿Qué prueba puedo usar si quiero hacer regresión lineal multivariada? \n",
    "\n",
    "> Se puede usar un f-test o [ANOVA](https://docs.scipy.org/doc/scipy/reference/generated/scipy.stats.f_oneway.html#scipy.stats.f_oneway)\n",
    "\n",
    "¿Qué pasa si...\n",
    "\n",
    "- los datos tienen una relación que no es lineal? \n",
    "- $\\theta_1$ no es Gaussiano/normal? \n",
    "- si el ruido de los datos no es Gaussiano? \n",
    "\n",
    "> En estos casos no se cumplen los supuestos del modelo o del test, por ende el resultado no es confiable\n",
    "\n",
    "Si los supuestos no se cumplen para ninguna prueba parámetrica se puede probar con pruebas no-paramétricas. \n",
    "\n",
    "Las pruebas no parámetricas no presuponen una distribución para los estadísticos de prueba pero suele ser menos poderosas que sus contrapartes paramétricas"
   ]
  }
 ],
 "metadata": {
  "kernelspec": {
   "display_name": "Python 3.8 - AzureML",
   "language": "python",
   "name": "python38-azureml"
  },
  "language_info": {
   "codemirror_mode": {
    "name": "ipython",
    "version": 3
   },
   "file_extension": ".py",
   "mimetype": "text/x-python",
   "name": "python",
   "nbconvert_exporter": "python",
   "pygments_lexer": "ipython3",
   "version": "3.10.11"
  }
 },
 "nbformat": 4,
 "nbformat_minor": 2
}
