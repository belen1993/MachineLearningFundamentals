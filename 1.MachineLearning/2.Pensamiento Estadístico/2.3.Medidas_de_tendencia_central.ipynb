{
  "cells": [
    {
      "cell_type": "markdown",
      "metadata": {
        "colab_type": "text",
        "id": "socWC19Xlo3G"
      },
      "source": [
        "# Medidas de tendencia central\n",
        "\n",
        "Las [medidas de tendencia central](https://es.wikipedia.org/wiki/Medidas_de_tendencia_central) son valores principales para caracterizar variables aleatorias.\n",
        "\n",
        "La medida de tendencia central es un número situado hacia el centro de la distribución de los valores de una serie de observaciones (medidas), en la que se encuentra ubicado el conjunto de los datos.\n",
        "\n",
        "Es importante que no todas las medidas de tendencia son aplicables a los dos tipos de variables, numéricas y categóricas, y que también algunas de ellas son más susceptibles a los valores extremos (outliers)\n",
        "\n",
        "**Medidas de tendencia**\n",
        "\n",
        "- Media\n",
        "  - [Aritmética](https://es.wikipedia.org/wiki/Media_aritm%C3%A9tica)\n",
        "  - [Geométrica](https://es.wikipedia.org/wiki/Media_geom%C3%A9trica)\n",
        "  - [Armónica](https://es.wikipedia.org/wiki/Media_arm%C3%B3nica)\n",
        "  - [Ponderada](https://es.wikipedia.org/wiki/Media_ponderada)\n",
        "- [Mediana](https://es.wikipedia.org/wiki/Mediana_(estad%C3%ADstica))\n",
        "- [Moda](https://es.wikipedia.org/wiki/Moda_(estad%C3%ADstica))\n",
        "- [Error típico o desviación estándar](https://es.wikipedia.org/wiki/Desviaci%C3%B3n_t%C3%ADpica)\n",
        "\n",
        "**Criterios de aplicación**\n",
        "\n",
        "- No todas las medidas de tendencia central son aplicables a las variables numericas y categoricas, o sea, hay que tener en cuenta el tipo de variable a la hora de utilizarlas. \n",
        "\n",
        "- Alguna de ellas son mas suceptibles que otras a los valores extremos.\n"
      ]
    },
    {
      "cell_type": "code",
      "execution_count": null,
      "metadata": {
        "colab": {},
        "colab_type": "code",
        "id": "t2RifRpkmNWx"
      },
      "outputs": [],
      "source": [
        "import numpy as np\n",
        "import pandas as pd\n",
        "import scipy\n",
        "import scipy.stats"
      ]
    },
    {
      "cell_type": "markdown",
      "metadata": {
        "colab_type": "text",
        "id": "M2RYbBlwnNDa"
      },
      "source": [
        "Importamos la base de datos y empezamos a trabajar con ella"
      ]
    },
    {
      "cell_type": "code",
      "execution_count": null,
      "metadata": {
        "colab": {
          "base_uri": "https://localhost:8080/",
          "height": 69
        },
        "colab_type": "code",
        "id": "aNgFyWAbm39k",
        "outputId": "6a4a2e58-957e-4aea-9ec4-8f587d844e64"
      },
      "outputs": [],
      "source": [
        "df = pd.read_csv('../../../data/bicicletas-compartidas.csv')\n",
        "df.columns"
      ]
    },
    {
      "cell_type": "markdown",
      "metadata": {
        "colab_type": "text",
        "id": "mgfL_AtlnT8n"
      },
      "source": [
        "Vamos a definir la variable con la cual vamos a generar el analisis. Lo haremos sobre las bicicleras compartidas."
      ]
    },
    {
      "cell_type": "code",
      "execution_count": null,
      "metadata": {
        "colab": {
          "base_uri": "https://localhost:8080/",
          "height": 34
        },
        "colab_type": "code",
        "id": "U2lbD3oEm_8i",
        "outputId": "99943db7-4656-4eed-9886-bafe72238718"
      },
      "outputs": [],
      "source": [
        "y = df['bicis-compartidas'].values\n",
        "y"
      ]
    },
    {
      "cell_type": "markdown",
      "metadata": {
        "colab_type": "text",
        "id": "se5M1X8zndbL"
      },
      "source": [
        "Vemos que **y** es un arreglo numérico. Ahora vamos a limpiar este arreglo de posibles 0 que tenga, ya que numpy no nos permitira hacer calculo con estos valores."
      ]
    },
    {
      "cell_type": "code",
      "execution_count": null,
      "metadata": {
        "colab": {},
        "colab_type": "code",
        "id": "aByldHAwnbck"
      },
      "outputs": [],
      "source": [
        "y = np.where(y == 0, 1, y)"
      ]
    },
    {
      "cell_type": "code",
      "execution_count": null,
      "metadata": {
        "colab": {
          "base_uri": "https://localhost:8080/",
          "height": 34
        },
        "colab_type": "code",
        "id": "cN7ATPKFsL8d",
        "outputId": "8bb70200-1b1f-4346-cec0-7704c6e8cf80"
      },
      "outputs": [],
      "source": [
        "np.min(y)"
      ]
    },
    {
      "cell_type": "code",
      "execution_count": null,
      "metadata": {
        "colab": {
          "base_uri": "https://localhost:8080/",
          "height": 34
        },
        "colab_type": "code",
        "id": "SosHJm7MsN9R",
        "outputId": "9e712b25-2ea1-4270-f2af-6ebc003120ba"
      },
      "outputs": [],
      "source": [
        "np.max(y)"
      ]
    },
    {
      "cell_type": "markdown",
      "metadata": {
        "colab_type": "text",
        "id": "1JZ6kqvYsVHh"
      },
      "source": [
        "## Promedio aritmetico o media aritmetica\n",
        "\n",
        "La [media aritmética](https://es.wikipedia.org/wiki/Media_aritm%C3%A9tica) también llamada promedio o media, de un conjunto finito de números es el valor característico de una serie de datos cuantitativos, objeto de estudio que parte del principio de la esperanza matemática o valor esperado, se obtiene a partir de la suma de todos sus valores dividida entre el número de sumandos.\n",
        "\n",
        "![Media aritmetica](https://wikimedia.org/api/rest_v1/media/math/render/svg/45369dd1e80668d3f6df7233fe4e2e0361d5c851)"
      ]
    },
    {
      "cell_type": "code",
      "execution_count": null,
      "metadata": {
        "colab": {
          "base_uri": "https://localhost:8080/",
          "height": 34
        },
        "colab_type": "code",
        "id": "7leEPfFVsQQt",
        "outputId": "c6ab7532-d0b7-4afa-c9e6-69ca84185693"
      },
      "outputs": [],
      "source": [
        "np.mean(y)"
      ]
    },
    {
      "cell_type": "code",
      "execution_count": null,
      "metadata": {
        "colab": {
          "base_uri": "https://localhost:8080/",
          "height": 34
        },
        "colab_type": "code",
        "id": "6wlcy-2FsfOw",
        "outputId": "908aebc1-a387-45c9-fb4a-365a78e76c92"
      },
      "outputs": [],
      "source": [
        "np.sum(y)/len(y)"
      ]
    },
    {
      "cell_type": "markdown",
      "metadata": {
        "colab_type": "text",
        "id": "99gdCOkMvE-w"
      },
      "source": [
        "Vemos que la media aritmética es de 1143 bicicletas compartidas"
      ]
    },
    {
      "cell_type": "markdown",
      "metadata": {
        "colab_type": "text",
        "id": "OS4QxyQo0x58"
      },
      "source": [
        "Documentacion oficial de scipy mstats:\n",
        "\n",
        "https://docs.scipy.org/doc/scipy/reference/stats.mstats.html"
      ]
    },
    {
      "attachments": {
        "image.png": {
          "image/png": "[encoded data removed]"
        }
      },
      "cell_type": "markdown",
      "metadata": {
        "colab_type": "text",
        "id": "oYGDIoT1sn5L"
      },
      "source": [
        "## Promedio geometrica o media geométrica\n",
        "\n",
        "La [media geométrica](https://es.wikipedia.org/wiki/Media_geom%C3%A9trica) de una cantidad arbitraria de números (por decir n números) es la raíz n-ésima del producto de todos los números; es recomendada para datos de progresión geométrica, para promediar razones, interés compuesto y números índice\n",
        "\n",
        "![image.png](attachment:image.png)\n",
        "\n",
        "Frecuentemente se usa una media geométrica cuando se comparan diferentes aspectos, cuyos rendimientos tienen unidades de medida en diferentes rangos numéricos. \n",
        "\n",
        "Por ejemplo, la media geométrica puede dar un valor serio para comparar dos empresas que tienen una calificación entre 0 a 5 por su sostenibilidad ambiental, y una calificación entre 0 a 100 por su viabilidad financiera. Si se usara la media aritmética en lugar de la media geométrica, la viabilidad financiera tendría mayor peso porque su rango numérico es mayor. Es decir, un pequeño cambio porcentual en la calificación financiera (por ejemplo, pasar de 80 a 90) haría una diferencia mucho mayor en la media aritmética que un gran cambio porcentual en la sostenibilidad ambiental (por ejemplo, pasar de 2 a 5). El uso de la media geométrica normaliza los valores de rango diferente, lo que significa que un cambio de porcentaje dado en cualquiera de las propiedades tiene el mismo efecto en la media geométrica. Entonces, un cambio del 20% en la sostenibilidad ambiental de 4 a 4.8 tiene el mismo efecto en la media geométrica que un cambio del 20% en la viabilidad financiera de 60 a 72. "
      ]
    },
    {
      "cell_type": "markdown",
      "metadata": {
        "colab_type": "text",
        "id": "R7fMPKVdvzOv"
      },
      "source": [
        "Esto lo hacemos de la siguiente manera"
      ]
    },
    {
      "cell_type": "code",
      "execution_count": null,
      "metadata": {
        "colab": {
          "base_uri": "https://localhost:8080/",
          "height": 34
        },
        "colab_type": "code",
        "id": "UWeSZ5LKwTdM",
        "outputId": "18e9816a-56ea-4969-f3eb-f47ecd56c06c"
      },
      "outputs": [],
      "source": [
        "scipy.stats.mstats.gmean(y)"
      ]
    },
    {
      "attachments": {
        "image.png": {
          "image/png": "[encoded data removed]"
        }
      },
      "cell_type": "markdown",
      "metadata": {
        "colab_type": "text",
        "id": "Edckf0Gm0GGw"
      },
      "source": [
        "## Promedio armonico o media armonica\n",
        "\n",
        "La [media armónica](https://es.wikipedia.org/wiki/Media_arm%C3%B3nica) (designada usualmente mediante H) de una cantidad finita de números es igual al recíproco, o inverso, de la media aritmética de los recíprocos de dichos valores y es recomendada para promediar velocidades. \n",
        "\n",
        "![image.png](attachment:image.png)\n"
      ]
    },
    {
      "cell_type": "code",
      "execution_count": null,
      "metadata": {
        "colab": {
          "base_uri": "https://localhost:8080/",
          "height": 34
        },
        "colab_type": "code",
        "id": "9pr4bySiskWb",
        "outputId": "46d54d67-74a9-4af6-f7e2-5a2c8bbe6bbf"
      },
      "outputs": [],
      "source": [
        "scipy.stats.mstats.hmean(y)"
      ]
    },
    {
      "cell_type": "markdown",
      "metadata": {
        "colab_type": "text",
        "id": "sPJwhOlk1JUw"
      },
      "source": [
        "## Mediana\n",
        "\n",
        "La [mediana](https://es.wikipedia.org/wiki/Mediana_(estad%C3%ADstica)) representa el valor de la variable de posición central en un conjunto de datos ordenados, en otras palabras el valor que divide a los datos en 2 partes. Coincide con el percentil 50% o 50% de los datos.\n"
      ]
    },
    {
      "cell_type": "code",
      "execution_count": null,
      "metadata": {
        "colab": {
          "base_uri": "https://localhost:8080/",
          "height": 34
        },
        "colab_type": "code",
        "id": "pYwg00Jfs4tp",
        "outputId": "8789b58d-8e2a-405d-ae2c-b93937376baf"
      },
      "outputs": [],
      "source": [
        "np.median(y)"
      ]
    },
    {
      "cell_type": "markdown",
      "metadata": {
        "colab_type": "text",
        "id": "xw8cbGaZ5yBb"
      },
      "source": [
        "## Moda\n",
        "\n",
        "La [moda](https://es.wikipedia.org/wiki/Moda_(estad%C3%ADstica)) es el valor con mayor frecuencia en una de las distribuciones de datos."
      ]
    },
    {
      "cell_type": "code",
      "execution_count": null,
      "metadata": {
        "colab": {},
        "colab_type": "code",
        "id": "8ffXlWdv21ES"
      },
      "outputs": [],
      "source": [
        "# moda = valor de y con la maxima frecuencia\n",
        "\n",
        "moda = np.nan # defino la variable moda\n",
        "\n",
        "valores, conteo_valores = np.unique(y, return_counts=True) # Retorna array con valores unicos del array que le pase.\n",
        "\n",
        "pos = np.argmax(conteo_valores) # Del conteo de valores retorname el valor máximo. Este será la posición\n",
        "moda = valores[pos] # Con la posicion anterior encuentro el valor que mas se repite."
      ]
    },
    {
      "cell_type": "code",
      "execution_count": null,
      "metadata": {
        "colab": {
          "base_uri": "https://localhost:8080/",
          "height": 34
        },
        "colab_type": "code",
        "id": "bKvpTBE33Z9X",
        "outputId": "b2e3e7d4-8e1a-4df1-f61f-b5f1cb218f37"
      },
      "outputs": [],
      "source": [
        "valores"
      ]
    },
    {
      "cell_type": "code",
      "execution_count": null,
      "metadata": {
        "colab": {
          "base_uri": "https://localhost:8080/",
          "height": 34
        },
        "colab_type": "code",
        "id": "QcaQmMkx3beR",
        "outputId": "ef69af2d-c737-4c90-c828-b9f5400c37f2"
      },
      "outputs": [],
      "source": [
        "conteo_valores"
      ]
    },
    {
      "cell_type": "code",
      "execution_count": null,
      "metadata": {
        "colab": {
          "base_uri": "https://localhost:8080/",
          "height": 34
        },
        "colab_type": "code",
        "id": "1m5dl7wl4cAW",
        "outputId": "a50f64e2-c6e5-4ea1-c2e3-610f81c1d7eb"
      },
      "outputs": [],
      "source": [
        "pos"
      ]
    },
    {
      "cell_type": "code",
      "execution_count": null,
      "metadata": {
        "colab": {
          "base_uri": "https://localhost:8080/",
          "height": 34
        },
        "colab_type": "code",
        "id": "JLr0VTma4vW6",
        "outputId": "0f905c05-0f9c-4383-cc06-96e714204ba2"
      },
      "outputs": [],
      "source": [
        "moda"
      ]
    },
    {
      "cell_type": "markdown",
      "metadata": {
        "colab_type": "text",
        "id": "yWarzvtZ4wqS"
      },
      "source": [
        "El valor que mas se repite es 46, 46 bicicletas compartidas."
      ]
    },
    {
      "cell_type": "markdown",
      "metadata": {
        "colab_type": "text",
        "id": "hXgfXFU_5JdE"
      },
      "source": [
        "En el siguiente gráfico podemos ver una comparativa entre estas medidas:\n",
        "\n",
        "![Comparacion de medidas de tendencia central](https://upload.wikimedia.org/wikipedia/commons/thumb/3/33/Visualisation_mode_median_mean.svg/langes-320px-Visualisation_mode_median_mean.svg.png)"
      ]
    },
    {
      "attachments": {
        "image.png": {
          "image/png": "[encoded data removed]"
        }
      },
      "cell_type": "markdown",
      "metadata": {
        "colab_type": "text",
        "id": "cHoPeIu7EWtp"
      },
      "source": [
        "## Desviación estandar\n",
        "\n",
        "La [desviación estandar](https://es.wikipedia.org/wiki/Desviaci%C3%B3n_t%C3%ADpica) es una medida que se utiliza para cuantificar la variación o la dispersión de un conjunto de datos numéricos.\n",
        "\n",
        "Una desviación estándar baja indica que la mayor parte de los datos de una muestra tienden a estar agrupados cerca de su media (también denominada el valor esperado), mientras que una desviación estándar alta indica que los datos se extienden sobre un rango de valores más amplio. \n",
        "\n",
        "![image.png](attachment:image.png)\n",
        "\n",
        "Una gráfica de la distribución normal (o curva en forma de campana, o curva de Gauss), donde cada banda tiene un ancho de una vez la desviación estándar"
      ]
    },
    {
      "cell_type": "code",
      "execution_count": null,
      "metadata": {
        "colab": {
          "base_uri": "https://localhost:8080/",
          "height": 34
        },
        "colab_type": "code",
        "id": "bBk7LQXi4LUC",
        "outputId": "5abd9108-f4d9-41c0-c7c6-e74643f5d825"
      },
      "outputs": [],
      "source": [
        "np.std(y)"
      ]
    },
    {
      "cell_type": "markdown",
      "metadata": {
        "colab_type": "text",
        "id": "_WVBeW9tFTuk"
      },
      "source": [
        "## Alteraciones\n",
        "\n",
        "Podemos ver que los valores extremos alteran las medidas de tendencia centrla. Veamos esto con un ejemplo:"
      ]
    },
    {
      "cell_type": "code",
      "execution_count": null,
      "metadata": {
        "colab": {},
        "colab_type": "code",
        "id": "irTOMUasFQK1"
      },
      "outputs": [],
      "source": [
        "y_alterado = y.copy()\n",
        "y_alterado[y_alterado == max(y_alterado)] = 10000000"
      ]
    },
    {
      "cell_type": "code",
      "execution_count": null,
      "metadata": {
        "colab": {
          "base_uri": "https://localhost:8080/",
          "height": 52
        },
        "colab_type": "code",
        "id": "_b1Dj0w4FfkG",
        "outputId": "d8dc7bf8-83f4-4e07-d010-21cb11261d46"
      },
      "outputs": [],
      "source": [
        "print(np.mean(y))\n",
        "print(np.mean(y_alterado))"
      ]
    },
    {
      "cell_type": "code",
      "execution_count": null,
      "metadata": {
        "colab": {
          "base_uri": "https://localhost:8080/",
          "height": 52
        },
        "colab_type": "code",
        "id": "K-JnwotyFq_8",
        "outputId": "2b295e32-1bce-470c-acc8-762fba76849d"
      },
      "outputs": [],
      "source": [
        "print(np.median(y))\n",
        "print(np.median(y_alterado))"
      ]
    },
    {
      "cell_type": "markdown",
      "metadata": {
        "colab_type": "text",
        "id": "wrRcXJ7lGYRc"
      },
      "source": [
        "Veamos lo anterior con un gráfico bastante representativo.\n",
        "\n",
        "![alteraciones](https://imgur.com/L6drVeI.png)"
      ]
    },
    {
      "cell_type": "markdown",
      "metadata": {
        "colab": {},
        "colab_type": "code",
        "id": "-hJe58oOGAm0"
      },
      "source": [
        "## **Ejercicio**\n",
        "\n",
        "1. Calcula las medidas de tendencia central para la siguiente simulación de sueldos. Grafica su distribución"
      ]
    },
    {
      "cell_type": "code",
      "execution_count": null,
      "metadata": {},
      "outputs": [],
      "source": [
        "import pandas as pd\n",
        "import numpy as np\n",
        "\n",
        "# Simulación de datos de salarios con más frecuencia en los salarios bajos\n",
        "np.random.seed(42)  # Para hacer la simulación reproducible\n",
        "salarios = np.random.lognormal(mean=10, sigma=0.5, size=1000)  # Generar salarios con más concentración en valores bajos"
      ]
    },
    {
      "cell_type": "markdown",
      "metadata": {},
      "source": [
        "2. Añade un sueldo muy alto y vuelve a calcular y graficar. \n",
        "- Compara los valores resultantes\n",
        "- Calcula el rango medio\n",
        "- Calcular el rango de sueldos que más se repite con `np.histogram` en función del índice moda de las frecuencias\n"
      ]
    },
    {
      "cell_type": "code",
      "execution_count": null,
      "metadata": {},
      "outputs": [],
      "source": [
        "# Incluir un salario de 211 millones\n",
        "salarios = np.append(salarios, 211000000)  # Añadir salario de 211 millones"
      ]
    }
  ],
  "metadata": {
    "colab": {
      "authorship_tag": "ABX9TyNfFf6j2B37kXOA2VYImcGL",
      "include_colab_link": true,
      "name": "3.Medidas de tendencia central.ipynb",
      "provenance": [],
      "toc_visible": true
    },
    "kernelspec": {
      "display_name": "Python 3",
      "name": "python3"
    },
    "language_info": {
      "codemirror_mode": {
        "name": "ipython",
        "version": 3
      },
      "file_extension": ".py",
      "mimetype": "text/x-python",
      "name": "python",
      "nbconvert_exporter": "python",
      "pygments_lexer": "ipython3",
      "version": "3.12.4"
    }
  },
  "nbformat": 4,
  "nbformat_minor": 0
}
