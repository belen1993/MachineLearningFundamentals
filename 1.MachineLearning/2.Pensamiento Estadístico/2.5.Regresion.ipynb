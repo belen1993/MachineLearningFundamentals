{
 "cells": [
  {
   "cell_type": "markdown",
   "metadata": {},
   "source": [
    "# Regresión"
   ]
  },
  {
   "cell_type": "code",
   "execution_count": null,
   "metadata": {},
   "outputs": [],
   "source": [
    "import numpy as np\n",
    "from scipy import stats\n",
    "import pandas as pd\n",
    "import matplotlib.pyplot as plt\n",
    "import seaborn as sns\n",
    "\n",
    "import warnings\n",
    "\n",
    "warnings.filterwarnings('ignore')"
   ]
  },
  {
   "cell_type": "markdown",
   "metadata": {},
   "source": [
    "## statsmodels\n",
    "\n",
    "Esta librería nos brinda un gran número de herramientas para explorar datos, estimar modelos estadísticos, realizar pruebas estadísticas y muchas cosas más.\n",
    "\n",
    "https://statsmodels.sourceforge.net/"
   ]
  },
  {
   "cell_type": "markdown",
   "metadata": {},
   "source": [
    "## Regresiones\n",
    "\n",
    "Las regresiones es una de las herramientas principales de la estadistica inferencial. El objetivo del análisis de regresión es describir la relación entre un conjunto de variables, llamadas variables dependientes, y otro conjunto de variables, llamadas variables independientes o explicativas. \n",
    "\n",
    "Más específicamente, el análisis de regresión ayuda a entender cómo el valor típico de la variable dependiente cambia cuando cualquiera de las variables independientes es cambiada, mientras que se mantienen las otras variables independientes fijas. \n",
    "\n",
    "El producto final del análisis de regresión es la estimación de una función de las variables independientes llamada la función de regresión. \n",
    "\n",
    "**La idea es que en base a esta función de regresión podamos hacer estimaciones sobre eventos futuros.**\n",
    "\n",
    "La regresión lineal es una de las técnicas más simples y mayormente utilizadas en los análisis de regresiones. Hace suposiciones muy rígidas sobre la relación entre la variable dependiente \n",
    " y variable independiente \n",
    ". Asume que la relación va a tomar la forma:\n",
    "\n",
    "<math xmlns=\"http://www.w3.org/1998/Math/MathML\" display=\"block\">\n",
    "  <mi>y</mi>\n",
    "  <mo>=</mo>\n",
    "  <msub>\n",
    "    <mi>&#x3B2;</mi>\n",
    "    <mn>0</mn>\n",
    "  </msub>\n",
    "  <mo>+</mo>\n",
    "  <msub>\n",
    "    <mi>&#x3B2;</mi>\n",
    "    <mn>1</mn>\n",
    "  </msub>\n",
    "  <mo>&#x2217;</mo>\n",
    "  <mi>x</mi>\n",
    "</math>\n",
    "\n",
    "Uno de los métodos más populares para realizar regresiones lineales es el de mínimos cuadrados ordinarios (OLS, por sus siglas en inglés), este método es el estimador más simple y común en la que los dos \n",
    "s se eligen para minimizar el cuadrado de la distancia entre los valores estimados y los valores reales.\n",
    "\n",
    "Realizar análisis de regresiones en Python es sumamente fácil gracias a **statsmodels**.\n",
    "\n",
    "Veamos un pequeño ejemplo utilizando el dataset longley, el cual es ideal para realizar regresiones:"
   ]
  },
  {
   "cell_type": "code",
   "execution_count": null,
   "metadata": {},
   "outputs": [],
   "source": [
    "# importanto la api de statsmodels\n",
    "import statsmodels.formula.api as smf\n",
    "import statsmodels.api as sm\n",
    "\n",
    "# Creando un DataFrame de pandas.\n",
    "df = pd.read_csv('https://vincentarelbundock.github.io/Rdatasets/csv/datasets/longley.csv', index_col=0)\n",
    "df.head() # longley dataset"
   ]
  },
  {
   "cell_type": "code",
   "execution_count": null,
   "metadata": {},
   "outputs": [],
   "source": [
    "# utilizando la api de formula de statsmodels\n",
    "est = smf.ols(formula='Employed ~ GNP', data=df).fit()\n",
    "est.summary() # Employed se estima en base a GNP."
   ]
  },
  {
   "cell_type": "markdown",
   "metadata": {},
   "source": [
    "Como podemos ver, el resumen que nos brinda statsmodels sobre nuestro modelo de regresión contiene bastante información sobre como se ajuste el modelo a los datos. \n",
    "\n",
    "Significado de valores:\n",
    "\n",
    "- Dep. Variable: es la variable que estamos estimando.\n",
    "- Model: es el modelo que estamos utilizando.\n",
    "- R-squared: es el coeficiente de determinación, el cual mide cuan bien nuestra recta de regresion se aproxima a los datos reales.\n",
    "- Adj. R-squared: es el coeficiente anterior ajustado según el número de observaciones.\n",
    "- [95.0% Conf. Int.]: Los valores inferior y superior del intervalo de confianza del 95%.\n",
    "- coef: el valor estimado del coeficiente.\n",
    "- std err: el error estándar de la estimación del coeficiente.\n",
    "- Skew: una medida de la asimetria de los datos sobre la media.\n",
    "- Kurtosis: Una medida de la forma de la distribución. La curtosis compara la cantidad de datos cerca de la media con los que están más lejos de la media(en las colas)."
   ]
  },
  {
   "cell_type": "code",
   "execution_count": null,
   "metadata": {},
   "outputs": [],
   "source": [
    "# grafico de regresion. que tanto se ajusta el modelo a los datos.\n",
    "y = df.Employed  # Respuesta\n",
    "X = df.GNP  # Predictor\n",
    "X = sm.add_constant(X) # agrega constante\n",
    "\n",
    "X_1 = pd.DataFrame({'GNP': np.linspace(X.GNP.min(), X.GNP.max(), 100)})\n",
    "X_1 = sm.add_constant(X_1)\n",
    "\n",
    "y_reg = est.predict(X_1) # estimacion\n",
    "\n",
    "plt.scatter(X.GNP, y, alpha=0.3)  # grafica los puntos de datos\n",
    "plt.ylim(30, 100)  # limite de eje y\n",
    "plt.xlabel(\"Producto bruto\") # leyenda eje x\n",
    "plt.ylabel(\"Empleo\") # leyenda eje y\n",
    "plt.title(\"Ajuste de regresion\") # titulo del grafico\n",
    "reg = plt.plot(X_1.GNP, y_reg, 'r', alpha=0.9)  # linea de regresion"
   ]
  },
  {
   "cell_type": "code",
   "execution_count": null,
   "metadata": {},
   "outputs": [],
   "source": [
    "# grafico de influencia\n",
    "from statsmodels.graphics.regressionplots import influence_plot\n",
    "\n",
    "inf =influence_plot(est)"
   ]
  },
  {
   "cell_type": "markdown",
   "metadata": {},
   "source": [
    "Este último gráfico nos muestra el apalancamiento y la influencia de cada caso."
   ]
  }
 ],
 "metadata": {
  "kernelspec": {
   "display_name": "Python 3",
   "language": "python",
   "name": "python3"
  },
  "language_info": {
   "codemirror_mode": {
    "name": "ipython",
    "version": 3
   },
   "file_extension": ".py",
   "mimetype": "text/x-python",
   "name": "python",
   "nbconvert_exporter": "python",
   "pygments_lexer": "ipython3",
   "version": "3.12.4"
  }
 },
 "nbformat": 4,
 "nbformat_minor": 2
}
