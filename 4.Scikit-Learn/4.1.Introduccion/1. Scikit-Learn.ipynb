{
 "cells": [
  {
   "cell_type": "markdown",
   "metadata": {},
   "source": [
    "# Introducción a Scikit-learn\n",
    "\n",
    "Scikit-learn es una de las librerías más populares de Python para machine learning. \n",
    "\n",
    "https://scikit-learn.org\n",
    "\n",
    "Proporciona herramientas simples y eficientes para tareas como clasificación, regresión, clustering y reducción de dimensionalidad. \n",
    "\n",
    "En este notebook, exploraremos los conceptos básicos de Scikit-learn."
   ]
  },
  {
   "cell_type": "markdown",
   "metadata": {},
   "source": [
    "## **1. Introducción a Scikit-learn y su API**\n",
    "\n",
    "Scikit-learn sigue una API consistente y bien documentada. \n",
    "\n",
    "- https://scikit-learn.org/stable/api/index.html\n",
    "\n",
    "\n",
    "Los principales componentes son:\n",
    "\n",
    "- **Estimadores**: Objetos que implementan algoritmos de machine learning (por ejemplo, `LinearRegression`, `RandomForestClassifier`).\n",
    "    - Ver *4.2.ResumenAPI_scikitlearn*\n",
    "- **Transformadores**: Objetos que preprocesan los datos (por ejemplo, `StandardScaler`, `PCA`).\n",
    "- **Predictores**: Estimadores que pueden hacer predicciones (por ejemplo, `predict()`).\n",
    "\n",
    "### **Ejemplo: Cargar un Dataset y Aplicar un Modelo Simple**"
   ]
  },
  {
   "cell_type": "code",
   "execution_count": 2,
   "metadata": {},
   "outputs": [
    {
     "name": "stdout",
     "output_type": "stream",
     "text": [
      "Características (X):\n",
      "[[5.1 3.5 1.4 0.2]\n",
      " [4.9 3.  1.4 0.2]\n",
      " [4.7 3.2 1.3 0.2]\n",
      " [4.6 3.1 1.5 0.2]\n",
      " [5.  3.6 1.4 0.2]]\n",
      "\n",
      "Etiquetas (y):\n",
      "[0 0 0 0 0]\n"
     ]
    }
   ],
   "source": [
    "# Importar Scikit-learn y cargar un dataset de ejemplo\n",
    "from sklearn.datasets import load_iris\n",
    "from sklearn.model_selection import train_test_split\n",
    "from sklearn.preprocessing import StandardScaler\n",
    "from sklearn.neighbors import KNeighborsClassifier\n",
    "from sklearn.metrics import accuracy_score\n",
    "\n",
    "# Cargar el dataset Iris\n",
    "iris = load_iris()\n",
    "X = iris.data  # Características\n",
    "y = iris.target  # Target\n",
    "\n",
    "# Mostrar las primeras filas del dataset\n",
    "print(\"Características (X):\")\n",
    "print(X[:5])\n",
    "print(\"\\nEtiquetas (y):\")\n",
    "print(y[:5])\n"
   ]
  },
  {
   "cell_type": "markdown",
   "metadata": {},
   "source": [
    "## **2. División de Datos en Entrenamiento y Prueba**\n",
    "\n",
    "Es fundamental dividir los datos en conjuntos de entrenamiento y prueba para evaluar el rendimiento del modelo.\n",
    "\n",
    "- Antes de abarcar cualquier transformación en nuestro dataset, debemos primero dividir nuestros datos entre train y test. \n",
    "\n",
    "    - La idea es que los datos de test no se tengan considerados en niguna transformación, como si fuesen nuevos de verdad.\n",
    "\n",
    "- Así pues, para realizar el split entre train y test contamos con la función `train_test_split`, la cual devuelve una tupla con cuatro elementos: `Xtrain`, `Xtest`, `Ytrain` e `Ytest`.\n",
    "\n",
    "Asimismo, para que el split sea reproducible podemos fijar la semilla usando el parámetro `random_state`.\n",
    "\n",
    "### **Ejemplo: Dividir el Dataset**"
   ]
  },
  {
   "cell_type": "code",
   "execution_count": 3,
   "metadata": {},
   "outputs": [
    {
     "name": "stdout",
     "output_type": "stream",
     "text": [
      "Tamaño del conjunto de entrenamiento: (120, 4)\n",
      "Tamaño del conjunto de prueba: (30, 4)\n"
     ]
    }
   ],
   "source": [
    "# Dividir el dataset en entrenamiento (80%) y prueba (20%)\n",
    "X_train, X_test, y_train, y_test = train_test_split(X, y, test_size=0.2, random_state=42)\n",
    "\n",
    "print(f\"Tamaño del conjunto de entrenamiento: {X_train.shape}\")\n",
    "print(f\"Tamaño del conjunto de prueba: {X_test.shape}\")\n"
   ]
  },
  {
   "cell_type": "markdown",
   "metadata": {},
   "source": [
    "## **3. Preprocesamiento de Datos**\n",
    "\n",
    "Antes de entrenar un modelo, es común preprocesar las características.\n",
    "\n",
    "- Imputación de Valores Perdidos con Sklearn\n",
    "    - Imputación de valores perdidos univariantes\n",
    "    - Imputación multivariante de valores perdidos\n",
    "    - Imputación mediante kNN\n",
    "- Transformación de los datos\n",
    "    - Modificar la distribución de una variable\n",
    "    - Normalizar o estandarizar los datos\n",
    "    - One-hot encoding\n",
    "\n",
    "\n",
    "### **Ejemplo: Escalar las Características**\n"
   ]
  },
  {
   "cell_type": "code",
   "execution_count": 4,
   "metadata": {},
   "outputs": [
    {
     "name": "stdout",
     "output_type": "stream",
     "text": [
      "\n",
      "Características escaladas (primeras filas):\n",
      "[[-1.47393679  1.20365799 -1.56253475 -1.31260282]\n",
      " [-0.13307079  2.99237573 -1.27600637 -1.04563275]\n",
      " [ 1.08589829  0.08570939  0.38585821  0.28921757]\n",
      " [-1.23014297  0.75647855 -1.2187007  -1.31260282]\n",
      " [-1.7177306   0.30929911 -1.39061772 -1.31260282]]\n"
     ]
    }
   ],
   "source": [
    "# Escalar las características para que tengan media 0 y desviación estándar 1\n",
    "scaler = StandardScaler()\n",
    "X_train_scaled = scaler.fit_transform(X_train)\n",
    "X_test_scaled = scaler.transform(X_test)\n",
    "\n",
    "print(\"\\nCaracterísticas escaladas (primeras filas):\")\n",
    "print(X_train_scaled[:5])"
   ]
  },
  {
   "cell_type": "markdown",
   "metadata": {},
   "source": [
    "## **4. Entrenamiento de un Modelo**\n",
    "\n",
    "Dentro de Sklearn contamos con muchísimas familias de modelos de Machine Learning diferentes que podemos aplicar y, dentro de cada familia, puede haber varios modelos diferentes.\n",
    "\n",
    "Poe lo tanto, en la siguiente tabla te incluyo todas las familias de modelos de Machine Learning junto con el nombre del módulo donde se encuentran:\n",
    "\n",
    "| Modelo                                           | Módulo                 | Enlace                                                                                               |\n",
    "|--------------------------------------------------|------------------------|------------------------------------------------------------------------------------------------------|\n",
    "| **Modelos Lineales**                             | `linear_model`         | [Scikit-learn - Linear Models](https://scikit-learn.org/stable/modules/linear_model.html)           |\n",
    "| **Análisis Discriminante Lineal y Cuadrático**   | `discriminant_analysis`| [Scikit-learn - LDA & QDA](https://scikit-learn.org/stable/modules/lda_qda.html)                     |\n",
    "| **Regresión de Cresta con Kernel**               | `kernel_ridge`         | [Scikit-learn - Kernel Ridge Regression](https://scikit-learn.org/stable/modules/kernel_ridge.html) |\n",
    "| **Máquinas de Vectores de Soporte**              | `svm`                  | [Scikit-learn - SVM](https://scikit-learn.org/stable/modules/svm.html)                              |\n",
    "| **Descenso de Gradiente Estocástico**            | `linear_model`         | [Scikit-learn - SGD](https://scikit-learn.org/stable/modules/sgd.html)                              |\n",
    "| **Vecinos Más Cercanos**                         | `neighbors`            | [Scikit-learn - Nearest Neighbors](https://scikit-learn.org/stable/modules/neighbors.html)         |\n",
    "| **Procesos Gaussianos**                          | `gaussian_process`     | [Scikit-learn - Gaussian Processes](https://scikit-learn.org/stable/modules/gaussian_process.html) |\n",
    "| **Descomposición Cruzada**                       | `cross_decomposition`  | [Scikit-learn - Cross Decomposition](https://scikit-learn.org/stable/modules/cross_decomposition.html) |\n",
    "| **Naive Bayes**                                  | `naive_bayes`          | [Scikit-learn - Naive Bayes](https://scikit-learn.org/stable/modules/naive_bayes.html)              |\n",
    "| **Árboles de Decisión**                          | `tree`                 | [Scikit-learn - Decision Trees](https://scikit-learn.org/stable/modules/tree.html)                  |\n",
    "| **Métodos de Ensamble**                          | `ensemble`             | [Scikit-learn - Ensemble Methods](https://scikit-learn.org/stable/modules/ensemble.html)            |\n",
    "| **Algoritmos Multiclase y Multioutput**          | `multiclass`, `multioutput` | [Scikit-learn - Multiclass & Multioutput](https://scikit-learn.org/stable/modules/multiclass.html) |\n",
    "| **Aprendizaje Semi-Supervisado**                 | `semi_supervised`      | [Scikit-learn - Semi-Supervised Learning](https://scikit-learn.org/stable/modules/semi_supervised.html) |\n",
    "| **Regresión Isotónica**                          | `isotonic`             | [Scikit-learn - Isotonic Regression](https://scikit-learn.org/stable/modules/isotonic.html)        |\n",
    "| **Calibración de Probabilidades**                | `calibration`          | [Scikit-learn - Probability Calibration](https://scikit-learn.org/stable/modules/calibration.html)  |\n",
    "| **Modelos de Redes Neuronales (supervisados)**   | `neural_network`       | [Scikit-learn - Neural Networks](https://scikit-learn.org/stable/modules/neural_networks_supervised.html) |\n",
    "\n",
    "\n",
    "\n",
    "En el caso de los modelos no supervisados pasa un poco parecido ya que cuenta con muchos modelos no supervisados que podemos encontrarn en diferentes módulos:\n",
    "\n",
    "| Modelo                                                  | Módulo            | Enlace                                                                                               |\n",
    "|---------------------------------------------------------|-------------------|------------------------------------------------------------------------------------------------------|\n",
    "| **Gaussian Mixture Models**                             | `GaussianMixture` | [Scikit-learn - Gaussian Mixture Models](https://scikit-learn.org/stable/modules/mixture.html)      |\n",
    "| **Manifold Learning**                                   | `manifold`        | [Scikit-learn - Manifold Learning](https://scikit-learn.org/stable/modules/manifold.html)           |\n",
    "| **Clustering**                                          | `cluster`         | [Scikit-learn - Clustering](https://scikit-learn.org/stable/modules/clustering.html)                |\n",
    "| **Descomposición de Señales en Componentes**           | `decomposition`   | [Scikit-learn - Decomposition](https://scikit-learn.org/stable/modules/decomposition.html)          |\n",
    "| **Estimación de Covarianza**                            | `covariance`      | [Scikit-learn - Covariance Estimation](https://scikit-learn.org/stable/modules/covariance.html)     |\n",
    "| **Modelos de Redes Neuronales (No Supervisados)**       | `neural_network`  | [Scikit-learn - Neural Networks (Unsupervised)](https://scikit-learn.org/stable/modules/neural_networks_unsupervised.html) |\n",
    "\n"
   ]
  },
  {
   "cell_type": "markdown",
   "metadata": {},
   "source": [
    "Vamos a entrenar un modelo de clasificación usando el algoritmo **K-Nearest Neighbors (KNN)**.\n",
    "\n",
    "### **Ejemplo: Entrenar un Modelo KNN**"
   ]
  },
  {
   "cell_type": "code",
   "execution_count": 5,
   "metadata": {},
   "outputs": [
    {
     "name": "stdout",
     "output_type": "stream",
     "text": [
      "\n",
      "Predicciones (y_pred):\n",
      "[1 0 2 1 1 0 1 2 1 1 2 0 0 0 0 1 2 1 1 2 0 2 0 2 2 2 2 2 0 0]\n"
     ]
    }
   ],
   "source": [
    "# Crear y entrenar el modelo KNN\n",
    "knn = KNeighborsClassifier(n_neighbors=3)\n",
    "knn.fit(X_train_scaled, y_train)\n",
    "\n",
    "# Predecir en el conjunto de prueba\n",
    "y_pred = knn.predict(X_test_scaled)\n",
    "\n",
    "print(\"\\nPredicciones (y_pred):\")\n",
    "print(y_pred)"
   ]
  },
  {
   "cell_type": "markdown",
   "metadata": {},
   "source": [
    "## **5. Evaluación del Modelo y Métricas**\n",
    "\n",
    "La forma de evaluar el rendimiento de un modelo es analizar cómo de buenas son sus predicciones. \n",
    "\n",
    "Para ello Sklearn cuenta con diferentes funciones dentro del módulo metrics de Sklearn.\n",
    "\n",
    "Es crucial evaluar el rendimiento del modelo utilizando métricas adecuadas.\n",
    "\n",
    "### **Ejemplo: Calcular la Precisión (Accuracy)**"
   ]
  },
  {
   "cell_type": "code",
   "execution_count": 6,
   "metadata": {},
   "outputs": [
    {
     "name": "stdout",
     "output_type": "stream",
     "text": [
      "\n",
      "Precisión del modelo: 1.00\n"
     ]
    }
   ],
   "source": [
    "# Calcular la precisión del modelo\n",
    "accuracy = accuracy_score(y_test, y_pred)\n",
    "print(f\"\\nPrecisión del modelo: {accuracy:.2f}\")"
   ]
  },
  {
   "cell_type": "markdown",
   "metadata": {},
   "source": [
    "### **Métricas Comunes**\n",
    "\n",
    "Scikit-learn proporciona varias métricas para evaluar modelos. Algunas de las más comunes son:\n",
    "\n",
    "| Métrica                          | Descripción                                                 | Enlace Oficial                                                                                   |\n",
    "|----------------------------------|-------------------------------------------------------------|-------------------------------------------------------------------------------------------------|\n",
    "| **Matriz de Confusión**          | Evaluación del desempeño de un clasificador.               | [Confusion Matrix](https://scikit-learn.org/stable/modules/generated/sklearn.metrics.confusion_matrix.html) |\n",
    "| **Precisión, Recall y F1-Score** | Métricas para evaluar modelos en clases desbalanceadas.    | [Precision, Recall & F1-Score](https://scikit-learn.org/stable/modules/generated/sklearn.metrics.classification_report.html) |\n",
    "| **Error Cuadrático Medio (MSE)** | Evalúa la diferencia promedio al cuadrado en regresión.    | [Mean Squared Error (MSE)](https://scikit-learn.org/stable/modules/generated/sklearn.metrics.mean_squared_error.html) |\n",
    "| **Coeficiente de Determinación (R²)** | Evalúa qué tan bien el modelo explica la varianza de los datos. | [R² Score](https://scikit-learn.org/stable/modules/generated/sklearn.metrics.r2_score.html) |\n",
    "| **Área bajo la curva ROC (AUC-ROC)** | Mide la capacidad de discriminación de un clasificador.   | [ROC AUC Score](https://scikit-learn.org/stable/modules/generated/sklearn.metrics.roc_auc_score.html) |\n",
    "| **Log Loss (Logaritmo de Verosimilitud Negativa)** | Evalúa la probabilidad de predicciones correctas en clasificación. | [Log Loss](https://scikit-learn.org/stable/modules/generated/sklearn.metrics.log_loss.html) |\n",
    "\n",
    "\n",
    "#### **Ejemplo: Matriz de Confusión y Reporte de Clasificación**"
   ]
  },
  {
   "cell_type": "code",
   "execution_count": 7,
   "metadata": {},
   "outputs": [
    {
     "name": "stdout",
     "output_type": "stream",
     "text": [
      "\n",
      "Matriz de Confusión:\n",
      "[[10  0  0]\n",
      " [ 0  9  0]\n",
      " [ 0  0 11]]\n",
      "\n",
      "Reporte de Clasificación:\n",
      "              precision    recall  f1-score   support\n",
      "\n",
      "      setosa       1.00      1.00      1.00        10\n",
      "  versicolor       1.00      1.00      1.00         9\n",
      "   virginica       1.00      1.00      1.00        11\n",
      "\n",
      "    accuracy                           1.00        30\n",
      "   macro avg       1.00      1.00      1.00        30\n",
      "weighted avg       1.00      1.00      1.00        30\n",
      "\n"
     ]
    }
   ],
   "source": [
    "from sklearn.metrics import confusion_matrix, classification_report\n",
    "\n",
    "# Matriz de confusión\n",
    "conf_matrix = confusion_matrix(y_test, y_pred)\n",
    "print(\"\\nMatriz de Confusión:\")\n",
    "print(conf_matrix)\n",
    "\n",
    "# Reporte de clasificación\n",
    "class_report = classification_report(y_test, y_pred, target_names=iris.target_names)\n",
    "print(\"\\nReporte de Clasificación:\")\n",
    "print(class_report)"
   ]
  },
  {
   "cell_type": "markdown",
   "metadata": {},
   "source": [
    "## **6. Ejercicio**\n",
    "\n",
    "Entrena un modelo de Regresión Lineal utilizando el conjunto de datos California Housing (fetch_california_housing()). \n",
    "- California Housing: contiene información sobre diversas características de viviendas en California y su precio medio.\n",
    "- El objetivo es construir un modelo que prediga el valor medio de las viviendas en función de sus características. \n",
    "- Evaluar el desempeño del modelo mediante Error Cuadrático Medio (MSE).\n",
    "- Graficar predicciones vs valores reales"
   ]
  }
 ],
 "metadata": {
  "kernelspec": {
   "display_name": "Python 3",
   "language": "python",
   "name": "python3"
  },
  "language_info": {
   "codemirror_mode": {
    "name": "ipython",
    "version": 3
   },
   "file_extension": ".py",
   "mimetype": "text/x-python",
   "name": "python",
   "nbconvert_exporter": "python",
   "pygments_lexer": "ipython3",
   "version": "3.12.4"
  }
 },
 "nbformat": 4,
 "nbformat_minor": 2
}
