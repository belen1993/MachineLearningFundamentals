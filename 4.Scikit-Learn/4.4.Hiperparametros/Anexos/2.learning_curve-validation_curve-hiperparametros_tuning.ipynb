{
 "cells": [
  {
   "cell_type": "markdown",
   "metadata": {},
   "source": [
    "# Learning_curve, Validation_curve, Tuning de Hiperparámetros"
   ]
  },
  {
   "cell_type": "markdown",
   "metadata": {},
   "source": [
    "## **1. learning_curve**\n",
    "Se utiliza para analizar cómo el rendimiento del modelo cambia en función del tamaño del conjunto de entrenamiento. \n",
    "\n",
    "Es útil para diagnosticar problemas como underfitting (subajuste) o overfitting (sobreajuste).\n",
    "\n",
    "### Características principales:\n",
    "- **Qué varía**: El tamaño del conjunto de entrenamiento.\n",
    "- **Propósito**: Evaluar si el modelo necesita más datos para mejorar su rendimiento.\n",
    "\n",
    "### Gráfica típica:\n",
    "- **Eje X**: Tamaño del conjunto de entrenamiento.\n",
    "- **Eje Y**: Métricas de rendimiento (e.g., precisión, error).\n",
    "- **Dos curvas**: Una para el conjunto de entrenamiento y otra para el conjunto de validación.\n",
    "\n",
    "### Interpretación:\n",
    "- Si ambas curvas convergen hacia un valor bajo de rendimiento, el modelo está underfitting .\n",
    "- Si la curva de entrenamiento es mucho mejor que la de validación, el modelo está overfitting .\n",
    "- Si ambas curvas convergen hacia un valor alto de rendimiento, el modelo está bien ajustado."
   ]
  },
  {
   "cell_type": "markdown",
   "metadata": {},
   "source": [
    "## **2. validation_curve**\n",
    "Se utiliza para evaluar cómo el rendimiento del modelo cambia al variar un hiperparámetro específico. \n",
    "\n",
    "Es útil para identificar el rango óptimo de un hiperparámetro sin realizar una búsqueda exhaustiva (como con GridSearchCV).\n",
    "\n",
    "### Características principales:\n",
    "- **Qué varía**: Un hiperparámetro específico (e.g., max_depth, C, n_estimators).\n",
    "- **Propósito**: Analizar cómo un hiperparámetro afecta el rendimiento del modelo.\n",
    "\n",
    "### Gráfica típica:\n",
    "- **Eje X**: Valores del hiperparámetro.\n",
    "- **Eje Y**: Métricas de rendimiento (e.g., precisión, error).\n",
    "- **Dos curvas**: Una para el conjunto de entrenamiento y otra para el conjunto de validación.\n",
    "\n",
    "### Interpretación:\n",
    "- Si la curva de entrenamiento mejora constantemente mientras la de validación empeora, el modelo está overfitting con valores altos del hiperparámetro.\n",
    "- Si ambas curvas convergen hacia un valor bajo de rendimiento, el modelo está underfitting .\n",
    "- Si ambas curvas convergen hacia un valor alto de rendimiento, el hiperparámetro está bien ajustado."
   ]
  },
  {
   "cell_type": "markdown",
   "metadata": {},
   "source": [
    "## 3. Tuning de Hiperparámetros \n",
    "El *hyperparameter tuning* es un proceso más amplio que busca encontrar la **combinación óptima de múltiples hiperparámetros** para un modelo. \n",
    "\n",
    "Se utiliza cuando quieres ajustar varios hiperparámetros simultáneamente para maximizar el rendimiento del modelo.\n",
    "\n",
    "#### **Técnicas comunes de Hyperparameter Tuning:**\n",
    "1. **Grid Search (`GridSearchCV`):**\n",
    "   - Explora exhaustivamente una cuadrícula predefinida de valores para cada hiperparámetro.\n",
    "   - Costoso computacionalmente, pero garantiza encontrar el mejor valor dentro de la cuadrícula.\n",
    "\n",
    "2. **Random Search (`RandomizedSearchCV`):**\n",
    "   - Explora aleatoriamente una distribución de valores para cada hiperparámetro.\n",
    "   - Menos costoso que Grid Search y puede ser más eficiente si el espacio de búsqueda es grande.\n",
    "\n",
    "3. **Optimización Bayesiana:**\n",
    "   - Usa modelos probabilísticos para seleccionar los hiperparámetros más prometedores.\n",
    "   - Herramientas como `BayesianOptimization` o `Optuna` implementan esta técnica.\n",
    "\n",
    "4. **Otros métodos avanzados:**\n",
    "   - Algoritmos genéticos.\n",
    "   - Búsqueda basada en árboles de Parzen (TPE).\n",
    "\n",
    "#### **Características principales:**\n",
    "- **Qué hace:** Busca la combinación óptima de múltiples hiperparámetros.\n",
    "- **Propósito:** Maximizar el rendimiento del modelo en datos de validación.\n",
    "- **Ventajas:**\n",
    "  - Encuentra automáticamente la mejor combinación de hiperparámetros.\n",
    "  - Puede manejar múltiples hiperparámetros simultáneamente.\n",
    "- **Desventajas:**\n",
    "  - Puede ser computacionalmente costoso, especialmente con Grid Search.\n",
    "  - Requiere definir un espacio de búsqueda adecuado.\n"
   ]
  }
 ],
 "metadata": {
  "kernelspec": {
   "display_name": "Python 3",
   "language": "python",
   "name": "python3"
  },
  "language_info": {
   "codemirror_mode": {
    "name": "ipython",
    "version": 3
   },
   "file_extension": ".py",
   "mimetype": "text/x-python",
   "name": "python",
   "nbconvert_exporter": "python",
   "pygments_lexer": "ipython3",
   "version": "3.12.4"
  }
 },
 "nbformat": 4,
 "nbformat_minor": 2
}
