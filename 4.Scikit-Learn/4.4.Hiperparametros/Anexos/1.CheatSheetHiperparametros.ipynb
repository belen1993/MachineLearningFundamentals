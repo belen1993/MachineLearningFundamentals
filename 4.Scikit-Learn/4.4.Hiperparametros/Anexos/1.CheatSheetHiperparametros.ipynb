{
 "cells": [
  {
   "cell_type": "markdown",
   "metadata": {},
   "source": [
    "## Hiperparámetros de algoritmos ML en Scikit-Learn\n",
    "\n",
    "### **Regresión**\n",
    "| Algoritmo               | Clase de Scikit-Learn            | Hiperparámetros Principales | Enlace Oficial |\n",
    "|-------------------------|---------------------------------|-----------------------------|----------------|\n",
    "| Regresión Lineal        | `LinearRegression`             | `fit_intercept`, `normalize` | [LinearRegression](https://scikit-learn.org/stable/modules/generated/sklearn.linear_model.LinearRegression.html) |\n",
    "| Regresión Ridge        | `Ridge`                         | `alpha`, `solver` | [Ridge](https://scikit-learn.org/stable/modules/generated/sklearn.linear_model.Ridge.html) |\n",
    "| Regresión Lasso        | `Lasso`                         | `alpha`, `max_iter` | [Lasso](https://scikit-learn.org/stable/modules/generated/sklearn.linear_model.Lasso.html) |\n",
    "| Regresión ElasticNet   | `ElasticNet`                    | `alpha`, `l1_ratio`, `max_iter` | [ElasticNet](https://scikit-learn.org/stable/modules/generated/sklearn.linear_model.ElasticNet.html) |\n",
    "| Support Vector Regression (SVR) | `SVR`                 | `kernel`, `C`, `epsilon` | [SVR](https://scikit-learn.org/stable/modules/generated/sklearn.svm.SVR.html) |\n",
    "| Random Forest Regressor | `RandomForestRegressor`        | `n_estimators`, `max_depth`, `min_samples_split` | [RandomForestRegressor](https://scikit-learn.org/stable/modules/generated/sklearn.ensemble.RandomForestRegressor.html) |\n",
    "| Gradient Boosting Regressor | `GradientBoostingRegressor` | `n_estimators`, `learning_rate`, `max_depth` | [GradientBoostingRegressor](https://scikit-learn.org/stable/modules/generated/sklearn.ensemble.GradientBoostingRegressor.html) |\n",
    "\n",
    "### **Clasificación**\n",
    "| Algoritmo              | Clase de Scikit-Learn           | Hiperparámetros Principales | Enlace Oficial |\n",
    "|------------------------|--------------------------------|-----------------------------|----------------|\n",
    "| Regresión Logística    | `LogisticRegression`          | `C`, `penalty`, `solver` | [LogisticRegression](https://scikit-learn.org/stable/modules/generated/sklearn.linear_model.LogisticRegression.html) |\n",
    "| K-Nearest Neighbors    | `KNeighborsClassifier`        | `n_neighbors`, `metric`, `weights` | [KNeighborsClassifier](https://scikit-learn.org/stable/modules/generated/sklearn.neighbors.KNeighborsClassifier.html) |\n",
    "| Support Vector Machine | `SVC`                         | `kernel`, `C`, `gamma` | [SVC](https://scikit-learn.org/stable/modules/generated/sklearn.svm.SVC.html) |\n",
    "| Árbol de Decisión      | `DecisionTreeClassifier`      | `criterion`, `max_depth`, `min_samples_split` | [DecisionTreeClassifier](https://scikit-learn.org/stable/modules/generated/sklearn.tree.DecisionTreeClassifier.html) |\n",
    "| Random Forest         | `RandomForestClassifier`       | `n_estimators`, `max_depth`, `min_samples_split` | [RandomForestClassifier](https://scikit-learn.org/stable/modules/generated/sklearn.ensemble.RandomForestClassifier.html) |\n",
    "| Gradient Boosting     | `GradientBoostingClassifier`   | `n_estimators`, `learning_rate`, `max_depth` | [GradientBoostingClassifier](https://scikit-learn.org/stable/modules/generated/sklearn.ensemble.GradientBoostingClassifier.html) |\n",
    "| Naive Bayes           | `GaussianNB`, `MultinomialNB`  | `var_smoothing` (Gaussian), `alpha` (Multinomial) | [GaussianNB](https://scikit-learn.org/stable/modules/generated/sklearn.naive_bayes.GaussianNB.html) |\n",
    "\n",
    "### **Agrupamiento (Clustering)**\n",
    "| Algoritmo              | Clase de Scikit-Learn          | Hiperparámetros Principales | Enlace Oficial |\n",
    "|------------------------|------------------------------|-----------------------------|----------------|\n",
    "| K-Means               | `KMeans`                     | `n_clusters`, `init`, `max_iter` | [KMeans](https://scikit-learn.org/stable/modules/generated/sklearn.cluster.KMeans.html) |\n",
    "| DBSCAN                | `DBSCAN`                     | `eps`, `min_samples`, `metric` | [DBSCAN](https://scikit-learn.org/stable/modules/generated/sklearn.cluster.DBSCAN.html) |\n",
    "| Mean Shift            | `MeanShift`                  | `bandwidth`, `bin_seeding` | [MeanShift](https://scikit-learn.org/stable/modules/generated/sklearn.cluster.MeanShift.html) |\n",
    "\n",
    "### **Reducción de Dimensionalidad**\n",
    "| Algoritmo              | Clase de Scikit-Learn         | Hiperparámetros Principales | Enlace Oficial |\n",
    "|------------------------|-----------------------------|-----------------------------|----------------|\n",
    "| PCA (Análisis de Componentes Principales) | `PCA`  | `n_components`, `svd_solver` | [PCA](https://scikit-learn.org/stable/modules/generated/sklearn.decomposition.PCA.html) |\n",
    "| t-SNE                 | `TSNE`                      | `n_components`, `perplexity`, `learning_rate` | [TSNE](https://scikit-learn.org/stable/modules/generated/sklearn.manifold.TSNE.html) |\n"
   ]
  }
 ],
 "metadata": {
  "kernelspec": {
   "display_name": "Python 3",
   "language": "python",
   "name": "python3"
  },
  "language_info": {
   "codemirror_mode": {
    "name": "ipython",
    "version": 3
   },
   "file_extension": ".py",
   "mimetype": "text/x-python",
   "name": "python",
   "nbconvert_exporter": "python",
   "pygments_lexer": "ipython3",
   "version": "3.12.4"
  }
 },
 "nbformat": 4,
 "nbformat_minor": 2
}
