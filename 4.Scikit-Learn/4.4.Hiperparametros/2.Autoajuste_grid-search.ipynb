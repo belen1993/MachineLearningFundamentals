{
 "cells": [
  {
   "cell_type": "markdown",
   "id": "b0c7cf6d",
   "metadata": {},
   "source": [
    "# Auto-ajuste de hiperparámetros por búsqueda de cuadrícula (grid-search)"
   ]
  },
  {
   "cell_type": "markdown",
   "id": "6928894f",
   "metadata": {},
   "source": [
    "## Nuestro modelo predictivo"
   ]
  },
  {
   "cell_type": "code",
   "execution_count": null,
   "id": "a11a1521",
   "metadata": {},
   "outputs": [],
   "source": [
    "from sklearn import set_config\n",
    "\n",
    "set_config(display=\"diagram\")"
   ]
  },
  {
   "cell_type": "code",
   "execution_count": null,
   "id": "af89449e",
   "metadata": {},
   "outputs": [],
   "source": [
    "import pandas as pd\n",
    "\n",
    "adult_census = pd.read_csv(\"../../data/adult-census-numeric/full.csv\")"
   ]
  },
  {
   "cell_type": "code",
   "execution_count": null,
   "id": "55b1e225",
   "metadata": {},
   "outputs": [],
   "source": [
    "# Extraemos la columna que contiene el objetivo.\n",
    "\n",
    "target_name = \"class\"\n",
    "target = adult_census[target_name]\n",
    "target"
   ]
  },
  {
   "cell_type": "code",
   "execution_count": null,
   "id": "6c809547",
   "metadata": {},
   "outputs": [],
   "source": [
    "# Quitamos el objetivo de los datos y la columna \"Education-Num\" (duplicado de \"Educación\").\n",
    "\n",
    "data = adult_census.drop(columns=[target_name, \"education-num\"])\n",
    "data.head()"
   ]
  },
  {
   "cell_type": "code",
   "execution_count": null,
   "id": "7ac95622",
   "metadata": {},
   "outputs": [],
   "source": [
    "# La dividimos en un conjunto de entrenamiento y prueba.\n",
    "\n",
    "from sklearn.model_selection import train_test_split\n",
    "\n",
    "data_train, data_test, target_train, target_test = train_test_split(\n",
    "    data, target, random_state=42)"
   ]
  },
  {
   "cell_type": "code",
   "execution_count": null,
   "id": "8e411e53",
   "metadata": {},
   "outputs": [],
   "source": [
    "# Definiremos un piepline. Gestionará características numéricas y categóricas.\n",
    "\n",
    "# seleccionar todas las columnas categóricas.\n",
    "\n",
    "from sklearn.compose import make_column_selector as selector\n",
    "\n",
    "categorical_columns_selector = selector(dtype_include=object)\n",
    "categorical_columns = categorical_columns_selector(data)"
   ]
  },
  {
   "cell_type": "markdown",
   "id": "be38a536",
   "metadata": {},
   "source": [
    "Aquí usaremos un modelo basado en árbol como clasificador (`HistgradientBoostingClassifier`).\n",
    "Esto significa que:\n",
    "- las variables numéricas no necesitan escala;\n",
    "- las variables categóricas se pueden tratar con un entorno ordinal incluso si el orden de codificación no es significativo;\n",
    "- para los modelos basados ​​en árboles, OrdinalEncoder evita tener representaciones de alta dimensión."
   ]
  },
  {
   "cell_type": "code",
   "execution_count": null,
   "id": "ec6e724a",
   "metadata": {},
   "outputs": [],
   "source": [
    "# Ahora construimos nuestro OrdinalEncoder pasando las categorías conocidas.\n",
    "\n",
    "from sklearn.preprocessing import OrdinalEncoder\n",
    "\n",
    "categorical_preprocessor = OrdinalEncoder(handle_unknown=\"use_encoded_value\",\n",
    "                                          unknown_value=-1)"
   ]
  },
  {
   "cell_type": "code",
   "execution_count": null,
   "id": "10050e17",
   "metadata": {},
   "outputs": [],
   "source": [
    "# usamos un ColumnTransformer para seleccionar las columnas categóricas y aplicar el OrdinalEncoder a ellas.\n",
    "\n",
    "from sklearn.compose import ColumnTransformer\n",
    "\n",
    "preprocessor = ColumnTransformer([\n",
    "    ('cat_preprocessor', categorical_preprocessor, categorical_columns)],\n",
    "    remainder='passthrough', sparse_threshold=0)"
   ]
  },
  {
   "cell_type": "code",
   "execution_count": null,
   "id": "30104cbe",
   "metadata": {},
   "outputs": [],
   "source": [
    "# Finalmente, usamos un clasificador basado en árbol (histogram gradient-boosting) para predecir si una persona gana o no más de 50 K$ al año.\n",
    "\n",
    "from sklearn.ensemble import HistGradientBoostingClassifier\n",
    "from sklearn.pipeline import Pipeline\n",
    "\n",
    "model = Pipeline([\n",
    "    (\"preprocessor\", preprocessor),\n",
    "    (\"classifier\", HistGradientBoostingClassifier(random_state=42, max_leaf_nodes=4))])\n",
    "\n",
    "model"
   ]
  },
  {
   "cell_type": "markdown",
   "id": "5fcc88f1",
   "metadata": {},
   "source": [
    "## Ajustar con búsqueda de cuadrícula\n",
    "- Usamos el **estimador GridSearchCV** para hacer la búsqueda.\n",
    "    - https://scikit-learn.org/stable/modules/generated/sklearn.model_selection.GridSearchCV.html\n",
    "- Dado que la búsqueda de la cuadrícula será costosa, solo exploraremos la combinación `learning_rate` y `max_leaf_nodes`."
   ]
  },
  {
   "cell_type": "code",
   "execution_count": null,
   "id": "d89ee78c",
   "metadata": {},
   "outputs": [],
   "source": [
    "%%time\n",
    "from sklearn.model_selection import GridSearchCV\n",
    "\n",
    "param_grid = {\n",
    "    'classifier__learning_rate': (0.01, 0.1, 1, 10),\n",
    "    'classifier__max_leaf_nodes': (3, 10, 31, 50)\n",
    "}\n",
    "\n",
    "model_grid_search = GridSearchCV(model, param_grid=param_grid, cv=2)\n",
    "\n",
    "model_grid_search.fit(data_train,target_train)"
   ]
  },
  {
   "cell_type": "code",
   "execution_count": null,
   "id": "29ff50cd",
   "metadata": {},
   "outputs": [],
   "source": [
    "# Finalmente, verificaremos la precisión de nuestro modelo utilizando el conjunto de pruebas.\n",
    "\n",
    "accuracy = model_grid_search.score(data_test, target_test)\n",
    "\n",
    "accuracy"
   ]
  },
  {
   "cell_type": "code",
   "execution_count": null,
   "id": "559c6927",
   "metadata": {},
   "outputs": [],
   "source": [
    "model_grid_search.get_params()"
   ]
  },
  {
   "cell_type": "markdown",
   "id": "80053651",
   "metadata": {},
   "source": [
    "Una vez que se la búsqueda de la cuadrícula está ajustada, se puede usar como cualquier otro predictor llamando a `predict` y `predict_probe`.\n",
    "\n",
    "Internamente, utilizará el modelo con los mejores parámetros encontrados durante el ajuste."
   ]
  },
  {
   "cell_type": "code",
   "execution_count": null,
   "id": "5de53042",
   "metadata": {},
   "outputs": [],
   "source": [
    "# Obtener predicciones para las 5 primeras muestras utilizando el estimador con los mejores parámetros.\n",
    "model_grid_search.predict(data_test.iloc[0:5])"
   ]
  },
  {
   "cell_type": "code",
   "execution_count": null,
   "id": "d0537746",
   "metadata": {},
   "outputs": [],
   "source": [
    "# se puede conocer estos parámetros mirando el atributo best_params_.\n",
    "\n",
    "model_grid_search.best_params_\n"
   ]
  },
  {
   "cell_type": "code",
   "execution_count": null,
   "id": "633f1104",
   "metadata": {},
   "outputs": [],
   "source": [
    "# Además, podemos inspeccionar todos los resultados que se almacenan en el atributo cv_results_ de la búsqueda de cuadrícula.\n",
    "# filtramos algunas columnas específicas de estos resultados.\n",
    "\n",
    "# model_grid_search.cv_results_\n",
    "\n",
    "cv_results = pd.DataFrame(model_grid_search.cv_results_).sort_values(\n",
    "    \"mean_test_score\", ascending=False)\n",
    "cv_results"
   ]
  },
  {
   "cell_type": "code",
   "execution_count": null,
   "id": "4c97ea43",
   "metadata": {},
   "outputs": [],
   "source": [
    "# Centrémonos en las columnas más interesantes. Acortamos por legibilidad los nombres de los parámetros para eliminar el prefijo \"param_classifier__\":\n",
    "\n",
    "# Obtener los nombres de los parámetros\n",
    "column_results = [f\"param_{name}\" for name in param_grid.keys()]\n",
    "column_results += [\n",
    "    \"mean_test_score\", \"std_test_score\", \"rank_test_score\"]\n",
    "cv_results = cv_results[column_results]"
   ]
  },
  {
   "cell_type": "code",
   "execution_count": null,
   "id": "41f65bbb",
   "metadata": {},
   "outputs": [],
   "source": [
    "def shorten_param(param_name):\n",
    "    if \"__\" in param_name:\n",
    "        return param_name.rsplit(\"__\", 1)[1]\n",
    "    return param_name\n",
    "\n",
    "\n",
    "cv_results = cv_results.rename(shorten_param, axis=1)\n",
    "cv_results"
   ]
  },
  {
   "cell_type": "markdown",
   "id": "9b9e475e",
   "metadata": {},
   "source": [
    "Podemos visualizar la búsqueda de la cuadrícula como un mapa de calor.\n",
    "Necesitamos transformar nuestros cv_results en un DataFrame, donde:\n",
    "- Las filas corresponderán a los valores de tasa de aprendizaje;\n",
    "- Las columnas corresponderán a max_leaf_nodes;\n",
    "- El contenido del DataFrame será los puntajes medios de prueba."
   ]
  },
  {
   "cell_type": "code",
   "execution_count": null,
   "id": "58ce2630",
   "metadata": {},
   "outputs": [],
   "source": [
    "pivoted_cv_results = cv_results.pivot_table(\n",
    "    values=\"mean_test_score\", index=[\"learning_rate\"],\n",
    "    columns=[\"max_leaf_nodes\"])\n",
    "\n",
    "pivoted_cv_results"
   ]
  },
  {
   "cell_type": "code",
   "execution_count": null,
   "id": "f5f23ab2",
   "metadata": {},
   "outputs": [],
   "source": [
    "# mapa de calor\n",
    "import seaborn as sns\n",
    "\n",
    "ax = sns.heatmap(pivoted_cv_results, annot=True, cmap=\"YlGnBu\", vmin=0.7,\n",
    "                 vmax=0.9)\n",
    "ax.invert_yaxis()"
   ]
  },
  {
   "cell_type": "markdown",
   "id": "4091d0a2",
   "metadata": {},
   "source": [
    "## **Ejercicio**\n",
    "\n",
    "Para el dataset \"house-prices/full.csv\" y usando [Lasso](https://scikit-learn.org/stable/modules/generated/sklearn.linear_model.Lasso.html): \n",
    "- Autoajusta parametros usando grid search."
   ]
  },
  {
   "cell_type": "code",
   "execution_count": null,
   "id": "1b4c8369",
   "metadata": {},
   "outputs": [],
   "source": [
    "import numpy as np\n",
    "import pandas as pd\n",
    "import matplotlib.pyplot as plt\n",
    "from sklearn.model_selection import train_test_split, cross_val_score, cross_validate\n",
    "from sklearn.linear_model import Lasso\n",
    "from sklearn.pipeline import Pipeline, make_pipeline\n",
    "from sklearn.compose import ColumnTransformer\n",
    "from sklearn.preprocessing import StandardScaler, OneHotEncoder\n",
    "from sklearn.metrics import mean_squared_error, r2_score"
   ]
  },
  {
   "cell_type": "code",
   "execution_count": null,
   "id": "6369ce0b",
   "metadata": {},
   "outputs": [],
   "source": [
    "# Carga de datos\n",
    "haouses = pd.read_csv(\"../../data/house-prices/full.csv\")\n",
    "haouses.columns\n",
    "# haouses.shape"
   ]
  },
  {
   "cell_type": "code",
   "execution_count": null,
   "id": "2bfd073a",
   "metadata": {},
   "outputs": [],
   "source": [
    "target_name = \"SalePrice\"\n",
    "\n",
    "y = haouses[target_name]\n",
    "X = haouses.drop(columns=target_name)"
   ]
  },
  {
   "cell_type": "code",
   "execution_count": null,
   "id": "ecbb7428",
   "metadata": {},
   "outputs": [],
   "source": [
    "y"
   ]
  },
  {
   "cell_type": "code",
   "execution_count": null,
   "id": "ea522817",
   "metadata": {},
   "outputs": [],
   "source": [
    "# Mostrar información del dataset\n",
    "print(\"Características del dataset:\")\n",
    "print(f\"- Número de muestras: {X.shape[0]}\")\n",
    "print(f\"- Número de características: {X.shape[1]}\")\n",
    "print(f\"\\nNombres de las características:\\n{X.columns}\")\n",
    "print(f\"\\nDescripción de las características:\\n{X.info()}...\")\n",
    "\n",
    "# Ver primeras filas\n",
    "X.head()"
   ]
  },
  {
   "cell_type": "code",
   "execution_count": null,
   "id": "fc211b84",
   "metadata": {},
   "outputs": [],
   "source": [
    "from sklearn.compose import make_column_selector as selector\n",
    "\n",
    "numerical_columns_selector = selector(dtype_exclude=object)\n",
    "categorical_columns_selector = selector(dtype_include=object)\n",
    "\n",
    "numerical_columns = numerical_columns_selector(X)\n",
    "categorical_columns = categorical_columns_selector(X)"
   ]
  },
  {
   "cell_type": "code",
   "execution_count": null,
   "id": "b9813452",
   "metadata": {},
   "outputs": [],
   "source": [
    "preprocessor = ColumnTransformer(\n",
    "    [\n",
    "        ('num', StandardScaler(), numerical_columns),\n",
    "        ('cat', OneHotEncoder(handle_unknown='ignore'), categorical_columns)\n",
    "    ])\n"
   ]
  },
  {
   "cell_type": "code",
   "execution_count": null,
   "id": "1031a796",
   "metadata": {},
   "outputs": [],
   "source": [
    "from sklearn.model_selection import train_test_split\n",
    "\n",
    "data_train, data_test, target_train, target_test = train_test_split(\n",
    "    X, y, random_state=42)"
   ]
  },
  {
   "cell_type": "markdown",
   "id": "f99e4d2a",
   "metadata": {},
   "source": [
    "## Lasso"
   ]
  },
  {
   "cell_type": "code",
   "execution_count": null,
   "id": "b0919207",
   "metadata": {},
   "outputs": [],
   "source": [
    "lasso_pipeline = Pipeline(steps=[\n",
    "    ('preprocessor', preprocessor),\n",
    "    ('regressor', Lasso(alpha=1.0))\n",
    "])"
   ]
  },
  {
   "cell_type": "code",
   "execution_count": null,
   "id": "f93dd890",
   "metadata": {},
   "outputs": [],
   "source": [
    "%%time\n",
    "from sklearn.model_selection import GridSearchCV\n",
    "\n",
    "param_grid = {\n",
    "    'regressor__alpha': (0.01, 0.1, 1, 10,100),\n",
    "    'regressor__max_iter': (10, 100, 1000, 10000)\n",
    "}\n",
    "\n",
    "# model_grid_search = GridSearchCV(lasso_pipeline, param_grid=param_grid, cv=2) // scoring por defecto: r2\n",
    "model_grid_search = GridSearchCV(lasso_pipeline, param_grid=param_grid, cv=2, scoring='neg_mean_absolute_error')\n",
    "\n",
    "model_grid_search.fit(data_train,target_train)"
   ]
  },
  {
   "cell_type": "code",
   "execution_count": null,
   "id": "3d58562d",
   "metadata": {},
   "outputs": [],
   "source": [
    "result = model_grid_search.score(data_test, target_test)\n",
    "result"
   ]
  },
  {
   "cell_type": "code",
   "execution_count": null,
   "id": "cfd1ccd8",
   "metadata": {},
   "outputs": [],
   "source": [
    "model_grid_search.best_params_"
   ]
  },
  {
   "cell_type": "code",
   "execution_count": null,
   "id": "cc330168",
   "metadata": {},
   "outputs": [],
   "source": [
    "model_grid_search.cv_results_.keys()"
   ]
  },
  {
   "cell_type": "code",
   "execution_count": null,
   "id": "01086034",
   "metadata": {},
   "outputs": [],
   "source": [
    "\n",
    "cv_results = pd.DataFrame(model_grid_search.cv_results_).sort_values(\n",
    "    \"mean_test_score\", ascending=False)\n",
    "cv_results"
   ]
  }
 ],
 "metadata": {
  "kernelspec": {
   "display_name": "Python 3",
   "language": "python",
   "name": "python3"
  },
  "language_info": {
   "codemirror_mode": {
    "name": "ipython",
    "version": 3
   },
   "file_extension": ".py",
   "mimetype": "text/x-python",
   "name": "python",
   "nbconvert_exporter": "python",
   "pygments_lexer": "ipython3",
   "version": "3.12.4"
  }
 },
 "nbformat": 4,
 "nbformat_minor": 5
}
