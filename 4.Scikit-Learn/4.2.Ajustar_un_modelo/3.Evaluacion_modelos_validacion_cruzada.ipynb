{
 "cells": [
  {
   "cell_type": "markdown",
   "id": "73b7cda2",
   "metadata": {},
   "source": [
    "# Evaluación del modelo utilizando validación cruzada"
   ]
  },
  {
   "cell_type": "markdown",
   "id": "444acfd4",
   "metadata": {},
   "source": [
    "Discutiremos los aspectos prácticos de evaluar el rendimiento de generalización de nuestro modelo a través de la validación cruzada en lugar de una sola división de prueba de tren."
   ]
  },
  {
   "cell_type": "markdown",
   "id": "a170630e",
   "metadata": {},
   "source": [
    "## Preparación de datos"
   ]
  },
  {
   "cell_type": "code",
   "execution_count": 2,
   "id": "8a538cae",
   "metadata": {},
   "outputs": [],
   "source": [
    "import pandas as pd\n",
    "\n",
    "adult_census = pd.read_csv(\"../../data/adult-census-numeric/train.csv\")"
   ]
  },
  {
   "cell_type": "code",
   "execution_count": 3,
   "id": "79ac4fee",
   "metadata": {},
   "outputs": [],
   "source": [
    "target_name = \"class\"\n",
    "target = adult_census[target_name]\n",
    "data = adult_census.drop(columns=target_name)"
   ]
  },
  {
   "cell_type": "code",
   "execution_count": 4,
   "id": "75876f1e",
   "metadata": {},
   "outputs": [],
   "source": [
    "numerical_columns = [\"age\", \"capital-gain\", \"capital-loss\", \"hours-per-week\"]\n",
    "data_numeric = data[numerical_columns]"
   ]
  },
  {
   "cell_type": "code",
   "execution_count": 5,
   "id": "b202c5df",
   "metadata": {},
   "outputs": [],
   "source": [
    "# podemos crear un modelo utilizando la herramienta Make_Pipeline para encadenar el preprocesamiento y\n",
    "# el estimador en cada iteración de la validación cruzada.\n",
    "\n",
    "from sklearn.preprocessing import StandardScaler\n",
    "from sklearn.linear_model import LogisticRegression\n",
    "from sklearn.pipeline import make_pipeline\n",
    "\n",
    "model = make_pipeline(StandardScaler(), LogisticRegression())"
   ]
  },
  {
   "cell_type": "markdown",
   "id": "bea39a24",
   "metadata": {},
   "source": [
    "# Validación cruzada\n",
    "La función `cross_validate` permite hacer validación cruzada y debemos pasarle el modelo, los datos y el target."
   ]
  },
  {
   "cell_type": "code",
   "execution_count": 6,
   "id": "12aff9e1",
   "metadata": {},
   "outputs": [
    {
     "name": "stdout",
     "output_type": "stream",
     "text": [
      "CPU times: total: 219 ms\n",
      "Wall time: 237 ms\n"
     ]
    },
    {
     "data": {
      "text/plain": [
       "{'fit_time': array([0.04215336, 0.0380702 , 0.03404975, 0.03143406, 0.03654122]),\n",
       " 'score_time': array([0.00600076, 0.0060215 , 0.00452113, 0.00592589, 0.00551081]),\n",
       " 'test_score': array([0.79373001, 0.80383877, 0.79923225, 0.80125416, 0.80074226])}"
      ]
     },
     "execution_count": 6,
     "metadata": {},
     "output_type": "execute_result"
    }
   ],
   "source": [
    "%%time\n",
    "from sklearn.model_selection import cross_validate\n",
    "\n",
    "model = make_pipeline(StandardScaler(), LogisticRegression())\n",
    "cv_result = cross_validate(model, data_numeric, target, cv=5)\n",
    "cv_result"
   ]
  },
  {
   "cell_type": "markdown",
   "id": "6405bd01",
   "metadata": {},
   "source": [
    "La salida de cross_validate es un diccionario de Python, que por defecto contiene tres entradas:\n",
    "\n",
    "- **fit_time**: el tiempo para entrenar el modelo en los datos de entrenamiento para cada pliegue.\n",
    "- **score_time**: El tiempo para predecir con el modelo en los datos de prueba para cada pliegue.\n",
    "- **test_score**: La puntuación predeterminada en los datos de prueba para cada pliegue."
   ]
  },
  {
   "cell_type": "code",
   "execution_count": 7,
   "id": "d256139e",
   "metadata": {},
   "outputs": [
    {
     "name": "stdout",
     "output_type": "stream",
     "text": [
      "La precisión media de la validación cruzada es: 0.800 ± 0.003\n"
     ]
    }
   ],
   "source": [
    "# Extraemos los puntajes calculados en el pliegue de prueba de cada ronda de validación cruzada del diccionario cv_result \n",
    "# y calculamos la precisión media y la variación de la precisión entre los pliegues.\n",
    "\n",
    "scores = cv_result[\"test_score\"]\n",
    "print(\n",
    "    \"La precisión media de la validación cruzada es: \"\n",
    "    f\"{scores.mean():.3f} ± {scores.std():.3f}\"\n",
    ")"
   ]
  }
 ],
 "metadata": {
  "kernelspec": {
   "display_name": "Python 3",
   "language": "python",
   "name": "python3"
  },
  "language_info": {
   "codemirror_mode": {
    "name": "ipython",
    "version": 3
   },
   "file_extension": ".py",
   "mimetype": "text/x-python",
   "name": "python",
   "nbconvert_exporter": "python",
   "pygments_lexer": "ipython3",
   "version": "3.12.4"
  }
 },
 "nbformat": 4,
 "nbformat_minor": 5
}
