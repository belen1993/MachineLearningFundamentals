{
 "cells": [
  {
   "cell_type": "markdown",
   "id": "8002462b",
   "metadata": {},
   "source": [
    "# ¿Cómo evaluar los modelos de aprendizaje automático y seleccionar el mejor?"
   ]
  },
  {
   "cell_type": "markdown",
   "id": "1d435997",
   "metadata": {},
   "source": [
    "**Paso 1: Elegir una estrategia de validación adecuada.** debemos enfatizar esto mucho, sin una forma confiable de validar el rendimiento del modelo, ninguna cantidad de ajuste de hiperparameter y modelos valdrán.\n",
    "\n",
    "**Paso 2: Elegir la métrica de evaluación correcto.** Entender el caso de uso detrás del modelo e intentar usar la métrica de ML que se correlaciona con ello. Por lo general, ninguna métrica es ideal para el problema.\n",
    "\n",
    "Evaluar múltiples métricas y tomar las decisiones basadas en ellas. A veces se necesita combinar métricas ML clásicas con una evaluación de expertos en la materia.\n",
    "\n",
    "**Paso 3: Realizar un seguimiento de los resultados de su experimento.** Ya sea que se use una hoja de cálculo o un tracker de experimentos dedicado, asegúrarse de registrar todas las métricas importantes, curvas de aprendizaje, versiones de conjunto de datos y configuraciones. Se agradecerá más tarde.\n",
    "\n",
    "**Paso 4: Compare experimentos y elegir un ganador.** Independientemente de las métricas y la estrategia de validación que elegir, se desea encontrar el mejor modelo.Pero ningún modelo es realmente mejor, sino que algunos son lo suficientemente buenos.\n",
    "\n",
    "Por tanto debemos comprender lo que es lo **suficientemente bueno** para nuestrp problema, y ​​una vez que lo encontremos, pasaremos a otras etapas del proyecto, como la implementación del modelo o la orquestación del pipeline."
   ]
  }
 ],
 "metadata": {
  "kernelspec": {
   "display_name": "Python 3",
   "language": "python",
   "name": "python3"
  },
  "language_info": {
   "codemirror_mode": {
    "name": "ipython",
    "version": 3
   },
   "file_extension": ".py",
   "mimetype": "text/x-python",
   "name": "python",
   "nbconvert_exporter": "python",
   "pygments_lexer": "ipython3",
   "version": "3.12.4"
  }
 },
 "nbformat": 4,
 "nbformat_minor": 5
}
