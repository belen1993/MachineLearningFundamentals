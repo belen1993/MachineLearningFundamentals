{
 "cells": [
  {
   "cell_type": "markdown",
   "id": "15a29cab",
   "metadata": {},
   "source": [
    "# Framework de Validación Cruzada"
   ]
  },
  {
   "cell_type": "code",
   "execution_count": 1,
   "id": "306310d3",
   "metadata": {},
   "outputs": [
    {
     "name": "stderr",
     "output_type": "stream",
     "text": [
      "/anaconda/envs/azureml_py38/lib/python3.10/site-packages/sklearn/datasets/_base.py:1472: UserWarning: Retry downloading from url: https://ndownloader.figshare.com/files/5976036\n",
      "  warnings.warn(f\"Retry downloading from url: {remote.url}\")\n"
     ]
    },
    {
     "ename": "HTTPError",
     "evalue": "HTTP Error 403: Forbidden",
     "output_type": "error",
     "traceback": [
      "\u001b[0;31m---------------------------------------------------------------------------\u001b[0m",
      "\u001b[0;31mHTTPError\u001b[0m                                 Traceback (most recent call last)",
      "Cell \u001b[0;32mIn[1], line 3\u001b[0m\n\u001b[1;32m      1\u001b[0m \u001b[38;5;28;01mfrom\u001b[39;00m \u001b[38;5;21;01msklearn\u001b[39;00m\u001b[38;5;21;01m.\u001b[39;00m\u001b[38;5;21;01mdatasets\u001b[39;00m \u001b[38;5;28;01mimport\u001b[39;00m fetch_california_housing\n\u001b[0;32m----> 3\u001b[0m housing \u001b[38;5;241m=\u001b[39m \u001b[43mfetch_california_housing\u001b[49m\u001b[43m(\u001b[49m\u001b[43mas_frame\u001b[49m\u001b[38;5;241;43m=\u001b[39;49m\u001b[38;5;28;43;01mTrue\u001b[39;49;00m\u001b[43m)\u001b[49m\n\u001b[1;32m      4\u001b[0m data, target \u001b[38;5;241m=\u001b[39m housing\u001b[38;5;241m.\u001b[39mdata, housing\u001b[38;5;241m.\u001b[39mtarget\n",
      "File \u001b[0;32m/anaconda/envs/azureml_py38/lib/python3.10/site-packages/sklearn/utils/_param_validation.py:213\u001b[0m, in \u001b[0;36mvalidate_params.<locals>.decorator.<locals>.wrapper\u001b[0;34m(*args, **kwargs)\u001b[0m\n\u001b[1;32m    207\u001b[0m \u001b[38;5;28;01mtry\u001b[39;00m:\n\u001b[1;32m    208\u001b[0m     \u001b[38;5;28;01mwith\u001b[39;00m config_context(\n\u001b[1;32m    209\u001b[0m         skip_parameter_validation\u001b[38;5;241m=\u001b[39m(\n\u001b[1;32m    210\u001b[0m             prefer_skip_nested_validation \u001b[38;5;129;01mor\u001b[39;00m global_skip_validation\n\u001b[1;32m    211\u001b[0m         )\n\u001b[1;32m    212\u001b[0m     ):\n\u001b[0;32m--> 213\u001b[0m         \u001b[38;5;28;01mreturn\u001b[39;00m \u001b[43mfunc\u001b[49m\u001b[43m(\u001b[49m\u001b[38;5;241;43m*\u001b[39;49m\u001b[43margs\u001b[49m\u001b[43m,\u001b[49m\u001b[43m \u001b[49m\u001b[38;5;241;43m*\u001b[39;49m\u001b[38;5;241;43m*\u001b[39;49m\u001b[43mkwargs\u001b[49m\u001b[43m)\u001b[49m\n\u001b[1;32m    214\u001b[0m \u001b[38;5;28;01mexcept\u001b[39;00m InvalidParameterError \u001b[38;5;28;01mas\u001b[39;00m e:\n\u001b[1;32m    215\u001b[0m     \u001b[38;5;66;03m# When the function is just a wrapper around an estimator, we allow\u001b[39;00m\n\u001b[1;32m    216\u001b[0m     \u001b[38;5;66;03m# the function to delegate validation to the estimator, but we replace\u001b[39;00m\n\u001b[1;32m    217\u001b[0m     \u001b[38;5;66;03m# the name of the estimator by the name of the function in the error\u001b[39;00m\n\u001b[1;32m    218\u001b[0m     \u001b[38;5;66;03m# message to avoid confusion.\u001b[39;00m\n\u001b[1;32m    219\u001b[0m     msg \u001b[38;5;241m=\u001b[39m re\u001b[38;5;241m.\u001b[39msub(\n\u001b[1;32m    220\u001b[0m         \u001b[38;5;124mr\u001b[39m\u001b[38;5;124m\"\u001b[39m\u001b[38;5;124mparameter of \u001b[39m\u001b[38;5;124m\\\u001b[39m\u001b[38;5;124mw+ must be\u001b[39m\u001b[38;5;124m\"\u001b[39m,\n\u001b[1;32m    221\u001b[0m         \u001b[38;5;124mf\u001b[39m\u001b[38;5;124m\"\u001b[39m\u001b[38;5;124mparameter of \u001b[39m\u001b[38;5;132;01m{\u001b[39;00mfunc\u001b[38;5;241m.\u001b[39m\u001b[38;5;18m__qualname__\u001b[39m\u001b[38;5;132;01m}\u001b[39;00m\u001b[38;5;124m must be\u001b[39m\u001b[38;5;124m\"\u001b[39m,\n\u001b[1;32m    222\u001b[0m         \u001b[38;5;28mstr\u001b[39m(e),\n\u001b[1;32m    223\u001b[0m     )\n",
      "File \u001b[0;32m/anaconda/envs/azureml_py38/lib/python3.10/site-packages/sklearn/datasets/_california_housing.py:177\u001b[0m, in \u001b[0;36mfetch_california_housing\u001b[0;34m(data_home, download_if_missing, return_X_y, as_frame, n_retries, delay)\u001b[0m\n\u001b[1;32m    171\u001b[0m     \u001b[38;5;28;01mraise\u001b[39;00m \u001b[38;5;167;01mOSError\u001b[39;00m(\u001b[38;5;124m\"\u001b[39m\u001b[38;5;124mData not found and `download_if_missing` is False\u001b[39m\u001b[38;5;124m\"\u001b[39m)\n\u001b[1;32m    173\u001b[0m logger\u001b[38;5;241m.\u001b[39minfo(\n\u001b[1;32m    174\u001b[0m     \u001b[38;5;124m\"\u001b[39m\u001b[38;5;124mDownloading Cal. housing from \u001b[39m\u001b[38;5;132;01m{}\u001b[39;00m\u001b[38;5;124m to \u001b[39m\u001b[38;5;132;01m{}\u001b[39;00m\u001b[38;5;124m\"\u001b[39m\u001b[38;5;241m.\u001b[39mformat(ARCHIVE\u001b[38;5;241m.\u001b[39murl, data_home)\n\u001b[1;32m    175\u001b[0m )\n\u001b[0;32m--> 177\u001b[0m archive_path \u001b[38;5;241m=\u001b[39m \u001b[43m_fetch_remote\u001b[49m\u001b[43m(\u001b[49m\n\u001b[1;32m    178\u001b[0m \u001b[43m    \u001b[49m\u001b[43mARCHIVE\u001b[49m\u001b[43m,\u001b[49m\n\u001b[1;32m    179\u001b[0m \u001b[43m    \u001b[49m\u001b[43mdirname\u001b[49m\u001b[38;5;241;43m=\u001b[39;49m\u001b[43mdata_home\u001b[49m\u001b[43m,\u001b[49m\n\u001b[1;32m    180\u001b[0m \u001b[43m    \u001b[49m\u001b[43mn_retries\u001b[49m\u001b[38;5;241;43m=\u001b[39;49m\u001b[43mn_retries\u001b[49m\u001b[43m,\u001b[49m\n\u001b[1;32m    181\u001b[0m \u001b[43m    \u001b[49m\u001b[43mdelay\u001b[49m\u001b[38;5;241;43m=\u001b[39;49m\u001b[43mdelay\u001b[49m\u001b[43m,\u001b[49m\n\u001b[1;32m    182\u001b[0m \u001b[43m\u001b[49m\u001b[43m)\u001b[49m\n\u001b[1;32m    184\u001b[0m \u001b[38;5;28;01mwith\u001b[39;00m tarfile\u001b[38;5;241m.\u001b[39mopen(mode\u001b[38;5;241m=\u001b[39m\u001b[38;5;124m\"\u001b[39m\u001b[38;5;124mr:gz\u001b[39m\u001b[38;5;124m\"\u001b[39m, name\u001b[38;5;241m=\u001b[39marchive_path) \u001b[38;5;28;01mas\u001b[39;00m f:\n\u001b[1;32m    185\u001b[0m     cal_housing \u001b[38;5;241m=\u001b[39m np\u001b[38;5;241m.\u001b[39mloadtxt(\n\u001b[1;32m    186\u001b[0m         f\u001b[38;5;241m.\u001b[39mextractfile(\u001b[38;5;124m\"\u001b[39m\u001b[38;5;124mCaliforniaHousing/cal_housing.data\u001b[39m\u001b[38;5;124m\"\u001b[39m), delimiter\u001b[38;5;241m=\u001b[39m\u001b[38;5;124m\"\u001b[39m\u001b[38;5;124m,\u001b[39m\u001b[38;5;124m\"\u001b[39m\n\u001b[1;32m    187\u001b[0m     )\n",
      "File \u001b[0;32m/anaconda/envs/azureml_py38/lib/python3.10/site-packages/sklearn/datasets/_base.py:1466\u001b[0m, in \u001b[0;36m_fetch_remote\u001b[0;34m(remote, dirname, n_retries, delay)\u001b[0m\n\u001b[1;32m   1464\u001b[0m \u001b[38;5;28;01mwhile\u001b[39;00m \u001b[38;5;28;01mTrue\u001b[39;00m:\n\u001b[1;32m   1465\u001b[0m     \u001b[38;5;28;01mtry\u001b[39;00m:\n\u001b[0;32m-> 1466\u001b[0m         \u001b[43murlretrieve\u001b[49m\u001b[43m(\u001b[49m\u001b[43mremote\u001b[49m\u001b[38;5;241;43m.\u001b[39;49m\u001b[43murl\u001b[49m\u001b[43m,\u001b[49m\u001b[43m \u001b[49m\u001b[43mfile_path\u001b[49m\u001b[43m)\u001b[49m\n\u001b[1;32m   1467\u001b[0m         \u001b[38;5;28;01mbreak\u001b[39;00m\n\u001b[1;32m   1468\u001b[0m     \u001b[38;5;28;01mexcept\u001b[39;00m (URLError, \u001b[38;5;167;01mTimeoutError\u001b[39;00m):\n",
      "File \u001b[0;32m/anaconda/envs/azureml_py38/lib/python3.10/urllib/request.py:241\u001b[0m, in \u001b[0;36murlretrieve\u001b[0;34m(url, filename, reporthook, data)\u001b[0m\n\u001b[1;32m    224\u001b[0m \u001b[38;5;250m\u001b[39m\u001b[38;5;124;03m\"\"\"\u001b[39;00m\n\u001b[1;32m    225\u001b[0m \u001b[38;5;124;03mRetrieve a URL into a temporary location on disk.\u001b[39;00m\n\u001b[1;32m    226\u001b[0m \n\u001b[0;32m   (...)\u001b[0m\n\u001b[1;32m    237\u001b[0m \u001b[38;5;124;03mdata file as well as the resulting HTTPMessage object.\u001b[39;00m\n\u001b[1;32m    238\u001b[0m \u001b[38;5;124;03m\"\"\"\u001b[39;00m\n\u001b[1;32m    239\u001b[0m url_type, path \u001b[38;5;241m=\u001b[39m _splittype(url)\n\u001b[0;32m--> 241\u001b[0m \u001b[38;5;28;01mwith\u001b[39;00m contextlib\u001b[38;5;241m.\u001b[39mclosing(\u001b[43murlopen\u001b[49m\u001b[43m(\u001b[49m\u001b[43murl\u001b[49m\u001b[43m,\u001b[49m\u001b[43m \u001b[49m\u001b[43mdata\u001b[49m\u001b[43m)\u001b[49m) \u001b[38;5;28;01mas\u001b[39;00m fp:\n\u001b[1;32m    242\u001b[0m     headers \u001b[38;5;241m=\u001b[39m fp\u001b[38;5;241m.\u001b[39minfo()\n\u001b[1;32m    244\u001b[0m     \u001b[38;5;66;03m# Just return the local path and the \"headers\" for file://\u001b[39;00m\n\u001b[1;32m    245\u001b[0m     \u001b[38;5;66;03m# URLs. No sense in performing a copy unless requested.\u001b[39;00m\n",
      "File \u001b[0;32m/anaconda/envs/azureml_py38/lib/python3.10/urllib/request.py:216\u001b[0m, in \u001b[0;36murlopen\u001b[0;34m(url, data, timeout, cafile, capath, cadefault, context)\u001b[0m\n\u001b[1;32m    214\u001b[0m \u001b[38;5;28;01melse\u001b[39;00m:\n\u001b[1;32m    215\u001b[0m     opener \u001b[38;5;241m=\u001b[39m _opener\n\u001b[0;32m--> 216\u001b[0m \u001b[38;5;28;01mreturn\u001b[39;00m \u001b[43mopener\u001b[49m\u001b[38;5;241;43m.\u001b[39;49m\u001b[43mopen\u001b[49m\u001b[43m(\u001b[49m\u001b[43murl\u001b[49m\u001b[43m,\u001b[49m\u001b[43m \u001b[49m\u001b[43mdata\u001b[49m\u001b[43m,\u001b[49m\u001b[43m \u001b[49m\u001b[43mtimeout\u001b[49m\u001b[43m)\u001b[49m\n",
      "File \u001b[0;32m/anaconda/envs/azureml_py38/lib/python3.10/urllib/request.py:525\u001b[0m, in \u001b[0;36mOpenerDirector.open\u001b[0;34m(self, fullurl, data, timeout)\u001b[0m\n\u001b[1;32m    523\u001b[0m \u001b[38;5;28;01mfor\u001b[39;00m processor \u001b[38;5;129;01min\u001b[39;00m \u001b[38;5;28mself\u001b[39m\u001b[38;5;241m.\u001b[39mprocess_response\u001b[38;5;241m.\u001b[39mget(protocol, []):\n\u001b[1;32m    524\u001b[0m     meth \u001b[38;5;241m=\u001b[39m \u001b[38;5;28mgetattr\u001b[39m(processor, meth_name)\n\u001b[0;32m--> 525\u001b[0m     response \u001b[38;5;241m=\u001b[39m \u001b[43mmeth\u001b[49m\u001b[43m(\u001b[49m\u001b[43mreq\u001b[49m\u001b[43m,\u001b[49m\u001b[43m \u001b[49m\u001b[43mresponse\u001b[49m\u001b[43m)\u001b[49m\n\u001b[1;32m    527\u001b[0m \u001b[38;5;28;01mreturn\u001b[39;00m response\n",
      "File \u001b[0;32m/anaconda/envs/azureml_py38/lib/python3.10/urllib/request.py:634\u001b[0m, in \u001b[0;36mHTTPErrorProcessor.http_response\u001b[0;34m(self, request, response)\u001b[0m\n\u001b[1;32m    631\u001b[0m \u001b[38;5;66;03m# According to RFC 2616, \"2xx\" code indicates that the client's\u001b[39;00m\n\u001b[1;32m    632\u001b[0m \u001b[38;5;66;03m# request was successfully received, understood, and accepted.\u001b[39;00m\n\u001b[1;32m    633\u001b[0m \u001b[38;5;28;01mif\u001b[39;00m \u001b[38;5;129;01mnot\u001b[39;00m (\u001b[38;5;241m200\u001b[39m \u001b[38;5;241m<\u001b[39m\u001b[38;5;241m=\u001b[39m code \u001b[38;5;241m<\u001b[39m \u001b[38;5;241m300\u001b[39m):\n\u001b[0;32m--> 634\u001b[0m     response \u001b[38;5;241m=\u001b[39m \u001b[38;5;28;43mself\u001b[39;49m\u001b[38;5;241;43m.\u001b[39;49m\u001b[43mparent\u001b[49m\u001b[38;5;241;43m.\u001b[39;49m\u001b[43merror\u001b[49m\u001b[43m(\u001b[49m\n\u001b[1;32m    635\u001b[0m \u001b[43m        \u001b[49m\u001b[38;5;124;43m'\u001b[39;49m\u001b[38;5;124;43mhttp\u001b[39;49m\u001b[38;5;124;43m'\u001b[39;49m\u001b[43m,\u001b[49m\u001b[43m \u001b[49m\u001b[43mrequest\u001b[49m\u001b[43m,\u001b[49m\u001b[43m \u001b[49m\u001b[43mresponse\u001b[49m\u001b[43m,\u001b[49m\u001b[43m \u001b[49m\u001b[43mcode\u001b[49m\u001b[43m,\u001b[49m\u001b[43m \u001b[49m\u001b[43mmsg\u001b[49m\u001b[43m,\u001b[49m\u001b[43m \u001b[49m\u001b[43mhdrs\u001b[49m\u001b[43m)\u001b[49m\n\u001b[1;32m    637\u001b[0m \u001b[38;5;28;01mreturn\u001b[39;00m response\n",
      "File \u001b[0;32m/anaconda/envs/azureml_py38/lib/python3.10/urllib/request.py:563\u001b[0m, in \u001b[0;36mOpenerDirector.error\u001b[0;34m(self, proto, *args)\u001b[0m\n\u001b[1;32m    561\u001b[0m \u001b[38;5;28;01mif\u001b[39;00m http_err:\n\u001b[1;32m    562\u001b[0m     args \u001b[38;5;241m=\u001b[39m (\u001b[38;5;28mdict\u001b[39m, \u001b[38;5;124m'\u001b[39m\u001b[38;5;124mdefault\u001b[39m\u001b[38;5;124m'\u001b[39m, \u001b[38;5;124m'\u001b[39m\u001b[38;5;124mhttp_error_default\u001b[39m\u001b[38;5;124m'\u001b[39m) \u001b[38;5;241m+\u001b[39m orig_args\n\u001b[0;32m--> 563\u001b[0m     \u001b[38;5;28;01mreturn\u001b[39;00m \u001b[38;5;28;43mself\u001b[39;49m\u001b[38;5;241;43m.\u001b[39;49m\u001b[43m_call_chain\u001b[49m\u001b[43m(\u001b[49m\u001b[38;5;241;43m*\u001b[39;49m\u001b[43margs\u001b[49m\u001b[43m)\u001b[49m\n",
      "File \u001b[0;32m/anaconda/envs/azureml_py38/lib/python3.10/urllib/request.py:496\u001b[0m, in \u001b[0;36mOpenerDirector._call_chain\u001b[0;34m(self, chain, kind, meth_name, *args)\u001b[0m\n\u001b[1;32m    494\u001b[0m \u001b[38;5;28;01mfor\u001b[39;00m handler \u001b[38;5;129;01min\u001b[39;00m handlers:\n\u001b[1;32m    495\u001b[0m     func \u001b[38;5;241m=\u001b[39m \u001b[38;5;28mgetattr\u001b[39m(handler, meth_name)\n\u001b[0;32m--> 496\u001b[0m     result \u001b[38;5;241m=\u001b[39m \u001b[43mfunc\u001b[49m\u001b[43m(\u001b[49m\u001b[38;5;241;43m*\u001b[39;49m\u001b[43margs\u001b[49m\u001b[43m)\u001b[49m\n\u001b[1;32m    497\u001b[0m     \u001b[38;5;28;01mif\u001b[39;00m result \u001b[38;5;129;01mis\u001b[39;00m \u001b[38;5;129;01mnot\u001b[39;00m \u001b[38;5;28;01mNone\u001b[39;00m:\n\u001b[1;32m    498\u001b[0m         \u001b[38;5;28;01mreturn\u001b[39;00m result\n",
      "File \u001b[0;32m/anaconda/envs/azureml_py38/lib/python3.10/urllib/request.py:643\u001b[0m, in \u001b[0;36mHTTPDefaultErrorHandler.http_error_default\u001b[0;34m(self, req, fp, code, msg, hdrs)\u001b[0m\n\u001b[1;32m    642\u001b[0m \u001b[38;5;28;01mdef\u001b[39;00m \u001b[38;5;21mhttp_error_default\u001b[39m(\u001b[38;5;28mself\u001b[39m, req, fp, code, msg, hdrs):\n\u001b[0;32m--> 643\u001b[0m     \u001b[38;5;28;01mraise\u001b[39;00m HTTPError(req\u001b[38;5;241m.\u001b[39mfull_url, code, msg, hdrs, fp)\n",
      "\u001b[0;31mHTTPError\u001b[0m: HTTP Error 403: Forbidden"
     ]
    }
   ],
   "source": [
    "from sklearn.datasets import fetch_california_housing\n",
    "\n",
    "housing = fetch_california_housing(as_frame=True)\n",
    "data, target = housing.data, housing.target"
   ]
  },
  {
   "cell_type": "markdown",
   "id": "f0c6a8eb",
   "metadata": {},
   "source": [
    "En este dataset, el objetivo es predecir el valor medio de las casas en un área de California. \n",
    "\n",
    "- Las características se basan en información general de propiedades y geográficas."
   ]
  },
  {
   "cell_type": "code",
   "execution_count": null,
   "id": "a116e4d8",
   "metadata": {},
   "outputs": [],
   "source": [
    "print(housing.DESCR)"
   ]
  },
  {
   "cell_type": "code",
   "execution_count": null,
   "id": "dae58598",
   "metadata": {},
   "outputs": [],
   "source": [
    "data.head()"
   ]
  },
  {
   "cell_type": "code",
   "execution_count": null,
   "id": "ba10cbeb",
   "metadata": {},
   "outputs": [],
   "source": [
    "target.head()"
   ]
  },
  {
   "cell_type": "code",
   "execution_count": null,
   "id": "a8ab5c61",
   "metadata": {},
   "outputs": [],
   "source": [
    "# Para simplificar la visualización, transformamos los precios del rango de mil dólares (k$) al rango de 100(k$).\n",
    "\n",
    "target *= 100\n",
    "target.head()"
   ]
  },
  {
   "cell_type": "code",
   "execution_count": null,
   "id": "08ad8859",
   "metadata": {},
   "outputs": [],
   "source": [
    "target.describe()"
   ]
  },
  {
   "cell_type": "markdown",
   "id": "83066041",
   "metadata": {},
   "source": [
    "# Error de entrenamiento vs error de prueba"
   ]
  },
  {
   "cell_type": "code",
   "execution_count": null,
   "id": "667a56ac",
   "metadata": {},
   "outputs": [],
   "source": [
    "# Para resolver esta regresión, utilizaremos un regresor de árbol de decisión.\n",
    "\n",
    "from sklearn.tree import DecisionTreeRegressor\n",
    "\n",
    "regressor = DecisionTreeRegressor(random_state=0)\n",
    "regressor.fit(data, target)"
   ]
  },
  {
   "cell_type": "code",
   "execution_count": null,
   "id": "bc8f9e10",
   "metadata": {},
   "outputs": [],
   "source": [
    "# Después de entrenar al regresor, nos gustaría saber su posible rendimiento de generalización una vez implementado en producción.\n",
    "# Para ello, usaremos el error absoluto medio, que nos da un error en la unidad nativa, es decir, K$.\n",
    "\n",
    "from sklearn.metrics import mean_absolute_error\n",
    "\n",
    "target_predicted = regressor.predict(data)\n",
    "score = mean_absolute_error(target, target_predicted)\n",
    "print(f\"En promedio, nuestro regresor comete un error de {score:.2f} k$\")"
   ]
  },
  {
   "cell_type": "markdown",
   "id": "96a532ba",
   "metadata": {},
   "source": [
    "**Obtenemos una predicción perfecta, sin error!!**\n",
    "\n",
    "\n",
    "> Es demasiado optimista y casi siempre revela un problema metodológico al hacer aprendizaje automático.\n",
    "\n",
    "- De hecho, entrenamos y predijimos en el mismo conjunto de datos. \n",
    "\n",
    "**¿Qué sucede?**\n",
    "\n",
    "A la vez que el árbol de decisión creció, cada muestra en el conjunto de datos se almacenó en un nodo de hoja.\n",
    "- Por lo tanto, nuestro árbol de decisión memorizó completamente el conjunto de datos dado durante el ajuste y, por lo tanto, no cometió ningún error al predecir.\n",
    "- Este error se llama **error empírico o error de entrenamiento.**\n",
    "\n",
    "Entrenamos un modelo predictivo para minimizar el error de entrenamiento, pero nuestro objetivo es minimizar el error de los datos que no se han visto durante el entrenamiento.\n",
    "- Este error también se llama **error de generalización** o **error de prueba \"verdadero\".**"
   ]
  },
  {
   "cell_type": "markdown",
   "id": "0abee15b",
   "metadata": {},
   "source": [
    "**Por lo tanto, la evaluación más básica implica:**\n",
    "- Dividir nuestro conjunto de datos en dos subconjuntos: un conjunto de entrenamiento y un conjunto de pruebas;\n",
    "- Ajustar el modelo en el conjunto de entrenamiento;\n",
    "- Estimat el error de entrenamiento en el conjunto de capacitación;\n",
    "- Estimat el error de prueba en el conjunto de pruebas."
   ]
  },
  {
   "cell_type": "code",
   "execution_count": null,
   "id": "9f69db41",
   "metadata": {},
   "outputs": [],
   "source": [
    "# dividamos nuestro conjunto de datos.\n",
    "\n",
    "from sklearn.model_selection import train_test_split\n",
    "\n",
    "data_train, data_test, target_train, target_test = train_test_split(\n",
    "    data, target, random_state=0)"
   ]
  },
  {
   "cell_type": "code",
   "execution_count": null,
   "id": "a0c88ef2",
   "metadata": {},
   "outputs": [],
   "source": [
    "# Entrenemos nuestra modelo.\n",
    "\n",
    "regressor.fit(data_train, target_train)"
   ]
  },
  {
   "cell_type": "code",
   "execution_count": null,
   "id": "aa1fc6a1",
   "metadata": {},
   "outputs": [],
   "source": [
    "# Finalmente, estimamos los diferentes tipos de errores:\n",
    "# calculamos el error de entrenamiento.\n",
    "\n",
    "target_predicted = regressor.predict(data_train)\n",
    "score = mean_absolute_error(target_train, target_predicted)\n",
    "print(f\"El error de entrenamiento de nuestro modelo es {score:.2f} k$\")"
   ]
  },
  {
   "cell_type": "code",
   "execution_count": null,
   "id": "daddc529",
   "metadata": {},
   "outputs": [],
   "source": [
    "# Ahora, calculamos el error de prueba.\n",
    "\n",
    "target_predicted = regressor.predict(data_test)\n",
    "score = mean_absolute_error(target_test, target_predicted)\n",
    "print(f\"El error de prueba de nuestro modelo es {score:.2f} k$\")"
   ]
  },
  {
   "attachments": {
    "image-2.png": {
     "image/png": "[encoded data removed]"
    }
   },
   "cell_type": "markdown",
   "id": "0c41319a",
   "metadata": {},
   "source": [
    "## Estabilidad de las estimaciones de validación cruzada\n",
    "La **Validación cruzada** permite estimar **la robustez de un modelo predictivo** repitiendo el procedimiento de división.\n",
    "- Dará varios errores de entrenamiento y prueba y, por tanto, se estimará la variabilidad del rendimiento de generalización del modelo.\n",
    "\n",
    "Existen diferentes estrategias de validación cruzada. \n",
    "- https://scikit-learn.org/stable/modules/cross_validation.html\n",
    "\n",
    "Vamos a centrarnos en **\"Shuffle-Split\"**. \n",
    "- https://scikit-learn.org/stable/modules/generated/sklearn.model_selection.ShuffleSplit.html\n",
    "\n",
    "En cada iteración de esta estrategia:\n",
    "- Se **baraja** al azar el orden de las muestras de una copia del conjunto de datos completo;\n",
    "- Se **divide** el conjunto de datos barajado en entrenamiento y pruebas;\n",
    "- Se **entrena** un nuevo modelo en el set de entrenamiento;\n",
    "- Se **evalúa** el error de prueba en el conjunto de pruebas.\n",
    "    - https://scikit-learn.org/stable/modules/generated/sklearn.model_selection.cross_validate.html\n",
    "\n",
    "Repetimos este procedimiento **n_splits** veces.\n",
    "\n",
    "*Tener en cuenta que el costo computacional aumenta con los n_splits.*\n",
    "\n",
    "![image-2.png](attachment:image-2.png)\n",
    "\n",
    "\n",
    "En este caso, estableceremos `n_splits = 40`: entrenaremos 40 modelos en total (todos se descartarán). Solo registramos su **rendimiento de generalización en cada variante del conjunto de pruebas**."
   ]
  },
  {
   "cell_type": "code",
   "execution_count": null,
   "id": "8520717b",
   "metadata": {},
   "outputs": [],
   "source": [
    "from sklearn.model_selection import cross_validate\n",
    "from sklearn.model_selection import ShuffleSplit\n",
    "\n",
    "cv = ShuffleSplit(n_splits=40, test_size=0.3, random_state=0)\n",
    "cv_results = cross_validate(\n",
    "    regressor, data, target, cv=cv, scoring=\"neg_mean_absolute_error\")"
   ]
  },
  {
   "cell_type": "code",
   "execution_count": null,
   "id": "34e1d570",
   "metadata": {},
   "outputs": [],
   "source": [
    "# Los resultados cv_results se almacenan en un diccionario de Python.\n",
    "# Lo convertiremos en un Dataframe para facilitar la visualización y la manipulación.\n",
    "\n",
    "import pandas as pd\n",
    "\n",
    "cv_results = pd.DataFrame(cv_results)\n",
    "cv_results.head()"
   ]
  },
  {
   "cell_type": "code",
   "execution_count": null,
   "id": "75ca06ec",
   "metadata": {},
   "outputs": [],
   "source": [
    "# error real = negativo del test_score ('neg_mean_absolute_error'):\n",
    "cv_results[\"test_error\"] = -cv_results[\"test_score\"]\n",
    "\n",
    "# Verifiquemos los resultados generados por la validación cruzada.\n",
    "cv_results.head(10)"
   ]
  },
  {
   "cell_type": "code",
   "execution_count": null,
   "id": "4aa32783",
   "metadata": {},
   "outputs": [],
   "source": [
    "len(cv_results)"
   ]
  },
  {
   "cell_type": "code",
   "execution_count": null,
   "id": "2a94a049",
   "metadata": {},
   "outputs": [],
   "source": [
    "# Obtenemos 40 entradas en nuestro datset resultante porque realizamos 40 divisiones.\n",
    "# podemos mostrar la distribución de errores de prueba y, por lo tanto, tener una estimación de su variabilidad.\n",
    "\n",
    "import matplotlib.pyplot as plt\n",
    "\n",
    "cv_results[\"test_error\"].plot.hist(bins=10, edgecolor=\"black\")\n",
    "plt.xlabel(\"Error absoluto medio (k$)\")\n",
    "plt.title(\"Distribución de errores de prueba\")"
   ]
  },
  {
   "cell_type": "code",
   "execution_count": null,
   "id": "07ad549f",
   "metadata": {},
   "outputs": [],
   "source": [
    "# Observamos que el error de prueba se agrupa alrededor de 47 K$ y varía de 43 k$ a 50 k$.\n",
    "\n",
    "print(f\"El error medio de prueba multvalidada es: \"\n",
    "      f\"{cv_results['test_error'].mean():.2f} k$\")"
   ]
  },
  {
   "cell_type": "code",
   "execution_count": null,
   "id": "26daca9e",
   "metadata": {},
   "outputs": [],
   "source": [
    "print(f\"La desviación estándar del error de prueba es: \"\n",
    "      f\"{cv_results['test_error'].std():.2f} k$\")"
   ]
  },
  {
   "cell_type": "code",
   "execution_count": null,
   "id": "6c552fa0",
   "metadata": {},
   "outputs": [],
   "source": [
    "# la distribución de la variable objetivo:\n",
    "\n",
    "target.plot.hist(bins=20, edgecolor=\"black\")\n",
    "plt.xlabel(\"Valor medio de la casa (k$)\")\n",
    "plt.title(\"Distribución objetivo\")"
   ]
  },
  {
   "cell_type": "code",
   "execution_count": null,
   "id": "a33c59ec",
   "metadata": {},
   "outputs": [],
   "source": [
    "print(f\"La desviación estándar del objetivo es: {target.std():.2f} k$\")"
   ]
  },
  {
   "cell_type": "markdown",
   "id": "26ffbe32",
   "metadata": {},
   "source": [
    "## Más detalles sobre cross_validate\n",
    "\n",
    "Durante la validación cruzada, muchos modelos son entrenados y evaluados. \n",
    "\n",
    "De hecho, el número de elementos en cada matriz de salida de cross_validate es el resultado de uno de estos procedimientos de fit/score. \n",
    "\n",
    "Para que sea explícito, es posible recuperar estos modelos ajustados para cada una de las divisiones/pliegues (splits/folds) pasando la opción `return_estimator = True` en cross_validate."
   ]
  },
  {
   "cell_type": "code",
   "execution_count": null,
   "id": "999045bf",
   "metadata": {},
   "outputs": [],
   "source": [
    "cv_results = cross_validate(regressor, data, target, return_estimator=True)\n",
    "cv_results"
   ]
  },
  {
   "cell_type": "code",
   "execution_count": null,
   "id": "044654eb",
   "metadata": {},
   "outputs": [],
   "source": [
    "cv_results[\"estimator\"]"
   ]
  },
  {
   "cell_type": "code",
   "execution_count": null,
   "id": "e9a60589",
   "metadata": {},
   "outputs": [],
   "source": [
    "# En el caso de que solo nos interesemos en la puntuación de prueba, Scikit-Learn proporciona una función cross_val_score. \n",
    "# Es idéntico a llamar a la función cross_validate y seleccionar solo el test_score.\n",
    "\n",
    "from sklearn.model_selection import cross_val_score\n",
    "\n",
    "scores = cross_val_score(regressor, data, target)\n",
    "scores"
   ]
  }
 ],
 "metadata": {
  "kernelspec": {
   "display_name": "Python 3.8 - AzureML",
   "language": "python",
   "name": "python38-azureml"
  },
  "language_info": {
   "codemirror_mode": {
    "name": "ipython",
    "version": 3
   },
   "file_extension": ".py",
   "mimetype": "text/x-python",
   "name": "python",
   "nbconvert_exporter": "python",
   "pygments_lexer": "ipython3",
   "version": "3.10.11"
  }
 },
 "nbformat": 4,
 "nbformat_minor": 5
}
