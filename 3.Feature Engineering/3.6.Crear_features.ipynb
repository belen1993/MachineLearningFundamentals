{
 "cells": [
  {
   "cell_type": "markdown",
   "id": "2379eddf",
   "metadata": {
    "papermill": {
     "duration": 0.006583,
     "end_time": "2023-04-20T18:10:59.626230",
     "exception": false,
     "start_time": "2023-04-20T18:10:59.619647",
     "status": "completed"
    },
    "tags": []
   },
   "source": [
    "# Crear características\n",
    "\n",
    "Una vez que se hayan identificado un conjunto de características con algo de potencial, es hora de comenzar a desarrollarlas.\n",
    "\n",
    "Usaremos cuatro conjuntos de datos que tiene una variedad de tipos de características: Accidentes de tráfico de EE. UU., automóviles 1985 , Formulaciones de concreto, y *valor de vida útil de clientes."
   ]
  },
  {
   "cell_type": "code",
   "execution_count": null,
   "id": "dea1a964",
   "metadata": {},
   "outputs": [],
   "source": [
    "\n",
    "import matplotlib.pyplot as plt\n",
    "import numpy as np\n",
    "import pandas as pd\n",
    "import seaborn as sns\n",
    "\n",
    "import warnings\n",
    "\n",
    "warnings.filterwarnings('ignore')"
   ]
  },
  {
   "cell_type": "code",
   "execution_count": null,
   "id": "e2faf670",
   "metadata": {
    "_kg_hide-input": true,
    "execution": {
     "iopub.execute_input": "2023-04-20T18:10:59.639779Z",
     "iopub.status.busy": "2023-04-20T18:10:59.639203Z",
     "iopub.status.idle": "2023-04-20T18:11:01.694289Z",
     "shell.execute_reply": "2023-04-20T18:11:01.693127Z"
    },
    "papermill": {
     "duration": 2.065278,
     "end_time": "2023-04-20T18:11:01.697136",
     "exception": false,
     "start_time": "2023-04-20T18:10:59.631858",
     "status": "completed"
    },
    "tags": []
   },
   "outputs": [],
   "source": [
    "\n",
    "plt.rc(\"figure\", autolayout=True)\n",
    "plt.rc(\n",
    "    \"axes\",\n",
    "    labelweight=\"bold\",\n",
    "    labelsize=\"large\",\n",
    "    titleweight=\"bold\",\n",
    "    titlesize=14,\n",
    "    titlepad=10,\n",
    ")\n",
    "\n",
    "\n",
    "accidents = pd.read_csv(\"../../data/fe/accidents.csv.zip\")\n",
    "autos = pd.read_csv(\"../../data/fe/autos.csv\")\n",
    "concrete = pd.read_csv(\"../../data/fe/concrete.csv\")\n",
    "customer = pd.read_csv(\"../../data/fe/customer.csv.zip\")"
   ]
  },
  {
   "cell_type": "markdown",
   "id": "5ee69684",
   "metadata": {
    "papermill": {
     "duration": 0.005001,
     "end_time": "2023-04-20T18:11:01.707752",
     "exception": false,
     "start_time": "2023-04-20T18:11:01.702751",
     "status": "completed"
    },
    "tags": []
   },
   "source": [
    "## Tips para descubrir nuevas características\n",
    "- **Comprender las características**: Consulta la documentación de datos de tu conjunto de datos, si está disponible.\n",
    "- **Investigar el dominio del problema**: Si tu problema es predecir los precios de la vivienda, investigue un poco de bienes raíces, por ejemplo.Wikipedia puede ser un buen punto de partida, pero los libros y <a href = \"https://scholar.google.com/\"> artículos de revista </a> a menudo tendrán la mejor información.\n",
    "- **Estudiar trabajos anteriores**.\n",
    "- **Usar la visualización de datos**: La visualización puede revelar patologías en la distribución de una característica o relaciones complicadas que podrían simplificarse.Asegúrese de visualizar su conjunto de datos mientras trabaja a través del proceso de ingeniería de funciones.\n",
    "\n",
    "## Transformaciones matemáticas\n",
    "\n",
    "Las relaciones entre las características numéricas a menudo se expresan a través de fórmulas matemáticas, que con frecuencia encontraremos como parte de su investigación de dominio. \n",
    "\n",
    "- En el conjunto de datos *Automóvil* se encuentran características que describen el motor de un automóvil.\n",
    "- La investigación produce una variedad de fórmulas para crear nuevas características potencialmente útiles.\n",
    "- La \"relación de carrera\", por ejemplo, es una medida de cuán eficiente es un motor en lugar de cómo funciona:"
   ]
  },
  {
   "cell_type": "code",
   "execution_count": null,
   "id": "e9151e07",
   "metadata": {
    "execution": {
     "iopub.execute_input": "2023-04-20T18:11:01.720587Z",
     "iopub.status.busy": "2023-04-20T18:11:01.719891Z",
     "iopub.status.idle": "2023-04-20T18:11:01.754255Z",
     "shell.execute_reply": "2023-04-20T18:11:01.752995Z"
    },
    "papermill": {
     "duration": 0.04466,
     "end_time": "2023-04-20T18:11:01.757621",
     "exception": false,
     "start_time": "2023-04-20T18:11:01.712961",
     "status": "completed"
    },
    "tags": []
   },
   "outputs": [],
   "source": [
    "autos[\"stroke_ratio\"] = autos.stroke / autos.bore\n",
    "\n",
    "autos[[\"stroke\", \"bore\", \"stroke_ratio\"]].head()"
   ]
  },
  {
   "cell_type": "markdown",
   "id": "8458f83c",
   "metadata": {
    "papermill": {
     "duration": 0.005204,
     "end_time": "2023-04-20T18:11:01.768454",
     "exception": false,
     "start_time": "2023-04-20T18:11:01.763250",
     "status": "completed"
    },
    "tags": []
   },
   "source": [
    "Cuanto más complicada sea una combinación, más difícil será para un modelo aprender, como esta fórmula para el \"desplazamiento\" de un motor, una medida de su potencia:"
   ]
  },
  {
   "cell_type": "code",
   "execution_count": null,
   "id": "60c63b3c",
   "metadata": {
    "execution": {
     "iopub.execute_input": "2023-04-20T18:11:01.781811Z",
     "iopub.status.busy": "2023-04-20T18:11:01.780735Z",
     "iopub.status.idle": "2023-04-20T18:11:01.788044Z",
     "shell.execute_reply": "2023-04-20T18:11:01.787158Z"
    },
    "papermill": {
     "duration": 0.016708,
     "end_time": "2023-04-20T18:11:01.790606",
     "exception": false,
     "start_time": "2023-04-20T18:11:01.773898",
     "status": "completed"
    },
    "tags": []
   },
   "outputs": [],
   "source": [
    "autos[\"displacement\"] = (\n",
    "    np.pi * ((0.5 * autos.bore) ** 2) * autos.stroke * autos.num_of_cylinders\n",
    ")"
   ]
  },
  {
   "cell_type": "markdown",
   "id": "7965a17f",
   "metadata": {
    "papermill": {
     "duration": 0.005291,
     "end_time": "2023-04-20T18:11:01.801435",
     "exception": false,
     "start_time": "2023-04-20T18:11:01.796144",
     "status": "completed"
    },
    "tags": []
   },
   "source": [
    "La visualización de datos puede sugerir transformaciones, a menudo una \"remodelación\" de una característica a través de potencias o logaritmos.\n",
    "\n",
    "La distribución de `Windspeed` en *Accidentes de tráfico* es muy sesgada, por ejemplo.\n",
    "\n",
    "En este caso, el logaritmo es un método efectivo para normalizarlo:"
   ]
  },
  {
   "cell_type": "code",
   "execution_count": null,
   "id": "9122c429",
   "metadata": {
    "execution": {
     "iopub.execute_input": "2023-04-20T18:11:01.813804Z",
     "iopub.status.busy": "2023-04-20T18:11:01.813415Z",
     "iopub.status.idle": "2023-04-20T18:11:03.298399Z",
     "shell.execute_reply": "2023-04-20T18:11:03.297232Z"
    },
    "papermill": {
     "duration": 1.495919,
     "end_time": "2023-04-20T18:11:03.302697",
     "exception": false,
     "start_time": "2023-04-20T18:11:01.806778",
     "status": "completed"
    },
    "tags": []
   },
   "outputs": [],
   "source": [
    "# If the feature has 0.0 values, use np.log1p (log(1+x)) instead of np.log\n",
    "accidents[\"LogWindSpeed\"] = accidents.WindSpeed.apply(np.log1p)\n",
    "\n",
    "# Plot a comparison\n",
    "fig, axs = plt.subplots(1, 2, figsize=(8, 4))\n",
    "sns.kdeplot(accidents.WindSpeed, shade=True, ax=axs[0])\n",
    "sns.kdeplot(accidents.LogWindSpeed, shade=True, ax=axs[1]);"
   ]
  },
  {
   "cell_type": "markdown",
   "id": "390ac200",
   "metadata": {
    "papermill": {
     "duration": 0.006189,
     "end_time": "2023-04-20T18:11:03.315631",
     "exception": false,
     "start_time": "2023-04-20T18:11:03.309442",
     "status": "completed"
    },
    "tags": []
   },
   "source": [
    "## Conteo\n",
    "\n",
    "Las características que describen la presencia o ausencia de algo a menudo vienen en conjuntos, por ejemplo, el conjunto de factores de riesgo para una enfermedad.\n",
    "\n",
    "Se puede agregar tales características creando un conteo.\n",
    "\n",
    "Estas características serán *binarias* (`1` para presente,` 0` para ausente) o *boleanas* .\n",
    "\n",
    "En Python, los booleanos se pueden sumar como si fueran enteros.\n",
    "\n",
    "En *Accidentes de tráfico* hay varias características que indican si algún objeto de carretera estaba cerca del accidente.\n",
    "\n",
    "Podemos crear un recuento del número total de características de la carretera cercanas utilizando el método 'Sum`:"
   ]
  },
  {
   "cell_type": "code",
   "execution_count": null,
   "id": "da95fb02",
   "metadata": {
    "execution": {
     "iopub.execute_input": "2023-04-20T18:11:03.330744Z",
     "iopub.status.busy": "2023-04-20T18:11:03.330284Z",
     "iopub.status.idle": "2023-04-20T18:11:03.364284Z",
     "shell.execute_reply": "2023-04-20T18:11:03.363389Z"
    },
    "papermill": {
     "duration": 0.044302,
     "end_time": "2023-04-20T18:11:03.366563",
     "exception": false,
     "start_time": "2023-04-20T18:11:03.322261",
     "status": "completed"
    },
    "tags": []
   },
   "outputs": [],
   "source": [
    "roadway_features = [\"Amenity\", \"Bump\", \"Crossing\", \"GiveWay\",\n",
    "    \"Junction\", \"NoExit\", \"Railway\", \"Roundabout\", \"Station\", \"Stop\",\n",
    "    \"TrafficCalming\", \"TrafficSignal\"]\n",
    "accidents[\"RoadwayFeatures\"] = accidents[roadway_features].sum(axis=1)\n",
    "\n",
    "accidents[roadway_features + [\"RoadwayFeatures\"]].head(10)"
   ]
  },
  {
   "cell_type": "markdown",
   "id": "b1c52a28",
   "metadata": {
    "papermill": {
     "duration": 0.006721,
     "end_time": "2023-04-20T18:11:03.380387",
     "exception": false,
     "start_time": "2023-04-20T18:11:03.373666",
     "status": "completed"
    },
    "tags": []
   },
   "source": [
    "Popdemos usar los métodos de DataFrame para *crear* valores booleanos.\n",
    "\n",
    "En el conjunto de datos de *concreto* se encuentran las cantidades de componentes en una formulación concreta.\n",
    "\n",
    "Muchas formulaciones carecen de uno o más componentes (es decir, el componente tiene un valor de 0).\n",
    "\n",
    "Podemos contar cuántos componentes hay en una formulación:"
   ]
  },
  {
   "cell_type": "code",
   "execution_count": null,
   "id": "c29a32e2",
   "metadata": {
    "execution": {
     "iopub.execute_input": "2023-04-20T18:11:03.397440Z",
     "iopub.status.busy": "2023-04-20T18:11:03.396971Z",
     "iopub.status.idle": "2023-04-20T18:11:03.420279Z",
     "shell.execute_reply": "2023-04-20T18:11:03.419111Z"
    },
    "papermill": {
     "duration": 0.034532,
     "end_time": "2023-04-20T18:11:03.422938",
     "exception": false,
     "start_time": "2023-04-20T18:11:03.388406",
     "status": "completed"
    },
    "tags": []
   },
   "outputs": [],
   "source": [
    "components = [ \"Cement\", \"BlastFurnaceSlag\", \"FlyAsh\", \"Water\",\n",
    "               \"Superplasticizer\", \"CoarseAggregate\", \"FineAggregate\"]\n",
    "concrete[\"Components\"] = concrete[components].gt(0).sum(axis=1)\n",
    "\n",
    "concrete[components + [\"Components\"]].head(10)"
   ]
  },
  {
   "cell_type": "markdown",
   "id": "ef81731c",
   "metadata": {
    "papermill": {
     "duration": 0.006816,
     "end_time": "2023-04-20T18:11:03.436960",
     "exception": false,
     "start_time": "2023-04-20T18:11:03.430144",
     "status": "completed"
    },
    "tags": []
   },
   "source": [
    "# Construyendo y Rompiendo Características\n",
    "\n",
    "A menudo tendremos cadenas complejas que se pueden dividir útilmente en piezas más simples.Algunos ejemplos comunes:\n",
    "- ID numbers: `'123-45-6789'`\n",
    "- Phone numbers: `'(999) 555-0123'`\n",
    "- Street addresses: `'8241 Street Ln., Goose City, NV'`\n",
    "- Internet addresses: `'http://www.google.com`\n",
    "- Product codes: `'0 36000 29145 2'`\n",
    "- Dates and times: `'Mon Sep 30 07:06:05 2013'`\n",
    "\n",
    "Características como estas a menudo tendrán algún tipo de estructura que puede usar.\n",
    "\n",
    "Los números de teléfono, por ejemplo, tienen un código de área (el `'(999)'`) que le indica la ubicación de la persona que llama.\n",
    "\n",
    "El accesor `str` le permite aplicar métodos de cadena como dividir  directamente a las columnas.\n",
    "\n",
    "El DataSet *Valor de por vida del cliente * contiene características que describen a los clientes de una compañía de seguros.\n",
    "\n",
    "De la variable 'Política', podríamos separar el 'tipo' del 'nivel' de la cobertura:"
   ]
  },
  {
   "cell_type": "code",
   "execution_count": null,
   "id": "ed329a6f",
   "metadata": {
    "execution": {
     "iopub.execute_input": "2023-04-20T18:11:03.453603Z",
     "iopub.status.busy": "2023-04-20T18:11:03.452632Z",
     "iopub.status.idle": "2023-04-20T18:11:03.487347Z",
     "shell.execute_reply": "2023-04-20T18:11:03.486033Z"
    },
    "papermill": {
     "duration": 0.045916,
     "end_time": "2023-04-20T18:11:03.489915",
     "exception": false,
     "start_time": "2023-04-20T18:11:03.443999",
     "status": "completed"
    },
    "tags": []
   },
   "outputs": [],
   "source": [
    "customer[[\"Type\", \"Level\"]] = (  # Create two new features\n",
    "    customer[\"Policy\"]           # from the Policy feature\n",
    "    .str                         # through the string accessor\n",
    "    .split(\" \", expand=True)     # by splitting on \" \"\n",
    "                                 # and expanding the result into separate columns\n",
    ")\n",
    "\n",
    "customer[[\"Policy\", \"Type\", \"Level\"]].head(10)"
   ]
  },
  {
   "cell_type": "markdown",
   "id": "620eb0b9",
   "metadata": {
    "papermill": {
     "duration": 0.007277,
     "end_time": "2023-04-20T18:11:03.504846",
     "exception": false,
     "start_time": "2023-04-20T18:11:03.497569",
     "status": "completed"
    },
    "tags": []
   },
   "source": [
    "También pueden unirse características simples en una característica compuesta si tenemos motivos para creer que hay alguna interacción en la combinación:"
   ]
  },
  {
   "cell_type": "code",
   "execution_count": null,
   "id": "56685d54",
   "metadata": {
    "execution": {
     "iopub.execute_input": "2023-04-20T18:11:03.522415Z",
     "iopub.status.busy": "2023-04-20T18:11:03.521431Z",
     "iopub.status.idle": "2023-04-20T18:11:03.534788Z",
     "shell.execute_reply": "2023-04-20T18:11:03.533646Z"
    },
    "papermill": {
     "duration": 0.024762,
     "end_time": "2023-04-20T18:11:03.537143",
     "exception": false,
     "start_time": "2023-04-20T18:11:03.512381",
     "status": "completed"
    },
    "tags": []
   },
   "outputs": [],
   "source": [
    "autos[\"make_and_style\"] = autos[\"make\"] + \"_\" + autos[\"body_style\"]\n",
    "autos[[\"make\", \"body_style\", \"make_and_style\"]].head()"
   ]
  },
  {
   "cell_type": "markdown",
   "id": "c7cb4418",
   "metadata": {
    "papermill": {
     "duration": 0.007312,
     "end_time": "2023-04-20T18:11:03.567457",
     "exception": false,
     "start_time": "2023-04-20T18:11:03.560145",
     "status": "completed"
    },
    "tags": []
   },
   "source": [
    "# Transformación de grupo \n",
    "\n",
    "Finalmente tenemos **Transformaciones de grupo**, que agregan información en múltiples filas agrupadas por alguna categoría.\n",
    "\n",
    "Con una transformación grupal, pueden crearse características como: \"El ingreso promedio del estado de residencia de una persona\" o \"La proporción de películas lanzadas en un día laborable, por género\".\n",
    "\n",
    "**Si se descubre una interacción de categoría, una transformación de grupo en esa categoría podría ser algo bueno a investigar.**\n",
    "\n",
    "Utilizando una función de agregación, una transformación de grupo combina dos características: una característica categórica que proporciona la agrupación y otra característica cuyos valores se desea agregar.\n",
    "\n",
    "Para el \"ingreso promedio por estado\", se puede elegir 'estado' para la función de agrupación, 'media' para la función de agregación e 'ingresos' para la función agregada:"
   ]
  },
  {
   "cell_type": "code",
   "execution_count": null,
   "id": "e73bc1a7",
   "metadata": {
    "execution": {
     "iopub.execute_input": "2023-04-20T18:11:03.584257Z",
     "iopub.status.busy": "2023-04-20T18:11:03.583810Z",
     "iopub.status.idle": "2023-04-20T18:11:03.601498Z",
     "shell.execute_reply": "2023-04-20T18:11:03.600295Z"
    },
    "papermill": {
     "duration": 0.029122,
     "end_time": "2023-04-20T18:11:03.604173",
     "exception": false,
     "start_time": "2023-04-20T18:11:03.575051",
     "status": "completed"
    },
    "tags": []
   },
   "outputs": [],
   "source": [
    "customer[\"AverageIncome\"] = (\n",
    "    customer.groupby(\"State\")  # for each state\n",
    "    [\"Income\"]                 # select the income\n",
    "    .transform(\"mean\")         # and compute its mean\n",
    ")\n",
    "\n",
    "customer[[\"State\", \"Income\", \"AverageIncome\"]].head(10)"
   ]
  },
  {
   "cell_type": "markdown",
   "id": "34932e44",
   "metadata": {
    "papermill": {
     "duration": 0.007643,
     "end_time": "2023-04-20T18:11:03.619807",
     "exception": false,
     "start_time": "2023-04-20T18:11:03.612164",
     "status": "completed"
    },
    "tags": []
   },
   "source": [
    "La función `mean` es un método de marcado, por lo que podemos pasarlo como una cadena a `transform '.\n",
    "\n",
    "Otros métodos prácticos incluyen `max`,` min`, `median`,` var`, `std` y` count`.\n",
    "\n",
    "Así es como podríamos calcular la frecuencia de un estado en el conjunto de datos:"
   ]
  },
  {
   "cell_type": "code",
   "execution_count": null,
   "id": "c4a992d8",
   "metadata": {
    "execution": {
     "iopub.execute_input": "2023-04-20T18:11:03.637875Z",
     "iopub.status.busy": "2023-04-20T18:11:03.637032Z",
     "iopub.status.idle": "2023-04-20T18:11:03.655073Z",
     "shell.execute_reply": "2023-04-20T18:11:03.653826Z"
    },
    "lines_to_next_cell": 0,
    "papermill": {
     "duration": 0.029715,
     "end_time": "2023-04-20T18:11:03.657430",
     "exception": false,
     "start_time": "2023-04-20T18:11:03.627715",
     "status": "completed"
    },
    "tags": []
   },
   "outputs": [],
   "source": [
    "customer[\"StateFreq\"] = (\n",
    "    customer.groupby(\"State\")\n",
    "    [\"State\"]\n",
    "    .transform(\"count\")\n",
    "    / customer.State.count()\n",
    ")\n",
    "\n",
    "customer[[\"State\", \"StateFreq\"]].head(10)"
   ]
  },
  {
   "cell_type": "markdown",
   "id": "209920cf",
   "metadata": {
    "papermill": {
     "duration": 0.008271,
     "end_time": "2023-04-20T18:11:03.673921",
     "exception": false,
     "start_time": "2023-04-20T18:11:03.665650",
     "status": "completed"
    },
    "tags": []
   },
   "source": [
    "Se puede usar una transformación como esta para crear una \"codificación de frecuencia\" para una característica categórica.\n",
    "\n",
    "Si se están utilizando conjuntos de entrenamiento y validación, para preservar su independencia, es mejor crear una característica agrupada utilizando solo el conjunto de entrenamiento y luego unirla al conjunto de validación. \n",
    "\n",
    "Podemos usar el método 'merge' del conjunto de validación después de crear un conjunto único de valores con `drop_dupplicates` en el conjunto de entrenamiento:"
   ]
  },
  {
   "cell_type": "code",
   "execution_count": null,
   "id": "1800a2cd",
   "metadata": {
    "execution": {
     "iopub.execute_input": "2023-04-20T18:11:03.692880Z",
     "iopub.status.busy": "2023-04-20T18:11:03.692138Z",
     "iopub.status.idle": "2023-04-20T18:11:03.736357Z",
     "shell.execute_reply": "2023-04-20T18:11:03.735333Z"
    },
    "papermill": {
     "duration": 0.056633,
     "end_time": "2023-04-20T18:11:03.738929",
     "exception": false,
     "start_time": "2023-04-20T18:11:03.682296",
     "status": "completed"
    },
    "tags": []
   },
   "outputs": [],
   "source": [
    "# Creamos las divisiones\n",
    "df_train = customer.sample(frac=0.5)\n",
    "df_valid = customer.drop(df_train.index)\n",
    "\n",
    "# Creamos el monto promedio de la reclamación por tipo de cobertura, en el conjunto de entrenamiento\n",
    "df_train[\"AverageClaim\"] = df_train.groupby(\"Coverage\")[\"ClaimAmount\"].transform(\"mean\")\n",
    "\n",
    "# Mezclamos los valores en el conjunto de validación\n",
    "df_valid = df_valid.merge(\n",
    "    df_train[[\"Coverage\", \"AverageClaim\"]].drop_duplicates(),\n",
    "    on=\"Coverage\",\n",
    "    how=\"left\",\n",
    ")\n",
    "\n",
    "df_valid[[\"Coverage\", \"AverageClaim\"]].head(10)"
   ]
  },
  {
   "cell_type": "markdown",
   "id": "9ab56d88",
   "metadata": {
    "papermill": {
     "duration": 0.008076,
     "end_time": "2023-04-20T18:11:03.755543",
     "exception": false,
     "start_time": "2023-04-20T18:11:03.747467",
     "status": "completed"
    },
    "tags": []
   },
   "source": [
    "## <strong> Consejos para crear características </strong> <br>\n",
    "Tener en cuenta las propias fortalezas y debilidades de su modelo al crear características.\n",
    "\n",
    "Algunas pautas son:\n",
    "- Los **modelos lineales** aprenden **sumas y restas** naturalmente, pero no pueden aprender nada más complejo.\n",
    "- Las **proporciones parecen ser difíciles de aprender** para la mayoría de los modelos. \n",
    "    - Las **combinaciones de relación** a menudo conducen a algunas ganancias de rendimiento fáciles.\n",
    "- Los **modelos lineales y las redes neuronales** generalmente funcionan mejor con **características normalizadas**. \n",
    "    - Las **redes neuronales** especialmente necesitan **características escaladas** a valores no muy lejos de 0. \n",
    "    - Los modelos basados ​​en **árboles** (como bosques aleatorios y xgboost) a veces pueden beneficiarse de la **normalización**, pero en general no.\n",
    "- Los modelos de **árboles** pueden aprender a aproximar casi cualquier combinación de características, pero cuando una **combinación** es especialmente importante, aún se puede obtener beneficios al crearla explícitamente, especialmente cuando los datos son limitados.\n",
    "- Los **recuentos son especialmente útiles para los modelos de árboles**, ya que estos modelos no tienen una forma natural de agregar información en muchas características a la vez.\n"
   ]
  },
  {
   "cell_type": "markdown",
   "id": "3ed44674",
   "metadata": {},
   "source": [
    "## Ejercicio\n",
    "Ccrea nuevas características a partir del resultado usando los métodos como:\n",
    "- transformaciones matemáticas\n",
    "- conteo\n",
    "- agrupamiento o combinación"
   ]
  }
 ],
 "metadata": {
  "jupytext": {
   "cell_metadata_filter": "-all",
   "formats": "ipynb"
  },
  "kernelspec": {
   "display_name": "Python 3",
   "language": "python",
   "name": "python3"
  },
  "language_info": {
   "codemirror_mode": {
    "name": "ipython",
    "version": 3
   },
   "file_extension": ".py",
   "mimetype": "text/x-python",
   "name": "python",
   "nbconvert_exporter": "python",
   "pygments_lexer": "ipython3",
   "version": "3.12.4"
  },
  "papermill": {
   "default_parameters": {},
   "duration": 14.9879,
   "end_time": "2023-04-20T18:11:04.519486",
   "environment_variables": {},
   "exception": null,
   "input_path": "__notebook__.ipynb",
   "output_path": "__notebook__.ipynb",
   "parameters": {},
   "start_time": "2023-04-20T18:10:49.531586",
   "version": "2.4.0"
  }
 },
 "nbformat": 4,
 "nbformat_minor": 5
}
