{
 "cells": [
  {
   "cell_type": "markdown",
   "metadata": {},
   "source": [
    "<a class=\"anchor\" id=\"0\"></a>\n",
    "# **Selección de características**\n",
    "\n",
    "La **selección de características** es el proceso de seleccionar la cantidad óptima de variables de un conjunto más amplio de características. \n",
    "\n",
    "Este proceso de selección de características tiene varias ventajas.\n",
    "\n",
    "Asimismo,  hay varias técnicas disponibles para este proceso. "
   ]
  },
  {
   "cell_type": "markdown",
   "metadata": {},
   "source": [
    "<a class=\"anchor\" id=\"0.1\"></a>\n",
    "# **Tabla de contenido**\n",
    "\n",
    "1. [Introducción a la selección de características](#1)\n",
    "2. [Métodos de filtrado](#2)\n",
    "- 2.1. [Métodos básicos](#2.1)\n",
    "- 2.1.1 [Eliminar características constantes](#2.1.1)\n",
    "- 2.1.2 [Eliminar características cuasi constantes](#2.1.2)\n",
    "- 2.2 [Métodos de selección univariada](#2.2)\n",
    "- 2.2.1 [SelectKBest](#2.2.1)\n",
    "- 2.2.2 [SelectPercentile](#2.2.2)\n",
    "- 2.3 [Ganancia de información](#2.3)\n",
    "- 2.4 [Puntuación de Fisher (implementación de chi-cuadrado)](#2.4)\n",
    "- 2.5 [Valor F de ANOVA para selección de características](#2.5)\n",
    "- 2.6 [Matriz de correlación con mapa de calor](#2.6)\n",
    "3. [Métodos de envoltura](#3)\n",
    "- 3.1 [Adelante Selección](#3.1)\n",
    "- 3.2 [Eliminación hacia atrás](#3.2)\n",
    "- 3.3 [Selección exhaustiva de características](#3.3)\n",
    "- 3.4 [Eliminación recursiva de características](#3.4)\n",
    "- 3.5 [Eliminación recursiva de características con validación cruzada](#3.5)\n",
    "4. [Métodos integrados](#4)\n",
    "- 4.1 [Regresión LASSO](#4.1)\n",
    "- 4.2 [Importancia del bosque aleatorio](#4.2)\n",
    "5. [Cómo elegir el método de selección de características adecuado](#5)\n",
    "6. [Consejos y trucos para la selección de características](#6)\n",
    "7. [Referencias](#7)"
   ]
  },
  {
   "cell_type": "markdown",
   "metadata": {},
   "source": [
    "# **1. Introducción a la selección de características** <a class=\"anchor\" id=\"1\"></a>\n",
    "\n",
    "[Tabla de contenido](#0.1)\n",
    "\n",
    "## **Selección de características**\n",
    "\n",
    "- La **selección de características** o **selección de variables** es el proceso de seleccionar un subconjunto de características o variables relevantes de las características totales de un nivel en un conjunto de datos para crear algoritmos de aprendizaje automático.\n",
    "\n",
    "## **Ventajas de la selección de características**\n",
    "\n",
    "- El proceso de selección de características tiene varias ventajas:\n",
    "\n",
    "1. Mayor precisión\n",
    "2. Los modelos simples son más fáciles de interpretar.\n",
    "3. Tiempos de entrenamiento más cortos\n",
    "4. Mayor generalización al reducir el sobreajuste\n",
    "5. Más fácil de implementar por parte de los desarrolladores de software\n",
    "6. Menor riesgo de errores de datos por el uso del modelo\n",
    "7. Redundancia de variables\n",
    "8. Mal comportamiento de aprendizaje en espacios de alta dimensión\n",
    "\n",
    "## **Selección de características: técnicas**\n",
    "\n",
    "- Las técnicas de selección de características se clasifican en 3 tipos:\n",
    "\n",
    "1. Métodos de filtro\n",
    "2. Métodos de envoltura\n",
    "3. Métodos integrados\n",
    "\n",
    "## **Métodos de filtro**\n",
    "\n",
    "- Los métodos de filtro consisten en varias técnicas:\n",
    "\n",
    "1. Métodos básicos\n",
    "2. Métodos univariados\n",
    "3. Ganancia de información\n",
    "4. Puntuación de Fischer\n",
    "5. Matriz de correlación con mapa de calor\n",
    "\n",
    "## **Métodos de envoltura**\n",
    "\n",
    "- Los métodos de envoltura consisten en las siguientes técnicas:\n",
    "\n",
    "1. Selección hacia adelante\n",
    "2. Eliminación hacia atrás\n",
    "3. Selección exhaustiva de características\n",
    "4. Eliminación recursiva de características\n",
    "5. Eliminación recursiva de características con validación cruzada\n",
    "\n",
    "## **Métodos integrados**\n",
    "\n",
    "- Los métodos integrados consisten en las siguientes técnicas:\n",
    "\n",
    "1. LASSO\n",
    "2. RIDGE\n",
    "3. Importancia del árbol\n",
    "\n",
    "- Analicemos estos métodos en detalle."
   ]
  },
  {
   "cell_type": "markdown",
   "metadata": {},
   "source": [
    "# **2. Métodos de filtrado** <a class=\"anchor\" id=\"2\"></a>\n",
    "\n",
    "[Tabla de contenidos](#0.1)\n",
    "\n",
    "Los métodos de filtrado se utilizan generalmente como un paso de preprocesamiento. \n",
    "\n",
    "La selección de características es independiente de cualquier algoritmo de ML: las características se seleccionan **en función de sus puntuaciones en varias pruebas estadísticas para su correlación con la variable de resultado**.\n",
    "\n",
    "Las características de estos métodos son las siguientes:\n",
    "\n",
    "- Estos métodos se basan en las características de los datos (características de las características)\n",
    "- No utilizan algoritmos de aprendizaje automático.\n",
    "- Son independientes del modelo.\n",
    "- Suelen ser menos costosos computacionalmente.\n",
    "- Suelen ofrecer un rendimiento de predicción inferior al de los métodos de envoltura.\n",
    "- Son muy adecuados para una selección rápida y la eliminación de características irrelevantes.\n",
    "\n",
    "Los métodos de filtrado constan de varias técnicas:\n",
    "- 2.1. Métodos básicos\n",
    "- 2.2. Selección de características univariadas\n",
    "- 2.3. Ganancia de información\n",
    "- 2.4. Puntuación de Fischer\n",
    "- 2.5. Valor F de ANOVA para selección de características\n",
    "- 2.6. Matriz de correlación con mapa de calor\n",
    "\n",
    "- Los métodos de filtrado se pueden explicar con la ayuda del siguiente gráfico:"
   ]
  },
  {
   "cell_type": "markdown",
   "metadata": {},
   "source": [
    "![FilterMethods](https://res.cloudinary.com/dyd911kmh/image/upload/f_auto,q_auto:best/v1537552825/Image3_fqsh79.png)\n",
    "\n",
    "- Fuente de la imagen: AnalyticsVidhya"
   ]
  },
  {
   "cell_type": "markdown",
   "metadata": {},
   "source": [
    "## **2.1 Métodos básicos** <a class=\"anchor\" id=\"2.1\"></a>\n",
    "\n",
    "[Tabla de contenido](#0.1)\n",
    "\n",
    "- En los métodos básicos, eliminamos las características constantes y cuasi-constantes."
   ]
  },
  {
   "cell_type": "markdown",
   "metadata": {},
   "source": [
    "## **2.1.1 Eliminar características constantes** <a class=\"anchor\" id=\"2.1.1\"></a>\n",
    "\n",
    "[Tabla de contenido](#0.1)\n",
    "\n",
    "- Las características constantes son aquellas que muestran el mismo valor, solo un valor, para todas las observaciones del conjunto de datos. Es decir, el mismo valor para todas las filas del conjunto de datos. Estas características no brindan información que permita a un modelo de aprendizaje automático discriminar o predecir un objetivo.\n",
    "\n",
    "- Identificar y eliminar características constantes es un primer paso sencillo hacia la selección de características y modelos de aprendizaje automático más fáciles de interpretar. \n",
    "\n",
    "- Para identificar características constantes, podemos usar la función **VarianceThreshold** de sklearn.\n",
    "\n",
    "- Demostraremos cómo identificar características constantes utilizando el conjunto de datos de satisfacción del cliente de Santander.\n",
    "\n",
    "- Referencias:\n",
    "\n",
    "    - https://scikit-learn.org/stable/modules/generated/sklearn.feature_selection.VarianceThreshold.html\n",
    "\n",
    "    - https://scikit-learn.org/stable/modules/feature_selection.html"
   ]
  },
  {
   "cell_type": "code",
   "execution_count": null,
   "metadata": {},
   "outputs": [],
   "source": [
    "import numpy as np\n",
    "import pandas as pd\n",
    "import matplotlib.pyplot as plt\n",
    "import seaborn as sns"
   ]
  },
  {
   "cell_type": "code",
   "execution_count": null,
   "metadata": {},
   "outputs": [],
   "source": [
    "import warnings\n",
    "warnings.filterwarnings('ignore')"
   ]
  },
  {
   "cell_type": "code",
   "execution_count": null,
   "metadata": {},
   "outputs": [],
   "source": [
    "# Importamos el conjunto de datos de satisfacción del cliente de Santander desde Kaggle\n",
    "\n",
    "X_train = pd.read_csv('../data/santander/train.csv', nrows=35000)\n",
    "\n",
    "X_test = pd.read_csv('../data/santander/test.csv', nrows=15000)"
   ]
  },
  {
   "cell_type": "code",
   "execution_count": null,
   "metadata": {},
   "outputs": [],
   "source": [
    "# eliminar la etiqueta TARGET de X_train\n",
    "X_train.drop(labels=['TARGET'], axis=1, inplace = True)"
   ]
  },
  {
   "cell_type": "code",
   "execution_count": null,
   "metadata": {},
   "outputs": [],
   "source": [
    "# comprobar la forma de los conjuntos de entrenamiento y prueba\n",
    "\n",
    "X_train.shape, X_test.shape"
   ]
  },
  {
   "cell_type": "markdown",
   "metadata": {},
   "source": [
    "### **Importante**\n",
    "\n",
    "- En todos los procedimientos de selección de características, es recomendable seleccionar las características **examinando únicamente el conjunto de entrenamiento**. Esto se hace para evitar el sobreajuste."
   ]
  },
  {
   "cell_type": "markdown",
   "metadata": {},
   "source": [
    "### **Uso del umbral de varianza de sklearn**\n",
    "\n",
    "- El umbral de varianza de sklearn es un enfoque de referencia simple para la selección de características. \n",
    "- Elimina todas las características cuya varianza no cumple con un umbral. \n",
    "- De manera predeterminada, elimina todas las características de varianza cero, es decir, características que tienen el mismo valor en todas las muestras."
   ]
  },
  {
   "cell_type": "code",
   "execution_count": null,
   "metadata": {},
   "outputs": [],
   "source": [
    "# usando variancethreshold para encontrar características constantes\n",
    "\n",
    "from sklearn.feature_selection import VarianceThreshold\n",
    "sel = VarianceThreshold(threshold=0)\n",
    "sel.fit(X_train)  # fit encuentra las características con varianza cero"
   ]
  },
  {
   "cell_type": "code",
   "execution_count": null,
   "metadata": {},
   "outputs": [],
   "source": [
    "# get_support es un vector booleano que indica qué características se conservan\n",
    "# si sumamos get_support, obtenemos la cantidad de características que no son constantes\n",
    "sum(sel.get_support())"
   ]
  },
  {
   "cell_type": "code",
   "execution_count": null,
   "metadata": {},
   "outputs": [],
   "source": [
    "# forma alternativa de encontrar características no constantes\n",
    "len(X_train.columns[sel.get_support()])"
   ]
  },
  {
   "cell_type": "code",
   "execution_count": null,
   "metadata": {},
   "outputs": [],
   "source": [
    "# imprimimos las características constantes\n",
    "print(\n",
    "    len([\n",
    "        x for x in X_train.columns\n",
    "        if x not in X_train.columns[sel.get_support()]\n",
    "    ]))\n",
    "\n",
    "[x for x in X_train.columns if x not in X_train.columns[sel.get_support()]]"
   ]
  },
  {
   "cell_type": "markdown",
   "metadata": {},
   "source": [
    "- Podemos observar que hay 51 columnas/variables que son constantes: Esto significa que 51 variables muestran el mismo valor, un solo valor, para todas las observaciones del conjunto de entrenamiento.\n",
    "\n",
    "- Usaremos la función de transformación para reducir los conjuntos de entrenamiento y prueba."
   ]
  },
  {
   "cell_type": "code",
   "execution_count": null,
   "metadata": {},
   "outputs": [],
   "source": [
    "# Podemos eliminar estas columnas de los conjuntos de prueba y entrenamiento.\n",
    "X_train = sel.transform(X_train)\n",
    "X_test = sel.transform(X_test)"
   ]
  },
  {
   "cell_type": "code",
   "execution_count": null,
   "metadata": {},
   "outputs": [],
   "source": [
    "# comprobar la forma del conjunto de entrenamiento y prueba\n",
    "\n",
    "X_train.shape, X_test.shape"
   ]
  },
  {
   "cell_type": "markdown",
   "metadata": {},
   "source": [
    "-Podemos ver cómo al eliminar características constantes, logramos reducir bastante el espacio de características."
   ]
  },
  {
   "cell_type": "markdown",
   "metadata": {},
   "source": [
    "## **2.1.2 Eliminar características cuasiconstantes** <a class=\"anchor\" id=\"2.1.2\"></a>\n",
    "\n",
    "[Tabla de Contenidos](#0.1)\n",
    "\n",
    "- Las características cuasiconstantes son aquellas que **muestran el mismo valor para la gran mayoría de las observaciones** del conjunto de datos. \n",
    "    - En general, estas características proporcionan poca o ninguna información que permita a un modelo de aprendizaje automático discriminar o predecir un objetivo. \n",
    "    - Pero puede haber excepciones. \n",
    "    - Por lo tanto, debemos tener cuidado al eliminar este tipo de características. \n",
    "- Identificar y eliminar características cuasiconstantes es un primer paso sencillo hacia la selección de características y modelos de aprendizaje automático más fácilmente interpretables.\n",
    "\n",
    "- Para identificar características cuasiconstantes, podemos volver a utilizar la función **VarianceThreshold** de sklearn."
   ]
  },
  {
   "cell_type": "code",
   "execution_count": null,
   "metadata": {},
   "outputs": [],
   "source": [
    "# Importamos nuevamente el conjunto de datos de satisfacción del cliente de Santander desde Kaggle\n",
    "\n",
    "X_train = pd.read_csv('../data/santander/train.csv', nrows=35000)\n",
    "\n",
    "X_test = pd.read_csv('../data/santander/test.csv', nrows=15000)"
   ]
  },
  {
   "cell_type": "code",
   "execution_count": null,
   "metadata": {},
   "outputs": [],
   "source": [
    "X_train.drop(labels=['TARGET'], axis=1, inplace = True)"
   ]
  },
  {
   "cell_type": "code",
   "execution_count": null,
   "metadata": {},
   "outputs": [],
   "source": [
    "X_train.shape, X_test.shape"
   ]
  },
  {
   "cell_type": "markdown",
   "metadata": {},
   "source": [
    "### **Eliminación de características cuasi constantes**\n",
    "\n",
    "#### **Uso del umbral de varianza de sklearn**\n",
    "\n",
    "- Aquí, cambiaremos el umbral predeterminado para eliminar las características casi/cuasi constantes."
   ]
  },
  {
   "cell_type": "code",
   "execution_count": null,
   "metadata": {},
   "outputs": [],
   "source": [
    "sel = VarianceThreshold(threshold=0.01)  # 0,1 indica aproximadamente el 99 % de las observaciones\n",
    "\n",
    "sel.fit(X_train)  # fit encuentra las características con baja varianza"
   ]
  },
  {
   "cell_type": "code",
   "execution_count": null,
   "metadata": {},
   "outputs": [],
   "source": [
    "sum(sel.get_support())"
   ]
  },
  {
   "cell_type": "code",
   "execution_count": null,
   "metadata": {},
   "outputs": [],
   "source": [
    "len(X_train.columns[sel.get_support()])"
   ]
  },
  {
   "cell_type": "code",
   "execution_count": null,
   "metadata": {},
   "outputs": [],
   "source": [
    "# Finalmente podemos imprimir las características cuasi-constantes\n",
    "print(\n",
    "    len([\n",
    "        x for x in X_train.columns\n",
    "        if x not in X_train.columns[sel.get_support()]\n",
    "    ]))\n",
    "\n",
    "[x for x in X_train.columns if x not in X_train.columns[sel.get_support()]]"
   ]
  },
  {
   "cell_type": "markdown",
   "metadata": {},
   "source": [
    "- Podemos ver que 107 columnas/variables son casi constantes. Esto significa que 107 variables muestran predominantemente un valor para aproximadamente el 99 % de las observaciones del conjunto de entrenamiento."
   ]
  },
  {
   "cell_type": "code",
   "execution_count": null,
   "metadata": {},
   "outputs": [],
   "source": [
    "# porcentaje de observaciones que muestran cada uno de los diferentes valores\n",
    "X_train['ind_var31'].value_counts() / (len(X_train))"
   ]
  },
  {
   "cell_type": "markdown",
   "metadata": {},
   "source": [
    "- Podemos ver que > 99% de las observaciones muestran un valor, 0. Por lo tanto, esta característica es casi constante."
   ]
  },
  {
   "cell_type": "code",
   "execution_count": null,
   "metadata": {},
   "outputs": [],
   "source": [
    "# Luego podemos eliminar las características del conjunto de entrenamiento y prueba.\n",
    "X_train = sel.transform(X_train)\n",
    "X_test = sel.transform(X_test)"
   ]
  },
  {
   "cell_type": "code",
   "execution_count": null,
   "metadata": {},
   "outputs": [],
   "source": [
    "# comprobar la forma del conjunto de entrenamiento y prueba\n",
    "X_train.shape, X_test.shape"
   ]
  },
  {
   "cell_type": "markdown",
   "metadata": {},
   "source": [
    "- Al eliminar características constantes y cuasiconstantes, redujimos el espacio de características de 370 a 263. Se eliminaron más de 100 características del conjunto de datos actual."
   ]
  },
  {
   "cell_type": "markdown",
   "metadata": {},
   "source": [
    "## **2.2 Métodos de selección univariada** <a class=\"anchor\" id=\"2.2\"></a>\n",
    "\n",
    "[Tabla de Contenidos](#0.1)\n",
    "\n",
    "- Los métodos de selección de características univariadas funcionan seleccionando las mejores características en función de pruebas estadísticas univariadas como **ANOVA**. \n",
    "    - Puede considerarse como un paso de preprocesamiento de un estimador. \n",
    "    - Scikit-learn expone rutinas de selección de características como **objetos que implementan el método de transform**.\n",
    "\n",
    "- **Los métodos basados ​​en f-test estiman el grado de dependencia lineal entre dos variables aleatorias**. \n",
    "    - Suponen una relación lineal entre la característica y el objetivo. Estos métodos también suponen que las variables siguen una distribución gaussiana.\n",
    "\n",
    "- Hay 4 métodos que entran en esta categoría:\n",
    "\n",
    "1. SelectKBest\n",
    "2. SelectPercentile\n",
    "3. SelectFpr, SelectFdr o SelectFwe de error por familia\n",
    "4. GenericUnivariateSelection\n",
    "\n",
    "Referencias: \n",
    "    - https://scikit-learn.org/stable/modules/feature_selection.html\n",
    "\n",
    "- Aquí, limitaremms la discusión a SelectKBest y SelectPercentile, porque estos dos son los más utilizados en la práctica."
   ]
  },
  {
   "cell_type": "markdown",
   "metadata": {},
   "source": [
    "## **2.2.1 SelectKBest** <a class=\"anchor\" id=\"2.2.1\"></a>\n",
    "\n",
    "[Tabla de contenido](#0.1)\n",
    "\n",
    "- Este método selecciona características según los **k puntajes más altos**.\n",
    "\n",
    "    - Por ejemplo, podemos realizar una prueba de chi-cuadrado a las muestras para recuperar solo las dos mejores características del conjunto de datos de iris de la siguiente manera:\n",
    "\n",
    "Referencias: \n",
    "\n",
    "- https://scikit-learn.org/stable/modules/feature_selection.html\n",
    "\n",
    "- https://scikit-learn.org/stable/modules/generated/sklearn.feature_selection.SelectKBest.html#sklearn.feature_selection.SelectKBest"
   ]
  },
  {
   "cell_type": "code",
   "execution_count": null,
   "metadata": {},
   "outputs": [],
   "source": [
    "from sklearn.datasets import load_iris\n",
    "from sklearn.feature_selection import SelectKBest, chi2\n",
    "X, y = load_iris(return_X_y=True)\n",
    "X.shape"
   ]
  },
  {
   "cell_type": "code",
   "execution_count": null,
   "metadata": {},
   "outputs": [],
   "source": [
    "# seleccionamos las dos mejores características\n",
    "X_new = SelectKBest(chi2, k=2).fit_transform(X, y)\n",
    "X_new.shape"
   ]
  },
  {
   "cell_type": "markdown",
   "metadata": {},
   "source": [
    "- Hemos seleccionado las dos mejores características del conjunto de datos del iris."
   ]
  },
  {
   "cell_type": "markdown",
   "metadata": {},
   "source": [
    "## **2.2.2 SelectPercentile** <a class=\"anchor\" id=\"2.2.2\"></a>\n",
    "\n",
    "[Tabla de contenido](#0.1)\n",
    "\n",
    "- Seleccione las características según un percentil de las puntuaciones más altas.\n",
    "\n",
    "Referencias: \n",
    "- https://scikit-learn.org/stable/modules/generated/sklearn.feature_selection.SelectPercentile.html#sklearn.feature_selection.SelectPercentile"
   ]
  },
  {
   "cell_type": "code",
   "execution_count": null,
   "metadata": {},
   "outputs": [],
   "source": [
    "from sklearn.datasets import load_digits\n",
    "from sklearn.feature_selection import SelectPercentile, chi2\n",
    "X, y = load_digits(return_X_y=True)\n",
    "X.shape\n"
   ]
  },
  {
   "cell_type": "code",
   "execution_count": null,
   "metadata": {},
   "outputs": [],
   "source": [
    "# Ahora seleccione funciones basadas en el percentil 10 superior\n",
    "X_new = SelectPercentile(chi2, percentile=10).fit_transform(X, y)\n",
    "X_new.shape"
   ]
  },
  {
   "cell_type": "markdown",
   "metadata": {},
   "source": [
    "- Podemos ver que solo 7 características se encuentran en el percentil 10 superior y, por lo tanto, las seleccionamos en consecuencia."
   ]
  },
  {
   "cell_type": "markdown",
   "metadata": {},
   "source": [
    "## **Información importante**\n",
    "\n",
    "- Estos objetos toman como entrada una función de puntuación que devuelve puntuaciones univariadas y valores p (o solo puntuaciones para [SelectKBest](https://scikit-learn.org/stable/modules/generated/sklearn.feature_selection.SelectKBest.html#sklearn.feature_selection.SelectKBest) y [SelectPercentile](https://scikit-learn.org/stable/modules/generated/sklearn.feature_selection.SelectPercentile.html#sklearn.feature_selection.SelectPercentile):\n",
    "\n",
    "    - Para tareas de regresión: [f_regression](https://scikit-learn.org/stable/modules/generated/sklearn.feature_selection.f_regression.html#sklearn.feature_selection.f_regression), [mutual_info_regression](https://scikit-learn.org/stable/modules/generated/sklearn.feature_selection.mutual_info_regression.html#sklearn.feature_selection.mutual_info_regression)\n",
    "\n",
    "    - Para tareas de clasificación: [chi2](https://scikit-learn.org/stable/modules/generated/sklearn.feature_selection.chi2.html#sklearn.feature_selection.chi2),\n",
    "    [f_classif](https://scikit-learn.org/stable/modules/generated/sklearn.feature_selection.f_classif.html#sklearn.feature_selection.f_classif), [mutual_info_classif](https://scikit-learn.org/stable/modules/generated/sklearn.feature_selection.mutual_info_classif.html#sklearn.feature_selection.mutual_info_classif)\n",
    "\n",
    "- Los métodos basados ​​en el f-test estiman el grado de dependencia lineal entre dos variables aleatorias. \n",
    "\n",
    "- por otro lado, los métodos de información mutua pueden capturar cualquier tipo de dependencia estadística, pero al ser no paramétricos, requieren más muestras para una estimación precisa."
   ]
  },
  {
   "cell_type": "markdown",
   "metadata": {},
   "source": [
    "## **Selección de características con datos dispersos**\n",
    "\n",
    "- Si se tienen\n",
    " datos dispersos (es decir, datos representados como matrices dispersas), [chi2](https://scikit-learn.org/stable/modules/generated/sklearn.feature_selection.chi2.html#sklearn.feature_selection.chi2), [mutual_info_regression](https://scikit-learn.org/stable/modules/generated/sklearn.feature_selection.mutual_info_regression.html#sklearn.feature_selection.mutual_info_regression), [mutual_info_classif](https://scikit-learn.org/stable/modules/generated/sklearn.feature_selection.mutual_info_classif.html#sklearn.feature_selection.mutual_info_classif) se ocupará de los datos sin hacerlos densos.\n",
    "\n",
    "Referencias: \n",
    "- https://scikit-learn.org/stable/modules/feature_selection.html"
   ]
  },
  {
   "cell_type": "markdown",
   "metadata": {},
   "source": [
    "## **Advertencia**\n",
    "\n",
    "- Tener cuidado de no utilizar una función de puntuación de regresión con un problema de clasificación, ya que se obtendrá resultados inútiles."
   ]
  },
  {
   "cell_type": "markdown",
   "metadata": {},
   "source": [
    "## **2.3 Ganancia de información** <a class=\"anchor\" id=\"2.3\"></a>\n",
    "\n",
    "[Tabla de contenido](#0.1)\n",
    "\n",
    "- La **ganancia de información** o **información mutua** mide **cuánta información aporta la presencia/ausencia de una característica** a la hora de hacer una predicción correcta sobre el objetivo.\n",
    "\n",
    "- Según [wikipedia](https://en.wikipedia.org/wiki/Mutual_information):\n",
    "\n",
    "> La información mutua mide la información que comparten X e Y: mide en qué medida el conocimiento de una de estas variables reduce la incertidumbre sobre la otra. \n",
    "> - Por ejemplo, si X e Y son independientes, entonces conocer X no proporciona ninguna información sobre Y y viceversa, por lo que su información mutua es cero. \n",
    "> - En el otro extremo, si X es una función determinista de Y e Y es una función determinista de X, entonces toda la información transmitida por X se comparte con Y: conocer X determina el valor de Y y viceversa. \n",
    "> - Como resultado, en este caso la información mutua es la misma que la incertidumbre contenida en Y (o X) por sí sola, es decir, la entropía de Y (o X). \n",
    "> - Además, esta información mutua es la misma que la entropía de X y que la entropía de Y. (Un caso muy especial de esto es cuando X e Y son la misma variable aleatoria.)"
   ]
  },
  {
   "cell_type": "markdown",
   "metadata": {},
   "source": [
    "## **mutual_info_classif**\n",
    "\n",
    "- Estima la información mutua para una **variable objetivo discreta**.\n",
    "\n",
    "- La información mutua (IM) entre dos variables aleatorias es un valor no negativo que mide la dependencia entre las variables. \n",
    "    - Es igual a *cero* si y solo si dos variables aleatorias son *independientes*, \n",
    "    - Valores más altos significan una mayor dependencia.\n",
    "\n",
    "- Esta función se basa en métodos no paramétricos basados ​​en la estimación de la entropía a partir de las distancias de los k vecinos más cercanos.\n",
    "\n",
    "- Se puede utilizar para la selección de características univariadas.\n",
    "\n",
    "Referencias:\n",
    "-  https://scikit-learn.org/stable/modules/generated/sklearn.feature_selection.mutual_info_classif.html#sklearn.feature_selection.mutual_info_classif"
   ]
  },
  {
   "cell_type": "markdown",
   "metadata": {},
   "source": [
    "## **mutual_info_regression**\n",
    "\n",
    "- Estimación de la información mutua para una variable objetivo continua.\n",
    "\n",
    "- La información mutua (IM) entre dos variables aleatorias es un valor no negativo que mide la dependencia entre las variables. \n",
    "    - Es igual a cero si y solo si dos variables aleatorias son independientes, \n",
    "    - y los valores más altos significan una mayor dependencia.\n",
    "\n",
    "- La función se basa en métodos no paramétricos basados ​​en la estimación de la entropía a partir de las distancias de los k vecinos más cercanos.\n",
    "\n",
    "- Se puede utilizar para la selección de características univariadas\n",
    "\n",
    "Referencias:\n",
    "- https://scikit-learn.org/stable/modules/generated/sklearn.feature_selection.mutual_info_regression.html#sklearn.feature_selection.mutual_info_regression"
   ]
  },
  {
   "cell_type": "markdown",
   "metadata": {},
   "source": [
    "## **2.4 Puntuación de Fisher (implementación de chi-cuadrado)** <a class=\"anchor\" id=\"2.4\"></a>\n",
    "\n",
    "[Tabla de contenido](#0.1)\n",
    "\n",
    "- Es la **implementación de chi-cuadrado** en scikit-learn. \n",
    "- Calcula estadísticas de chi-cuadrado entre cada característica y clase no negativa.\n",
    "\n",
    "- Esta puntuación se debe utilizar para evaluar *variables categóricas* en una tarea de clasificación. \n",
    "- Compara la distribución observada de las diferentes clases de Y objetivo entre las diferentes categorías de la característica, contra la distribución esperada de las clases objetivo, independientemente de las categorías de la característica."
   ]
  },
  {
   "cell_type": "code",
   "execution_count": null,
   "metadata": {},
   "outputs": [],
   "source": [
    "# cargamos librerías\n",
    "from sklearn.datasets import load_iris\n",
    "from sklearn.feature_selection import SelectKBest, chi2"
   ]
  },
  {
   "cell_type": "code",
   "execution_count": null,
   "metadata": {},
   "outputs": [],
   "source": [
    "# Cargamos datos del iris\n",
    "iris = load_iris()\n",
    "\n",
    "# creamos características y objetivos\n",
    "X = iris.data\n",
    "y = iris.target\n",
    "\n",
    "# convertimos a datos categóricos mediante la conversión de datos a números enteros\n",
    "X = X.astype(int)"
   ]
  },
  {
   "cell_type": "code",
   "execution_count": null,
   "metadata": {},
   "outputs": [],
   "source": [
    "# Comparamos estadísticas de chi-cuadrado\n",
    "# Seleccionamos dos características con las estadísticas de chi-cuadrado más altas\n",
    "chi2_selector = SelectKBest(chi2, k=2)\n",
    "X_kbest = chi2_selector.fit_transform(X, y)"
   ]
  },
  {
   "cell_type": "code",
   "execution_count": null,
   "metadata": {},
   "outputs": [],
   "source": [
    "# caracterísricas\n",
    "chi2_selector.get_feature_names_out()"
   ]
  },
  {
   "cell_type": "code",
   "execution_count": null,
   "metadata": {},
   "outputs": [],
   "source": [
    "# Resultados\n",
    "print('Número original de características:', X.shape[1])\n",
    "print('Número reducido de características:', X_kbest.shape[1])"
   ]
  },
  {
   "cell_type": "markdown",
   "metadata": {},
   "source": [
    "- Podemos ver que el código anterior nos ayuda a seleccionar las 2 mejores características según la puntuación de Fisher."
   ]
  },
  {
   "cell_type": "code",
   "execution_count": null,
   "metadata": {},
   "outputs": [],
   "source": [
    "from sklearn.feature_selection import mutual_info_classif\n",
    "\n",
    "mutual_selector = SelectKBest(mutual_info_classif, k=2)\n",
    "X_kbest = mutual_selector.fit_transform(X, y)"
   ]
  },
  {
   "cell_type": "code",
   "execution_count": null,
   "metadata": {},
   "outputs": [],
   "source": [
    "# caracterísricas\n",
    "mutual_selector.get_feature_names_out()"
   ]
  },
  {
   "cell_type": "code",
   "execution_count": null,
   "metadata": {},
   "outputs": [],
   "source": [
    "# Resultados\n",
    "print('Número original de características:', X.shape[1])\n",
    "print('Número reducido de características:', X_kbest.shape[1])"
   ]
  },
  {
   "cell_type": "markdown",
   "metadata": {},
   "source": [
    "## **2.5 Valor F de ANOVA para la selección de características** <a class=\"anchor\" id=\"2.5\"></a>\n",
    "\n",
    "[Tabla de contenido](#0.1)\n",
    "\n",
    "- Calcula el valor F de ANOVA para la muestra proporcionada.\n",
    "    - https://scikit-learn.org/1.3/modules/generated/sklearn.feature_selection.f_classif.html\n",
    "\n",
    "    - Si las características son **categóricas**, calcularemos una estadística de **chi-cuadrado** entre cada característica y el vector objetivo. \n",
    "\n",
    "    - Si las características son **cuantitativas**, calcularemos el valor **F de ANOVA** entre cada característica y el vector objetivo.\n",
    "\n",
    "- Los puntajes del valor F examinan si, cuando agrupamos la característica numérica por el vector objetivo, las medias para cada grupo son significativamente diferentes."
   ]
  },
  {
   "cell_type": "code",
   "execution_count": null,
   "metadata": {},
   "outputs": [],
   "source": [
    "# cargamos librerías\n",
    "from sklearn.datasets import load_iris\n",
    "from sklearn.feature_selection import SelectKBest\n",
    "from sklearn.feature_selection import f_classif"
   ]
  },
  {
   "cell_type": "code",
   "execution_count": null,
   "metadata": {},
   "outputs": [],
   "source": [
    "# Datos iris\n",
    "iris = load_iris()\n",
    "\n",
    "# Creamos características y objetivos\n",
    "X = iris.data\n",
    "y = iris.target"
   ]
  },
  {
   "cell_type": "code",
   "execution_count": null,
   "metadata": {},
   "outputs": [],
   "source": [
    "# Seleccionar características con los mejores valores F de ANOVA\n",
    "\n",
    "# Creamos un objeto SelectKBest para seleccionar características con los dos mejores valores F de ANOVA\n",
    "fvalue_selector = SelectKBest(f_classif, k=2)\n",
    "\n",
    "# Aplicamos el objeto SelectKBest a las características y al objetivo\n",
    "X_kbest = fvalue_selector.fit_transform(X, y)"
   ]
  },
  {
   "cell_type": "code",
   "execution_count": null,
   "metadata": {},
   "outputs": [],
   "source": [
    "# Resultados\n",
    "print('Número original de características:', X.shape[1])\n",
    "print('Número reducido de características:', X_kbest.shape[1])"
   ]
  },
  {
   "cell_type": "markdown",
   "metadata": {},
   "source": [
    "- Podemos ver que el código anterior nos ayuda a seleccionar las 2 mejores características según el valor F de ANOVA."
   ]
  },
  {
   "cell_type": "markdown",
   "metadata": {},
   "source": [
    "## **2.6 Matriz de correlación con mapa de calor** <a class=\"anchor\" id=\"2.6\"></a>\n",
    "\n",
    "[Tabla de contenido](#0.1)\n",
    "\n",
    "- La **correlación** es una medida de la relación lineal de 2 o más variables. A través de la correlación, podemos predecir una variable a partir de la otra.\n",
    "\n",
    "> **Las buenas variables están altamente correlacionadas con el objetivo**.\n",
    "\n",
    "- Las variables predictoras correlacionadas proporcionan información redundante.\n",
    "\n",
    "> **Las variables deben estar correlacionadas con el objetivo pero no correlacionadas entre sí**.\n",
    "\n",
    "- La selección de características de correlación evalúa subconjuntos de características sobre la base de la siguiente hipótesis:\n",
    "\n",
    "    - *\"Los buenos subconjuntos de características contienen características altamente correlacionadas con el objetivo, pero no correlacionadas entre sí\".*\n",
    "\n",
    "<br>\n",
    "\n",
    "- Podemos encontrar características que están correlacionadas entre sí. \n",
    "    - Al identificar estas características, podemos decidir cuáles queremos conservar y cuáles queremos eliminar."
   ]
  },
  {
   "cell_type": "markdown",
   "metadata": {},
   "source": [
    "- Usando la correlación de **Pearson**, los valores de los coeficientes variarán entre -1 y 1.\n",
    "\n",
    "    - Si la correlación entre dos características es **0**, esto significa que **cambiar cualquiera de estas dos características no afectará a la otra**.\n",
    "\n",
    "    - Si la correlación entre dos características es **mayor que 0**, esto significa que aumentar los valores de una característica hará que aumenten también los valores de la otra característica (cuanto más cercano esté el coeficiente de correlación a 1, más fuerte será el vínculo entre las dos características diferentes).\n",
    "\n",
    "    - Si la correlación entre dos características es **menor que 0**, esto significa que aumentar los valores de una característica hará que disminuyan los valores de la otra característica (cuanto más cercano esté el coeficiente de correlación a -1, más fuerte será la relación entre las dos características diferentes).\n",
    "\n",
    "- En este análisis, comprobaremos si las variables seleccionadas están altamente correlacionadas entre sí. Si lo están, entonces necesitaremos mantener solo una de las correlacionadas y descartar las demás."
   ]
  },
  {
   "cell_type": "code",
   "execution_count": null,
   "metadata": {},
   "outputs": [],
   "source": [
    "# Datos iris\n",
    "from sklearn.datasets import load_iris\n",
    "iris = load_iris()\n",
    "\n",
    "# Crear características y objetivos\n",
    "X = iris.data\n",
    "y = iris.target"
   ]
  },
  {
   "cell_type": "code",
   "execution_count": null,
   "metadata": {},
   "outputs": [],
   "source": [
    "# Convertir la matriz de características en un Dataframe\n",
    "df = pd.DataFrame(X)\n",
    "\n",
    "print(df)"
   ]
  },
  {
   "cell_type": "code",
   "execution_count": null,
   "metadata": {},
   "outputs": [],
   "source": [
    "# Creamos matriz de correlación\n",
    "corr_matrix = df.corr()\n",
    "print(corr_matrix)"
   ]
  },
  {
   "cell_type": "code",
   "execution_count": null,
   "metadata": {},
   "outputs": [],
   "source": [
    "# Creamos mapa de calor de correlación\n",
    "plt.figure(figsize=(8,6))\n",
    "plt.title('Mapa de calor de correlación del dataset Iris')\n",
    "a = sns.heatmap(corr_matrix, square=True, annot=True, fmt='.2f', linecolor='black')\n",
    "a.set_xticklabels(a.get_xticklabels(), rotation=30)\n",
    "a.set_yticklabels(a.get_yticklabels(), rotation=30)           \n",
    "plt.show()    \n"
   ]
  },
  {
   "cell_type": "code",
   "execution_count": null,
   "metadata": {},
   "outputs": [],
   "source": [
    " # Seleccionamos el triángulo superior de la matriz de correlación\n",
    "upper = corr_matrix.where(np.triu(np.ones(corr_matrix.shape), k=1).astype(np.bool_))\n",
    "upper    "
   ]
  },
  {
   "cell_type": "code",
   "execution_count": null,
   "metadata": {},
   "outputs": [],
   "source": [
    "# Encontrar el índice de columnas de características con correlación mayor a 0,9\n",
    "to_drop = [column for column in upper.columns if any(upper[column] > 0.9)]\n",
    "print(to_drop)"
   ]
  },
  {
   "cell_type": "code",
   "execution_count": null,
   "metadata": {},
   "outputs": [],
   "source": [
    "# Drop características marcadas\n",
    "df1 = df.drop(df.columns[to_drop], axis=1)\n",
    "print(df1)\n"
   ]
  },
  {
   "cell_type": "markdown",
   "metadata": {},
   "source": [
    "- Podemos ver que hemos eliminado la tercera columna del conjunto de datos original."
   ]
  },
  {
   "cell_type": "markdown",
   "metadata": {},
   "source": [
    "# **3. Métodos de envoltura (Wrapper)** <a class=\"anchor\" id=\"3\"></a>\n",
    "\n",
    "[Tabla de contenido](#0.1)\n",
    "\n",
    "- En los métodos de envoltura, intentamos **usar un subconjunto de características y entrenar un modelo con ellas**. \n",
    "    - En función de las inferencias que extraemos del modelo anterior, decidimos agregar o eliminar características del subconjunto. \n",
    "    - El problema se reduce esencialmente a un problema de búsqueda. \n",
    "    - Estos métodos suelen ser muy costosos desde el punto de vista computacional.\n",
    "\n",
    "- Algunos métodos de envoltura son\n",
    "\n",
    "    1. Selección hacia adelante (Forward Selection),\n",
    "    2. Eliminación hacia atrás (Backward elimination),\n",
    "    3. Selección exhaustiva de características,\n",
    "    4. Eliminación recursiva de características.\n",
    "    5. Eliminación recursiva de características con validación cruzada\n",
    "\n",
    "- Los métodos de envoltura se pueden explicar con la ayuda del siguiente gráfico:"
   ]
  },
  {
   "cell_type": "markdown",
   "metadata": {},
   "source": [
    "![Wrapper Methods](https://res.cloudinary.com/dyd911kmh/image/upload/f_auto,q_auto:best/v1537549832/Image2_ajaeo8.png)\n",
    "\n",
    "\n",
    "\n",
    "- Fuente imagen : AnalyticsVidhya"
   ]
  },
  {
   "cell_type": "markdown",
   "metadata": {},
   "source": [
    "## **3.1 Selección hacia adelante** <a class=\"anchor\" id=\"3.1\"></a>\n",
    "\n",
    "[Tabla de contenido](#0.1)\n",
    "\n",
    "- La selección hacia adelante (Forward selection) es un método iterativo en el que **comenzamos sin tener ninguna característica** en el modelo. \n",
    "    - En cada iteración, seguimos **agregando la característica que mejore nuestro modelo** hasta que la adición de una nueva variable no mejore el rendimiento del modelo.\n",
    "\n",
    "    - El procedimiento comienza con un conjunto vacío de características [conjunto reducido]. \n",
    "    - Se determina la mejor de las características originales y se agrega al conjunto reducido. \n",
    "    - En cada iteración posterior, se agrega al conjunto el mejor de los atributos originales restantes.\n",
    "\n",
    "- Los criterios preestablecidos pueden ser, por ejemplo, `roc_auc` para la clasificación y `r2_score` para la regresión.\n",
    "\n",
    "- Este procedimiento de selección **es voraz**, porque evalúa todas las posibles combinaciones de características simples, dobles, triples, etc. \n",
    "    - Por lo tanto, es bastante costoso computacionalmente y, a veces, si el espacio de características es grande, incluso inviable.\n",
    "\n",
    "<br>\n",
    "\n",
    "- Hay un paquete especial para Python que implementa este tipo de selección de características: *mlxtend*.\n",
    "    - https://rasbt.github.io/mlxtend/api_subpackages/mlxtend.feature_selection/#sequentialfeatureselector\n",
    "    - En la implementación mlxtend de la selección de características por pasos hacia adelante, el criterio de detención es un número de características establecido arbitrariamente. Por lo tanto, la búsqueda finalizará cuando alcancemos el número deseado de características seleccionadas.\n",
    "\n",
    "- Asimismo, la clase Sequential Feature Selector añade (forward selection) o elimina (backward selection) características para formar un subconjunto de características.\n",
    "    - https://scikit-learn.org/stable/modules/generated/sklearn.feature_selection.SequentialFeatureSelector.html\n",
    "\n",
    "- Demostraremos el algoritmo de selección de características hacia adelante de mlxtend utilizando el conjunto de datos de precios de la vivienda."
   ]
  },
  {
   "cell_type": "code",
   "execution_count": null,
   "metadata": {},
   "outputs": [],
   "source": [
    "# !pip install mlxtend"
   ]
  },
  {
   "cell_type": "code",
   "execution_count": null,
   "metadata": {},
   "outputs": [],
   "source": [
    "# seleccción step forward\n",
    "\n",
    "from sklearn.model_selection import train_test_split\n",
    "from sklearn.ensemble import RandomForestRegressor\n",
    "from sklearn.metrics import r2_score\n",
    "from mlxtend.feature_selection import SequentialFeatureSelector as SFS"
   ]
  },
  {
   "cell_type": "code",
   "execution_count": null,
   "metadata": {},
   "outputs": [],
   "source": [
    "#load dataset\n",
    "data = pd.read_csv('../data/house-prices/train.csv')\n",
    "data.shape"
   ]
  },
  {
   "cell_type": "code",
   "execution_count": null,
   "metadata": {},
   "outputs": [],
   "source": [
    "# En la práctica, la selección de características debe realizarse después del preprocesamiento de los datos,\n",
    "# por lo que, idealmente, todas las variables categóricas se codifican en números,\n",
    "# y luego se puede evaluar cuán deterministas son respecto del objetivo\n",
    "\n",
    "# Aquí, para simplificar, utilizaremos solo variables numéricas\n",
    "\n",
    "numerics = ['int16', 'int32', 'int64', 'float16', 'float32', 'float64']\n",
    "numerical_vars = list(data.select_dtypes(include=numerics).columns)\n",
    "data = data[numerical_vars]\n",
    "data.shape"
   ]
  },
  {
   "cell_type": "code",
   "execution_count": null,
   "metadata": {},
   "outputs": [],
   "source": [
    "# Conjuntos de entrenamiento y pruebas\n",
    "X_train, X_test, y_train, y_test = train_test_split(\n",
    "    data.drop(labels=['SalePrice'], axis=1),\n",
    "    data['SalePrice'],\n",
    "    test_size=0.3,\n",
    "    random_state=0)\n",
    "\n",
    "X_train.shape, X_test.shape"
   ]
  },
  {
   "cell_type": "code",
   "execution_count": null,
   "metadata": {},
   "outputs": [],
   "source": [
    "# buscar y eliminar características correlacionadas\n",
    "def correlation(dataset, threshold):\n",
    "    col_corr = set()  # Conjunto de todos los nombres de columnas correlacionadas\n",
    "    corr_matrix = dataset.corr()\n",
    "    for i in range(len(corr_matrix.columns)):\n",
    "        for j in range(i):\n",
    "            if abs(corr_matrix.iloc[i, j]) > threshold: # Nos interesa el valor del coeficiente absoluto\n",
    "                colname = corr_matrix.columns[i]  # Obtener el nombre de la columna\n",
    "                col_corr.add(colname)\n",
    "    return col_corr\n",
    "\n",
    "corr_features = correlation(X_train, 0.8)\n",
    "print('características correlacionadas: ', len(set(corr_features)) )"
   ]
  },
  {
   "cell_type": "code",
   "execution_count": null,
   "metadata": {},
   "outputs": [],
   "source": [
    "# características correlacionadas eliminadas\n",
    "X_train.drop(labels=corr_features, axis=1, inplace=True)\n",
    "X_test.drop(labels=corr_features, axis=1, inplace=True)\n",
    "\n",
    "X_train.shape, X_test.shape"
   ]
  },
  {
   "cell_type": "code",
   "execution_count": null,
   "metadata": {},
   "outputs": [],
   "source": [
    "X_train.fillna(0, inplace=True)"
   ]
  },
  {
   "cell_type": "code",
   "execution_count": null,
   "metadata": {},
   "outputs": [],
   "source": [
    "# Selección hacia adelante\n",
    "\n",
    "from mlxtend.feature_selection import SequentialFeatureSelector as SFS\n",
    "\n",
    "sfs1 = SFS(RandomForestRegressor(), \n",
    "           k_features=10, \n",
    "           forward=True, \n",
    "           floating=False, \n",
    "           verbose=2,\n",
    "           scoring='r2',\n",
    "           cv=3)\n",
    "\n",
    "sfs1 = sfs1.fit(np.array(X_train), y_train)"
   ]
  },
  {
   "cell_type": "code",
   "execution_count": null,
   "metadata": {},
   "outputs": [],
   "source": [
    "sfs1.k_feature_idx_"
   ]
  },
  {
   "cell_type": "code",
   "execution_count": null,
   "metadata": {},
   "outputs": [],
   "source": [
    "X_train.columns[list(sfs1.k_feature_idx_)]"
   ]
  },
  {
   "cell_type": "markdown",
   "metadata": {},
   "source": [
    "- Podemos ver que la selección de características hacia adelante da como resultado que las columnas anteriores se seleccionen de todas las columnas dadas."
   ]
  },
  {
   "cell_type": "markdown",
   "metadata": {},
   "source": [
    "## **3.2 Eliminación hacia atrás** <A class = \"Anchor\" id = \"3.2\"> </a>\n",
    "\n",
    "[Tabla de contenido](#0.1)\n",
    "\n",
    "\n",
    "- En la eliminación hacia atrás (Backward Elimination), **comenzamos con todas las características y elimina la característica menos significativa** en cada iteración, lo que mejora el rendimiento del modelo.\n",
    "- Repetimos esto hasta que no se observa una mejora en la eliminación de las características."
   ]
  },
  {
   "cell_type": "code",
   "execution_count": null,
   "metadata": {},
   "outputs": [],
   "source": [
    "# Eliminación de características hacia atrás\n",
    "sfs1 = SFS(RandomForestRegressor(), \n",
    "           k_features=10, \n",
    "           forward=False, \n",
    "           floating=False, \n",
    "           verbose=2,\n",
    "           scoring='r2',\n",
    "           cv=3)\n",
    "\n",
    "sfs1 = sfs1.fit(np.array(X_train), y_train)"
   ]
  },
  {
   "cell_type": "code",
   "execution_count": null,
   "metadata": {},
   "outputs": [],
   "source": [
    "sfs1.k_feature_idx_"
   ]
  },
  {
   "cell_type": "code",
   "execution_count": null,
   "metadata": {},
   "outputs": [],
   "source": [
    "X_train.columns[list(sfs1.k_feature_idx_)]"
   ]
  },
  {
   "cell_type": "markdown",
   "metadata": {},
   "source": [
    "- La eliminación hacia atrás da como resultado las siguientes columnas que se seleccionan."
   ]
  },
  {
   "cell_type": "markdown",
   "metadata": {},
   "source": [
    "## **3.3 Selección de características exhaustivas** <A class = \"Anchor\" id = \"3.3\"> </a>\n",
    "\n",
    "[Tabla de contenido](#0.1)\n",
    "\n",
    "\n",
    "- En una selección de características exhaustivas, **se selecciona el mejor subconjunto de características**, en todos los subconjuntos de características posibles, al optimizar una métrica de rendimiento especificada para un determinado algoritmo de aprendizaje automático.Por ejemplo, si el clasificador es una regresión logística y el conjunto de datos consta de 4 características, el algoritmo evaluará las 15 combinaciones de características de la siguiente manera:\n",
    "\n",
    "  - Todas las combinaciones posibles de 1 característica\n",
    "  - Todas las combinaciones posibles de 2 características\n",
    "  - Todas las combinaciones posibles de 3 características\n",
    "  - Todas las 4 características\n",
    "\n",
    "\n",
    "y se selecciona el que resulte en el mejor rendimiento (por ejemplo, precisión de clasificación) del clasificador de regresión logística.\n",
    "\n",
    "- Este es otro algoritmo codicioso (consume recursos), ya que evalúa todas las combinaciones de características posibles.Es bastante costoso computacionalmente y, a veces, si el espacio de características es grande, incluso nocivo.\n",
    "\n",
    "- Hay un paquete especial para Python que implementa este tipo de selección de características: **MLXTEND**.\n",
    "\n",
    "- En la implementación de MLXTEND de la selección de características exhaustivas, los criterios de detención son un número de características establecido arbitrariamente.Por lo tanto, la búsqueda finalizará cuando alcancemos el número deseado de características seleccionadas.\n",
    "\n",
    "- Esto es algo arbitrario porque podemos estar seleccionando un número subopimal de características, o de la misma manera, una gran cantidad de características."
   ]
  },
  {
   "cell_type": "markdown",
   "metadata": {},
   "source": [
    "## **3.4 Eliminación de características recursivas** <A class = \"Anchor\" id = \"3.4\"> </a>\n",
    "\n",
    "[Tabla de contenido](#0.1)\n",
    "\n",
    "\n",
    "- Es un algoritmo de optimización codicioso que tiene como objetivo encontrar el subconjunto de características de mejor rendimiento.Repetidamente crea modelos y mantiene a un lado la mejor o la característica de peor desempeño en cada iteración.Construye el siguiente modelo con las características izquierdas hasta que todas las características están agotadas.Luego clasifica las características basadas en el orden de su eliminación.\n",
    "\n",
    "- La eliminación de características recursivas realiza una búsqueda codiciosa para encontrar el subconjunto de características de mejor rendimiento.Crea modelos iterativamente y determina la mejor o la característica de peor desempeño en cada iteración.Construye los modelos posteriores con las características izquierdas hasta que se exploran todas las características.Luego clasifica las características basadas en el orden de su eliminación.En el peor de los casos, si un conjunto de datos contiene un número de características que RFE hará una búsqueda codiciosa de 2n combinaciones de características.\n",
    "\n",
    "Referencias: \n",
    "- https://scikit-learn.org/stable/auto_examples/feature_selection/plot_rfe_digits.html#sphx-glr-auto-examples-feature-lectection-plot-rfe-digits-py"
   ]
  },
  {
   "cell_type": "markdown",
   "metadata": {},
   "source": [
    "## **3.5 Eliminación de características recursivas con validación cruzada** <A class = \"Anchor\" id = \"3.5\"> </a>\n",
    "\n",
    "[Tabla de contenido](#0.1)\n",
    "\n",
    "\n",
    "- **La eliminación de características recursivas con la técnica de selección de características validada (RFECV)** selecciona el mejor subconjunto de características para el estimador eliminando 0 a N características iterativamente utilizando la eliminación de características recursivas.\n",
    "\n",
    "- Luego selecciona el mejor subconjunto en función de la precisión o puntaje de validación cruzada o ROC-AUC del modelo.La técnica de eliminación de características recursivas elimina las características de N de un modelo ajustando el modelo varias veces y en cada paso, eliminando las características más débiles.\n",
    "\n",
    "Referencias: \n",
    "- https://scikit-learn.org/stable/auto_examples/feature_selection/Plot_rfe_with_cross_validation.html#sphx-glr-auto-examples-feato-selection-plot-with-with-cross-validation-py"
   ]
  },
  {
   "cell_type": "markdown",
   "metadata": {},
   "source": [
    "# **4.Métodos integrados** <A class = \"Anchor\" id = \"4\"> </a>\n",
    "\n",
    "[Tabla de contenido](#0.1)\n",
    "\n",
    "\n",
    "- Los métodos integrados **son iterativos** en un sentido que se encarga de **cada iteración** del proceso de entrenamiento del modelo y **extrae cuidadosamente las características que más contribuyen** al entrenamiento para una iteración particular.\n",
    "- Los **métodos de regularización** son los métodos integrados más utilizados que penalizan una característica dado un umbral de coeficiente.\n",
    "\n",
    "- Esta es la razón por la cual los métodos de regularización también se denominan **métodos de penalización** que introducen restricciones adicionales en la optimización de un algoritmo predictivo (como un algoritmo de regresión) que sesga el modelo hacia una complejidad más baja (menos coeficientes).\n",
    "\n",
    "- Algunos de los ejemplos más populares de estos métodos son la regresión de Lasso y Ridge que tienen funciones de penalización incorporadas para reducir el sobreajuste.\n"
   ]
  },
  {
   "cell_type": "markdown",
   "metadata": {},
   "source": [
    "![Embedded Methods](https://www.analyticsvidhya.com/wp-content/uploads/2016/11/Embedded_1.png)\n",
    "\n",
    "- fuente : AnalyticsVidhya"
   ]
  },
  {
   "cell_type": "markdown",
   "metadata": {},
   "source": [
    "## **4.1 Regresión Lasso** <A class = \"Anchor\" id = \"4.1\"> </a>\n",
    "\n",
    "[Tabla de contenido](#0.1)\n",
    "\n",
    "\n",
    "- La regresión de Lasso realiza la **regularización de tipo L1**, lo que agrega una penalización equivalente al valor absoluto de la magnitud de los coeficientes.\n",
    "\n",
    "    - La regularización consiste en agregar una **penalización a los diferentes parámetros del modelo** de aprendizaje automático para reducir la libertad del modelo y, en otras palabras, para evitar el sobreajuste.\n",
    "    - En la regularización del modelo lineal, la penalización se aplica sobre los coeficientes que multiplican cada uno de los predictores.\n",
    "    - De los diferentes tipos de regularización, Lasso o L1 tiene la propiedad que puede reducir algunos de los coeficientes a cero.\n",
    "    - Por lo tanto, esa característica se puede eliminar del modelo.\n",
    "\n",
    "- Demostraremos cómo seleccionar funciones utilizando la regularización de lasso en el conjunto de datos de precios de la vivienda."
   ]
  },
  {
   "cell_type": "code",
   "execution_count": null,
   "metadata": {},
   "outputs": [],
   "source": [
    "from sklearn.model_selection import train_test_split\n",
    "from sklearn.linear_model import Lasso\n",
    "from sklearn.feature_selection import SelectFromModel\n",
    "from sklearn.preprocessing import StandardScaler"
   ]
  },
  {
   "cell_type": "code",
   "execution_count": null,
   "metadata": {},
   "outputs": [],
   "source": [
    "# carga dataset\n",
    "data = pd.read_csv('../data/house-prices/train.csv')\n",
    "data.shape"
   ]
  },
  {
   "cell_type": "code",
   "execution_count": null,
   "metadata": {},
   "outputs": [],
   "source": [
    "# En la práctica, la selección de características debe realizarse después del preprocesamiento de datos,\n",
    "# Idealmente, todas las variables categóricas están codificadas en números,\n",
    "# y luego se puede evaluar cuán deterministas son del objetivo\n",
    "\n",
    "# Aquí, por simplicidad, usaré solo variables numéricas\n",
    "# Seleccionar columnas numéricas:\n",
    "\n",
    "numerics = ['int16', 'int32', 'int64', 'float16', 'float32', 'float64']\n",
    "numerical_vars = list(data.select_dtypes(include=numerics).columns)\n",
    "data = data[numerical_vars]\n",
    "data.shape"
   ]
  },
  {
   "cell_type": "code",
   "execution_count": null,
   "metadata": {},
   "outputs": [],
   "source": [
    "# conjuntos de entrenamiento y prueba\n",
    "X_train, X_test, y_train, y_test = train_test_split(\n",
    "    data.drop(labels=['SalePrice'], axis=1),\n",
    "    data['SalePrice'],\n",
    "    test_size=0.3,\n",
    "    random_state=0)\n",
    "\n",
    "X_train.shape, X_test.shape"
   ]
  },
  {
   "cell_type": "code",
   "execution_count": null,
   "metadata": {},
   "outputs": [],
   "source": [
    "# Las características del conjunto de datos de la casa tienen\n",
    "# escala muy diferentes, por lo hay que escalarlas\n",
    "\n",
    "scaler = StandardScaler()\n",
    "scaler.fit(X_train.fillna(0))"
   ]
  },
  {
   "cell_type": "code",
   "execution_count": null,
   "metadata": {},
   "outputs": [],
   "source": [
    "# Aquí, nuevamente entrenaremos una regresión lineal de Lasso y seleccionaremos las características no cero en una línea.\n",
    "# Tener en cuenta que el objeto de regresión lineal de Sklearn no permite la regularización.\n",
    "# Si se desea hacer una regresión lineal regularizada, debe importarse específicamente \"Lasso\", \n",
    "# esa es la versión L1 del alfa de regresión lineal es la penalización, \n",
    "# por lo que la configuraremos alta para obligar al algoritmo a reducir algunos coeficientes\n",
    "\n",
    "sel_ = SelectFromModel(Lasso(alpha=100))\n",
    "sel_.fit(scaler.transform(X_train.fillna(0)), y_train)"
   ]
  },
  {
   "cell_type": "code",
   "execution_count": null,
   "metadata": {},
   "outputs": [],
   "source": [
    "sel_.get_support()"
   ]
  },
  {
   "cell_type": "code",
   "execution_count": null,
   "metadata": {},
   "outputs": [],
   "source": [
    "# hace una lista con las características seleccionadas e imprima las salidas\n",
    "selected_feat = X_train.columns[(sel_.get_support())]\n",
    "\n",
    "print('Características totales: {}'.format((X_train.shape[1])))\n",
    "print('Características seleccionadas: {}'.format(len(selected_feat)))\n",
    "print('Características con coeficientes que se reducen a cero: {}'.format(\n",
    "    np.sum(sel_.estimator_.coef_ == 0)))"
   ]
  },
  {
   "cell_type": "markdown",
   "metadata": {},
   "source": [
    "- Podemos ver que la regularización de Lasso ayuda a eliminar características no importantes del conjunto de datos.Por lo tanto, aumentar la penalización dará como resultado un aumento del número de características eliminadas.\n",
    "    - Por lo tanto, debemos vigilar y monitorear que no establecemos una penalización demasiado alta para eliminar incluso las características importantes, o demasiado bajas y luego no eliminar las características no importantes.\n",
    "\n",
    "- Si la penalización es demasiado alta y se eliminan las características importantes, notaremos una caída en el rendimiento del algoritmo y luego nos damos cuenta de que necesitamos disminuir la regularización."
   ]
  },
  {
   "cell_type": "markdown",
   "metadata": {
    "_cell_guid": "b1076dfc-b9ad-4769-8c92-a6c4dae69d19",
    "_uuid": "8f2839f25d086af736a60e9eeb907d3b93b6e0e5"
   },
   "source": [
    "## **4.2 Importancia del Random Forest** <A class = \"Anchor\" id = \"4.2\"> </a>\n",
    "\n",
    "[Tabla de contenido](#0.1)\n",
    "\n",
    "- Los Random Forest son uno de los algoritmos de aprendizaje automático más popular.\n",
    "    - Tienen mucho éxito porque proporcionan en general un buen rendimiento predictivo, bajo sobreajuste y fácil interpretabilidad.\n",
    "    - Esta interpretabilidad es dada por el hecho de que es sencillo derivar la importancia de cada variable en la decisión del árbol.\n",
    "    - En otras palabras, es fácil calcular cuánto está contribuyendo cada variable a la decisión.\n",
    "\n",
    "- Los Random Forest consisten en 4-12 cientos de árboles de decisión, cada uno de ellos construido a lo largo de una extracción aleatoria de las observaciones del conjunto de datos y una extracción aleatoria de las características.\n",
    "    - No todos los árboles ven todas las características o todas las observaciones, y esto garantiza que los árboles estén descorracados y, por lo tanto, menos propensos a ajustar.Cada árbol también es una secuencia de preguntas sí-no basadas en un solo o combinación de características.En cada nodo (esto es en cada pregunta), los tres dividen el conjunto de datos en 2 cubos, cada uno de ellos alojando observaciones que son más similares entre ellos y diferentes de los que están en el otro cubo.Por lo tanto, la importancia de cada característica se deriva de cuán \"puro\" es cada uno de los cubos.\n",
    "\n",
    "- Para la clasificación, la medida de la impureza es la impureza de Gini o la ganancia de información/entropía.Para la regresión, la medida de la impureza es la varianza.Por lo tanto, al entrenar un árbol, es posible calcular cuánto disminuye cada característica la impureza.Cuanto más disminuye una característica, más importante es la característica.\n",
    "    - En los Random Forest, la disminución de la impureza de cada característica se puede promediar en los árboles para determinar la importancia final de la variable.\n",
    "\n",
    "- Para dar una mejor intuición, las características seleccionadas en la parte superior de los árboles son en general más importantes que las características seleccionadas en los nodos finales de los árboles, ya que generalmente las divisiones superiores conducen a mayores ganancias de información.\n",
    "\n",
    "- Demostraremos este proceso utilizando el conjunto de datos de clasificación de hongos:"
   ]
  },
  {
   "cell_type": "code",
   "execution_count": null,
   "metadata": {},
   "outputs": [],
   "source": [
    "from sklearn import preprocessing\n",
    "from sklearn.preprocessing import LabelEncoder\n",
    "from sklearn.preprocessing import StandardScaler\n",
    "from sklearn.model_selection import train_test_split\n",
    "from sklearn import tree\n",
    "from sklearn.ensemble import RandomForestClassifier"
   ]
  },
  {
   "cell_type": "code",
   "execution_count": null,
   "metadata": {},
   "outputs": [],
   "source": [
    "# cargamos dataset\n",
    "df = pd.read_csv('../data/mushrooms.csv')"
   ]
  },
  {
   "cell_type": "code",
   "execution_count": null,
   "metadata": {},
   "outputs": [],
   "source": [
    "# Declaramos vector de características y variable target\n",
    "X = df.drop(['class'], axis = 1)\n",
    "y = df['class']"
   ]
  },
  {
   "cell_type": "code",
   "execution_count": null,
   "metadata": {},
   "outputs": [],
   "source": [
    "# Codificamos variables categóricas\n",
    "X = pd.get_dummies(X, prefix_sep='_')\n",
    "y = LabelEncoder().fit_transform(y)"
   ]
  },
  {
   "cell_type": "code",
   "execution_count": null,
   "metadata": {},
   "outputs": [],
   "source": [
    "# Normalizamos el vector de características\n",
    "X2 = StandardScaler().fit_transform(X)"
   ]
  },
  {
   "cell_type": "code",
   "execution_count": null,
   "metadata": {},
   "outputs": [],
   "source": [
    "# Dividimos el datset\n",
    "X_train, X_test, y_train, y_test = train_test_split(X2, y, test_size = 0.30, random_state = 0)"
   ]
  },
  {
   "cell_type": "code",
   "execution_count": null,
   "metadata": {},
   "outputs": [],
   "source": [
    "\n",
    "# instanciamos el clasificador con n_estimators = 100\n",
    "clf = RandomForestClassifier(n_estimators=100, random_state=0)\n"
   ]
  },
  {
   "cell_type": "code",
   "execution_count": null,
   "metadata": {},
   "outputs": [],
   "source": [
    "# Ajustamos el clasificador al set de entrenamiento\n",
    "clf.fit(X_train, y_train)"
   ]
  },
  {
   "cell_type": "code",
   "execution_count": null,
   "metadata": {},
   "outputs": [],
   "source": [
    "# Predecimos en el conjunto de pruebas\n",
    "y_pred = clf.predict(X_test)"
   ]
  },
  {
   "cell_type": "markdown",
   "metadata": {},
   "source": [
    "## **Importancia de la característica**\n",
    "\n",
    "- Se pueden usar modelos de árboles de decisión que se basan en conjuntos (por ejemplo, árboles adicionales y bosques aleatorios) para clasificar la importancia de las diferentes características.\n",
    "- Saber a qué características nuestro modelo está dando la mayor importancia, puede ser de vital importancia para comprender cómo nuestro modelo está haciendo sus predicciones (por lo tanto, lo hace más explicable).\n",
    "- Al mismo tiempo, podemos deshacernos de las características que no aportan ningún beneficio a nuestro modelo."
   ]
  },
  {
   "cell_type": "code",
   "execution_count": null,
   "metadata": {},
   "outputs": [],
   "source": [
    "# Visualizamos la importancia de la característica\n",
    "\n",
    "plt.figure(num=None, figsize=(10,8), dpi=80, facecolor='w', edgecolor='k')\n",
    "\n",
    "feat_importances = pd.Series(clf.feature_importances_, index= X.columns)\n",
    "\n",
    "feat_importances.nlargest(7).plot(kind='barh')"
   ]
  },
  {
   "cell_type": "markdown",
   "metadata": {},
   "source": [
    "- Ahora que sabemos qué características son más importantes en el modelo, podemos entrenar nuestro modelo solo utilizando estas características."
   ]
  },
  {
   "cell_type": "markdown",
   "metadata": {},
   "source": [
    "# **5.Cómo elegir el método de selección de características correctas** <A class = \"Anchor\" id = \"5\"> </a>\n",
    "\n",
    "[Tabla de contenido](#0.1)\n",
    "\n",
    "\n",
    "- Podemos ver que hay muchas técnicas de selección de características disponibles.\n",
    "\n",
    "- El siguiente gráfico servirá como guía sobre cómo elegir un método de selección de características:-"
   ]
  },
  {
   "attachments": {
    "image-2.png": {
     "image/png": "[encoded data removed]"
    }
   },
   "cell_type": "markdown",
   "metadata": {},
   "source": [
    "![image-2.png](attachment:image-2.png)\n",
    "\n",
    "\n",
    "- fuente: Machine Learning Mastery"
   ]
  },
  {
   "cell_type": "markdown",
   "metadata": {},
   "source": [
    "## **Entrada numérica, salida numérica**\n",
    "\n",
    "- Este es un problema de modelado predictivo de regresión con variables de entrada numérica.\n",
    "\n",
    "- Las técnicas más comunes son utilizar un **coeficiente de correlación**, como la de Pearson para una correlación lineal o métodos basados ​​en rango para una correlación no lineal.\n",
    "\n",
    "- Las pruebas empleadas son:\n",
    "    - Coeficiente de correlación de Pearson (lineal).\n",
    "    - Coeficiente de rango de Spearman (no lineal)\n",
    "\n",
    "\n",
    "## **Entrada numérica, salida categórica**\n",
    "\n",
    "- Este es un problema de modelado predictivo de clasificación con variables de entrada numérica.\n",
    "\n",
    "- Este podría ser el ejemplo más común de un problema de clasificación,\n",
    "\n",
    "- Una vez más, las técnicas más comunes se basan en la **correlación**, aunque en este caso, deben tener en cuenta el **objetivo categórico**.\n",
    "\n",
    "- Podemos emplear las siguientes pruebas:\n",
    "\n",
    "    - Coeficiente de correlación ANOVA (lineal).\n",
    "    - Coeficiente de rango de Kendall (no lineal).\n",
    "\n",
    "- Kendall supone que la variable categórica es ordinal.\n",
    "\n",
    "\n",
    "## **Entrada categórica, salida numérica**\n",
    "\n",
    "- Este es un problema de modelado predictivo de regresión con variables de entrada categóricas.\n",
    "\n",
    "- Este es un ejemplo extraño de un problema de regresión (no lo encontraremos a menudo).\n",
    "\n",
    "- Podemos usar los **mismos métodos de \"entrada numérica, salida categórica\"** ​​(descritos anteriormente), pero **al revés**.\n",
    "\n",
    "\n",
    "\n",
    "\n",
    "## **Entrada categórica, salida categórica**\n",
    "\n",
    "- Este es un problema de modelado predictivo de clasificación con variables de entrada categóricas.\n",
    "\n",
    "- La medida de correlación más común para los datos categóricos es la prueba de **chi cuadrado**.También podemos usar información mutua (ganancia de información) del campo de la teoría de la información.\n",
    "\n",
    "- Las siguientes pruebas se pueden emplear en este caso:\n",
    "\n",
    "    - Prueba de chi cuadrado (tablas de contingencia).\n",
    "    - Información mutua.\n",
    "\n",
    "        - De hecho, la información mutua es un método poderoso que puede resultar útil para datos categóricos y numéricos, p.Es agnóstico para los tipos de datos."
   ]
  },
  {
   "cell_type": "markdown",
   "metadata": {},
   "source": [
    "# **6.Consejos y trucos para la selección de características**<A class = \"Anchor\" id = \"6\"> </a>\n",
    "\n",
    "[Tabla de contenido](#0.1)\n",
    "\n",
    "\n",
    "- Proporcionamos algunas consideraciones adicionales al usar la selección de características basada en filtros.\n",
    "\n",
    "\n",
    "## **Estadísticas de correlación**\n",
    "\n",
    "- Scikit-Learn proporciona una implementación de la mayoría de las medidas estadísticas útiles.\n",
    "\n",
    "- Por ejemplo:\n",
    "\n",
    "    - Coeficiente de correlación de Pearson: [F_Regression()](https://scikit-learn.org/stable/modules/generated/sklearn.feature_selection.f_regression.html)\n",
    "    - Anova: [f_classif()](https://scikit-learn.org/stable/modules/generated/sklearn.feature_selection.f_classif.html)\n",
    "    -chi-squared: [chi2()](https://scikit-learn.org/stable/modules/generated/sklearn.feature_selection.chi2.html)\n",
    "    - Información mutua: [mutual_info_classif()](https://scikit-learn.org/stable/modules/generated/sklearn.feature_selection.mutual_info_classif.html) y [mutual_info_regression ()](https://scikit-learn.org/stable/modules/generated/sklearn.feature_selection.mutual_info_regression.html).\n",
    "\n",
    "\n",
    "- Además, la librería SciPy proporciona una implementación de muchas más estadísticas, como la Tau (Kendalltau) de Kendall (Kendalltau) y la correlación de rango de Spearman (Spearmanr).\n",
    "\n",
    "\n",
    "## **Método de selección**\n",
    "\n",
    "- Scikit-Learn también proporciona muchos métodos de filtrado diferentes una vez que se han calculado las estadísticas para cada variable de entrada con el objetivo.\n",
    "\n",
    "- Dos de los métodos más populares incluyen:\n",
    "\n",
    "- Seleccione las variables K superiores: [selectkBest](https://scikit-learn.org/stable/modules/generated/sklearn.feature_selection.selectkbest.html)\n",
    "- Seleccione las variables del percentil superior: [SelectPermentile](https://scikit-learn.org/stable/modules/generated/sklearn.feature_selection.selectpercentile.html)\n",
    "\n",
    "\n",
    "\n",
    "## **Variables de transformación**\n",
    "\n",
    "- Podemos considerar transformar las variables para acceder a diferentes métodos estadísticos.\n",
    "    - Por ejemplo, podemos transformar una variable categórica en Ordinal, incluso si no es así, y ver si salen resultados interesantes.\n",
    "\n",
    "    - También podemos hacer una variable numérica discreta (por ejemplo, contenedores); intenta medidas basadas en categóricas.\n",
    "\n",
    "- Algunas medidas estadísticas asumen propiedades de las variables, como las de Pearson que supone una distribución de probabilidad gaussiana a las observaciones y una relación lineal.Puede transformar los datos para cumplir con las expectativas de la prueba y probar la prueba independientemente de las expectativas y comparar los resultados.\n",
    "\n",
    "\n",
    "## **¿Cuál es el mejor método?**\n",
    "\n",
    "- No hay el mejor método de selección de características. Al igual que no hay el mejor conjunto de variables de entrada o el mejor algoritmo de aprendizaje automático.\n",
    "\n",
    "- En cambio, debemos descubrir qué funciona mejor para su problema específico utilizando una cuidadosa experimentación sistemática.\n",
    "\n",
    "- Debemos probar una gama de diferentes modelos que se ajustan en diferentes subconjuntos de características elegidas a través de diferentes medidas estadísticas y descubrir lo que funciona mejor para su problema específico.\n",
    "\n",
    "\n",
    "## **Los 4 ⭐ mejores formas de selección de características**\n",
    "\n",
    "- Las 4 formas prácticas de selección de características que producen los mejores resultados son los siguientes:-\n",
    "\n",
    "1. SelectKBest\n",
    "2. Eliminación de características recursivas\n",
    "3. Matriz de correlación con mapa de calor\n",
    "4. Importancia al azar de forestal"
   ]
  },
  {
   "cell_type": "markdown",
   "metadata": {
    "_cell_guid": "79c7e3d0-c299-4dcb-8224-4455121ee9b0",
    "_uuid": "d629ff2d2480ee46fbb7e2d37f6b5fab8052498a",
    "collapsed": true
   },
   "source": [
    "# **7.Referencias** <A class = \"Anchor\" id = \"7\"> </a>\n",
    "\n",
    "[Tabla de contenido](#0.1)\n",
    "\n",
    "\n",
    "1. Selección de características para el aprendizaje automático. *Soledad Galli*\n",
    "\n",
    "2. [Análisis Vidhya Artículo sobre selección de funciones](https://www.analyticsvidhya.com/blog/2016/12/introduction-to-feature-selection-methods-with-an-example-or-how-to-select-the-right-variables/)\n",
    "\n",
    "3. https://en.wikipedia.org/wiki/feature_selection\n",
    "\n",
    "4. https://machinelearningmastery.com/feature-selection-with-real-and-categorical-data/"
   ]
  },
  {
   "cell_type": "markdown",
   "metadata": {},
   "source": [
    "[Ir al inicio](#0)"
   ]
  },
  {
   "cell_type": "markdown",
   "metadata": {},
   "source": [
    "# **8.Ejercicio** <A class = \"Anchor\" id = \"7\"> </a>\n",
    "\n",
    "[Tabla de contenido](#0.1)\n",
    "\n",
    "\n",
    "Aplica métodos de filtrado, wrapper e integrados para reducir la dimensionalidad y mejorar el rendimiento del modelo.\n",
    "\n",
    "- Métodos de filtrado\n",
    "    - Elimina de características constantes y cuasi constantes.\n",
    "    - Selecciona variables univariada con SelectKBest y SelectPercentile.\n",
    "    - Análiza de correlación con mapa de calor.\n",
    "- Métodos Wrapper\n",
    "    - Elimina de manrea recursiva características con regresión logística.\n",
    "- Métodos Integrados\n",
    "    - Selecciona con LASSO para identificar las características más importantes."
   ]
  }
 ],
 "metadata": {
  "kernelspec": {
   "display_name": "Python 3",
   "language": "python",
   "name": "python3"
  },
  "language_info": {
   "codemirror_mode": {
    "name": "ipython",
    "version": 3
   },
   "file_extension": ".py",
   "mimetype": "text/x-python",
   "name": "python",
   "nbconvert_exporter": "python",
   "pygments_lexer": "ipython3",
   "version": "3.12.3"
  }
 },
 "nbformat": 4,
 "nbformat_minor": 4
}
