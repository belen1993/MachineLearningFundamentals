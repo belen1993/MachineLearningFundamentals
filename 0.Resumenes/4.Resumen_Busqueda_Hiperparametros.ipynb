{
 "cells": [
  {
   "cell_type": "markdown",
   "id": "df8a1529",
   "metadata": {},
   "source": [
    "# Resumen búsqueda hiperparámetros"
   ]
  },
  {
   "cell_type": "markdown",
   "id": "bc17c828",
   "metadata": {},
   "source": [
    "Para saber qué hiperparámetros probar, revisar la documentación o el \"1.CheatSheetHiperparametros\"\n",
    "\n",
    "Tener en cuenta el `model` puede ser un estimador o un pipelline. El nombre del hiperparámetro es:\n",
    "- Si el modelo es un estimador, el nombre tal cual. e.g. `max_depth`\n",
    "- Si es un pipeline, `<nombre_del_step>__<nombre_hiperparámentro>`. e,g, `regressor__max_depth`"
   ]
  },
  {
   "cell_type": "markdown",
   "id": "6f80bc87",
   "metadata": {},
   "source": [
    "## Grid-search"
   ]
  },
  {
   "cell_type": "code",
   "execution_count": null,
   "id": "ca116fbc",
   "metadata": {},
   "outputs": [],
   "source": [
    "%%time\n",
    "from sklearn.model_selection import GridSearchCV\n",
    "\n",
    "# Definimos el grid de hiperparámetros que queremos probar\n",
    "param_grid = {\n",
    "    'classifier__learning_rate': (0.01, 0.1, 1, 10),\n",
    "    'classifier__max_leaf_nodes': (3, 10, 31, 50)\n",
    "}\n",
    "\n",
    "model_grid_search = GridSearchCV(model, param_grid=param_grid, cv=2)\n",
    "\n",
    "model_grid_search.fit(data_train,target_train)"
   ]
  },
  {
   "cell_type": "code",
   "execution_count": null,
   "id": "9568455e",
   "metadata": {},
   "outputs": [],
   "source": [
    "# Mostramos los mejores hiperparámetros encontrados\n",
    "model_grid_search.best_params_"
   ]
  },
  {
   "cell_type": "code",
   "execution_count": null,
   "id": "bbc75298",
   "metadata": {},
   "outputs": [],
   "source": [
    "# Mostramos el mejor estimador encontrado\n",
    "model_grid_search.best_estimator_\n",
    "\n",
    "\n",
    "# Evaluarmos el mejor score con datos de tests (accuracy o r2 por defecto)\n",
    "score = model_grid_search.score(data_test, target_test)"
   ]
  },
  {
   "cell_type": "markdown",
   "id": "d60b3f10",
   "metadata": {},
   "source": [
    "Es recomendable revisar y graficar los resultados para evaluar cómo contribuyen al score"
   ]
  },
  {
   "cell_type": "code",
   "execution_count": null,
   "id": "4e76256d",
   "metadata": {},
   "outputs": [],
   "source": [
    "# Mostramos los resultados de la validación cruzada\n",
    "model_grid_search.cv_results_\n",
    "\n",
    "\n",
    "# Transformamos los resultados en un DataFrame para visualizarlos mejor\n",
    "cv_results = pd.DataFrame(model_grid_search.cv_results_).sort_values(\n",
    "    \"mean_test_score\", ascending=False)\n",
    "cv_results"
   ]
  },
  {
   "cell_type": "markdown",
   "id": "8d56b8ef",
   "metadata": {},
   "source": [
    "## Randomized-search"
   ]
  },
  {
   "cell_type": "markdown",
   "id": "eb54c3ad",
   "metadata": {},
   "source": [
    "Para la búsqueda aleatoria pdoemos usar funciones o clases de generación de distribuciones de datos, como `loguniform` de `scipy.stats`."
   ]
  },
  {
   "cell_type": "code",
   "execution_count": null,
   "id": "ba07fe67",
   "metadata": {},
   "outputs": [],
   "source": [
    "%%time\n",
    "from sklearn.model_selection import RandomizedSearchCV\n",
    "\n",
    "param_distributions = {\n",
    "    'classifier__l2_regularization': loguniform(1e-6, 1e3),\n",
    "    'classifier__learning_rate': loguniform(0.001, 10),\n",
    "    'classifier__max_leaf_nodes': loguniform_int(2, 256),\n",
    "    'classifier__min_samples_leaf': loguniform_int(1, 100),\n",
    "    'classifier__max_bins': loguniform_int(2, 255),\n",
    "}\n",
    "\n",
    "model_random_search = RandomizedSearchCV(\n",
    "    model, param_distributions=param_distributions, n_iter=5,\n",
    "    cv=5, verbose=1, random_state=0\n",
    ")\n",
    "\n",
    "model_random_search.fit(data_train, target_train)"
   ]
  },
  {
   "cell_type": "code",
   "execution_count": null,
   "id": "e84ce1b8",
   "metadata": {},
   "outputs": [],
   "source": [
    "# Mostramos los mejores hiperparámetros encontrados\n",
    "model_random_search.best_params_"
   ]
  },
  {
   "cell_type": "code",
   "execution_count": null,
   "id": "4f06d9b4",
   "metadata": {},
   "outputs": [],
   "source": [
    "# Mostramos el mejor estimador encontrado\n",
    "model_random_search.best_estimator_\n",
    "\n",
    "\n",
    "# Evaluarmos el mejor score con datos de tests (accuracy o r2 por defecto)\n",
    "score = model_random_search.score(data_test, target_test)"
   ]
  },
  {
   "cell_type": "markdown",
   "id": "8dfdbb27",
   "metadata": {},
   "source": [
    "Es recomendable revisar y graficar los resultados para evaluar cómo contribuyen al score"
   ]
  },
  {
   "cell_type": "code",
   "execution_count": null,
   "id": "91295830",
   "metadata": {},
   "outputs": [],
   "source": [
    "# Mostramos los resultados de la validación cruzada\n",
    "model_random_search.cv_results_\n",
    "\n",
    "\n",
    "# Transformamos los resultados en un DataFrame para visualizarlos mejor\n",
    "cv_results = pd.DataFrame(model_random_search.cv_results_).sort_values(\n",
    "    \"mean_test_score\", ascending=False)\n",
    "cv_results"
   ]
  }
 ],
 "metadata": {
  "kernelspec": {
   "display_name": "Python 3",
   "language": "python",
   "name": "python3"
  },
  "language_info": {
   "codemirror_mode": {
    "name": "ipython",
    "version": 3
   },
   "file_extension": ".py",
   "mimetype": "text/x-python",
   "name": "python",
   "nbconvert_exporter": "python",
   "pygments_lexer": "ipython3",
   "version": "3.12.4"
  }
 },
 "nbformat": 4,
 "nbformat_minor": 5
}
